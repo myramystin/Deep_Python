{
 "nbformat": 4,
 "nbformat_minor": 0,
 "metadata": {
  "colab": {
   "provenance": []
  },
  "kernelspec": {
   "name": "python3",
   "display_name": "Python 3"
  },
  "language_info": {
   "name": "python"
  }
 },
 "cells": [
  {
   "cell_type": "markdown",
   "source": [
    "# Домашнее задание 3\n",
    "\n",
    "**Выполнил:** <ФИО>\n",
    "\n",
    "**На сколько выполнил:** <Укажите, на сколько баллов по вашему мнению вы сделали>"
   ],
   "metadata": {
    "id": "zmiXZzivobao"
   }
  },
  {
   "cell_type": "markdown",
   "source": [
    "**Правила игры:**\n",
    "\n",
    "* возле каждой задачи указано число баллов (в сококупности можно получить 10 баллов)\n",
    "\n",
    "* хотим чистый, читабельный код, сайты - с user-friendly интерфейсом)\n",
    "\n",
    "* к каждому заданию должен быть приложен код проекта, выложенный на Github (если вы пользуетесь ScraperAPI или другими ключами, то ключи необходимо убирать)\n",
    "\n",
    "* Оценивание будет происзодить в первую очередь по функциональности - все ли работает и работает так, как должно (но за полное отсутствие стиля мы будем снижать)\n",
    "\n",
    "P.S. В данном задании вам не потребуется ScraperAPI :з\n",
    "\n",
    "**Любые extra-вещи будут оцениваться в плюс как доп баллы**"
   ],
   "metadata": {
    "id": "rvIl1icooicD"
   }
  },
  {
   "cell_type": "markdown",
   "source": [
    "## Задание 1 (3 балла)"
   ],
   "metadata": {
    "id": "-kAwYv9PrIJz"
   }
  },
  {
   "cell_type": "markdown",
   "source": [
    "Парсим [Steam](https://store.steampowered.com/) с помощью Scrapy!\n",
    "\n",
    "Необходимо выбрать 3 запроса (например, \"инди\", \"стратегии\", \"minecraft\", на каждый запрос должно быть минимум 90 результатов), и вытащить по ним:\n",
    "\n",
    "* Все игры на первых 2 страницах (найдите, каким образом отображаются страницы)\n",
    "\n",
    "И для каждой игры вытащить:\n",
    "\n",
    "* Название\n",
    "\n",
    "* Категорию (весь путь, за исключением Все игры и самого названия игры)\n",
    "\n",
    "* Число всех обзоров и общая оценка\n",
    "\n",
    "* Дата выхода\n",
    "\n",
    "* Разработчик\n",
    "\n",
    "* Метки (тэги) игры\n",
    "\n",
    "* Цена\n",
    "\n",
    "* Доступные платформы\n",
    "\n",
    "Сохраните игры в формате json, оставив только игры, выпущенные после 2000 года\n",
    "\n",
    "Чтобы было проще, в репозитории с ДЗ выложены скрины, где можно посмотреть, где и какие поля находятся\n",
    "\n"
   ],
   "metadata": {
    "id": "yowliMx-rtYN"
   }
  },
  {
   "cell_type": "code",
   "execution_count": null,
   "metadata": {
    "id": "phKF5yNMoYxk"
   },
   "outputs": [],
   "source": []
  },
  {
   "cell_type": "markdown",
   "source": [
    "## Задание 2 (4 балла)"
   ],
   "metadata": {
    "id": "CY1K_uvOrLJs"
   }
  },
  {
   "cell_type": "markdown",
   "source": [
    "Создайте сайт с помощью Flask или Django. Будем делать конструктор резюме!\n",
    "\n",
    "Общая структура сайта:\n",
    "\n",
    "1. Страничка с авторизацией и регистрацией\n",
    "\n",
    "2. После авторизации, должна быть страница с формой, в которой необходимо заполнить форму (если пользователь уже заполнял форму, то в формы уже должен быть подгружен текст, который был заполнен, для этого должна быть отдельная кнопочка для сохранения в черновик)\n",
    "\n",
    "3. Страница со скоинструированным резюме, который может быть превращен в PDF и выгружен (для этого можно использовать [pdfkit](https://pypi.org/project/pdfkit/))\n",
    "\n",
    "На всякий случай: пользователь не может посмотреть чужие резюме"
   ],
   "metadata": {
    "id": "QxqzhOMnvKV2"
   }
  },
  {
   "cell_type": "code",
   "source": [],
   "metadata": {
    "id": "CJ4o2WKxrOGC"
   },
   "execution_count": null,
   "outputs": []
  },
  {
   "cell_type": "markdown",
   "source": [
    "## Задание 3* (2 балла)\n",
    "\n",
    "Добавьте возможность загрузить картинку в резюме (для исходного задания это не требуется)\n",
    "\n",
    "Разверните приложение на Yandex.Cloud или на любом другом хосте (если знаете куда можно)"
   ],
   "metadata": {
    "id": "C5C8395jyD4q"
   }
  },
  {
   "cell_type": "markdown",
   "source": [
    "## Задание 4 (3 балла)"
   ],
   "metadata": {
    "id": "gwDi1HLorOkc"
   }
  },
  {
   "cell_type": "markdown",
   "source": [
    "Отрисуйте с помощью Dash или StreamLit данные из данного [датасета](https://www.kaggle.com/datasets/michaelbryantds/crimedata)\n",
    "\n",
    "Здесь необходимо провести самостоятельный анализ данных (можно даже в ноутбуке), в качестве результата необходим дашборд, внутри которого будет:\n",
    "\n",
    "* Не менее 5 селекторов\n",
    "\n",
    "* Не менее 5 различных графиков, которые показывали бы зависимость между преступлениями (на ваш выбор, там можно выбрать) и выбранными вами показателями\n",
    "\n",
    "Дашборд должен быть стилистически оформлен"
   ],
   "metadata": {
    "id": "8uCXyKzpwst9"
   }
  },
  {
   "cell_type": "code",
   "execution_count": 110,
   "outputs": [],
   "source": [
    "import pandas as pd\n"
   ],
   "metadata": {
    "collapsed": false
   }
  },
  {
   "cell_type": "code",
   "source": [
    "df = pd.read_csv(\"crimedata.csv\")[[\"state\", \"communityName\", \"population\", \"medIncome\", \"numbUrban\", \"PctUnemployed\", \"murders\", \"rapes\", \"robberies\", \"assaults\", \"burglaries\", \"larcenies\", \"autoTheft\", \"arsons\"]]\n",
    "df = df.dropna()\n",
    "df[\"numbUnemployed\"] = df[\"population\"]*df[\"PctUnemployed\"]/100\n",
    "df = df.drop(\"PctUnemployed\", axis=1)\n",
    "df = df.groupby([\"state\", \"communityName\"]).agg({\"population\":\"sum\", \"numbUrban\":\"mean\", \"numbUnemployed\":\"mean\", \"medIncome\":\"mean\", \"murders\":\"sum\", \"rapes\":\"sum\", \"robberies\":\"sum\", \"assaults\":\"sum\", \"burglaries\":\"sum\",\n",
    "                              \"larcenies\":\"sum\", \"autoTheft\":\"sum\", \"arsons\":\"sum\"})\n",
    "df[\"pctUnemployed\"] = 100*df[\"numbUnemployed\"]/df[\"population\"]\n",
    "df[\"pctUrban\"] = 100*df[\"numbUrban\"]/df[\"population\"]\n",
    "df = df.drop(\"numbUnemployed\", axis=1)\n",
    "df = df.drop(\"numbUrban\", axis=1)\n",
    "df = df.reset_index()\n",
    "df"
   ],
   "metadata": {
    "id": "ap6d3GdNwtUH"
   },
   "execution_count": 133,
   "outputs": [
    {
     "data": {
      "text/plain": "     state      communityName  population  medIncome  murders  rapes  \\\n0       AK      Anchoragecity      226338    43946.0       23  212.0   \n1       AK      Fairbankscity       30843    32033.0        6   25.0   \n2       AK         Juneaucity       26751    47924.0        0   12.0   \n3       AL  AlexanderCitycity       14917    20970.0        4    1.0   \n4       AL       Annistoncity       26623    19099.0       12   36.0   \n...    ...                ...         ...        ...      ...    ...   \n1897    WY       Gillettecity       17635    35532.0        0    4.0   \n1898    WY     GreenRivercity       12711    40378.0        0    2.0   \n1899    WY        Laramiecity       26687    19642.0        1    5.0   \n1900    WY    RockSpringscity       19050    34372.0        1   14.0   \n1901    WY       Sheridancity       13900    23819.0        0    6.0   \n\n      robberies  assaults  burglaries  larcenies  autoTheft  arsons  \\\n0         568.0    1410.0      1880.0    10660.0     1387.0   105.0   \n1          80.0     143.0       251.0     1460.0      241.0     2.0   \n2           3.0      18.0       128.0      857.0       59.0     7.0   \n3          11.0      36.0        56.0       77.0        4.0     0.0   \n4         142.0     781.0      1049.0     2089.0      177.0    27.0   \n...         ...       ...         ...        ...        ...     ...   \n1897        3.0      64.0        72.0      844.0       27.0    18.0   \n1898        2.0      17.0        66.0      393.0       13.0     5.0   \n1899        6.0      66.0        90.0      828.0       38.0     7.0   \n1900        6.0     111.0       213.0      882.0       76.0     0.0   \n1901        0.0      14.0        62.0      462.0       32.0     4.0   \n\n      pctUnemployed    pctUrban  \n0              6.46   97.970734  \n1              8.62    0.000000  \n2              4.75    0.000000  \n3              4.75    0.000000  \n4             11.53  100.000000  \n...             ...         ...  \n1897           5.31    0.000000  \n1898           5.29    0.000000  \n1899           4.79    0.000000  \n1900           5.13    0.000000  \n1901           5.82    0.000000  \n\n[1902 rows x 14 columns]",
      "text/html": "<div>\n<style scoped>\n    .dataframe tbody tr th:only-of-type {\n        vertical-align: middle;\n    }\n\n    .dataframe tbody tr th {\n        vertical-align: top;\n    }\n\n    .dataframe thead th {\n        text-align: right;\n    }\n</style>\n<table border=\"1\" class=\"dataframe\">\n  <thead>\n    <tr style=\"text-align: right;\">\n      <th></th>\n      <th>state</th>\n      <th>communityName</th>\n      <th>population</th>\n      <th>medIncome</th>\n      <th>murders</th>\n      <th>rapes</th>\n      <th>robberies</th>\n      <th>assaults</th>\n      <th>burglaries</th>\n      <th>larcenies</th>\n      <th>autoTheft</th>\n      <th>arsons</th>\n      <th>pctUnemployed</th>\n      <th>pctUrban</th>\n    </tr>\n  </thead>\n  <tbody>\n    <tr>\n      <th>0</th>\n      <td>AK</td>\n      <td>Anchoragecity</td>\n      <td>226338</td>\n      <td>43946.0</td>\n      <td>23</td>\n      <td>212.0</td>\n      <td>568.0</td>\n      <td>1410.0</td>\n      <td>1880.0</td>\n      <td>10660.0</td>\n      <td>1387.0</td>\n      <td>105.0</td>\n      <td>6.46</td>\n      <td>97.970734</td>\n    </tr>\n    <tr>\n      <th>1</th>\n      <td>AK</td>\n      <td>Fairbankscity</td>\n      <td>30843</td>\n      <td>32033.0</td>\n      <td>6</td>\n      <td>25.0</td>\n      <td>80.0</td>\n      <td>143.0</td>\n      <td>251.0</td>\n      <td>1460.0</td>\n      <td>241.0</td>\n      <td>2.0</td>\n      <td>8.62</td>\n      <td>0.000000</td>\n    </tr>\n    <tr>\n      <th>2</th>\n      <td>AK</td>\n      <td>Juneaucity</td>\n      <td>26751</td>\n      <td>47924.0</td>\n      <td>0</td>\n      <td>12.0</td>\n      <td>3.0</td>\n      <td>18.0</td>\n      <td>128.0</td>\n      <td>857.0</td>\n      <td>59.0</td>\n      <td>7.0</td>\n      <td>4.75</td>\n      <td>0.000000</td>\n    </tr>\n    <tr>\n      <th>3</th>\n      <td>AL</td>\n      <td>AlexanderCitycity</td>\n      <td>14917</td>\n      <td>20970.0</td>\n      <td>4</td>\n      <td>1.0</td>\n      <td>11.0</td>\n      <td>36.0</td>\n      <td>56.0</td>\n      <td>77.0</td>\n      <td>4.0</td>\n      <td>0.0</td>\n      <td>4.75</td>\n      <td>0.000000</td>\n    </tr>\n    <tr>\n      <th>4</th>\n      <td>AL</td>\n      <td>Annistoncity</td>\n      <td>26623</td>\n      <td>19099.0</td>\n      <td>12</td>\n      <td>36.0</td>\n      <td>142.0</td>\n      <td>781.0</td>\n      <td>1049.0</td>\n      <td>2089.0</td>\n      <td>177.0</td>\n      <td>27.0</td>\n      <td>11.53</td>\n      <td>100.000000</td>\n    </tr>\n    <tr>\n      <th>...</th>\n      <td>...</td>\n      <td>...</td>\n      <td>...</td>\n      <td>...</td>\n      <td>...</td>\n      <td>...</td>\n      <td>...</td>\n      <td>...</td>\n      <td>...</td>\n      <td>...</td>\n      <td>...</td>\n      <td>...</td>\n      <td>...</td>\n      <td>...</td>\n    </tr>\n    <tr>\n      <th>1897</th>\n      <td>WY</td>\n      <td>Gillettecity</td>\n      <td>17635</td>\n      <td>35532.0</td>\n      <td>0</td>\n      <td>4.0</td>\n      <td>3.0</td>\n      <td>64.0</td>\n      <td>72.0</td>\n      <td>844.0</td>\n      <td>27.0</td>\n      <td>18.0</td>\n      <td>5.31</td>\n      <td>0.000000</td>\n    </tr>\n    <tr>\n      <th>1898</th>\n      <td>WY</td>\n      <td>GreenRivercity</td>\n      <td>12711</td>\n      <td>40378.0</td>\n      <td>0</td>\n      <td>2.0</td>\n      <td>2.0</td>\n      <td>17.0</td>\n      <td>66.0</td>\n      <td>393.0</td>\n      <td>13.0</td>\n      <td>5.0</td>\n      <td>5.29</td>\n      <td>0.000000</td>\n    </tr>\n    <tr>\n      <th>1899</th>\n      <td>WY</td>\n      <td>Laramiecity</td>\n      <td>26687</td>\n      <td>19642.0</td>\n      <td>1</td>\n      <td>5.0</td>\n      <td>6.0</td>\n      <td>66.0</td>\n      <td>90.0</td>\n      <td>828.0</td>\n      <td>38.0</td>\n      <td>7.0</td>\n      <td>4.79</td>\n      <td>0.000000</td>\n    </tr>\n    <tr>\n      <th>1900</th>\n      <td>WY</td>\n      <td>RockSpringscity</td>\n      <td>19050</td>\n      <td>34372.0</td>\n      <td>1</td>\n      <td>14.0</td>\n      <td>6.0</td>\n      <td>111.0</td>\n      <td>213.0</td>\n      <td>882.0</td>\n      <td>76.0</td>\n      <td>0.0</td>\n      <td>5.13</td>\n      <td>0.000000</td>\n    </tr>\n    <tr>\n      <th>1901</th>\n      <td>WY</td>\n      <td>Sheridancity</td>\n      <td>13900</td>\n      <td>23819.0</td>\n      <td>0</td>\n      <td>6.0</td>\n      <td>0.0</td>\n      <td>14.0</td>\n      <td>62.0</td>\n      <td>462.0</td>\n      <td>32.0</td>\n      <td>4.0</td>\n      <td>5.82</td>\n      <td>0.000000</td>\n    </tr>\n  </tbody>\n</table>\n<p>1902 rows × 14 columns</p>\n</div>"
     },
     "execution_count": 133,
     "metadata": {},
     "output_type": "execute_result"
    }
   ]
  },
  {
   "cell_type": "code",
   "execution_count": 42,
   "outputs": [
    {
     "name": "stdout",
     "output_type": "stream",
     "text": [
      "27630 21957110\n"
     ]
    }
   ],
   "source": [
    "print(min(df[\"population\"]), max(df[\"population\"]))"
   ],
   "metadata": {
    "collapsed": false
   }
  },
  {
   "cell_type": "code",
   "execution_count": 48,
   "outputs": [],
   "source": [
    "import numpy as np"
   ],
   "metadata": {
    "collapsed": false
   }
  },
  {
   "cell_type": "code",
   "execution_count": 134,
   "outputs": [
    {
     "data": {
      "text/plain": "     state  population  murders  rapes  robberies  assaults  burglaries  \\\n0       AK       26751      0.0   12.0        3.0      18.0       128.0   \n1       AK       30843      6.0   25.0       80.0     143.0       251.0   \n2       AK      226338     23.0  212.0      568.0    1410.0      1880.0   \n3       AL       10283      0.0    6.0        6.0      39.0        60.0   \n4       AL       10380      2.0    2.0        1.0      20.0        94.0   \n...    ...         ...      ...    ...        ...       ...         ...   \n1895    WY       13900      0.0    6.0        0.0      14.0        62.0   \n1896    WY       17635      0.0    4.0        3.0      64.0        72.0   \n1897    WY       19050      1.0   14.0        6.0     111.0       213.0   \n1898    WY       26687      1.0    5.0        6.0      66.0        90.0   \n1899    WY       50008      0.0   22.0       17.0      69.0       258.0   \n\n      larcenies  autoTheft  arsons  \n0         857.0       59.0     7.0  \n1        1460.0      241.0     2.0  \n2       10660.0     1387.0   105.0  \n3         264.0       11.0     1.0  \n4         371.0       17.0     1.0  \n...         ...        ...     ...  \n1895      462.0       32.0     4.0  \n1896      844.0       27.0    18.0  \n1897      882.0       76.0     0.0  \n1898      828.0       38.0     7.0  \n1899     2224.0       76.0    12.0  \n\n[1900 rows x 10 columns]",
      "text/html": "<div>\n<style scoped>\n    .dataframe tbody tr th:only-of-type {\n        vertical-align: middle;\n    }\n\n    .dataframe tbody tr th {\n        vertical-align: top;\n    }\n\n    .dataframe thead th {\n        text-align: right;\n    }\n</style>\n<table border=\"1\" class=\"dataframe\">\n  <thead>\n    <tr style=\"text-align: right;\">\n      <th></th>\n      <th>state</th>\n      <th>population</th>\n      <th>murders</th>\n      <th>rapes</th>\n      <th>robberies</th>\n      <th>assaults</th>\n      <th>burglaries</th>\n      <th>larcenies</th>\n      <th>autoTheft</th>\n      <th>arsons</th>\n    </tr>\n  </thead>\n  <tbody>\n    <tr>\n      <th>0</th>\n      <td>AK</td>\n      <td>26751</td>\n      <td>0.0</td>\n      <td>12.0</td>\n      <td>3.0</td>\n      <td>18.0</td>\n      <td>128.0</td>\n      <td>857.0</td>\n      <td>59.0</td>\n      <td>7.0</td>\n    </tr>\n    <tr>\n      <th>1</th>\n      <td>AK</td>\n      <td>30843</td>\n      <td>6.0</td>\n      <td>25.0</td>\n      <td>80.0</td>\n      <td>143.0</td>\n      <td>251.0</td>\n      <td>1460.0</td>\n      <td>241.0</td>\n      <td>2.0</td>\n    </tr>\n    <tr>\n      <th>2</th>\n      <td>AK</td>\n      <td>226338</td>\n      <td>23.0</td>\n      <td>212.0</td>\n      <td>568.0</td>\n      <td>1410.0</td>\n      <td>1880.0</td>\n      <td>10660.0</td>\n      <td>1387.0</td>\n      <td>105.0</td>\n    </tr>\n    <tr>\n      <th>3</th>\n      <td>AL</td>\n      <td>10283</td>\n      <td>0.0</td>\n      <td>6.0</td>\n      <td>6.0</td>\n      <td>39.0</td>\n      <td>60.0</td>\n      <td>264.0</td>\n      <td>11.0</td>\n      <td>1.0</td>\n    </tr>\n    <tr>\n      <th>4</th>\n      <td>AL</td>\n      <td>10380</td>\n      <td>2.0</td>\n      <td>2.0</td>\n      <td>1.0</td>\n      <td>20.0</td>\n      <td>94.0</td>\n      <td>371.0</td>\n      <td>17.0</td>\n      <td>1.0</td>\n    </tr>\n    <tr>\n      <th>...</th>\n      <td>...</td>\n      <td>...</td>\n      <td>...</td>\n      <td>...</td>\n      <td>...</td>\n      <td>...</td>\n      <td>...</td>\n      <td>...</td>\n      <td>...</td>\n      <td>...</td>\n    </tr>\n    <tr>\n      <th>1895</th>\n      <td>WY</td>\n      <td>13900</td>\n      <td>0.0</td>\n      <td>6.0</td>\n      <td>0.0</td>\n      <td>14.0</td>\n      <td>62.0</td>\n      <td>462.0</td>\n      <td>32.0</td>\n      <td>4.0</td>\n    </tr>\n    <tr>\n      <th>1896</th>\n      <td>WY</td>\n      <td>17635</td>\n      <td>0.0</td>\n      <td>4.0</td>\n      <td>3.0</td>\n      <td>64.0</td>\n      <td>72.0</td>\n      <td>844.0</td>\n      <td>27.0</td>\n      <td>18.0</td>\n    </tr>\n    <tr>\n      <th>1897</th>\n      <td>WY</td>\n      <td>19050</td>\n      <td>1.0</td>\n      <td>14.0</td>\n      <td>6.0</td>\n      <td>111.0</td>\n      <td>213.0</td>\n      <td>882.0</td>\n      <td>76.0</td>\n      <td>0.0</td>\n    </tr>\n    <tr>\n      <th>1898</th>\n      <td>WY</td>\n      <td>26687</td>\n      <td>1.0</td>\n      <td>5.0</td>\n      <td>6.0</td>\n      <td>66.0</td>\n      <td>90.0</td>\n      <td>828.0</td>\n      <td>38.0</td>\n      <td>7.0</td>\n    </tr>\n    <tr>\n      <th>1899</th>\n      <td>WY</td>\n      <td>50008</td>\n      <td>0.0</td>\n      <td>22.0</td>\n      <td>17.0</td>\n      <td>69.0</td>\n      <td>258.0</td>\n      <td>2224.0</td>\n      <td>76.0</td>\n      <td>12.0</td>\n    </tr>\n  </tbody>\n</table>\n<p>1900 rows × 10 columns</p>\n</div>"
     },
     "execution_count": 134,
     "metadata": {},
     "output_type": "execute_result"
    }
   ],
   "source": [
    "df_population = df.groupby([\"state\", \"population\"]).agg({\"murders\":\"mean\", \"rapes\":\"mean\", \"robberies\":\"mean\", \"assaults\":\"mean\", \"burglaries\":\"mean\",\n",
    "                                                         \"larcenies\":\"mean\", \"autoTheft\":\"mean\", \"arsons\":\"mean\"}).reset_index()\n",
    "\n",
    "df_population"
   ],
   "metadata": {
    "collapsed": false
   }
  },
  {
   "cell_type": "code",
   "execution_count": 119,
   "outputs": [
    {
     "data": {
      "text/plain": "    state  rounded_income  murders  rapes  robberies  assaults  burglaries  \\\n0      AK         32000.0      6.0   25.0       80.0     143.0       251.0   \n1      AK         44000.0     23.0  212.0      568.0    1410.0      1880.0   \n2      AK         48000.0      0.0   12.0        3.0      18.0       128.0   \n3      AL         16000.0      6.0   20.0      105.5     389.5       716.5   \n4      AL         17000.0      1.0    0.0        5.0       3.0        25.0   \n..    ...             ...      ...    ...        ...       ...         ...   \n793    WY         28000.0      0.0   22.0       17.0      69.0       258.0   \n794    WY         31000.0      1.0    6.0        2.0      24.0        90.0   \n795    WY         34000.0      1.0   14.0        6.0     111.0       213.0   \n796    WY         36000.0      0.0    4.0        3.0      64.0        72.0   \n797    WY         40000.0      0.0    2.0        2.0      17.0        66.0   \n\n     larcenies  autoTheft  \n0       1460.0      241.0  \n1      10660.0     1387.0  \n2        857.0       59.0  \n3       1105.0      236.0  \n4         24.0       14.0  \n..         ...        ...  \n793     2224.0       76.0  \n794      496.0       26.0  \n795      882.0       76.0  \n796      844.0       27.0  \n797      393.0       13.0  \n\n[798 rows x 9 columns]",
      "text/html": "<div>\n<style scoped>\n    .dataframe tbody tr th:only-of-type {\n        vertical-align: middle;\n    }\n\n    .dataframe tbody tr th {\n        vertical-align: top;\n    }\n\n    .dataframe thead th {\n        text-align: right;\n    }\n</style>\n<table border=\"1\" class=\"dataframe\">\n  <thead>\n    <tr style=\"text-align: right;\">\n      <th></th>\n      <th>state</th>\n      <th>rounded_income</th>\n      <th>murders</th>\n      <th>rapes</th>\n      <th>robberies</th>\n      <th>assaults</th>\n      <th>burglaries</th>\n      <th>larcenies</th>\n      <th>autoTheft</th>\n    </tr>\n  </thead>\n  <tbody>\n    <tr>\n      <th>0</th>\n      <td>AK</td>\n      <td>32000.0</td>\n      <td>6.0</td>\n      <td>25.0</td>\n      <td>80.0</td>\n      <td>143.0</td>\n      <td>251.0</td>\n      <td>1460.0</td>\n      <td>241.0</td>\n    </tr>\n    <tr>\n      <th>1</th>\n      <td>AK</td>\n      <td>44000.0</td>\n      <td>23.0</td>\n      <td>212.0</td>\n      <td>568.0</td>\n      <td>1410.0</td>\n      <td>1880.0</td>\n      <td>10660.0</td>\n      <td>1387.0</td>\n    </tr>\n    <tr>\n      <th>2</th>\n      <td>AK</td>\n      <td>48000.0</td>\n      <td>0.0</td>\n      <td>12.0</td>\n      <td>3.0</td>\n      <td>18.0</td>\n      <td>128.0</td>\n      <td>857.0</td>\n      <td>59.0</td>\n    </tr>\n    <tr>\n      <th>3</th>\n      <td>AL</td>\n      <td>16000.0</td>\n      <td>6.0</td>\n      <td>20.0</td>\n      <td>105.5</td>\n      <td>389.5</td>\n      <td>716.5</td>\n      <td>1105.0</td>\n      <td>236.0</td>\n    </tr>\n    <tr>\n      <th>4</th>\n      <td>AL</td>\n      <td>17000.0</td>\n      <td>1.0</td>\n      <td>0.0</td>\n      <td>5.0</td>\n      <td>3.0</td>\n      <td>25.0</td>\n      <td>24.0</td>\n      <td>14.0</td>\n    </tr>\n    <tr>\n      <th>...</th>\n      <td>...</td>\n      <td>...</td>\n      <td>...</td>\n      <td>...</td>\n      <td>...</td>\n      <td>...</td>\n      <td>...</td>\n      <td>...</td>\n      <td>...</td>\n    </tr>\n    <tr>\n      <th>793</th>\n      <td>WY</td>\n      <td>28000.0</td>\n      <td>0.0</td>\n      <td>22.0</td>\n      <td>17.0</td>\n      <td>69.0</td>\n      <td>258.0</td>\n      <td>2224.0</td>\n      <td>76.0</td>\n    </tr>\n    <tr>\n      <th>794</th>\n      <td>WY</td>\n      <td>31000.0</td>\n      <td>1.0</td>\n      <td>6.0</td>\n      <td>2.0</td>\n      <td>24.0</td>\n      <td>90.0</td>\n      <td>496.0</td>\n      <td>26.0</td>\n    </tr>\n    <tr>\n      <th>795</th>\n      <td>WY</td>\n      <td>34000.0</td>\n      <td>1.0</td>\n      <td>14.0</td>\n      <td>6.0</td>\n      <td>111.0</td>\n      <td>213.0</td>\n      <td>882.0</td>\n      <td>76.0</td>\n    </tr>\n    <tr>\n      <th>796</th>\n      <td>WY</td>\n      <td>36000.0</td>\n      <td>0.0</td>\n      <td>4.0</td>\n      <td>3.0</td>\n      <td>64.0</td>\n      <td>72.0</td>\n      <td>844.0</td>\n      <td>27.0</td>\n    </tr>\n    <tr>\n      <th>797</th>\n      <td>WY</td>\n      <td>40000.0</td>\n      <td>0.0</td>\n      <td>2.0</td>\n      <td>2.0</td>\n      <td>17.0</td>\n      <td>66.0</td>\n      <td>393.0</td>\n      <td>13.0</td>\n    </tr>\n  </tbody>\n</table>\n<p>798 rows × 9 columns</p>\n</div>"
     },
     "execution_count": 119,
     "metadata": {},
     "output_type": "execute_result"
    }
   ],
   "source": [
    "df_income = df.groupby([\"state\", \"medIncome\"]).agg({\"murders\":\"mean\", \"rapes\":\"mean\", \"robberies\":\"mean\", \"assaults\":\"mean\", \"burglaries\":\"mean\",\n",
    "                                                     \"larcenies\":\"mean\", \"autoTheft\":\"mean\"}).reset_index()\n",
    "df_income[\"rounded_income\"] = df_income[\"medIncome\"]/100000\n",
    "df_income[\"rounded_income\"] = df_income[\"rounded_income\"].apply(lambda x: round(x, 2))*100000\n",
    "\n",
    "df_income = df_income.groupby([\"state\", \"rounded_income\"]).agg(\n",
    "    {\"murders\": \"mean\", \"rapes\": \"mean\", \"robberies\": \"mean\", \"assaults\": \"mean\", \"burglaries\": \"mean\",\n",
    "     \"larcenies\": \"mean\", \"autoTheft\": \"mean\"}).reset_index()\n",
    "df_income"
   ],
   "metadata": {
    "collapsed": false
   }
  },
  {
   "cell_type": "code",
   "execution_count": 129,
   "outputs": [
    {
     "data": {
      "text/plain": "    state  rounded_pct    murders       rapes   robberies     assaults  \\\n0      AK          0.0   3.000000   18.500000   41.500000    80.500000   \n1      AK        100.0  23.000000  212.000000  568.000000  1410.000000   \n2      AL          0.0   1.333333    4.000000   13.000000    89.833333   \n3      AL        100.0  25.821429   72.392857  402.678571  1152.357143   \n4      AR          0.0   1.466667    9.933333   34.000000    73.066667   \n..    ...          ...        ...         ...         ...          ...   \n129    WI        100.0   3.277778   18.847222   69.472222    97.680556   \n130    WV          0.0   1.166667    7.333333   18.000000    63.500000   \n131    WV        100.0   2.444444   14.500000   46.388889    85.777778   \n132    WY          0.0   0.500000    6.166667    3.166667    49.333333   \n133    WY        100.0   0.000000   22.000000   17.000000    69.000000   \n\n      burglaries     larcenies    autoTheft  \n0     189.500000   1158.500000   150.000000  \n1    1880.000000  10660.000000  1387.000000  \n2     147.166667    350.500000    24.833333  \n3    1945.464286   5035.750000   858.464286  \n4     327.200000    975.066667    70.600000  \n..           ...           ...          ...  \n129   380.270833   1434.861111   187.340278  \n130   158.166667    723.000000    41.333333  \n131   375.055556    882.944444    90.111111  \n132    98.833333    650.833333    35.333333  \n133   258.000000   2224.000000    76.000000  \n\n[134 rows x 9 columns]",
      "text/html": "<div>\n<style scoped>\n    .dataframe tbody tr th:only-of-type {\n        vertical-align: middle;\n    }\n\n    .dataframe tbody tr th {\n        vertical-align: top;\n    }\n\n    .dataframe thead th {\n        text-align: right;\n    }\n</style>\n<table border=\"1\" class=\"dataframe\">\n  <thead>\n    <tr style=\"text-align: right;\">\n      <th></th>\n      <th>state</th>\n      <th>rounded_pct</th>\n      <th>murders</th>\n      <th>rapes</th>\n      <th>robberies</th>\n      <th>assaults</th>\n      <th>burglaries</th>\n      <th>larcenies</th>\n      <th>autoTheft</th>\n    </tr>\n  </thead>\n  <tbody>\n    <tr>\n      <th>0</th>\n      <td>AK</td>\n      <td>0.0</td>\n      <td>3.000000</td>\n      <td>18.500000</td>\n      <td>41.500000</td>\n      <td>80.500000</td>\n      <td>189.500000</td>\n      <td>1158.500000</td>\n      <td>150.000000</td>\n    </tr>\n    <tr>\n      <th>1</th>\n      <td>AK</td>\n      <td>100.0</td>\n      <td>23.000000</td>\n      <td>212.000000</td>\n      <td>568.000000</td>\n      <td>1410.000000</td>\n      <td>1880.000000</td>\n      <td>10660.000000</td>\n      <td>1387.000000</td>\n    </tr>\n    <tr>\n      <th>2</th>\n      <td>AL</td>\n      <td>0.0</td>\n      <td>1.333333</td>\n      <td>4.000000</td>\n      <td>13.000000</td>\n      <td>89.833333</td>\n      <td>147.166667</td>\n      <td>350.500000</td>\n      <td>24.833333</td>\n    </tr>\n    <tr>\n      <th>3</th>\n      <td>AL</td>\n      <td>100.0</td>\n      <td>25.821429</td>\n      <td>72.392857</td>\n      <td>402.678571</td>\n      <td>1152.357143</td>\n      <td>1945.464286</td>\n      <td>5035.750000</td>\n      <td>858.464286</td>\n    </tr>\n    <tr>\n      <th>4</th>\n      <td>AR</td>\n      <td>0.0</td>\n      <td>1.466667</td>\n      <td>9.933333</td>\n      <td>34.000000</td>\n      <td>73.066667</td>\n      <td>327.200000</td>\n      <td>975.066667</td>\n      <td>70.600000</td>\n    </tr>\n    <tr>\n      <th>...</th>\n      <td>...</td>\n      <td>...</td>\n      <td>...</td>\n      <td>...</td>\n      <td>...</td>\n      <td>...</td>\n      <td>...</td>\n      <td>...</td>\n      <td>...</td>\n    </tr>\n    <tr>\n      <th>129</th>\n      <td>WI</td>\n      <td>100.0</td>\n      <td>3.277778</td>\n      <td>18.847222</td>\n      <td>69.472222</td>\n      <td>97.680556</td>\n      <td>380.270833</td>\n      <td>1434.861111</td>\n      <td>187.340278</td>\n    </tr>\n    <tr>\n      <th>130</th>\n      <td>WV</td>\n      <td>0.0</td>\n      <td>1.166667</td>\n      <td>7.333333</td>\n      <td>18.000000</td>\n      <td>63.500000</td>\n      <td>158.166667</td>\n      <td>723.000000</td>\n      <td>41.333333</td>\n    </tr>\n    <tr>\n      <th>131</th>\n      <td>WV</td>\n      <td>100.0</td>\n      <td>2.444444</td>\n      <td>14.500000</td>\n      <td>46.388889</td>\n      <td>85.777778</td>\n      <td>375.055556</td>\n      <td>882.944444</td>\n      <td>90.111111</td>\n    </tr>\n    <tr>\n      <th>132</th>\n      <td>WY</td>\n      <td>0.0</td>\n      <td>0.500000</td>\n      <td>6.166667</td>\n      <td>3.166667</td>\n      <td>49.333333</td>\n      <td>98.833333</td>\n      <td>650.833333</td>\n      <td>35.333333</td>\n    </tr>\n    <tr>\n      <th>133</th>\n      <td>WY</td>\n      <td>100.0</td>\n      <td>0.000000</td>\n      <td>22.000000</td>\n      <td>17.000000</td>\n      <td>69.000000</td>\n      <td>258.000000</td>\n      <td>2224.000000</td>\n      <td>76.000000</td>\n    </tr>\n  </tbody>\n</table>\n<p>134 rows × 9 columns</p>\n</div>"
     },
     "execution_count": 129,
     "metadata": {},
     "output_type": "execute_result"
    }
   ],
   "source": [
    "df_pct_urban = df.groupby([\"state\", \"pctUrban\"]).agg({\"murders\":\"mean\", \"rapes\":\"mean\", \"robberies\":\"mean\", \"assaults\":\"mean\", \"burglaries\":\"mean\",\n",
    "                                                           \"larcenies\":\"mean\", \"autoTheft\":\"mean\"}).reset_index()\n",
    "\n",
    "df_pct_urban[\"rounded_pct\"] = df_pct_urban[\"pctUrban\"]/100\n",
    "df_pct_urban[\"rounded_pct\"] = df_pct_urban[\"rounded_pct\"].apply(lambda x: round(x, 1))*100\n",
    "\n",
    "df_pct_urban = df_pct_urban.groupby([\"state\", \"rounded_pct\"]).agg(\n",
    "    {\"murders\": \"mean\", \"rapes\": \"mean\", \"robberies\": \"mean\", \"assaults\": \"mean\", \"burglaries\": \"mean\",\n",
    "     \"larcenies\": \"mean\", \"autoTheft\": \"mean\"}).reset_index()\n",
    "df_pct_urban\n"
   ],
   "metadata": {
    "collapsed": false
   }
  },
  {
   "cell_type": "code",
   "execution_count": null,
   "outputs": [],
   "source": [],
   "metadata": {
    "collapsed": false
   }
  },
  {
   "cell_type": "code",
   "execution_count": null,
   "outputs": [],
   "source": [],
   "metadata": {
    "collapsed": false
   }
  },
  {
   "cell_type": "code",
   "execution_count": 78,
   "outputs": [
    {
     "data": {
      "text/plain": "                          population   murders  rapes  robberies    assaults  \\\nstate population                                                               \nAK    (0, 1000000]           94644.0  9.666667   83.0      217.0  523.666667   \n      (1000000, 2000000]         NaN       NaN    NaN        NaN         NaN   \n      (2000000, 3000000]         NaN       NaN    NaN        NaN         NaN   \n      (3000000, 4000000]         NaN       NaN    NaN        NaN         NaN   \n      (4000000, 5000000]         NaN       NaN    NaN        NaN         NaN   \n...                              ...       ...    ...        ...         ...   \nWY    (2000000, 3000000]         NaN       NaN    NaN        NaN         NaN   \n      (3000000, 4000000]         NaN       NaN    NaN        NaN         NaN   \n      (4000000, 5000000]         NaN       NaN    NaN        NaN         NaN   \n      (5000000, 6000000]         NaN       NaN    NaN        NaN         NaN   \n      (6000000, 7000000]         NaN       NaN    NaN        NaN         NaN   \n\n                          burglaries    larcenies   autoTheft  \nstate population                                               \nAK    (0, 1000000]             753.0  4325.666667  562.333333  \n      (1000000, 2000000]         NaN          NaN         NaN  \n      (2000000, 3000000]         NaN          NaN         NaN  \n      (3000000, 4000000]         NaN          NaN         NaN  \n      (4000000, 5000000]         NaN          NaN         NaN  \n...                              ...          ...         ...  \nWY    (2000000, 3000000]         NaN          NaN         NaN  \n      (3000000, 4000000]         NaN          NaN         NaN  \n      (4000000, 5000000]         NaN          NaN         NaN  \n      (5000000, 6000000]         NaN          NaN         NaN  \n      (6000000, 7000000]         NaN          NaN         NaN  \n\n[308 rows x 8 columns]",
      "text/html": "<div>\n<style scoped>\n    .dataframe tbody tr th:only-of-type {\n        vertical-align: middle;\n    }\n\n    .dataframe tbody tr th {\n        vertical-align: top;\n    }\n\n    .dataframe thead th {\n        text-align: right;\n    }\n</style>\n<table border=\"1\" class=\"dataframe\">\n  <thead>\n    <tr style=\"text-align: right;\">\n      <th></th>\n      <th></th>\n      <th>population</th>\n      <th>murders</th>\n      <th>rapes</th>\n      <th>robberies</th>\n      <th>assaults</th>\n      <th>burglaries</th>\n      <th>larcenies</th>\n      <th>autoTheft</th>\n    </tr>\n    <tr>\n      <th>state</th>\n      <th>population</th>\n      <th></th>\n      <th></th>\n      <th></th>\n      <th></th>\n      <th></th>\n      <th></th>\n      <th></th>\n      <th></th>\n    </tr>\n  </thead>\n  <tbody>\n    <tr>\n      <th rowspan=\"5\" valign=\"top\">AK</th>\n      <th>(0, 1000000]</th>\n      <td>94644.0</td>\n      <td>9.666667</td>\n      <td>83.0</td>\n      <td>217.0</td>\n      <td>523.666667</td>\n      <td>753.0</td>\n      <td>4325.666667</td>\n      <td>562.333333</td>\n    </tr>\n    <tr>\n      <th>(1000000, 2000000]</th>\n      <td>NaN</td>\n      <td>NaN</td>\n      <td>NaN</td>\n      <td>NaN</td>\n      <td>NaN</td>\n      <td>NaN</td>\n      <td>NaN</td>\n      <td>NaN</td>\n    </tr>\n    <tr>\n      <th>(2000000, 3000000]</th>\n      <td>NaN</td>\n      <td>NaN</td>\n      <td>NaN</td>\n      <td>NaN</td>\n      <td>NaN</td>\n      <td>NaN</td>\n      <td>NaN</td>\n      <td>NaN</td>\n    </tr>\n    <tr>\n      <th>(3000000, 4000000]</th>\n      <td>NaN</td>\n      <td>NaN</td>\n      <td>NaN</td>\n      <td>NaN</td>\n      <td>NaN</td>\n      <td>NaN</td>\n      <td>NaN</td>\n      <td>NaN</td>\n    </tr>\n    <tr>\n      <th>(4000000, 5000000]</th>\n      <td>NaN</td>\n      <td>NaN</td>\n      <td>NaN</td>\n      <td>NaN</td>\n      <td>NaN</td>\n      <td>NaN</td>\n      <td>NaN</td>\n      <td>NaN</td>\n    </tr>\n    <tr>\n      <th>...</th>\n      <th>...</th>\n      <td>...</td>\n      <td>...</td>\n      <td>...</td>\n      <td>...</td>\n      <td>...</td>\n      <td>...</td>\n      <td>...</td>\n      <td>...</td>\n    </tr>\n    <tr>\n      <th rowspan=\"5\" valign=\"top\">WY</th>\n      <th>(2000000, 3000000]</th>\n      <td>NaN</td>\n      <td>NaN</td>\n      <td>NaN</td>\n      <td>NaN</td>\n      <td>NaN</td>\n      <td>NaN</td>\n      <td>NaN</td>\n      <td>NaN</td>\n    </tr>\n    <tr>\n      <th>(3000000, 4000000]</th>\n      <td>NaN</td>\n      <td>NaN</td>\n      <td>NaN</td>\n      <td>NaN</td>\n      <td>NaN</td>\n      <td>NaN</td>\n      <td>NaN</td>\n      <td>NaN</td>\n    </tr>\n    <tr>\n      <th>(4000000, 5000000]</th>\n      <td>NaN</td>\n      <td>NaN</td>\n      <td>NaN</td>\n      <td>NaN</td>\n      <td>NaN</td>\n      <td>NaN</td>\n      <td>NaN</td>\n      <td>NaN</td>\n    </tr>\n    <tr>\n      <th>(5000000, 6000000]</th>\n      <td>NaN</td>\n      <td>NaN</td>\n      <td>NaN</td>\n      <td>NaN</td>\n      <td>NaN</td>\n      <td>NaN</td>\n      <td>NaN</td>\n      <td>NaN</td>\n    </tr>\n    <tr>\n      <th>(6000000, 7000000]</th>\n      <td>NaN</td>\n      <td>NaN</td>\n      <td>NaN</td>\n      <td>NaN</td>\n      <td>NaN</td>\n      <td>NaN</td>\n      <td>NaN</td>\n      <td>NaN</td>\n    </tr>\n  </tbody>\n</table>\n<p>308 rows × 8 columns</p>\n</div>"
     },
     "execution_count": 78,
     "metadata": {},
     "output_type": "execute_result"
    }
   ],
   "source": [
    "df_population = df_population.groupby([\"state\", pd.cut(df_population[\"population\"],\n",
    "                                                       np.arange(0, df_population['population'].max(), 1000000))]).mean()\n",
    "df_population"
   ],
   "metadata": {
    "collapsed": false
   }
  },
  {
   "cell_type": "code",
   "execution_count": null,
   "outputs": [],
   "source": [],
   "metadata": {
    "collapsed": false
   }
  },
  {
   "cell_type": "code",
   "execution_count": null,
   "outputs": [],
   "source": [],
   "metadata": {
    "collapsed": false
   }
  }
 ]
}
