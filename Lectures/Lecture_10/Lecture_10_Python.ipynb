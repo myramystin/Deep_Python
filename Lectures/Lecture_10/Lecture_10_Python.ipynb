{
  "nbformat": 4,
  "nbformat_minor": 0,
  "metadata": {
    "colab": {
      "provenance": [],
      "collapsed_sections": [
        "EdkG7ge6jCTL",
        "4dYJ4RTHT00R",
        "_amCJQvKnHQl",
        "Dan441XTq0cg",
        "X4dRMGGn7oxI",
        "n62LWlwT7ufP"
      ]
    },
    "kernelspec": {
      "name": "python3",
      "display_name": "Python 3"
    },
    "language_info": {
      "name": "python"
    }
  },
  "cells": [
    {
      "cell_type": "markdown",
      "source": [
        "# Продвинутый Python, лекция 10\n",
        "\n",
        "**Лектор:** Петров Тимур\n",
        "\n",
        "**Семинаристы:** Петров Тимур, Коган Александра, Романченко Полина\n",
        "\n",
        "**Spoiler Alert:** в рамках курса нельзя изучить ни одну из тем от и до досконально (к сожалению, на это требуется больше времени, чем даже 3 часа в неделю). Но мы попробуем рассказать столько, сколько возможно :)\n",
        "\n",
        "Так как мы проходим веб-разработку, то это явно не та вещь, которая делается через colab. Поэтому здесь написан просто код, который можно воспроизвести локально"
      ],
      "metadata": {
        "id": "Yy3aW8Kwi-A-"
      }
    },
    {
      "cell_type": "markdown",
      "source": [
        "# Django"
      ],
      "metadata": {
        "id": "EdkG7ge6jCTL"
      }
    },
    {
      "cell_type": "markdown",
      "source": [
        "## Начала"
      ],
      "metadata": {
        "id": "4dYJ4RTHT00R"
      }
    },
    {
      "cell_type": "markdown",
      "source": [
        "Как мы уже говорили, если Flask - это буквально сделай все сам (и в этом его плюс и минус), то уже Django - это все сделано за тебя, пользуйся\n",
        "\n",
        "Давайте смотреть, что сделано и что тогда нам надо делать"
      ],
      "metadata": {
        "id": "4ogcAr5QlPNj"
      }
    },
    {
      "cell_type": "markdown",
      "source": [
        "По классике вначале просто попробуем установить и создать некоторый проект:"
      ],
      "metadata": {
        "id": "PN4IDZ_ikiPf"
      }
    },
    {
      "cell_type": "code",
      "execution_count": null,
      "metadata": {
        "id": "A-ZWK7zli7S_"
      },
      "outputs": [],
      "source": [
        "!pip install django"
      ]
    },
    {
      "cell_type": "code",
      "source": [
        "!django-admin startproject mysite"
      ],
      "metadata": {
        "id": "yDo_a8jMkyFS"
      },
      "execution_count": 5,
      "outputs": []
    },
    {
      "cell_type": "code",
      "source": [
        "!cd mysite; ls -la; cd mysite; ls -la"
      ],
      "metadata": {
        "colab": {
          "base_uri": "https://localhost:8080/"
        },
        "id": "QMUDw82zlGbN",
        "outputId": "1ebafdc0-eab5-4d8f-82a2-cdb9c1703fda"
      },
      "execution_count": 8,
      "outputs": [
        {
          "output_type": "stream",
          "name": "stdout",
          "text": [
            "total 16\n",
            "drwxr-xr-x 3 root root 4096 Nov 13 10:41 .\n",
            "drwxr-xr-x 1 root root 4096 Nov 13 10:41 ..\n",
            "-rwxr-xr-x 1 root root  662 Nov 13 10:41 manage.py\n",
            "drwxr-xr-x 2 root root 4096 Nov 13 10:41 mysite\n",
            "total 24\n",
            "drwxr-xr-x 2 root root 4096 Nov 13 10:41 .\n",
            "drwxr-xr-x 3 root root 4096 Nov 13 10:41 ..\n",
            "-rw-r--r-- 1 root root  389 Nov 13 10:41 asgi.py\n",
            "-rw-r--r-- 1 root root    0 Nov 13 10:41 __init__.py\n",
            "-rw-r--r-- 1 root root 3240 Nov 13 10:41 settings.py\n",
            "-rw-r--r-- 1 root root  748 Nov 13 10:41 urls.py\n",
            "-rw-r--r-- 1 root root  389 Nov 13 10:41 wsgi.py\n"
          ]
        }
      ]
    },
    {
      "cell_type": "markdown",
      "source": [
        "Какие файлы видим?\n",
        "\n",
        "* manage.py - утилита, позволяющая взаимодействовать с проектом различными способами\n",
        "\n",
        "* __ init __.py\n",
        "\n",
        "* asgi.py - точка входа для ASGI-совместимых веб-серверов для обслуживания вашего проекта (асинхронная коммуникация между сервером и приложением)\n",
        "\n",
        "* settings.py - настройки нашего приложения\n",
        "\n",
        "* urls.py - маппинг между views и страницами (что где выдавать)\n",
        "\n",
        "* wsgi.py - Точка входа для WSGI совместимых веб-серверов для работы с проектом\n",
        "\n",
        "Давайте запустим по дефолту и посмотрим!\n",
        "\n",
        "Видим совсем базовую страничку, что у нас все заработало"
      ],
      "metadata": {
        "id": "b8dHkw8glF9Z"
      }
    },
    {
      "cell_type": "markdown",
      "source": [
        "## Время писать что-то свое!"
      ],
      "metadata": {
        "id": "_amCJQvKnHQl"
      }
    },
    {
      "cell_type": "markdown",
      "source": [
        "Сделаем простое задание - создать страничку, которая будет отображать текущее время (в UTC). Для этого, как и во Flask, надо написать страничку, которая это будет показывать. Создадим файл views.py и запишем туда:"
      ],
      "metadata": {
        "id": "sIdZSNjJnJ5P"
      }
    },
    {
      "cell_type": "code",
      "source": [
        "from django.http import HttpResponse #внутри django зя ответы можно использовать модуль http\n",
        "import datetime\n",
        "\n",
        "def current_datetime(request):\n",
        "    now = datetime.datetime.now() # Время\n",
        "    html = \"<html><body>It is now %s.</body></html>\" % now # страничка\n",
        "    return HttpResponse(html) # отправляем страничку через HttpResponse (нашу страницу)"
      ],
      "metadata": {
        "id": "o96rE44Qm4hD"
      },
      "execution_count": null,
      "outputs": []
    },
    {
      "cell_type": "markdown",
      "source": [
        "Мы создали так называемый view - функция, которая принимает запрос и по нему выдает ответ (по аналогии с route внутри Flask). Но только тут непонятно, а что за страница, которая это все будет показывать\n",
        "\n",
        "В этом смысле есть отличие. Маппинг наших views и непосредственно страниц осуществляется через файл urls.py\n",
        "\n",
        "Импортируем наши views и добавим:"
      ],
      "metadata": {
        "id": "YyQX3PbVns_K"
      }
    },
    {
      "cell_type": "code",
      "source": [
        "from django.contrib import admin\n",
        "from django.urls import path\n",
        "from djangoProject.views import current_datetime # импортируем функцию\n",
        "\n",
        "urlpatterns = [\n",
        "    path(\"admin/\", admin.site.urls), #админка сайта (про нее позже)\n",
        "    path(\"\", current_datetime) #начальная страница\n",
        "]"
      ],
      "metadata": {
        "id": "dQ82gBYlp0ox"
      },
      "execution_count": null,
      "outputs": []
    },
    {
      "cell_type": "markdown",
      "source": [
        "Ура, видим то, что надо!"
      ],
      "metadata": {
        "id": "ST0sPXF4qyQi"
      }
    },
    {
      "cell_type": "markdown",
      "source": [
        "## Динамические ссылки"
      ],
      "metadata": {
        "id": "Dan441XTq0cg"
      }
    },
    {
      "cell_type": "markdown",
      "source": [
        "Смотрим на urls.py, и кажется, что для каждого сайта придется прописывать url... На самом деле нет, потому что Django тоже умеет в динамические ссылки. Для демонстрации напишем функцию, которая будет говорить, сколько у нас будет времени через n часов (ну вдруг кому-то надо)"
      ],
      "metadata": {
        "id": "iLL7K876q21h"
      }
    },
    {
      "cell_type": "code",
      "source": [
        "def hours_ahead(request, hour):\n",
        "    dt = datetime.datetime.now() + datetime.timedelta(hours=hour)\n",
        "    html = \"<html><body>In %s hour(s), it will be %s.</body></html>\" % (hour, dt)\n",
        "    return HttpResponse(html)"
      ],
      "metadata": {
        "id": "ql0ApbB9rYnN"
      },
      "execution_count": null,
      "outputs": []
    },
    {
      "cell_type": "markdown",
      "source": [
        "А теперь смапим с urls.py:"
      ],
      "metadata": {
        "id": "UV5uarPfriIb"
      }
    },
    {
      "cell_type": "code",
      "source": [
        "from django.contrib import admin\n",
        "from django.urls import path\n",
        "from djangoProject.views import current_datetime, hours_ahead\n",
        "\n",
        "urlpatterns = [\n",
        "    path(\"admin/\", admin.site.urls),\n",
        "    path(\"\", current_datetime),\n",
        "    path(\"<int:hour>/\", hours_ahead) #Внутри Django можно осуществлять т.н. захват переменных из URLа\n",
        "]"
      ],
      "metadata": {
        "id": "I3RiGhk7rlqb"
      },
      "execution_count": null,
      "outputs": []
    },
    {
      "cell_type": "markdown",
      "source": [
        "А можно писать и просто регулярки через re_path (можно указывать регулярки)"
      ],
      "metadata": {
        "id": "h1qFD3w0ub0O"
      }
    },
    {
      "cell_type": "markdown",
      "source": [
        "Какие есть динамические захваты по умолчанию?\n",
        "\n",
        "* str, int - все понятно\n",
        "\n",
        "* slug - любой набор букв-цифры-подчеркиваний\n",
        "\n",
        "* path - путь\n",
        "\n",
        "* uuid - 123e4567-e89b-12d3-a456-426655440000 (канонический вид идентификатора, состоит из 16-ичных числе)"
      ],
      "metadata": {
        "id": "EH4eLFf-tTBm"
      }
    },
    {
      "cell_type": "markdown",
      "source": [
        "## Шаблоны"
      ],
      "metadata": {
        "id": "X4dRMGGn7oxI"
      }
    },
    {
      "cell_type": "markdown",
      "source": [
        "Смогли сгенерировать ссылки - супер! А теперь под них надо делать страницы (и как обычно, мы не хотим для каждой писать свой собственный шаблон). Внутри Django есть внутренняя шаблонизация\n",
        "\n",
        "Основана на двух вещах: встроенная шаблонизация Django + Jinja2 (то есть без определенных деталей same из Flask). Давайте отрендерим самый базовый шаблон"
      ],
      "metadata": {
        "id": "HIHDaEwo72Q4"
      }
    },
    {
      "cell_type": "code",
      "source": [
        "from django.template import Template\n",
        "\n",
        "t = Template(\"My name is {{ name }}.\") #строим template и получаем объект типа Template\n",
        "print(t)"
      ],
      "metadata": {
        "id": "fDfdRClb9fUq"
      },
      "execution_count": null,
      "outputs": []
    },
    {
      "cell_type": "markdown",
      "source": [
        "Как в него запихнуть значение переменной? С помощью словаря контекста"
      ],
      "metadata": {
        "id": "r5uKlWFyANYr"
      }
    },
    {
      "cell_type": "code",
      "source": [
        "from django.template import Context, Template\n",
        "\n",
        "t = Template(\"My name is {{ name }}.\")\n",
        "c = {\"name\": \"Oleg\"} # контекст - это по существу словарь с необходимыми данными\n",
        "t.render(c) # Получаем то, что нужно"
      ],
      "metadata": {
        "id": "8rcjFP4OARoR"
      },
      "execution_count": null,
      "outputs": []
    },
    {
      "cell_type": "markdown",
      "source": [
        "Давайте завернем это в view:"
      ],
      "metadata": {
        "id": "PvcuPjEZAgiX"
      }
    },
    {
      "cell_type": "code",
      "source": [
        "def template_func(request):\n",
        "    t = Template(\"My name is {{ name }}.\")\n",
        "    return HttpResponse(t.render({\"name\": \"Oleg\"}))  # Получаем то, что нужно"
      ],
      "metadata": {
        "id": "RDSD4Yj5BB2d"
      },
      "execution_count": null,
      "outputs": []
    },
    {
      "cell_type": "markdown",
      "source": [
        "Урааа, получилось! Суть простая: создаем шаблон, запихиваем внутри него необходимые переменные и живем-живем. Теперь давайте попробуем все сделать с помощью не шаблона из string, в из шаблона в отдельном файле. Для этого есть папочка templates. Запихнем все в layout.html"
      ],
      "metadata": {
        "id": "aWtNgigdBDoR"
      }
    },
    {
      "cell_type": "code",
      "source": [
        "from django.template.loader import get_template\n",
        "\n",
        "def template_func(request):\n",
        "    t = get_template(\"layout.html\")\n",
        "    c = {\"name\": \"Oleg\"}  # контекст - это по существу словарь с необходимыми данными\n",
        "    return HttpResponse(t.render(c))  # Получаем то, что нужно"
      ],
      "metadata": {
        "id": "LNeYnjDXCtb0"
      },
      "execution_count": null,
      "outputs": []
    },
    {
      "cell_type": "markdown",
      "source": [
        "Но можно еще проще сделать!"
      ],
      "metadata": {
        "id": "8nEYVlfoELTd"
      }
    },
    {
      "cell_type": "code",
      "source": [
        "from django.shortcuts import render\n",
        "\n",
        "def template_func(request):\n",
        "    return render(request, \"layout.html\", context={\"name\": \"Oleg\"})  # Скажем по-тупому: отрендери все это)"
      ],
      "metadata": {
        "id": "vEYEV_DXEMxT"
      },
      "execution_count": null,
      "outputs": []
    },
    {
      "cell_type": "markdown",
      "source": [
        "И еще проще!"
      ],
      "metadata": {
        "id": "vOyjeoW_FSzv"
      }
    },
    {
      "cell_type": "code",
      "source": [
        "from django.shortcuts import render\n",
        "\n",
        "def template_func(request):\n",
        "    name = \"Oleg\"\n",
        "    return render(request, \"layout.html\", locals())  # передай все локальные переменные в качестве словаря со значениями"
      ],
      "metadata": {
        "id": "lH7x-S-fFUsI"
      },
      "execution_count": null,
      "outputs": []
    },
    {
      "cell_type": "markdown",
      "source": [
        "Чего не хватает для красоты? Правильно, редиректов:\n",
        "\n"
      ],
      "metadata": {
        "id": "vOShv4iQFvkd"
      }
    },
    {
      "cell_type": "markdown",
      "source": [
        "```\n",
        "<a href=\"{% url 'index' %}\"> Go back </a>\n",
        "```\n",
        "\n",
        "Но для этого нужно в urls дать name для ссылки"
      ],
      "metadata": {
        "id": "SV1M6dQcHn18"
      }
    },
    {
      "cell_type": "markdown",
      "source": [
        "## Ошибки"
      ],
      "metadata": {
        "id": "n62LWlwT7ufP"
      }
    },
    {
      "cell_type": "markdown",
      "source": [
        "Создали шаблоны, urlы, теперь надо бы еще ошибки добавить, верно?\n",
        "\n",
        "Тут все просто, Django уже постарался, чтобы с этим не приходилось работать. Добавляем в urls вот такие штуки (это наши хэндлеры ошибок)\n",
        "\n",
        "```\n",
        "\n",
        "from django.conf.urls import handler400, handler403, handler404, handler500\n",
        "\n",
        "```\n",
        "\n",
        "И далее:\n",
        "\n",
        "```\n",
        "handler404 = 'djangoProject.views.handler404'\n",
        "handler500 = 'djangoProject.views.handler500' \n",
        "```\n",
        "\n",
        "И далее во views указываем функции и обрабатываем их. И тогда при любой ошибке будет выскакивать именно нужная страница"
      ],
      "metadata": {
        "id": "M871Y8KDNKDr"
      }
    },
    {
      "cell_type": "markdown",
      "source": [
        "Но мы хотим еще и вызывать ошибки, а не только их обрабатывать, ведь так? Давайте делать:"
      ],
      "metadata": {
        "id": "xX56eoGfSkFq"
      }
    },
    {
      "cell_type": "code",
      "source": [
        "from django.http import Http404\n",
        "\n",
        "raise(Http404(\"Error\"))"
      ],
      "metadata": {
        "id": "jt64wZPuSq7Q"
      },
      "execution_count": null,
      "outputs": []
    },
    {
      "cell_type": "markdown",
      "source": [
        "# SQL"
      ],
      "metadata": {
        "id": "fx84z_dXTX3r"
      }
    },
    {
      "cell_type": "markdown",
      "source": [
        "Для того, чтобы двинуться дальше (на семинаре мы поговорим про полную сборку с админкой, БД и так далее), нам необходимо разобраться базово с SQL\n",
        "\n",
        "Полезный инструмент: https://sql-ex.ru/ (пожалуйста, попрактикуйтесь на нем)\n",
        "\n",
        "А мы разберем базово этот язык запросов к таблицам (мы говорим про конкретную СУБД, а основы, которые верны везде)"
      ],
      "metadata": {
        "id": "TrjDTjWHTZPe"
      }
    },
    {
      "cell_type": "markdown",
      "source": [
        "## Структура"
      ],
      "metadata": {
        "id": "nefwxLF_ikpD"
      }
    },
    {
      "cell_type": "markdown",
      "source": [
        "Внутри SQL выделяют следущие группы запросов):\n",
        "\n",
        "* DDL (Data Definition Language) - для создания/изменения/удаления таблиц\n",
        "\n",
        "* DML (Data Mannipulation Language) - для манипуляции данными\n",
        "\n",
        "* DCL (Data Control Language) - для доступов к данным\n",
        "\n",
        "* TCL (Transaction Control Language) - управление транзакциями\n",
        "\n",
        "Мы поговорим только про DDL и DML (потому что это самое важное)"
      ],
      "metadata": {
        "id": "SzaOyksMin7P"
      }
    },
    {
      "cell_type": "markdown",
      "source": [
        "### DDL"
      ],
      "metadata": {
        "id": "ZHS-Ij87jTpg"
      }
    },
    {
      "cell_type": "markdown",
      "source": [
        "Есть 3 команды:\n",
        "\n",
        "* CREATE - создай таблицу\n",
        "\n",
        "```\n",
        "CREATE TABLE [Name](\n",
        "    [column_1] <type>,\n",
        "    [column_2] <type>,\n",
        "    ...\n",
        ") - создай таблицу с названием Name с такими колонками\n",
        "```\n",
        "\n",
        "* ALTER - измени таблицу\n",
        "\n",
        "```\n",
        "ALTER TABLE [Name] ALTER COLUMN [column] <type> - поменяй в таблице колонку, поставив нужный тип\n",
        "```\n",
        "\n",
        "* DROP - удали таблицу\n",
        "\n",
        "```\n",
        "DROP TABLE [Name]- удали таблицу Name\n",
        "\n",
        "```"
      ],
      "metadata": {
        "id": "GC_jQrcSjWSa"
      }
    },
    {
      "cell_type": "markdown",
      "source": [
        "### DML"
      ],
      "metadata": {
        "id": "ZZeXoh0zkMdC"
      }
    },
    {
      "cell_type": "markdown",
      "source": [
        "Структура запроса:\n",
        "\n",
        "```\n",
        "SELECT <columns>\n",
        "FROM <table>\n",
        "[WHERE]\n",
        "[GROUP BY]\n",
        "[HAVING]\n",
        "[ORDER BY]\n",
        "[LIMIT] \n",
        "```"
      ],
      "metadata": {
        "id": "3W2Foo4fTxfQ"
      }
    },
    {
      "cell_type": "markdown",
      "source": [
        "### Join the Navy!"
      ],
      "metadata": {
        "id": "VRRSwMMaouFQ"
      }
    },
    {
      "cell_type": "markdown",
      "source": [
        "```\n",
        "select\n",
        "    a.<>,\n",
        "    b.<>\n",
        "from table_1 as a\n",
        "[LEFT|RIGHT|INNER] JOIN table_2 as b\n",
        "ON a.<> = b.<>\n",
        "```"
      ],
      "metadata": {
        "id": "XDo4wypQoyob"
      }
    },
    {
      "cell_type": "markdown",
      "source": [
        "# Птица дня"
      ],
      "metadata": {
        "id": "MDmSHBB3TP2f"
      }
    },
    {
      "cell_type": "markdown",
      "source": [
        "![](https://s.mediasalt.ru/images/245/245114/original.jpg)"
      ],
      "metadata": {
        "id": "lI9rp0MDp6-a"
      }
    },
    {
      "cell_type": "markdown",
      "source": [
        "Это индийский медоуказчик. По его названию в целом можно понять, что он делает. Правильно, громко кричит для того, чтобы приманить людей или медоедов к ульям. приведя к нужному месту, они начинают летать с дерева на дерево в ожидании, и когда кто-то разграбит улей и выведет всех пчел, она питается сотами (вообще удивительно, очень мало кто ест пчелиные соты)\n",
        "\n",
        "При этом полностью им доверять не следует: они кричат и приводят не только к пчелам, но и к леопардам, к собакам, к логову и так далее (почему - да непонятно). Как вариант - они надеятся потом насладиться червями от убитой туши. Но вообще считается, что это такой вариант коэволюции с человеком, который пользовался их услугами еще 2млн лет назад\n",
        "\n",
        "По-латински они зовутся максимально просто - Indicator. А еще они как кукушки - кладут яйца к другим птицам"
      ],
      "metadata": {
        "id": "gCc6AZ9Np-X1"
      }
    }
  ]
}