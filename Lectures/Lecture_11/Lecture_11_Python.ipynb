{
  "nbformat": 4,
  "nbformat_minor": 0,
  "metadata": {
    "colab": {
      "provenance": []
    },
    "kernelspec": {
      "name": "python3",
      "display_name": "Python 3"
    },
    "language_info": {
      "name": "python"
    }
  },
  "cells": [
    {
      "cell_type": "markdown",
      "source": [
        "# Продвинутый Python, лекция 11\n",
        "\n",
        "**Лектор:** Петров Тимур\n",
        "\n",
        "**Семинаристы:** Петров Тимур, Коган Александра, Романченко Полина\n",
        "\n",
        "**Spoiler Alert:** в рамках курса нельзя изучить ни одну из тем от и до досконально (к сожалению, на это требуется больше времени, чем даже 3 часа в неделю). Но мы попробуем рассказать столько, сколько возможно :)\n",
        "\n",
        "Так как мы проходим веб-разработку, то это явно не та вещь, которая делается через colab. Поэтому здесь написан просто код, который можно воспроизвести локально"
      ],
      "metadata": {
        "id": "L5GFj8DsEceo"
      }
    },
    {
      "cell_type": "markdown",
      "source": [
        "## Деплоим страницу с приложением!"
      ],
      "metadata": {
        "id": "C585_l3lEdty"
      }
    },
    {
      "cell_type": "markdown",
      "source": [
        "Поскольку в нашем текущем мире вариантов осталось не так много, то будем использовать Ya.Cloud (он платный, но есть пробный период с кэшем в размере 4к рублей, нам подойдет)\n",
        "\n",
        "Используем ВМ для [Django](https://cloud.yandex.ru/marketplace/products/yc/django-3), создаем все, что необходимо (указываем ключи etc):\n",
        "\n",
        "```\n",
        "ssh-keygen -t ed25519\n",
        "```\n",
        "\n",
        "Вставляем и наслаждаемся жизнью! Теперь коннект делается через:\n",
        "\n",
        "```\n",
        "ssh -i <your private key> <name>@<public port>\n",
        "```\n",
        "\n",
        "(Для удобства можно подключиться внутри PyCharm)\n",
        "\n",
        "И все, дальше внутри можно делать свой собственный проект внутри)"
      ],
      "metadata": {
        "id": "T5gzg7_evn08"
      }
    },
    {
      "cell_type": "markdown",
      "source": [
        "## Dash"
      ],
      "metadata": {
        "id": "zjS8TMhZEhq2"
      }
    },
    {
      "cell_type": "markdown",
      "source": [
        "Говоря про веб-разработку нельзя забывать, что очень часто веб-страницы вам нужны для аналитики, чтобы показать всем красивые дашборды etc. Так как это очень частый запрос, то для этого есть отдельные бибилиотеки для визуализации. Мы разберем 2 бибилотеки: Dash и StreamLit"
      ],
      "metadata": {
        "id": "GxHDaWZ8GDJl"
      }
    },
    {
      "cell_type": "markdown",
      "source": [
        "Что такое Dash? Напомним эволюцию развития визализаций:\n",
        "\n",
        "* Matplotlib - база\n",
        "\n",
        "* Seaborn - скомпоновали более красиво и просто\n",
        "\n",
        "* Plotly - добавили красивую прорисовку и JS\n",
        "\n",
        "* Dash - добавили в Plotly еще и Flask!"
      ],
      "metadata": {
        "id": "CCaXSYI7Gfc_"
      }
    },
    {
      "cell_type": "markdown",
      "source": [
        "То есть мы с вами знаем обе части Dash, так что понимание, как оно работает, не должно составить труда"
      ],
      "metadata": {
        "id": "qxpDLBnOG4ab"
      }
    },
    {
      "cell_type": "code",
      "source": [
        "!pip install dash\n",
        "!pip install jupyter-dash"
      ],
      "metadata": {
        "id": "DIXHo5aYEmxM"
      },
      "execution_count": null,
      "outputs": []
    },
    {
      "cell_type": "code",
      "source": [
        "from dash import Dash, html, dcc\n",
        "import plotly.express as px\n",
        "import pandas as pd\n",
        "\n",
        "app = Dash(__name__) # Строим дашик (знакомый синтаксис, не правда ли?)\n",
        "\n",
        "colors = {\n",
        "    'background': '#111111',\n",
        "    'text': '#7FDBFF'\n",
        "}\n",
        "\n",
        "\n",
        "df = pd.DataFrame({\n",
        "    \"Fruit\": [\"Apples\", \"Oranges\", \"Bananas\", \"Apples\", \"Oranges\", \"Bananas\"],\n",
        "    \"Amount\": [4, 1, 2, 2, 4, 5],\n",
        "    \"City\": [\"SF\", \"SF\", \"SF\", \"Montreal\", \"Montreal\", \"Montreal\"]\n",
        "})\n",
        "\n",
        "\n",
        "fig = px.bar(df, x=\"Fruit\", y=\"Amount\", color=\"City\", barmode=\"group\") #опа, Plotly\n",
        "\n",
        "fig.update_layout(\n",
        "    plot_bgcolor=colors['background'],\n",
        "    paper_bgcolor=colors['background'],\n",
        "    font_color=colors['text']\n",
        ")\n",
        "\n",
        "app.layout = html.Div(children=[\n",
        "    html.H1(children='Hello Dash', style={'textAlign': 'center', 'color': '#7FDBFF'}),\n",
        "\n",
        "    html.Div(children='''\n",
        "        Dash: A web application framework for your data.\n",
        "    '''),\n",
        "\n",
        "    dcc.Graph(\n",
        "        id='example-graph',\n",
        "        figure=fig\n",
        "    )\n",
        "])\n",
        "\n",
        "if __name__ == '__main__':\n",
        "    app.run_server(debug=True) #запускаем сервер"
      ],
      "metadata": {
        "id": "jlfQjKFIFFbu"
      },
      "execution_count": null,
      "outputs": []
    },
    {
      "cell_type": "markdown",
      "source": [
        "Что здесь видим?\n",
        "\n",
        "Часть из Plotly, связанной с отрисовкой графиков\n",
        "\n",
        "Часть из Flask, свзяанной с запуском приложения\n",
        "\n",
        "Но есть еще одна часть - [html](https://dash.plotly.com/dash-html-components) и [dcc](https://dash.plotly.com/dash-core-components) (эта часть отвечает за то, чтобы сделать наш добрый HTML-документ)\n",
        "\n",
        "В данном случае html - это часть, которая имеет все необходимые тэги "
      ],
      "metadata": {
        "id": "7jIxndutJ0Zp"
      }
    },
    {
      "cell_type": "markdown",
      "source": [
        "Внутри элементов HTML есть различные аргументы (которых достаточно много отдельных, тут лушче читать документацию), но основные, которые есть везде:\n",
        "\n",
        "* children - что находится внутри (то есть отвечает за вложенность структуры)\n",
        "\n",
        "* style - стиль (передаем как будто css-ка)\n",
        "\n",
        "* id - параметр, нужный для callback"
      ],
      "metadata": {
        "id": "QkVedipwS0AT"
      }
    },
    {
      "cell_type": "markdown",
      "source": [
        "DCC - часть, которая необходима для отображения Plotly частей (будь то слайдер, график, выбор вариантов etc)"
      ],
      "metadata": {
        "id": "bne6evcsTQaC"
      }
    },
    {
      "cell_type": "markdown",
      "source": [
        "### Callback"
      ],
      "metadata": {
        "id": "q91J4haYTjlv"
      }
    },
    {
      "cell_type": "markdown",
      "source": [
        "Мы явно хотим иметь вские поля для воода, селекторы etc и их каким-то образом отрабатывать, что необходимо отдельно прописывать. Это делается с помощью callback (по существу, это функции, которые будут отрабаывать изменения через наши POST-запросы)\n",
        "\n",
        "Давайте попробуем такой написать:"
      ],
      "metadata": {
        "id": "kygX0HdzTmGi"
      }
    },
    {
      "cell_type": "code",
      "source": [
        "from dash import Dash, dcc, html, Input, Output\n",
        "\n",
        "## Часть с самим отрисовыванием\n",
        "\n",
        "app = Dash(__name__)\n",
        "\n",
        "app.layout = html.Div([\n",
        "    html.H6(\"Change the value in the text box to see callbacks in action!\"),\n",
        "    html.Div([\n",
        "        \"Input: \",\n",
        "        dcc.Input(id='my-input', value='initial value', type='text')\n",
        "    ]),\n",
        "    html.Br(),\n",
        "    html.Div(id='my-output'),\n",
        "\n",
        "])\n",
        "\n",
        "## Наш Callback\n",
        "\n",
        "@app.callback(\n",
        "    Output(component_id='my-output', component_property='children'), ## Куда выводить\n",
        "    Input(component_id='my-input', component_property='value') ## Откуда брать\n",
        ")\n",
        "def update_output_div(input_value):\n",
        "    return f'Output: {input_value}' ## Мы вовзращаем некоторую строку, которая будет вставлена в компонент с id = my-output в children\n",
        "\n",
        "\n",
        "if __name__ == '__main__':\n",
        "    app.run_server(debug=True)"
      ],
      "metadata": {
        "id": "lAczQxwaT_Jt"
      },
      "execution_count": null,
      "outputs": []
    },
    {
      "cell_type": "markdown",
      "source": [
        "Но в данном случае все достаточно просто. Мы никаким образом не меняли ничего в данных etc. Давайте попробуем сделать все то же самое, но только уже с данными:"
      ],
      "metadata": {
        "id": "iV8JFgcSUrZi"
      }
    },
    {
      "cell_type": "code",
      "source": [
        "from dash import Dash, dcc, html, Input, Output\n",
        "import plotly.express as px\n",
        "\n",
        "import pandas as pd\n",
        "\n",
        "df = pd.read_csv('https://raw.githubusercontent.com/plotly/datasets/master/gapminderDataFiveYear.csv')\n",
        "\n",
        "app = Dash(__name__)\n",
        "\n",
        "app.layout = html.Div([\n",
        "    dcc.Graph(id='graph-with-slider'),\n",
        "    dcc.Slider(\n",
        "        df['year'].min(),\n",
        "        df['year'].max(),\n",
        "        step=None,\n",
        "        value=df['year'].min(),\n",
        "        marks={str(year): str(year) for year in df['year'].unique()},\n",
        "        id='year-slider'\n",
        "    )\n",
        "])\n",
        "\n",
        "\n",
        "@app.callback(\n",
        "    Output('graph-with-slider', 'figure'), # говорим, что меняем фигуру (то есть прорисовываем ее заново)\n",
        "    Input('year-slider', 'value'))\n",
        "def update_figure(selected_year):\n",
        "    filtered_df = df[df.year == selected_year]\n",
        "\n",
        "    fig = px.scatter(filtered_df, x=\"gdpPercap\", y=\"lifeExp\",\n",
        "                     size=\"pop\", color=\"continent\", hover_name=\"country\",\n",
        "                     log_x=True, size_max=55)\n",
        "\n",
        "    fig.update_layout(transition_duration=500)\n",
        "    return fig\n",
        "\n",
        "\n",
        "if __name__ == '__main__':\n",
        "    app.run_server(debug=True)"
      ],
      "metadata": {
        "id": "2HNeumqPU0ip"
      },
      "execution_count": null,
      "outputs": []
    },
    {
      "cell_type": "markdown",
      "source": [
        "Если у нас несколько селекторов, то надо прописывать несколько input на каждое значение. Логика простая:\n",
        "\n",
        "* есть данные, нам их надо поменять\n",
        "\n",
        "* забираем изменения через Input (аргументы идут в порядке вызова Input и меняем. Аналогично с Output - перечисляем и возвращаем в том же порядке, в котором давали Output)\n",
        "\n",
        "Как можно понять, здесь уже можно спокойно делать несколько разных фильтров на один и тот же график)"
      ],
      "metadata": {
        "id": "zWRdJhZwivIY"
      }
    },
    {
      "cell_type": "markdown",
      "source": [
        "### Callback от других графиков"
      ],
      "metadata": {
        "id": "jqJe3p6hkoGM"
      }
    },
    {
      "cell_type": "markdown",
      "source": [
        "А теперь допустим, что я хочу что-то выбрать на одном графике и чтобы остальные графики обновлялись при этом (допустим, тыкаем на точку, чтобы получить информацию на других графиках)\n",
        "\n",
        "Тоже можно!"
      ],
      "metadata": {
        "id": "XITOqSVGlbAp"
      }
    },
    {
      "cell_type": "code",
      "source": [
        "from dash import Dash, html, dcc, Input, Output\n",
        "import pandas as pd\n",
        "import plotly.express as px\n",
        "\n",
        "external_stylesheets = ['https://codepen.io/chriddyp/pen/bWLwgP.css']\n",
        "\n",
        "app = Dash(__name__, external_stylesheets=external_stylesheets)\n",
        "\n",
        "df = pd.read_csv('https://plotly.github.io/datasets/country_indicators.csv')\n",
        "\n",
        "\n",
        "app.layout = html.Div([\n",
        "    html.Div([\n",
        "\n",
        "        html.Div([\n",
        "            dcc.Dropdown(\n",
        "                df['Indicator Name'].unique(),\n",
        "                'Fertility rate, total (births per woman)',\n",
        "                id='crossfilter-xaxis-column',\n",
        "            ),\n",
        "            dcc.RadioItems(\n",
        "                ['Linear', 'Log'],\n",
        "                'Linear',\n",
        "                id='crossfilter-xaxis-type',\n",
        "                labelStyle={'display': 'inline-block', 'marginTop': '5px'}\n",
        "            )\n",
        "        ],\n",
        "        style={'width': '49%', 'display': 'inline-block'}),\n",
        "\n",
        "        html.Div([\n",
        "            dcc.Dropdown(\n",
        "                df['Indicator Name'].unique(),\n",
        "                'Life expectancy at birth, total (years)',\n",
        "                id='crossfilter-yaxis-column'\n",
        "            ),\n",
        "            dcc.RadioItems(\n",
        "                ['Linear', 'Log'],\n",
        "                'Linear',\n",
        "                id='crossfilter-yaxis-type',\n",
        "                labelStyle={'display': 'inline-block', 'marginTop': '5px'}\n",
        "            )\n",
        "        ], style={'width': '49%', 'float': 'right', 'display': 'inline-block'})\n",
        "    ], style={\n",
        "        'padding': '10px 5px'\n",
        "    }),\n",
        "\n",
        "    html.Div([\n",
        "        dcc.Graph(\n",
        "            id='crossfilter-indicator-scatter',\n",
        "            hoverData={'points': [{'customdata': 'Japan'}]}\n",
        "        )\n",
        "    ], style={'width': '49%', 'display': 'inline-block', 'padding': '0 20'}),\n",
        "    html.Div([\n",
        "        dcc.Graph(id='x-time-series'),\n",
        "        dcc.Graph(id='y-time-series'),\n",
        "    ], style={'display': 'inline-block', 'width': '49%'}),\n",
        "\n",
        "    html.Div(dcc.Slider(\n",
        "        df['Year'].min(),\n",
        "        df['Year'].max(),\n",
        "        step=None,\n",
        "        id='crossfilter-year--slider',\n",
        "        value=df['Year'].max(),\n",
        "        marks={str(year): str(year) for year in df['Year'].unique()}\n",
        "    ), style={'width': '49%', 'padding': '0px 20px 20px 20px'})\n",
        "])\n",
        "\n",
        "\n",
        "@app.callback(\n",
        "    Output('crossfilter-indicator-scatter', 'figure'),\n",
        "    Input('crossfilter-xaxis-column', 'value'),\n",
        "    Input('crossfilter-yaxis-column', 'value'),\n",
        "    Input('crossfilter-xaxis-type', 'value'),\n",
        "    Input('crossfilter-yaxis-type', 'value'),\n",
        "    Input('crossfilter-year--slider', 'value'))\n",
        "def update_graph(xaxis_column_name, yaxis_column_name,\n",
        "                 xaxis_type, yaxis_type,\n",
        "                 year_value):\n",
        "    dff = df[df['Year'] == year_value]\n",
        "\n",
        "    fig = px.scatter(x=dff[dff['Indicator Name'] == xaxis_column_name]['Value'],\n",
        "            y=dff[dff['Indicator Name'] == yaxis_column_name]['Value'],\n",
        "            hover_name=dff[dff['Indicator Name'] == yaxis_column_name]['Country Name']\n",
        "            )\n",
        "\n",
        "    fig.update_traces(customdata=dff[dff['Indicator Name'] == yaxis_column_name]['Country Name'])\n",
        "\n",
        "    fig.update_xaxes(title=xaxis_column_name, type='linear' if xaxis_type == 'Linear' else 'log')\n",
        "\n",
        "    fig.update_yaxes(title=yaxis_column_name, type='linear' if yaxis_type == 'Linear' else 'log')\n",
        "\n",
        "    fig.update_layout(margin={'l': 40, 'b': 40, 't': 10, 'r': 0}, hovermode='closest')\n",
        "\n",
        "    return fig\n",
        "\n",
        "\n",
        "def create_time_series(dff, axis_type, title):\n",
        "\n",
        "    fig = px.scatter(dff, x='Year', y='Value')\n",
        "\n",
        "    fig.update_traces(mode='lines+markers')\n",
        "\n",
        "    fig.update_xaxes(showgrid=False)\n",
        "\n",
        "    fig.update_yaxes(type='linear' if axis_type == 'Linear' else 'log')\n",
        "\n",
        "    fig.add_annotation(x=0, y=0.85, xanchor='left', yanchor='bottom',\n",
        "                       xref='paper', yref='paper', showarrow=False, align='left',\n",
        "                       text=title)\n",
        "\n",
        "    fig.update_layout(height=225, margin={'l': 20, 'b': 30, 'r': 10, 't': 10})\n",
        "\n",
        "    return fig\n",
        "\n",
        "\n",
        "@app.callback(\n",
        "    Output('x-time-series', 'figure'),\n",
        "    Input('crossfilter-indicator-scatter', 'hoverData'),\n",
        "    Input('crossfilter-xaxis-column', 'value'),\n",
        "    Input('crossfilter-xaxis-type', 'value'))\n",
        "def update_y_timeseries(hoverData, xaxis_column_name, axis_type):\n",
        "    country_name = hoverData['points'][0]['customdata']\n",
        "    dff = df[df['Country Name'] == country_name]\n",
        "    dff = dff[dff['Indicator Name'] == xaxis_column_name]\n",
        "    title = '<b>{}</b><br>{}'.format(country_name, xaxis_column_name)\n",
        "    return create_time_series(dff, axis_type, title)\n",
        "\n",
        "\n",
        "@app.callback(\n",
        "    Output('y-time-series', 'figure'),\n",
        "    Input('crossfilter-indicator-scatter', 'hoverData'),\n",
        "    Input('crossfilter-yaxis-column', 'value'),\n",
        "    Input('crossfilter-yaxis-type', 'value'))\n",
        "def update_x_timeseries(hoverData, yaxis_column_name, axis_type):\n",
        "    dff = df[df['Country Name'] == hoverData['points'][0]['customdata']]\n",
        "    dff = dff[dff['Indicator Name'] == yaxis_column_name]\n",
        "    return create_time_series(dff, axis_type, yaxis_column_name)\n",
        "\n",
        "\n",
        "if __name__ == '__main__':\n",
        "    app.run_server(debug=True)"
      ],
      "metadata": {
        "id": "t4qu8rdWltk5"
      },
      "execution_count": null,
      "outputs": []
    },
    {
      "cell_type": "markdown",
      "source": [
        "## StreamLit"
      ],
      "metadata": {
        "id": "p13CqynSEkmi"
      }
    },
    {
      "cell_type": "markdown",
      "source": [
        "Но можно сделать шаг вперед и отойти от Plotly и Dash (почему? Потому что как минимум полная мощность Dash является платной, money-money) и перейти к более мощным и SOTA инструментам, например, [StreamLit](https://streamlit.io/)\n",
        "\n",
        "StreamLit - это уже open-source бибилотека, которая работает примерно со всем и подается под соусом \"вам вообще веб-разработку знать не надо, все готово из-под коробки\""
      ],
      "metadata": {
        "id": "6PVrwpvOms7O"
      }
    },
    {
      "cell_type": "code",
      "source": [
        "!pip install streamlit\n",
        "!streamlit hello"
      ],
      "metadata": {
        "id": "Z9iumTfSEnb4"
      },
      "execution_count": null,
      "outputs": []
    },
    {
      "cell_type": "markdown",
      "source": [
        "По базовому демо можете видеть, что уже внутри Streamlit зашито и насколько данный инструмент мощный 🦾"
      ],
      "metadata": {
        "id": "PNecCOuppQXJ"
      }
    },
    {
      "cell_type": "markdown",
      "source": [
        "### Графики"
      ],
      "metadata": {
        "id": "1qOzaidhsCJl"
      }
    },
    {
      "cell_type": "markdown",
      "source": [
        "Изобразим некоторое число основных графиков, которые можно сделать:\n",
        "\n",
        "* write() - уникальный инструмент в жанре \"нарисуй вот это\". Принимает в себя примерно все, что угодно (но он сам решает как и что нарисовать, поэтому не всегда вариант)\n",
        "\n",
        "* dataframe() - датафрейм\n",
        "\n",
        "* table() - статичная таблица\n",
        "\n",
        "* line_chart() - линия\n",
        "\n",
        "* map() - карта"
      ],
      "metadata": {
        "id": "9DN3z2ampyxy"
      }
    },
    {
      "cell_type": "code",
      "source": [
        "import streamlit as st\n",
        "import numpy as np\n",
        "import pandas as pd\n",
        "\n",
        "dataframe = np.random.randn(10, 20)\n",
        "\n",
        "st.dataframe(dataframe)\n",
        "\n",
        "dataframe = pd.DataFrame(\n",
        "    np.random.randn(10, 20),\n",
        "    columns=('col %d' % i for i in range(20)))\n",
        "\n",
        "st.dataframe(dataframe.style.highlight_max(axis=0))\n",
        "\n",
        "dataframe = pd.DataFrame(\n",
        "    np.random.randn(10, 20),\n",
        "    columns=('col %d' % i for i in range(20)))\n",
        "st.table(dataframe)\n",
        "\n",
        "chart_data = pd.DataFrame(\n",
        "     np.random.randn(20, 3),\n",
        "     columns=['a', 'b', 'c'])\n",
        "\n",
        "st.line_chart(chart_data)\n",
        "\n",
        "map_data = pd.DataFrame(\n",
        "    np.random.randn(1000, 2) / [50, 50] + [37.76, -122.4],\n",
        "    columns=['lat', 'lon'])\n",
        "\n",
        "st.map(map_data)"
      ],
      "metadata": {
        "id": "sVwB9T4VriEF"
      },
      "execution_count": null,
      "outputs": []
    },
    {
      "cell_type": "markdown",
      "source": [
        "### Виджеты"
      ],
      "metadata": {
        "id": "x_9N6buGsAGT"
      }
    },
    {
      "cell_type": "markdown",
      "source": [
        "Какие есть виджеты?\n",
        "\n",
        "* slider() - слайдеры\n",
        "\n",
        "* text_input() - ввод текста\n",
        "\n",
        "* checkbox() - галочка\n",
        "\n",
        "* selectbox() - выбор варианта\n",
        "\n",
        "* radio() - выбор варианта (но уже другого вида)"
      ],
      "metadata": {
        "id": "lpQbGcn8sTJP"
      }
    },
    {
      "cell_type": "code",
      "source": [
        "import streamlit as st\n",
        "import numpy as np\n",
        "import pandas as pd\n",
        "\n",
        "x = st.slider('x')\n",
        "st.write(x, 'squared is', x * x)\n",
        "\n",
        "st.text_input(\"Your name\", key=\"name\")\n",
        "\n",
        "if st.checkbox('Show dataframe'):\n",
        "    chart_data = pd.DataFrame(\n",
        "       np.random.randn(20, 3),\n",
        "       columns=['a', 'b', 'c'])\n",
        "    st.write(chart_data)\n",
        "\n",
        "#st.session_state.name - можно обратиться к выбору\n",
        "\n",
        "df = pd.DataFrame({\n",
        "    'first column': [1, 2, 3, 4],\n",
        "    'second column': [10, 20, 30, 40]\n",
        "    })\n",
        "\n",
        "option = st.selectbox(\n",
        "    'Which number do you like best?',\n",
        "     df['first column'])"
      ],
      "metadata": {
        "id": "asG5nHB4syO_"
      },
      "execution_count": null,
      "outputs": []
    },
    {
      "cell_type": "markdown",
      "source": [
        "### Layout"
      ],
      "metadata": {
        "id": "yldgbhuttVGF"
      }
    },
    {
      "cell_type": "markdown",
      "source": [
        "В демо мы видели часть слева. Это называется sidebar(), в который можно выносить все, что вам необходимо:"
      ],
      "metadata": {
        "id": "ZcD-9udYtXfJ"
      }
    },
    {
      "cell_type": "code",
      "source": [
        "# Add a selectbox to the sidebar:\n",
        "add_selectbox = st.sidebar.selectbox(\n",
        "    'How would you like to be contacted?',\n",
        "    ('Email', 'Home phone', 'Mobile phone')\n",
        ")\n",
        "\n",
        "# Add a slider to the sidebar:\n",
        "add_slider = st.sidebar.slider(\n",
        "    'Select a range of values',\n",
        "    0.0, 100.0, (25.0, 75.0)\n",
        ")"
      ],
      "metadata": {
        "id": "oMNyoWR2t6Ia"
      },
      "execution_count": null,
      "outputs": []
    },
    {
      "cell_type": "markdown",
      "source": [
        "Также мы же не всегда хотим тупую линеное отображение, иногда хотим побить на колонки, а это можно сделать вот так с помощью ```columns()```:"
      ],
      "metadata": {
        "id": "cxAq_nJdvaUW"
      }
    },
    {
      "cell_type": "code",
      "source": [
        "left_column, right_column = st.columns(2)\n",
        "# You can use a column just like st.sidebar:\n",
        "left_column.button('Press me!')\n",
        "\n",
        "# Or even better, call Streamlit functions inside a \"with\" block:\n",
        "with right_column:\n",
        "    chosen = st.radio(\n",
        "        'Sorting hat',\n",
        "        (\"Gryffindor\", \"Ravenclaw\", \"Hufflepuff\", \"Slytherin\"))\n",
        "    st.write(f\"You are in {chosen} house!\")"
      ],
      "metadata": {
        "id": "r5GX3CukvhYZ"
      },
      "execution_count": null,
      "outputs": []
    },
    {
      "cell_type": "markdown",
      "source": [
        "### Странички!"
      ],
      "metadata": {
        "id": "pfPHqsFGwBM6"
      }
    },
    {
      "cell_type": "markdown",
      "source": [
        "Внутри одного приложения можно даже сделать несколько страничек!\n",
        "\n",
        "Для этого надо создать отдельно папку pages и прописать новые страницы (таким образом они будут отображаться в sidebar, названия идут по названию скриптов страницы)"
      ],
      "metadata": {
        "id": "1y7w56jHwD4M"
      }
    },
    {
      "cell_type": "markdown",
      "source": [
        "## Попугай дня"
      ],
      "metadata": {
        "id": "o9iBqxPEzoJr"
      }
    },
    {
      "cell_type": "markdown",
      "source": [
        "![](https://upload.wikimedia.org/wikipedia/commons/f/f6/Naturalis_Biodiversity_Center_-_ZMA.AVES.3159_-_Conuropsis_carolinensis_Linnaeus%2C_1758_-_Psittacidae_-_skin_specimen.jpeg)"
      ],
      "metadata": {
        "id": "GUjHkq9azzcp"
      }
    },
    {
      "cell_type": "markdown",
      "source": [
        "Это каролингский попугай, почти единственный попугай-эндемик США, к сожалению, вымерший в первую половину XX века. Возможно единственный ядовитый попугай (потому что при поедании его трупа все крысы и прочие погибали, связано в тем, что этот попугай ел ядовитый дурнишник)\n",
        "\n",
        "В дикой природе он считается вымершим к началу XX века, при этом полностью вымер он только в 1918 году (в зоопарке Цинциннати оставались 2 попугая и погибли, скорее всего, из-за слишком холодной зимы).\n",
        "\n",
        "Последнего попугая звали Инкас, причем он умер примерно в то же время, что и Марта (последний странствующий голубь). Что более всего странно, что поскольку это был последний погибший попугай, то его тело должно было быть заморожено в Смитсоновском музее. Но он потерялся и никто вообще не знает, где его тело\n",
        "\n",
        "И вместе с Мартой эти птицы стали одним из символов угрозы вымирания животных, находящихся вокруг нас"
      ],
      "metadata": {
        "id": "zpIIEXRoz3Wq"
      }
    }
  ]
}