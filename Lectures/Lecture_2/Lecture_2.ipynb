{
 "cells": [
  {
   "cell_type": "markdown",
   "metadata": {
    "id": "vAh8lXAmn2oS"
   },
   "source": [
    "#Продвинутый Python, лекция 2\n",
    "\n",
    "**Лектор:** Петров Тимур\n",
    "\n",
    "**Семинаристы:** Петров Тимур, Коган Александра, Романченко Полина\n",
    "\n",
    "**Spoiler Alert:** в рамках курса нельзя изучить ни одну из тем от и до досконально (к сожалению, на это требуется больше времени, чем даже 3 часа в неделю). Но мы попробуем рассказать столько, сколько возможно :)"
   ]
  },
  {
   "cell_type": "markdown",
   "metadata": {
    "id": "N_9bVOWSoMJp"
   },
   "source": [
    "Итак, поговорили про основы, которые нам нужны не из Python, теперь пора начинать погружения в сам Python!\n",
    "\n",
    "И сегодня мы начнем с некоторого must-have для аналитики/machine laearning и еще много чего:\n",
    "\n",
    "* numpy\n",
    "\n",
    "* pandas\n",
    "\n",
    "* scipy\n",
    "\n",
    "* datetime/dateutil (на семинаре сразу в практике)\n",
    "\n",
    "* jax (на семинаре сразу с практикой)"
   ]
  },
  {
   "cell_type": "markdown",
   "metadata": {
    "id": "IWz-ra4Aok4j"
   },
   "source": [
    "Поехали!\n",
    "\n",
    "![](https://i.pinimg.com/originals/77/18/b2/7718b2f6c858e331b76d6d0b8b01309b.gif)"
   ]
  },
  {
   "cell_type": "markdown",
   "metadata": {
    "id": "hRY-1xjIqwnM"
   },
   "source": [
    "Импортируем все, что нам будет нужно:"
   ]
  },
  {
   "cell_type": "code",
   "execution_count": 149,
   "metadata": {
    "colab": {
     "base_uri": "https://localhost:8080/"
    },
    "id": "76JyZXBqYWrE",
    "outputId": "49d0f09a-f4a9-4ea3-ca62-2172543224b4"
   },
   "outputs": [
    {
     "name": "stdout",
     "output_type": "stream",
     "text": [
      "Looking in indexes: https://pypi.org/simple, https://us-python.pkg.dev/colab-wheels/public/simple/\n",
      "Requirement already satisfied: python-dateutil in /usr/local/lib/python3.7/dist-packages (2.8.2)\n",
      "Requirement already satisfied: six>=1.5 in /usr/local/lib/python3.7/dist-packages (from python-dateutil) (1.15.0)\n"
     ]
    }
   ],
   "source": [
    "!pip install python-dateutil"
   ]
  },
  {
   "cell_type": "code",
   "execution_count": 150,
   "metadata": {
    "id": "dbqcMLDwqzpB"
   },
   "outputs": [],
   "source": [
    "import numpy as np\n",
    "import pandas as pd\n",
    "import numpy.linalg as lin\n",
    "import scipy.stats as st\n",
    "import scipy.sparse as sp\n",
    "import matplotlib.pyplot as plt\n",
    "import dateutil as dt\n",
    "import datetime as datetime"
   ]
  },
  {
   "cell_type": "markdown",
   "metadata": {
    "id": "vrsgj1qAoj1n"
   },
   "source": [
    "## Numpy"
   ]
  },
  {
   "cell_type": "markdown",
   "metadata": {
    "id": "oHz8RCn1zE6D"
   },
   "source": [
    "### Что это такое?"
   ]
  },
  {
   "cell_type": "markdown",
   "metadata": {
    "id": "1YW10vcgpGJz"
   },
   "source": [
    "Что такое Numpy? Это библиотека, которая позволяет достаточно быстро выполнять различные операции с массивами (многомерными и не очень): перемножение, сложение, преобразования, базовый анализ данных\n",
    "\n",
    "Вся работа в массивами в Numpy гораздо проще и быстрее, чем с обычными списками в Python. Давайте проверим это на простом примере\n",
    "\n",
    "Достаточно часто в линале вам надо было перемножать матрицы, при этом внутри Python нет встроенного перемножения матриц. Без прочих оптимизаций типа алгоритма Штрассена и так далее, давайте попробуем перемножить две матрицы в чистом Python и с помощью numpy и сравним время"
   ]
  },
  {
   "cell_type": "code",
   "execution_count": 8,
   "metadata": {
    "id": "XPKY_-Qjqe7_"
   },
   "outputs": [],
   "source": [
    "a = [[i for i in range(50)] for j in range(50)] #возьмем матрицу a размера 50x50\n",
    "b = [[i for i in range(100)] for j in range(50)] #возьмем матрицу b размера 50x100"
   ]
  },
  {
   "cell_type": "code",
   "execution_count": 3,
   "metadata": {
    "id": "RrNkFQYdn0gJ"
   },
   "outputs": [],
   "source": [
    "## Pure Python\n",
    "def matmul_python(a,b):\n",
    "    return [[sum(ele_a*ele_b for ele_a, ele_b in zip(row_a, col_b)) \n",
    "             for col_b in list(zip(*b))] for row_a in a]"
   ]
  },
  {
   "cell_type": "code",
   "execution_count": 4,
   "metadata": {
    "id": "tFD_lYFkq6e7"
   },
   "outputs": [],
   "source": [
    "#Numpy (сделаем функцию, чтобы было честнее)\n",
    "def matmul_numpy(a, b):\n",
    "    return np.matrix(a) * np.matrix(b)"
   ]
  },
  {
   "cell_type": "code",
   "execution_count": 11,
   "metadata": {
    "colab": {
     "base_uri": "https://localhost:8080/"
    },
    "id": "MzYmQtugrQLZ",
    "outputId": "74339390-28b2-47e0-8df3-3776cb6fb4cc"
   },
   "outputs": [
    {
     "name": "stdout",
     "output_type": "stream",
     "text": [
      "CPU times: user 37 ms, sys: 782 µs, total: 37.8 ms\n",
      "Wall time: 41.4 ms\n"
     ]
    }
   ],
   "source": [
    "%%time\n",
    "\n",
    "k_python = matmul_python(a, b)"
   ]
  },
  {
   "cell_type": "code",
   "execution_count": 12,
   "metadata": {
    "colab": {
     "base_uri": "https://localhost:8080/"
    },
    "id": "TFtI-R-BrWLL",
    "outputId": "2a43052e-944b-4497-be7c-5e224844d0c9"
   },
   "outputs": [
    {
     "name": "stdout",
     "output_type": "stream",
     "text": [
      "CPU times: user 1.85 ms, sys: 0 ns, total: 1.85 ms\n",
      "Wall time: 1.86 ms\n"
     ]
    }
   ],
   "source": [
    "%%time\n",
    "\n",
    "k_numpy = matmul_numpy(a, b)"
   ]
  },
  {
   "cell_type": "code",
   "execution_count": 18,
   "metadata": {
    "colab": {
     "base_uri": "https://localhost:8080/"
    },
    "id": "aXJ85GwssAiI",
    "outputId": "e33ad5d5-2271-4e0d-845a-8219b2f524c5"
   },
   "outputs": [
    {
     "data": {
      "text/plain": [
       "True"
      ]
     },
     "execution_count": 18,
     "metadata": {},
     "output_type": "execute_result"
    }
   ],
   "source": [
    "np.alltrue(k_python == k_numpy) #проверяем, что таблицы совпадают"
   ]
  },
  {
   "cell_type": "markdown",
   "metadata": {
    "id": "S-a737S3sbVJ"
   },
   "source": [
    "Удивительно, Numpy почти в 30 раз быстрее, чем Python! За счет чего это получается?\n",
    "\n",
    "Причин несколько:\n",
    "\n",
    "* В первую очередь за счет ограничения со стороны размера: если в Numpy при создании объекта он имеет фиксированный размер (и если его надо поменять, то создастся новый объект и старый будет удален), то в Python нет фиксированного размера (что усложняет работу)\n",
    "\n",
    "* За счет фиксированного размера массивы в NumPy и хранятся в памяти по-другому:\n",
    "\n",
    "Numpy хранит данные друг за другом:\n",
    "\n",
    "![Numpy](https://miro.medium.com/max/1400/1*g1qXNq68rV4gVfY4B7TTBA.png)\n",
    "\n",
    "В свою очередь внутри Python элементы хранятся рандомно (поэтому когда вы обращаетесь к элементу, то вы обращаетесь к ссылке, ссылка идет в нужное место в памяти и находит его). С точки зрения выполнения арифметических операций это сложнее\n",
    "\n",
    "![Python](https://miro.medium.com/max/1400/1*GbfijZi4QKIGwtv4Lqj0QA.png)\n",
    "\n",
    "* А такое хранение позволяет гораздо проще итерироваться по массиву (итерация идет с помощью strides, говорящаяя, по сути, сколько бит надо пройти до следующего значения в строке/столбце)\n",
    "\n",
    "Рассмотрим ситуацию с транспонированием: это же в Python надо брать и прямо переворачивать! А вот в Numpy мы по сути не меняем хранение данных, мы просто делаем другие strides!\n",
    "\n",
    "Попробуйте запустить:\n",
    "\n",
    "```\n",
    "b = np.matrix(b)\n",
    "print(b.strides)\n",
    "print(b.T.strides)\n",
    "```\n",
    "\n",
    "И вы увидите, что поменялись strides (что говорит о том, что данные остались на местах, мы просто изменили то, как по нима ходить)\n",
    "\n",
    "* Код в Numpy - это прекомпилированный код, написанных на C (то есть мы проходим более быстрый путь от компиляции до выполнения)"
   ]
  },
  {
   "cell_type": "markdown",
   "metadata": {
    "id": "W2J0titiyqBy"
   },
   "source": [
    "В целом этого уже достаточно, чтобы использовать Numpy (а теперь представьте, если делать все преобразования с массивами в моделях ML делать с помощью чистого Python, было бы безумие)\n",
    "\n",
    "![](https://i.playground.ru/p/KD9p3ms8GKiSpcpgBcxYww.jpeg)"
   ]
  },
  {
   "cell_type": "code",
   "execution_count": 19,
   "metadata": {
    "colab": {
     "base_uri": "https://localhost:8080/"
    },
    "id": "Gkeo2d0ewG3J",
    "outputId": "5a80327c-661d-4270-8370-65850b98df26"
   },
   "outputs": [
    {
     "name": "stdout",
     "output_type": "stream",
     "text": [
      "(800, 8)\n",
      "(8, 800)\n"
     ]
    }
   ],
   "source": [
    "b = np.matrix(b)\n",
    "print(b.strides)\n",
    "print(b.T.strides)"
   ]
  },
  {
   "cell_type": "markdown",
   "metadata": {
    "id": "HCsxKs-uzIKN"
   },
   "source": [
    "### Как пользоваться?"
   ]
  },
  {
   "cell_type": "markdown",
   "metadata": {
    "id": "ud2Z1UsazMp-"
   },
   "source": [
    "А теперь о том, как пользоваться и что надо знать (будем учить матчасть)\n",
    "\n",
    "Самое полезное - [документация](https://numpy.org/doc/stable/reference/index.html) (к ней в любом случае надо будет обращаться, знать все невозможно)"
   ]
  },
  {
   "cell_type": "markdown",
   "metadata": {
    "id": "COyBZ83jzutH"
   },
   "source": [
    "#### Создание\n",
    "\n"
   ]
  },
  {
   "cell_type": "markdown",
   "metadata": {
    "id": "Nveij5AAzyTQ"
   },
   "source": [
    "Массивы в Numpy называются ndarray (n-dimensional array). Массив можно создать из любого массива в Python, можно также создать из коробки\n",
    "\n",
    "Обратите внимание: чтобы создать нормально ndarray из питоновских списков, нужно иметь в виду:\n",
    "\n",
    "* Все элементы должны быть одного типа данных (иначе вы можете создадите массив, состоящий из питоновских листов, будет грустно, никакого эффекта), не полагайтесь на ум numpy\n",
    "\n",
    "* Если у вас все ок, но при этом есть одни элемента float, другие int, то он может не привести самостоятельно все в формат float. Так что будет славно, если вы укажете тип элементов в ndarray"
   ]
  },
  {
   "cell_type": "code",
   "execution_count": 28,
   "metadata": {
    "colab": {
     "base_uri": "https://localhost:8080/"
    },
    "id": "AjmtZo7r0l9T",
    "outputId": "bc4e8b7d-8893-4e7d-c72b-7cbc6749c453"
   },
   "outputs": [
    {
     "name": "stdout",
     "output_type": "stream",
     "text": [
      "[1.  2.  2.7]\n",
      "------------------------------\n",
      "[1 2 2]\n",
      "------------------------------\n",
      "['1' '2' '2.7']\n",
      "------------------------------\n"
     ]
    },
    {
     "data": {
      "text/plain": [
       "array([['1', '2', 'str'],\n",
       "       ['1', '2', '3']], dtype='<U21')"
      ]
     },
     "execution_count": 28,
     "metadata": {},
     "output_type": "execute_result"
    }
   ],
   "source": [
    "a = [1, 2, 2.7]\n",
    "\n",
    "print(np.array(a))\n",
    "print('-' * 30)\n",
    "print(np.array(a, int)) #второй аргумент - тип. Если указать, то он попробует перевести все элементы в этот типа\n",
    "print('-' * 30)\n",
    "print(np.array(a, str)) # со строками тоже работает\n",
    "\n",
    "a = [[1, 2, 'str'], [1, 2 ,3]]\n",
    "\n",
    "print('-' * 30)\n",
    "np.array(a) # он приведет, но хотели ли вы этого?.."
   ]
  },
  {
   "cell_type": "markdown",
   "metadata": {
    "id": "GlbQCK0G16Kp"
   },
   "source": [
    "Из коробки можно создать много разных массивов, например:"
   ]
  },
  {
   "cell_type": "markdown",
   "metadata": {
    "id": "Q7_lNv_b2Fx1"
   },
   "source": [
    "* np.zeros - создать массив из нулей (аргументы - tuple размеров, опционально - тип)"
   ]
  },
  {
   "cell_type": "code",
   "execution_count": 31,
   "metadata": {
    "colab": {
     "base_uri": "https://localhost:8080/"
    },
    "id": "1G4R8Wy32Bo7",
    "outputId": "a2e46499-78d7-4dc0-a642-c65715ee00ef"
   },
   "outputs": [
    {
     "data": {
      "text/plain": [
       "array([[0, 0, 0, 0],\n",
       "       [0, 0, 0, 0],\n",
       "       [0, 0, 0, 0]])"
      ]
     },
     "execution_count": 31,
     "metadata": {},
     "output_type": "execute_result"
    }
   ],
   "source": [
    "np.zeros((3, 4), dtype=int) "
   ]
  },
  {
   "cell_type": "markdown",
   "metadata": {
    "id": "aHrTN3wy2OYW"
   },
   "source": [
    "* np.ones - создать массив из единиц (аргументы - tuple размеров, опционально - тип)"
   ]
  },
  {
   "cell_type": "code",
   "execution_count": 32,
   "metadata": {
    "colab": {
     "base_uri": "https://localhost:8080/"
    },
    "id": "AHtGlcKW2aZX",
    "outputId": "72783521-0923-4f63-edba-514bd72817ee"
   },
   "outputs": [
    {
     "data": {
      "text/plain": [
       "array([[1., 1., 1., 1.],\n",
       "       [1., 1., 1., 1.],\n",
       "       [1., 1., 1., 1.]])"
      ]
     },
     "execution_count": 32,
     "metadata": {},
     "output_type": "execute_result"
    }
   ],
   "source": [
    "np.ones((3, 4), dtype=float) "
   ]
  },
  {
   "cell_type": "markdown",
   "metadata": {
    "id": "claVuHSc2Sdw"
   },
   "source": [
    "* np.eye - создать массив из нулей и единиц на главной диагонали (аргументы - размеры матрицы, опционально - тип)\n",
    "\n",
    "* np.identity(n) - создать единичную матрицу размера $n \\times n$"
   ]
  },
  {
   "cell_type": "code",
   "execution_count": 38,
   "metadata": {
    "colab": {
     "base_uri": "https://localhost:8080/"
    },
    "id": "2sj8lJAF2dU7",
    "outputId": "f736d40b-b9eb-470f-ed56-2984dc1c00ad"
   },
   "outputs": [
    {
     "data": {
      "text/plain": [
       "array([['1', '', ''],\n",
       "       ['', '1', ''],\n",
       "       ['', '', '1'],\n",
       "       ['', '', '']], dtype='<U1')"
      ]
     },
     "execution_count": 38,
     "metadata": {},
     "output_type": "execute_result"
    }
   ],
   "source": [
    "np.eye(4, 3, dtype=str) "
   ]
  },
  {
   "cell_type": "markdown",
   "metadata": {
    "id": "1Mxc18Kb2_hA"
   },
   "source": [
    "* np.empty - создать массив из рандомных элементов"
   ]
  },
  {
   "cell_type": "code",
   "execution_count": 37,
   "metadata": {
    "colab": {
     "base_uri": "https://localhost:8080/"
    },
    "id": "IbBWyt8L3Ebe",
    "outputId": "f7812756-1edf-4c0b-deb8-798280756ef9"
   },
   "outputs": [
    {
     "data": {
      "text/plain": [
       "array([[4.277682e-316, 0.000000e+000, 0.000000e+000],\n",
       "       [0.000000e+000, 0.000000e+000, 0.000000e+000]])"
      ]
     },
     "execution_count": 37,
     "metadata": {},
     "output_type": "execute_result"
    }
   ],
   "source": [
    "np.empty((2, 3), float)"
   ]
  },
  {
   "cell_type": "markdown",
   "metadata": {
    "id": "tGx-rdyF3iY4"
   },
   "source": [
    "Функции для созданий одномерных массивов:\n",
    "\n",
    "* np.arange(a, b, step) - аналог range (получаем массив)\n",
    "\n",
    "* np.linspace(a, b, num, enndpoint=True) - получить равномерно $num$ значений от $a$ (включительно) до $b$ (до endpoint - включительно или нет) \n",
    "\n",
    "* np.logspace(a, b, num, endpoint=True, base=10.0) - получить равномерные значения по логарифмической шкале (от $base^a$ до $base^b$) "
   ]
  },
  {
   "cell_type": "code",
   "execution_count": 41,
   "metadata": {
    "colab": {
     "base_uri": "https://localhost:8080/"
    },
    "id": "J7kzEiIz6CtN",
    "outputId": "963d22d7-d8af-4869-c7a9-dfac51966884"
   },
   "outputs": [
    {
     "name": "stdout",
     "output_type": "stream",
     "text": [
      "[0 1 2 3 4 5 6 7 8 9]\n",
      "[ 0.  1.  2.  3.  4.  5.  6.  7.  8.  9. 10.]\n",
      "[ 4.          5.65685425  8.         11.3137085  16.        ]\n"
     ]
    }
   ],
   "source": [
    "print(np.arange(0, 10))\n",
    "print(np.linspace(0, 10, 11, endpoint=True))\n",
    "print(np.logspace(2, 4, 5, endpoint=True, base=2))"
   ]
  },
  {
   "cell_type": "markdown",
   "metadata": {
    "id": "gliffqjDeIbh"
   },
   "source": [
    "Теперь про другие способы создать ndarray. Очевидно, что вам часто потребуется загрузить из каких-то других источников (например, вам дали файл и сказали: делай)\n",
    "\n",
    "Варианты:\n",
    "\n",
    "* np.loadtxt(file, delimeter, skiprows=0) - возьми данные из текста, разделяются через delimeter (например, \\t - табами), скипни skiprows строк (если там вам не нужны названия, например)\n",
    "\n",
    "* np.fromstring(s, sep) - загрузи из строки\n",
    "\n",
    "* np.load(file) - загрузи из файла (работает для всяких штук типа .npy, .npz)"
   ]
  },
  {
   "cell_type": "markdown",
   "metadata": {
    "id": "LhG9AH7-beOC"
   },
   "source": [
    "#### Индексация"
   ]
  },
  {
   "cell_type": "markdown",
   "metadata": {
    "id": "tpE5CSDXbgvp"
   },
   "source": [
    "Тут все достаточно просто - обращение как в питоновских списках"
   ]
  },
  {
   "cell_type": "code",
   "execution_count": 18,
   "metadata": {
    "colab": {
     "base_uri": "https://localhost:8080/"
    },
    "id": "tFeE55oybl_N",
    "outputId": "05d0b30b-c670-4553-eff2-850152c6ab1e"
   },
   "outputs": [
    {
     "name": "stdout",
     "output_type": "stream",
     "text": [
      "0 0\n",
      "[[ 0  1  2  3  4  5  6  7  8  9 10 11 12 13]]\n",
      "[19 20]\n",
      "[[ 5  6]\n",
      " [19 20]]\n"
     ]
    }
   ],
   "source": [
    "a = np.arange(28)\n",
    "a = a.reshape(2, -1)\n",
    "print(a[0][0], a[0, 0]) # обращение к элементу, несколько вариантов\n",
    "print(a[:1]) # вывести строку\n",
    "print(a[-1][5:7]) # вывести последнюю строку и часть столбцов\n",
    "print(a[:, 5:7]) # вывести столбцы"
   ]
  },
  {
   "cell_type": "markdown",
   "metadata": {
    "id": "k2QnwLxT6eeU"
   },
   "source": [
    "#### Арифметика"
   ]
  },
  {
   "cell_type": "markdown",
   "metadata": {
    "id": "8e4gNoeO6g1h"
   },
   "source": [
    "Ну почти как везде (операции с числами считаются как операции со скаляром):\n",
    "\n",
    "* +, - - сложение-вычитание (поэлементно)\n",
    "\n",
    "* \\* - умножение (поэлементное)\n",
    "\n",
    "* .T - транспонирование\n",
    "\n",
    "* A.dot(B) - перемножение матриц"
   ]
  },
  {
   "cell_type": "code",
   "execution_count": 48,
   "metadata": {
    "colab": {
     "base_uri": "https://localhost:8080/"
    },
    "id": "22kBGRGD7Pnm",
    "outputId": "a74403ae-3db8-47e5-b866-aaae6f7aa163"
   },
   "outputs": [
    {
     "name": "stdout",
     "output_type": "stream",
     "text": [
      "[[ 1.11111111  2.22222222  3.33333333]\n",
      " [ 4.44444444  5.55555556  6.66666667]\n",
      " [ 7.77777778  8.88888889 10.        ]]\n",
      "[[ 1.11111111  2.22222222  3.33333333]\n",
      " [ 4.44444444  5.55555556  6.66666667]\n",
      " [ 7.77777778  8.88888889 10.        ]]\n",
      "[[ 2.22222222  4.44444444  6.66666667]\n",
      " [ 8.88888889 11.11111111 13.33333333]\n",
      " [15.55555556 17.77777778 20.        ]]\n",
      "[[0. 0. 0.]\n",
      " [0. 0. 0.]\n",
      " [0. 0. 0.]]\n",
      "[[  1.2345679    4.9382716   11.11111111]\n",
      " [ 19.75308642  30.86419753  44.44444444]\n",
      " [ 60.49382716  79.01234568 100.        ]]\n",
      "[[ 37.03703704  44.44444444  51.85185185]\n",
      " [ 81.48148148 100.         118.51851852]\n",
      " [125.92592593 155.55555556 185.18518519]]\n"
     ]
    }
   ],
   "source": [
    "np.random.seed = 1514 ##зададим какой-нибудь seed\n",
    "\n",
    "a = np.empty((3, 3))\n",
    "b = np.empty((3, 3))\n",
    "\n",
    "print(a)\n",
    "print(b)\n",
    "print(a + b)\n",
    "print(a - b)\n",
    "print(a * b)\n",
    "print(a.dot(b))"
   ]
  },
  {
   "cell_type": "markdown",
   "metadata": {
    "id": "dTabSUVE8Sru"
   },
   "source": [
    "Умножений, на самом деле, есть несколько:\n",
    "\n",
    "* a * b - поэлементный (обратите внимание, если a и b типа matrix, то это просто умножение)\n",
    "\n",
    "* a.dot(b) и np.dot(a, b) - умножение матриц (a на b)\n",
    "\n",
    "* np.matmul(a, b) и a @ b - умножение матриц, но тут сложнее :)"
   ]
  },
  {
   "cell_type": "code",
   "execution_count": 65,
   "metadata": {
    "colab": {
     "base_uri": "https://localhost:8080/"
    },
    "id": "opAt4gJtLzyu",
    "outputId": "25cf3558-b276-48aa-cc01-00c1a09940cc"
   },
   "outputs": [
    {
     "data": {
      "text/plain": [
       "(2, 5, 2, 2)"
      ]
     },
     "execution_count": 65,
     "metadata": {},
     "output_type": "execute_result"
    }
   ],
   "source": [
    "a = np.arange(2 * 2 * 4 * 5).reshape((2, 5, 2, 4))\n",
    "b = np.arange(2 * 2 * 4 * 5).reshape((2, 5, 4, 2))\n",
    "np.matmul(a,b).shape"
   ]
  },
  {
   "cell_type": "markdown",
   "metadata": {
    "id": "LoGz6xQFMmPw"
   },
   "source": [
    "#### Размерности"
   ]
  },
  {
   "cell_type": "markdown",
   "metadata": {
    "id": "Ial6hDJdWXxO"
   },
   "source": [
    "Что-то можем сделать, кайф. Теперь давайте поговорим про размерности, потому что с этим вы будете сталкиваться чаще всего и вообще не выкупать, а почему у меня ничего не перемножается, какие размерности надо etc (но чаще это будет в pandas)\n",
    "\n",
    "Базово:\n",
    "\n",
    "* shape - посмотреть размерности\n",
    "\n",
    "* reshape - привести к новым размерностям (работает как transpose - меняем strides)\n",
    "\n",
    "* ravel/flatten - приведи к одномерному массиву\n",
    "\n",
    "* newaxis - добавь размерность\n",
    "\n",
    "А теперь в деталях:"
   ]
  },
  {
   "cell_type": "code",
   "execution_count": 69,
   "metadata": {
    "colab": {
     "base_uri": "https://localhost:8080/",
     "height": 0
    },
    "id": "FDdoQbAZW-pp",
    "outputId": "bb6b13a5-ddcd-4a83-bd2b-3b025e4385d5"
   },
   "outputs": [
    {
     "name": "stdout",
     "output_type": "stream",
     "text": [
      "(28,)\n",
      "(2, 14)\n"
     ]
    },
    {
     "ename": "ValueError",
     "evalue": "ignored",
     "output_type": "error",
     "traceback": [
      "\u001b[0;31m---------------------------------------------------------------------------\u001b[0m",
      "\u001b[0;31mValueError\u001b[0m                                Traceback (most recent call last)",
      "\u001b[0;32m<ipython-input-69-980c69e02250>\u001b[0m in \u001b[0;36m<module>\u001b[0;34m\u001b[0m\n\u001b[1;32m      3\u001b[0m \u001b[0mprint\u001b[0m\u001b[0;34m(\u001b[0m\u001b[0ma\u001b[0m\u001b[0;34m.\u001b[0m\u001b[0mreshape\u001b[0m\u001b[0;34m(\u001b[0m\u001b[0;36m2\u001b[0m\u001b[0;34m,\u001b[0m \u001b[0;34m-\u001b[0m\u001b[0;36m1\u001b[0m\u001b[0;34m)\u001b[0m\u001b[0;34m.\u001b[0m\u001b[0mshape\u001b[0m\u001b[0;34m)\u001b[0m \u001b[0;31m#приведи к размеру 2 x 14 (-1 значит все остальное)\u001b[0m\u001b[0;34m\u001b[0m\u001b[0;34m\u001b[0m\u001b[0m\n\u001b[1;32m      4\u001b[0m \u001b[0;31m# если новая размерность не влезает (то есть у вас 28 элементов, а вы хотите размер (3, 2, 5)), то выдаст ошибку\u001b[0m\u001b[0;34m\u001b[0m\u001b[0;34m\u001b[0m\u001b[0;34m\u001b[0m\u001b[0m\n\u001b[0;32m----> 5\u001b[0;31m \u001b[0mprint\u001b[0m\u001b[0;34m(\u001b[0m\u001b[0ma\u001b[0m\u001b[0;34m.\u001b[0m\u001b[0mreshape\u001b[0m\u001b[0;34m(\u001b[0m\u001b[0;36m3\u001b[0m\u001b[0;34m,\u001b[0m \u001b[0;36m2\u001b[0m\u001b[0;34m,\u001b[0m \u001b[0;36m5\u001b[0m\u001b[0;34m)\u001b[0m\u001b[0;34m)\u001b[0m\u001b[0;34m\u001b[0m\u001b[0;34m\u001b[0m\u001b[0m\n\u001b[0m",
      "\u001b[0;31mValueError\u001b[0m: cannot reshape array of size 28 into shape (3,2,5)"
     ]
    }
   ],
   "source": [
    "a = np.arange(28)\n",
    "print(a.shape) # размерность 28, логично\n",
    "print(a.reshape(2, -1).shape) #приведи к размеру 2 x 14 (-1 значит все остальное)\n",
    "# если новая размерность не влезает (то есть у вас 28 элементов, а вы хотите размер (3, 2, 5)), то выдаст ошибку\n",
    "print(a.reshape(3, 2, 5))"
   ]
  },
  {
   "cell_type": "code",
   "execution_count": 75,
   "metadata": {
    "colab": {
     "base_uri": "https://localhost:8080/"
    },
    "id": "hjs_UHrmXePu",
    "outputId": "7089a46f-ab95-462a-dcaf-c3448e32eade"
   },
   "outputs": [
    {
     "name": "stdout",
     "output_type": "stream",
     "text": [
      "[ 0  1  2  3  4  5  6  7  8  9 10 11 12 13 14 15 16 17 18 19 20 21 22 23\n",
      " 24 25 26 27]\n",
      "[ 0  1  2  3  4  5  6  7  8  9 10 11 12 13 14 15 16 17 18 19 20 21 22 23\n",
      " 24 25 26 27]\n"
     ]
    }
   ],
   "source": [
    "a = a.reshape(2, -1) # сама по себе не меняет размерность\n",
    "print(a.flatten())\n",
    "print(a.ravel())"
   ]
  },
  {
   "cell_type": "markdown",
   "metadata": {
    "id": "ndkKA0JoYPKv"
   },
   "source": [
    "Получаем одно и то же, но функции разные, в чем прикол?\n",
    "\n",
    "* flatten возвращает копию (то есть она независима от исходного массива)\n",
    "\n",
    "* ravel создает только view (то есть ссылку на origin), и если поменять в исходном массиве значение, то и в ravel оно измениться (имейте это ввиду)"
   ]
  },
  {
   "cell_type": "code",
   "execution_count": 77,
   "metadata": {
    "colab": {
     "base_uri": "https://localhost:8080/"
    },
    "id": "74CZgyVKYfbq",
    "outputId": "ed3c7213-26a4-4150-d2c3-03cfbb71de00"
   },
   "outputs": [
    {
     "name": "stdout",
     "output_type": "stream",
     "text": [
      "[ 1  1  2  3  4  5  6  7  8  9 10 11 12 13 14 15 16 17 18 19 20 21 22 23\n",
      " 24 25 26 27]\n"
     ]
    }
   ],
   "source": [
    "a_f = a.flatten()\n",
    "a_r = a.ravel()\n",
    "a[0][0] = 1\n",
    "print(a_r) # изменилось, ух ты!"
   ]
  },
  {
   "cell_type": "markdown",
   "metadata": {
    "id": "LAv-Ge1RZRW1"
   },
   "source": [
    "А теперь допустим, что нам нужно не уменьшить число размерностей, а наоборот, их добавить\n",
    "\n",
    "Это можно сделать с помощью newaxis!"
   ]
  },
  {
   "cell_type": "code",
   "execution_count": 11,
   "metadata": {
    "colab": {
     "base_uri": "https://localhost:8080/"
    },
    "id": "mBvM-wVxZggR",
    "outputId": "337e6ee4-3bb7-4ef8-91c8-1d1a5eda23c3"
   },
   "outputs": [
    {
     "name": "stdout",
     "output_type": "stream",
     "text": [
      "(2, 14)\n",
      "(2, 1, 14)\n",
      "(2, 1, 14)\n"
     ]
    }
   ],
   "source": [
    "a = np.arange(28)\n",
    "a = a.reshape(2, -1)\n",
    "print(a.shape)\n",
    "a_new = a[:, np.newaxis, :] #указываем newaxis туда, куда нам нужно, : значит возьми все\n",
    "print(a_new.shape)\n",
    "a = a.reshape(2, 1, -1) #можно и сделать с помощью reshape\n",
    "print(a.shape)"
   ]
  },
  {
   "cell_type": "markdown",
   "metadata": {
    "id": "xjkkSoFoMpEa"
   },
   "source": [
    "#### Соединения и добавления"
   ]
  },
  {
   "cell_type": "markdown",
   "metadata": {
    "id": "QvVjkKE_M2AS"
   },
   "source": [
    "Представим новую ситуацию: у вас есть два набора данных (допустим, за прошлую неделю и за текущую) и вы хотите их соединить их в единый набор данных\n",
    "\n",
    "Или же у вас одна половина данных лежит в одной, а другая в другой (скажем, есть карточка товара, в одном месте лежит вся информация про id, название etc, а в другом всякие web-счетчики: сколько посмотрели-покликали и так далее)\n",
    "\n",
    "Тогда на помощь приходят:\n",
    "\n",
    "* np.concatenate((arr1, arr2), axis) - соедини две таблицы по выбранному axis (по дефолту 0)\n",
    "\n",
    "* np.vstack((arr1, arr2)) - соедини две таблицы строчно (то есть друг под другом).То же самое, что и np.concatenate((arr1, arr2), axis=0)\n",
    "\n",
    "* np.hstack((arr1, arr2)) - соедини две таблицы по колонке (то есть arr1-arr2).То же самое, что и np.concatenate((arr1, arr2), axis=1)\n",
    "\n",
    "**Как и в перемножении матриц, размерности должны сходиться!**"
   ]
  },
  {
   "cell_type": "code",
   "execution_count": null,
   "metadata": {
    "id": "SEdhzLoJjyQS"
   },
   "outputs": [],
   "source": [
    "a = np.array([[1, 2], [3, 4]])\n",
    "b = np.array([[5, 6], [7, 8]])\n",
    "\n",
    "print(np.vstack((a, b)))\n",
    "print(np.hstack((a, b)))\n",
    "print(np.concatenate((a, b), axis=0))\n",
    "print(np.concatenate((a, b), axis=1))"
   ]
  },
  {
   "cell_type": "markdown",
   "metadata": {
    "id": "QHqYgNPSlWVk"
   },
   "source": [
    "А если хотим добавить?\n",
    "\n",
    "* np.append(arr_1, arr_2, ..., arr_n, axis) - сделай append (если отдельно задаете axis, то размерности должны быть одинаковыми)\n",
    "\n",
    "* np.insert(arr, slice, value, axis) - добавь в arr в slice значение value по выбранному axis\n",
    "\n",
    "* np.resize(arr, (sizes)) - по сути reshape, но если получившийся итог получается больше, то заполняет остальное копией a (аккуратнее с этим, лучше не делать с матрицами)\n",
    "\n",
    "* arr.resize((sizes)) - reshape, если больше, то заполнит нулями (аккуратно с этим)"
   ]
  },
  {
   "cell_type": "code",
   "execution_count": 35,
   "metadata": {
    "colab": {
     "base_uri": "https://localhost:8080/"
    },
    "id": "64_Coh7hmQ7r",
    "outputId": "01cdef3f-fc93-49f0-ffb3-9e7efbe4658e"
   },
   "outputs": [
    {
     "name": "stdout",
     "output_type": "stream",
     "text": [
      "[1 2 3 4 5 6 7 8]\n",
      "------------------------------\n",
      "[[1 2]\n",
      " [5 6]\n",
      " [7 8]\n",
      " [3 4]]\n",
      "------------------------------\n",
      "[[1 2]\n",
      " [3 4]\n",
      " [1 2]\n",
      " [3 4]\n",
      " [1 2]]\n",
      "------------------------------\n",
      "[[1 2 3 4 0 0 0 0 0 0]]\n",
      "------------------------------\n",
      "[1 2 3 4 1 2]\n"
     ]
    }
   ],
   "source": [
    "a = np.array([[1, 2], [3, 4]])\n",
    "b = np.array([[5, 6], [7, 8]])\n",
    "\n",
    "print(np.append(a, b)) \n",
    "print('-' * 30)\n",
    "print(np.insert(a, 1, b, axis = 0))\n",
    "print('-' * 30)\n",
    "print(np.resize(a, (5, 2)))\n",
    "print('-' * 30)\n",
    "a.resize((1, 10), refcheck=False) ## refcheck - не проверяй на наличие ссылок (иначе упадет)\n",
    "print(a)\n",
    "print('-' * 30)\n",
    "a = np.array([[1, 2], [3, 4]])\n",
    "print(np.append(a, [1, 2])) "
   ]
  },
  {
   "cell_type": "markdown",
   "metadata": {
    "id": "fROW7gayMrZ6"
   },
   "source": [
    "#### Сравнения"
   ]
  },
  {
   "cell_type": "markdown",
   "metadata": {
    "id": "TtpFfYGyoKuB"
   },
   "source": [
    "Все, помучили наш массив как только можем, давайте теперь его как-то исследовать\n",
    "\n",
    "Допустим, теперь хотим что-то отфильтровать или посмотреть какие-то конкретные значения"
   ]
  },
  {
   "cell_type": "code",
   "execution_count": 46,
   "metadata": {
    "colab": {
     "base_uri": "https://localhost:8080/"
    },
    "id": "-u2Ef8yOovqe",
    "outputId": "015c57b0-73eb-4cfd-8211-66eafded735c"
   },
   "outputs": [
    {
     "name": "stdout",
     "output_type": "stream",
     "text": [
      "[ 0  1  2  3  4  5  6  7  8 16 17 18 19 20 21 22 23 24 25 26]\n",
      "------------------------------\n",
      "[ 0  1  2  3  4  5  6  7  8 16 17 18 19 20 21 22 23 24 25 26]\n",
      "[ True  True  True  True  True  True  True  True  True False False False\n",
      " False False False False  True  True  True  True  True  True  True  True\n",
      "  True  True  True False False False]\n"
     ]
    }
   ],
   "source": [
    "a = np.arange(30)\n",
    "print(a[(a > 15) & (a < 27) | (a < 9)]) # как добавить несколько условий сразу через & и | (и/или)\n",
    "cond = (a > 15) & (a < 27) | (a < 9) # условия можно отдельно записывать, даст массив True-False\n",
    "print('-' * 30)\n",
    "print(a[cond])\n",
    "print(cond)"
   ]
  },
  {
   "cell_type": "code",
   "execution_count": 53,
   "metadata": {
    "colab": {
     "base_uri": "https://localhost:8080/"
    },
    "id": "Mdr7c8Ccpwe1",
    "outputId": "a651f95d-268d-4f09-ce1b-c9c48620d58f"
   },
   "outputs": [
    {
     "data": {
      "text/plain": [
       "array([[False,  True,  True,  True,  True,  True],\n",
       "       [ True,  True,  True,  True,  True,  True],\n",
       "       [ True,  True,  True,  True,  True,  True],\n",
       "       [ True,  True,  True,  True,  True,  True],\n",
       "       [ True,  True,  True,  True,  True,  True]])"
      ]
     },
     "execution_count": 53,
     "metadata": {},
     "output_type": "execute_result"
    }
   ],
   "source": [
    "a = np.arange(30).reshape(5, -1)\n",
    "b = (np.arange(30) - 1).reshape(5, -1)\n",
    "b[0][0] = 15\n",
    "a > b #для таких сравнений должны быть одинаковые размерности"
   ]
  },
  {
   "cell_type": "code",
   "execution_count": 63,
   "metadata": {
    "colab": {
     "base_uri": "https://localhost:8080/"
    },
    "id": "0kkaCxnpqIgM",
    "outputId": "ff80e4ee-03d0-4f57-9c78-31d75807ee39"
   },
   "outputs": [
    {
     "name": "stdout",
     "output_type": "stream",
     "text": [
      "False\n",
      "True\n",
      "[ 1  2  3  4  5  6  7  8  9 10 11 12 13 14 15 16 17 18 19 20 21 22 23 24\n",
      " 25 26 27 28 29]\n",
      "------------------------------\n",
      "[[ 6  7  8  9 10 11]\n",
      " [12 13 14 15 16 17]\n",
      " [18 19 20 21 22 23]\n",
      " [24 25 26 27 28 29]]\n"
     ]
    }
   ],
   "source": [
    "print((a > b).all()) # проверить, все ли значения True\n",
    "print((a > b).any()) # првоерить, есть ли хотя бы одно True\n",
    "print(a[a > b]) # выведет одномерный массив\n",
    "print('-' * 30)\n",
    "print(a[a[:, 0] > [1, 1, 1, 1, 1]]) # можно сравнивать и вот так"
   ]
  },
  {
   "cell_type": "markdown",
   "metadata": {
    "id": "dEMMpVy2M5bj"
   },
   "source": [
    "Теперь хотим применить условие и что-то сделать со значениями (обрезать или поменять)\n",
    "\n",
    "Можно по старинке:"
   ]
  },
  {
   "cell_type": "code",
   "execution_count": 66,
   "metadata": {
    "colab": {
     "base_uri": "https://localhost:8080/"
    },
    "id": "0lK6jGe7q_ym",
    "outputId": "fea22c58-82b0-4ebc-b10c-f18b97108c2e"
   },
   "outputs": [
    {
     "data": {
      "text/plain": [
       "array([[  0,   5,  10,  15,  20,  25],\n",
       "       [ 30,  35,  40,  45,  50,  55],\n",
       "       [ 60,  65,  70,  75,  80,  85],\n",
       "       [ 90,  95, 100, 105, 110, 115],\n",
       "       [120, 125, 130, 135, 140, 145]])"
      ]
     },
     "execution_count": 66,
     "metadata": {},
     "output_type": "execute_result"
    }
   ],
   "source": [
    "a = np.arange(30).reshape(5, -1)\n",
    "a[a > 0] = a[a > 0] * 5\n",
    "a"
   ]
  },
  {
   "cell_type": "markdown",
   "metadata": {
    "id": "GWqJNq7LrGGK"
   },
   "source": [
    "Но можно и лучше!\n",
    "\n",
    "* np.where(cond, act_1, act_2) - измени значения в зависимости от условия (если True, то сделай одно, если False, то другое)\n",
    "\n",
    "* np.clip(arr, a_min, a_max) - ограничить значения (все, что меньше a_min, станет a_min, все, что больше a_max, станет a_max)\n",
    "\n",
    "Последнее нужно, например, для обработки картинок (допустим, вам пришли плохие данные, где есть значения не в пределах от 0 до 256)"
   ]
  },
  {
   "cell_type": "code",
   "execution_count": 73,
   "metadata": {
    "colab": {
     "base_uri": "https://localhost:8080/"
    },
    "id": "4f8TiFovrjUa",
    "outputId": "04b137ad-7af8-4e84-d027-f93fc883069a"
   },
   "outputs": [
    {
     "name": "stdout",
     "output_type": "stream",
     "text": [
      "[[  0   5  10  15  20  25]\n",
      " [ 30  35  40  45  50  55]\n",
      " [ 60  65  70  75  80  85]\n",
      " [ 90  95 100 105 110 115]\n",
      " [120 125 130 135 140 145]]\n",
      "------------------------------\n",
      "[[ 10  10  10  15  20  25]\n",
      " [ 30  35  40  45  50  55]\n",
      " [ 60  65  70  75  80  85]\n",
      " [ 90  95 100 100 100 100]\n",
      " [100 100 100 100 100 100]]\n"
     ]
    }
   ],
   "source": [
    "a = np.arange(30).reshape(5, -1)\n",
    "a = np.where(a > 0, a * 5, a)\n",
    "print(a)\n",
    "print('-' * 30)\n",
    "a = np.clip(a, 10, 100)\n",
    "print(a)"
   ]
  },
  {
   "cell_type": "markdown",
   "metadata": {
    "id": "G_Ui0dquMvAK"
   },
   "source": [
    "#### Прочие полезные вещи"
   ]
  },
  {
   "cell_type": "markdown",
   "metadata": {
    "id": "fg8jl95GM8yr"
   },
   "source": [
    "Все, теперь к полному анализу наших данных!\n",
    "\n",
    "![](https://i.gifer.com/embedded/download/3nHQ.gif)"
   ]
  },
  {
   "cell_type": "markdown",
   "metadata": {
    "id": "TRwulevltROp"
   },
   "source": [
    "Что умеем?\n",
    "\n",
    "*   sum, mean, std, min, max, prod - классика (сумма, среднее, стандратное отклонение, минимум/максимум, произведение)\n",
    "\n",
    "*   argmin, argmax - найди индекс максимума/минимума (знаете же, что в Python так нельзя, а вот тут пожалуйста)\n",
    "\n",
    "* nonzero - вывести индексы ненулевых значений\n",
    "\n",
    "* sort, unique - сортировка, уникальные элементы\n",
    "\n",
    "* diag, trace - вывести диагональ, след матрицы (работает только для размерности < 3)\n",
    "\n",
    "* cumsum, cumprod - кумулятивы сумм-произведений\n",
    "\n",
    "* isnan, isinf, isposinf, isneginf - поиск \"плохих\" значений\n",
    "\n",
    "* nan_to_num(x, nan, posinf) - если где-то видим nan или inf, то можем его поменять на значение в nan или posinf\n",
    "\n"
   ]
  },
  {
   "cell_type": "code",
   "execution_count": 81,
   "metadata": {
    "colab": {
     "base_uri": "https://localhost:8080/"
    },
    "id": "PgeCAdAMu8zB",
    "outputId": "e53f9c5f-ec41-4d91-e08a-cf08eb6c3043"
   },
   "outputs": [
    {
     "name": "stdout",
     "output_type": "stream",
     "text": [
      "[[1 1 1]\n",
      " [1 2 0]]\n",
      "------------------------------\n",
      "[[1 0 0]\n",
      " [1 2 2]]\n",
      "------------------------------\n",
      "[[1 2 2]]\n",
      "------------------------------\n",
      "[[1 0 0]]\n",
      "------------------------------\n"
     ]
    }
   ],
   "source": [
    "a = np.array([[[1, 2, 3], [4, 5 ,6], [7, 8, 9]], [[-np.inf, 2, 3], [4, np.nan ,6], [np.nan, 8, np.inf]]])\n",
    "print(np.argwhere(np.isnan(a)))\n",
    "print('-' * 30)\n",
    "print(np.argwhere(np.isinf(a)))\n",
    "print('-' * 30)\n",
    "print(np.argwhere(np.isposinf(a)))\n",
    "print('-' * 30)\n",
    "print(np.argwhere(np.isneginf(a)))\n",
    "print('-' * 30)"
   ]
  },
  {
   "cell_type": "code",
   "execution_count": 90,
   "metadata": {
    "colab": {
     "base_uri": "https://localhost:8080/"
    },
    "id": "obHK4ezmv40v",
    "outputId": "62ef94df-d6e8-431d-b782-4ea30d9a76f5"
   },
   "outputs": [
    {
     "name": "stdout",
     "output_type": "stream",
     "text": [
      "68.0\n",
      "------------------------------\n",
      "[[-998.    4.    6.]\n",
      " [   8.    5.   12.]\n",
      " [   7.   16. 1008.]]\n",
      "------------------------------\n",
      "333.01310544040416\n"
     ]
    }
   ],
   "source": [
    "np.nan_to_num(a, copy=False, nan=0, posinf=999, neginf=-999)\n",
    "#очень часто у функций есть аргумент copy, то есть создавать новую копию или менять в исходном массиве\n",
    "print(a.sum()) # полная сумма\n",
    "print('-' * 30)\n",
    "print(a.sum(axis=0)) # сумма по оси\n",
    "print('-' * 30)\n",
    "print(a.std())"
   ]
  },
  {
   "cell_type": "code",
   "execution_count": 94,
   "metadata": {
    "colab": {
     "base_uri": "https://localhost:8080/"
    },
    "id": "I7UIfrfFwyGX",
    "outputId": "5d936901-e413-4cc3-cebb-c20972144423"
   },
   "outputs": [
    {
     "name": "stdout",
     "output_type": "stream",
     "text": [
      "[   1.    3.    6.   10.   15.   21.   28.   36.   45. -954. -952. -949.\n",
      " -945. -945. -939. -939. -931.   68.]\n",
      "------------------------------\n",
      "[ 1.00000000e+00  2.00000000e+00  6.00000000e+00  2.40000000e+01\n",
      "  1.20000000e+02  7.20000000e+02  5.04000000e+03  4.03200000e+04\n",
      "  3.62880000e+05 -3.62517120e+08 -7.25034240e+08 -2.17510272e+09\n",
      " -8.70041088e+09 -0.00000000e+00 -0.00000000e+00 -0.00000000e+00\n",
      " -0.00000000e+00 -0.00000000e+00]\n"
     ]
    }
   ],
   "source": [
    "print(np.cumsum(a))\n",
    "print('-' * 30)\n",
    "print(np.cumprod(a)) # "
   ]
  },
  {
   "cell_type": "markdown",
   "metadata": {
    "id": "h1pDMA1PNCgo"
   },
   "source": [
    "#### Линейная алгебра (np.linalg)"
   ]
  },
  {
   "cell_type": "markdown",
   "metadata": {
    "id": "nJrwb_pIiIZK"
   },
   "source": [
    "Самый сильный инструмент внутри numpy - это модуль numpy.linalg, который позволяет применить кучу методов из линейной алгебры (например, сделать за вас тот же самый SVD)\n",
    "\n",
    "Из основного:\n",
    "\n",
    "* numpy.linalg.multi_dot - перемножение нескольких матриц сразу (причем выбирается самый быстрый способ перемножения)\n",
    "\n",
    "* np.vdot - скалярное произведение (не нужно делать .T  \n",
    "как минимум)\n",
    "\n",
    "* numpy.linalg.matrix_power - возвести матрицу в нужную степень\n",
    "\n",
    "* numpy.linalg.norm - матричная норма\n",
    "\n",
    "* numpy.linalg.det - определитель матрицы \n",
    "\n",
    "* numpy.linalg.inv - обратная матрица (если нет, то будет считать через pinv - псевдообратная матрица)\n",
    "\n",
    "* numpy.linalg.solve(a, b) - решить систему $ax = b$\n",
    "\n",
    "Разложения:\n",
    "\n",
    "* choletsky, qr, SVD - разложение Холецкого, QR-декомпозиция, SVD-разложение (можно сделать усеченным)\n",
    "\n",
    "* eig, eigvals - собственные вектор**Ы** и собственные значения \n"
   ]
  },
  {
   "cell_type": "code",
   "execution_count": 107,
   "metadata": {
    "colab": {
     "base_uri": "https://localhost:8080/"
    },
    "id": "XTapKzFoAPf_",
    "outputId": "3e0891ba-d5f7-4629-b916-323dabdbb3c6"
   },
   "outputs": [
    {
     "name": "stdout",
     "output_type": "stream",
     "text": [
      "Определитель матрицы: 27.0\n",
      "------------------------------\n",
      "Обратная матрица: [[-1.40740741  0.14814815  0.25925926]\n",
      " [ 1.37037037 -0.40740741  0.03703704]\n",
      " [-0.11111111  0.22222222 -0.11111111]]\n",
      "------------------------------\n",
      "Третья степень матрицы: [[ 559  680 1036]\n",
      " [1824 2223 3404]\n",
      " [2108 2560 3891]]\n",
      "------------------------------\n",
      "Решаем систему: [-0.33333333  0.66666667  0.        ]\n",
      "------------------------------\n",
      "Скалярное произведение: 14\n",
      "------------------------------\n"
     ]
    }
   ],
   "source": [
    "A = np.matrix([[1, 2, 3], [4, 5, 11], [7, 8, 10]])\n",
    "print(\"Определитель матрицы:\", lin.det(A))\n",
    "print('-' * 30)\n",
    "print(\"Обратная матрица:\", lin.inv(A))\n",
    "print('-' * 30)\n",
    "print(\"Третья степень матрицы:\", lin.matrix_power(A, 3))\n",
    "print('-' * 30)\n",
    "b = np.array([1, 2, 3])\n",
    "print(\"Решаем систему:\", lin.solve(A, b))\n",
    "print('-' * 30)\n",
    "c = np.array([1, 2, 3])\n",
    "print(\"Скалярное произведение:\", np.vdot(c, b))\n",
    "print('-' * 30)"
   ]
  },
  {
   "cell_type": "code",
   "execution_count": 109,
   "metadata": {
    "colab": {
     "base_uri": "https://localhost:8080/"
    },
    "id": "X9LuJ1XxBlO9",
    "outputId": "f863f7c0-1300-45bb-866d-2a8e0b53c635"
   },
   "outputs": [
    {
     "name": "stdout",
     "output_type": "stream",
     "text": [
      "[[-0.18951531 -0.10237519 -0.97652612]\n",
      " [-0.6434869  -0.73824699  0.20227702]\n",
      " [-0.74162562  0.66671636  0.07403202]]\n",
      "------------------------------\n",
      "[19.51894064  2.78648927  0.496421  ]\n",
      "------------------------------\n",
      "[[-0.40754477 -0.48821656 -0.77172006]\n",
      " [ 0.5783806   0.51597023 -0.63186281]\n",
      " [ 0.70667046 -0.70386029  0.07209402]]\n"
     ]
    }
   ],
   "source": [
    "U, s, Vh = lin.svd(A)\n",
    "print(U)\n",
    "print('-' * 30)\n",
    "print(s)\n",
    "print('-' * 30)\n",
    "print(Vh)"
   ]
  },
  {
   "cell_type": "code",
   "execution_count": 111,
   "metadata": {
    "colab": {
     "base_uri": "https://localhost:8080/"
    },
    "id": "Ps9277glB-WO",
    "outputId": "4d09f4c7-5637-409f-bd8a-8be69245a4ef"
   },
   "outputs": [
    {
     "data": {
      "text/plain": [
       "(array([18.83666805, -0.65787568, -2.17879237]),\n",
       " matrix([[-0.19655135, -0.61840136,  0.01695951],\n",
       "         [-0.64434967,  0.7673012 , -0.84013156],\n",
       "         [-0.73904064, -0.16978994,  0.54211746]]))"
      ]
     },
     "execution_count": 111,
     "metadata": {},
     "output_type": "execute_result"
    }
   ],
   "source": [
    "lin.eig(A)"
   ]
  },
  {
   "cell_type": "markdown",
   "metadata": {
    "id": "ikeGwjyZiGZx"
   },
   "source": [
    "#### Выгрузка"
   ]
  },
  {
   "cell_type": "markdown",
   "metadata": {
    "id": "dD8UXVAYiI22"
   },
   "source": [
    "Ну все, потрудились, можно и результаты сохранить:\n",
    "\n",
    "* np.save(name, arr) -  сохранить файл с раширением .npy\n",
    "\n",
    "* np.savetxt(file, arr) - сохранить файл в txt"
   ]
  },
  {
   "cell_type": "markdown",
   "metadata": {
    "id": "brcoZDw9o_L2"
   },
   "source": [
    "## Pandas"
   ]
  },
  {
   "cell_type": "markdown",
   "metadata": {
    "id": "XxriefsXj6Ll"
   },
   "source": [
    "![Excel](https://i.kym-cdn.com/photos/images/newsfeed/001/707/025/945.jpg)"
   ]
  },
  {
   "cell_type": "markdown",
   "metadata": {
    "id": "KZxDq9uIkEGj"
   },
   "source": [
    "Все видели эту картинку (ну в общем-то это правда). Однако можно же не только Экселем пользоваться\n",
    "\n",
    "Вот для этого и есть Pandas. Помимо того, что это такие таблицы, чтобы заменить Эксель, это еще и очень удобная штука для EDA (exploratory data analysis)\n",
    "\n",
    "[Документация](https://pandas.pydata.org/docs/)"
   ]
  },
  {
   "cell_type": "markdown",
   "metadata": {
    "id": "tTa19thdnYG0"
   },
   "source": [
    "### Начинаем"
   ]
  },
  {
   "cell_type": "markdown",
   "metadata": {
    "id": "Eu3M-LyroE9O"
   },
   "source": [
    "Будем смотреть это все на данных про аниме и их рейтингов\n",
    "\n",
    "![аниме](https://steamuserimages-a.akamaihd.net/ugc/795365202390752570/FF835BAC56853D50EEAE303BFEF92369987ADEDE/?imw=512&amp;imh=400&amp;ima=fit&amp;impolicy=Letterbox&amp;imcolor=%23000000&amp;letterbox=true)"
   ]
  },
  {
   "cell_type": "code",
   "execution_count": null,
   "metadata": {
    "id": "3x_DO9vF9BBw"
   },
   "outputs": [],
   "source": [
    "!wget https://github.com/Palladain/Deep_Python/blob/main/Lectures/Lecture_2/archive.zip"
   ]
  },
  {
   "cell_type": "code",
   "execution_count": null,
   "metadata": {
    "id": "Ofxvwq69pAwa"
   },
   "outputs": [],
   "source": [
    "!unzip archive.zip"
   ]
  },
  {
   "cell_type": "markdown",
   "metadata": {
    "id": "kxaqKNidoqnU"
   },
   "source": [
    "Загрузить pandas DataFrame из файла можно с помощью:\n",
    "\n",
    "* read_csv(file, delimeter, sep) - прочитай файл из csv с разделителями delimeter и sep (по дефолту это запятая, потому что csv)\n",
    "\n",
    "* read_table(file, delimeter, sep) - прочитай из файла"
   ]
  },
  {
   "cell_type": "code",
   "execution_count": 199,
   "metadata": {
    "id": "P1TwUukBo1Iz"
   },
   "outputs": [],
   "source": [
    "anime = pd.read_csv('anime.csv')\n",
    "rating = pd.read_csv('rating.csv')"
   ]
  },
  {
   "cell_type": "markdown",
   "metadata": {
    "id": "5pb4CpoCpEpE"
   },
   "source": [
    "Посмотрим, что там находится. Это можно сделать с помощью функций:\n",
    "\n",
    "* pd.head(n) - посмотреть первые n строк\n",
    "\n",
    "* pd.tail(n) - посмотреть последние n строк\n",
    "\n",
    "* ну или просто вызвать сам dataframe"
   ]
  },
  {
   "cell_type": "code",
   "execution_count": 193,
   "metadata": {
    "colab": {
     "base_uri": "https://localhost:8080/",
     "height": 363
    },
    "id": "tg69DYoDpPvf",
    "outputId": "7bae289b-d4e8-45f2-c046-05a15e7bdfa2"
   },
   "outputs": [
    {
     "data": {
      "text/html": [
       "\n",
       "  <div id=\"df-a88a9d3c-a639-4acc-8066-cd1f191ccf68\">\n",
       "    <div class=\"colab-df-container\">\n",
       "      <div>\n",
       "<style scoped>\n",
       "    .dataframe tbody tr th:only-of-type {\n",
       "        vertical-align: middle;\n",
       "    }\n",
       "\n",
       "    .dataframe tbody tr th {\n",
       "        vertical-align: top;\n",
       "    }\n",
       "\n",
       "    .dataframe thead th {\n",
       "        text-align: right;\n",
       "    }\n",
       "</style>\n",
       "<table border=\"1\" class=\"dataframe\">\n",
       "  <thead>\n",
       "    <tr style=\"text-align: right;\">\n",
       "      <th></th>\n",
       "      <th>anime_id</th>\n",
       "      <th>name</th>\n",
       "      <th>genre</th>\n",
       "      <th>type</th>\n",
       "      <th>episodes</th>\n",
       "      <th>rating</th>\n",
       "      <th>members</th>\n",
       "    </tr>\n",
       "  </thead>\n",
       "  <tbody>\n",
       "    <tr>\n",
       "      <th>0</th>\n",
       "      <td>32281</td>\n",
       "      <td>Kimi no Na wa.</td>\n",
       "      <td>Drama, Romance, School, Supernatural</td>\n",
       "      <td>Movie</td>\n",
       "      <td>1</td>\n",
       "      <td>9.37</td>\n",
       "      <td>200630</td>\n",
       "    </tr>\n",
       "    <tr>\n",
       "      <th>1</th>\n",
       "      <td>5114</td>\n",
       "      <td>Fullmetal Alchemist: Brotherhood</td>\n",
       "      <td>Action, Adventure, Drama, Fantasy, Magic, Mili...</td>\n",
       "      <td>TV</td>\n",
       "      <td>64</td>\n",
       "      <td>9.26</td>\n",
       "      <td>793665</td>\n",
       "    </tr>\n",
       "    <tr>\n",
       "      <th>2</th>\n",
       "      <td>28977</td>\n",
       "      <td>Gintama°</td>\n",
       "      <td>Action, Comedy, Historical, Parody, Samurai, S...</td>\n",
       "      <td>TV</td>\n",
       "      <td>51</td>\n",
       "      <td>9.25</td>\n",
       "      <td>114262</td>\n",
       "    </tr>\n",
       "    <tr>\n",
       "      <th>3</th>\n",
       "      <td>9253</td>\n",
       "      <td>Steins;Gate</td>\n",
       "      <td>Sci-Fi, Thriller</td>\n",
       "      <td>TV</td>\n",
       "      <td>24</td>\n",
       "      <td>9.17</td>\n",
       "      <td>673572</td>\n",
       "    </tr>\n",
       "    <tr>\n",
       "      <th>4</th>\n",
       "      <td>9969</td>\n",
       "      <td>Gintama&amp;#039;</td>\n",
       "      <td>Action, Comedy, Historical, Parody, Samurai, S...</td>\n",
       "      <td>TV</td>\n",
       "      <td>51</td>\n",
       "      <td>9.16</td>\n",
       "      <td>151266</td>\n",
       "    </tr>\n",
       "    <tr>\n",
       "      <th>5</th>\n",
       "      <td>32935</td>\n",
       "      <td>Haikyuu!!: Karasuno Koukou VS Shiratorizawa Ga...</td>\n",
       "      <td>Comedy, Drama, School, Shounen, Sports</td>\n",
       "      <td>TV</td>\n",
       "      <td>10</td>\n",
       "      <td>9.15</td>\n",
       "      <td>93351</td>\n",
       "    </tr>\n",
       "    <tr>\n",
       "      <th>6</th>\n",
       "      <td>11061</td>\n",
       "      <td>Hunter x Hunter (2011)</td>\n",
       "      <td>Action, Adventure, Shounen, Super Power</td>\n",
       "      <td>TV</td>\n",
       "      <td>148</td>\n",
       "      <td>9.13</td>\n",
       "      <td>425855</td>\n",
       "    </tr>\n",
       "    <tr>\n",
       "      <th>7</th>\n",
       "      <td>820</td>\n",
       "      <td>Ginga Eiyuu Densetsu</td>\n",
       "      <td>Drama, Military, Sci-Fi, Space</td>\n",
       "      <td>OVA</td>\n",
       "      <td>110</td>\n",
       "      <td>9.11</td>\n",
       "      <td>80679</td>\n",
       "    </tr>\n",
       "    <tr>\n",
       "      <th>8</th>\n",
       "      <td>15335</td>\n",
       "      <td>Gintama Movie: Kanketsu-hen - Yorozuya yo Eien...</td>\n",
       "      <td>Action, Comedy, Historical, Parody, Samurai, S...</td>\n",
       "      <td>Movie</td>\n",
       "      <td>1</td>\n",
       "      <td>9.10</td>\n",
       "      <td>72534</td>\n",
       "    </tr>\n",
       "    <tr>\n",
       "      <th>9</th>\n",
       "      <td>15417</td>\n",
       "      <td>Gintama&amp;#039;: Enchousen</td>\n",
       "      <td>Action, Comedy, Historical, Parody, Samurai, S...</td>\n",
       "      <td>TV</td>\n",
       "      <td>13</td>\n",
       "      <td>9.11</td>\n",
       "      <td>81109</td>\n",
       "    </tr>\n",
       "  </tbody>\n",
       "</table>\n",
       "</div>\n",
       "      <button class=\"colab-df-convert\" onclick=\"convertToInteractive('df-a88a9d3c-a639-4acc-8066-cd1f191ccf68')\"\n",
       "              title=\"Convert this dataframe to an interactive table.\"\n",
       "              style=\"display:none;\">\n",
       "        \n",
       "  <svg xmlns=\"http://www.w3.org/2000/svg\" height=\"24px\"viewBox=\"0 0 24 24\"\n",
       "       width=\"24px\">\n",
       "    <path d=\"M0 0h24v24H0V0z\" fill=\"none\"/>\n",
       "    <path d=\"M18.56 5.44l.94 2.06.94-2.06 2.06-.94-2.06-.94-.94-2.06-.94 2.06-2.06.94zm-11 1L8.5 8.5l.94-2.06 2.06-.94-2.06-.94L8.5 2.5l-.94 2.06-2.06.94zm10 10l.94 2.06.94-2.06 2.06-.94-2.06-.94-.94-2.06-.94 2.06-2.06.94z\"/><path d=\"M17.41 7.96l-1.37-1.37c-.4-.4-.92-.59-1.43-.59-.52 0-1.04.2-1.43.59L10.3 9.45l-7.72 7.72c-.78.78-.78 2.05 0 2.83L4 21.41c.39.39.9.59 1.41.59.51 0 1.02-.2 1.41-.59l7.78-7.78 2.81-2.81c.8-.78.8-2.07 0-2.86zM5.41 20L4 18.59l7.72-7.72 1.47 1.35L5.41 20z\"/>\n",
       "  </svg>\n",
       "      </button>\n",
       "      \n",
       "  <style>\n",
       "    .colab-df-container {\n",
       "      display:flex;\n",
       "      flex-wrap:wrap;\n",
       "      gap: 12px;\n",
       "    }\n",
       "\n",
       "    .colab-df-convert {\n",
       "      background-color: #E8F0FE;\n",
       "      border: none;\n",
       "      border-radius: 50%;\n",
       "      cursor: pointer;\n",
       "      display: none;\n",
       "      fill: #1967D2;\n",
       "      height: 32px;\n",
       "      padding: 0 0 0 0;\n",
       "      width: 32px;\n",
       "    }\n",
       "\n",
       "    .colab-df-convert:hover {\n",
       "      background-color: #E2EBFA;\n",
       "      box-shadow: 0px 1px 2px rgba(60, 64, 67, 0.3), 0px 1px 3px 1px rgba(60, 64, 67, 0.15);\n",
       "      fill: #174EA6;\n",
       "    }\n",
       "\n",
       "    [theme=dark] .colab-df-convert {\n",
       "      background-color: #3B4455;\n",
       "      fill: #D2E3FC;\n",
       "    }\n",
       "\n",
       "    [theme=dark] .colab-df-convert:hover {\n",
       "      background-color: #434B5C;\n",
       "      box-shadow: 0px 1px 3px 1px rgba(0, 0, 0, 0.15);\n",
       "      filter: drop-shadow(0px 1px 2px rgba(0, 0, 0, 0.3));\n",
       "      fill: #FFFFFF;\n",
       "    }\n",
       "  </style>\n",
       "\n",
       "      <script>\n",
       "        const buttonEl =\n",
       "          document.querySelector('#df-a88a9d3c-a639-4acc-8066-cd1f191ccf68 button.colab-df-convert');\n",
       "        buttonEl.style.display =\n",
       "          google.colab.kernel.accessAllowed ? 'block' : 'none';\n",
       "\n",
       "        async function convertToInteractive(key) {\n",
       "          const element = document.querySelector('#df-a88a9d3c-a639-4acc-8066-cd1f191ccf68');\n",
       "          const dataTable =\n",
       "            await google.colab.kernel.invokeFunction('convertToInteractive',\n",
       "                                                     [key], {});\n",
       "          if (!dataTable) return;\n",
       "\n",
       "          const docLinkHtml = 'Like what you see? Visit the ' +\n",
       "            '<a target=\"_blank\" href=https://colab.research.google.com/notebooks/data_table.ipynb>data table notebook</a>'\n",
       "            + ' to learn more about interactive tables.';\n",
       "          element.innerHTML = '';\n",
       "          dataTable['output_type'] = 'display_data';\n",
       "          await google.colab.output.renderOutput(dataTable, element);\n",
       "          const docLink = document.createElement('div');\n",
       "          docLink.innerHTML = docLinkHtml;\n",
       "          element.appendChild(docLink);\n",
       "        }\n",
       "      </script>\n",
       "    </div>\n",
       "  </div>\n",
       "  "
      ],
      "text/plain": [
       "   anime_id                                               name  \\\n",
       "0     32281                                     Kimi no Na wa.   \n",
       "1      5114                   Fullmetal Alchemist: Brotherhood   \n",
       "2     28977                                           Gintama°   \n",
       "3      9253                                        Steins;Gate   \n",
       "4      9969                                      Gintama&#039;   \n",
       "5     32935  Haikyuu!!: Karasuno Koukou VS Shiratorizawa Ga...   \n",
       "6     11061                             Hunter x Hunter (2011)   \n",
       "7       820                               Ginga Eiyuu Densetsu   \n",
       "8     15335  Gintama Movie: Kanketsu-hen - Yorozuya yo Eien...   \n",
       "9     15417                           Gintama&#039;: Enchousen   \n",
       "\n",
       "                                               genre   type episodes  rating  \\\n",
       "0               Drama, Romance, School, Supernatural  Movie        1    9.37   \n",
       "1  Action, Adventure, Drama, Fantasy, Magic, Mili...     TV       64    9.26   \n",
       "2  Action, Comedy, Historical, Parody, Samurai, S...     TV       51    9.25   \n",
       "3                                   Sci-Fi, Thriller     TV       24    9.17   \n",
       "4  Action, Comedy, Historical, Parody, Samurai, S...     TV       51    9.16   \n",
       "5             Comedy, Drama, School, Shounen, Sports     TV       10    9.15   \n",
       "6            Action, Adventure, Shounen, Super Power     TV      148    9.13   \n",
       "7                     Drama, Military, Sci-Fi, Space    OVA      110    9.11   \n",
       "8  Action, Comedy, Historical, Parody, Samurai, S...  Movie        1    9.10   \n",
       "9  Action, Comedy, Historical, Parody, Samurai, S...     TV       13    9.11   \n",
       "\n",
       "   members  \n",
       "0   200630  \n",
       "1   793665  \n",
       "2   114262  \n",
       "3   673572  \n",
       "4   151266  \n",
       "5    93351  \n",
       "6   425855  \n",
       "7    80679  \n",
       "8    72534  \n",
       "9    81109  "
      ]
     },
     "execution_count": 193,
     "metadata": {},
     "output_type": "execute_result"
    }
   ],
   "source": [
    "anime.head(10)"
   ]
  },
  {
   "cell_type": "code",
   "execution_count": 194,
   "metadata": {
    "colab": {
     "base_uri": "https://localhost:8080/",
     "height": 363
    },
    "id": "iFsYmn6UpVIo",
    "outputId": "28796b15-5d40-47bf-9ebf-ebf73223f726"
   },
   "outputs": [
    {
     "data": {
      "text/html": [
       "\n",
       "  <div id=\"df-40a8be62-30de-4a91-8c4a-95a34b0ba655\">\n",
       "    <div class=\"colab-df-container\">\n",
       "      <div>\n",
       "<style scoped>\n",
       "    .dataframe tbody tr th:only-of-type {\n",
       "        vertical-align: middle;\n",
       "    }\n",
       "\n",
       "    .dataframe tbody tr th {\n",
       "        vertical-align: top;\n",
       "    }\n",
       "\n",
       "    .dataframe thead th {\n",
       "        text-align: right;\n",
       "    }\n",
       "</style>\n",
       "<table border=\"1\" class=\"dataframe\">\n",
       "  <thead>\n",
       "    <tr style=\"text-align: right;\">\n",
       "      <th></th>\n",
       "      <th>user_id</th>\n",
       "      <th>anime_id</th>\n",
       "      <th>rating</th>\n",
       "    </tr>\n",
       "  </thead>\n",
       "  <tbody>\n",
       "    <tr>\n",
       "      <th>7813727</th>\n",
       "      <td>73515</td>\n",
       "      <td>13161</td>\n",
       "      <td>8</td>\n",
       "    </tr>\n",
       "    <tr>\n",
       "      <th>7813728</th>\n",
       "      <td>73515</td>\n",
       "      <td>13331</td>\n",
       "      <td>9</td>\n",
       "    </tr>\n",
       "    <tr>\n",
       "      <th>7813729</th>\n",
       "      <td>73515</td>\n",
       "      <td>13599</td>\n",
       "      <td>7</td>\n",
       "    </tr>\n",
       "    <tr>\n",
       "      <th>7813730</th>\n",
       "      <td>73515</td>\n",
       "      <td>13659</td>\n",
       "      <td>8</td>\n",
       "    </tr>\n",
       "    <tr>\n",
       "      <th>7813731</th>\n",
       "      <td>73515</td>\n",
       "      <td>14345</td>\n",
       "      <td>7</td>\n",
       "    </tr>\n",
       "    <tr>\n",
       "      <th>7813732</th>\n",
       "      <td>73515</td>\n",
       "      <td>16512</td>\n",
       "      <td>7</td>\n",
       "    </tr>\n",
       "    <tr>\n",
       "      <th>7813733</th>\n",
       "      <td>73515</td>\n",
       "      <td>17187</td>\n",
       "      <td>9</td>\n",
       "    </tr>\n",
       "    <tr>\n",
       "      <th>7813734</th>\n",
       "      <td>73515</td>\n",
       "      <td>22145</td>\n",
       "      <td>10</td>\n",
       "    </tr>\n",
       "    <tr>\n",
       "      <th>7813735</th>\n",
       "      <td>73516</td>\n",
       "      <td>790</td>\n",
       "      <td>9</td>\n",
       "    </tr>\n",
       "    <tr>\n",
       "      <th>7813736</th>\n",
       "      <td>73516</td>\n",
       "      <td>8074</td>\n",
       "      <td>9</td>\n",
       "    </tr>\n",
       "  </tbody>\n",
       "</table>\n",
       "</div>\n",
       "      <button class=\"colab-df-convert\" onclick=\"convertToInteractive('df-40a8be62-30de-4a91-8c4a-95a34b0ba655')\"\n",
       "              title=\"Convert this dataframe to an interactive table.\"\n",
       "              style=\"display:none;\">\n",
       "        \n",
       "  <svg xmlns=\"http://www.w3.org/2000/svg\" height=\"24px\"viewBox=\"0 0 24 24\"\n",
       "       width=\"24px\">\n",
       "    <path d=\"M0 0h24v24H0V0z\" fill=\"none\"/>\n",
       "    <path d=\"M18.56 5.44l.94 2.06.94-2.06 2.06-.94-2.06-.94-.94-2.06-.94 2.06-2.06.94zm-11 1L8.5 8.5l.94-2.06 2.06-.94-2.06-.94L8.5 2.5l-.94 2.06-2.06.94zm10 10l.94 2.06.94-2.06 2.06-.94-2.06-.94-.94-2.06-.94 2.06-2.06.94z\"/><path d=\"M17.41 7.96l-1.37-1.37c-.4-.4-.92-.59-1.43-.59-.52 0-1.04.2-1.43.59L10.3 9.45l-7.72 7.72c-.78.78-.78 2.05 0 2.83L4 21.41c.39.39.9.59 1.41.59.51 0 1.02-.2 1.41-.59l7.78-7.78 2.81-2.81c.8-.78.8-2.07 0-2.86zM5.41 20L4 18.59l7.72-7.72 1.47 1.35L5.41 20z\"/>\n",
       "  </svg>\n",
       "      </button>\n",
       "      \n",
       "  <style>\n",
       "    .colab-df-container {\n",
       "      display:flex;\n",
       "      flex-wrap:wrap;\n",
       "      gap: 12px;\n",
       "    }\n",
       "\n",
       "    .colab-df-convert {\n",
       "      background-color: #E8F0FE;\n",
       "      border: none;\n",
       "      border-radius: 50%;\n",
       "      cursor: pointer;\n",
       "      display: none;\n",
       "      fill: #1967D2;\n",
       "      height: 32px;\n",
       "      padding: 0 0 0 0;\n",
       "      width: 32px;\n",
       "    }\n",
       "\n",
       "    .colab-df-convert:hover {\n",
       "      background-color: #E2EBFA;\n",
       "      box-shadow: 0px 1px 2px rgba(60, 64, 67, 0.3), 0px 1px 3px 1px rgba(60, 64, 67, 0.15);\n",
       "      fill: #174EA6;\n",
       "    }\n",
       "\n",
       "    [theme=dark] .colab-df-convert {\n",
       "      background-color: #3B4455;\n",
       "      fill: #D2E3FC;\n",
       "    }\n",
       "\n",
       "    [theme=dark] .colab-df-convert:hover {\n",
       "      background-color: #434B5C;\n",
       "      box-shadow: 0px 1px 3px 1px rgba(0, 0, 0, 0.15);\n",
       "      filter: drop-shadow(0px 1px 2px rgba(0, 0, 0, 0.3));\n",
       "      fill: #FFFFFF;\n",
       "    }\n",
       "  </style>\n",
       "\n",
       "      <script>\n",
       "        const buttonEl =\n",
       "          document.querySelector('#df-40a8be62-30de-4a91-8c4a-95a34b0ba655 button.colab-df-convert');\n",
       "        buttonEl.style.display =\n",
       "          google.colab.kernel.accessAllowed ? 'block' : 'none';\n",
       "\n",
       "        async function convertToInteractive(key) {\n",
       "          const element = document.querySelector('#df-40a8be62-30de-4a91-8c4a-95a34b0ba655');\n",
       "          const dataTable =\n",
       "            await google.colab.kernel.invokeFunction('convertToInteractive',\n",
       "                                                     [key], {});\n",
       "          if (!dataTable) return;\n",
       "\n",
       "          const docLinkHtml = 'Like what you see? Visit the ' +\n",
       "            '<a target=\"_blank\" href=https://colab.research.google.com/notebooks/data_table.ipynb>data table notebook</a>'\n",
       "            + ' to learn more about interactive tables.';\n",
       "          element.innerHTML = '';\n",
       "          dataTable['output_type'] = 'display_data';\n",
       "          await google.colab.output.renderOutput(dataTable, element);\n",
       "          const docLink = document.createElement('div');\n",
       "          docLink.innerHTML = docLinkHtml;\n",
       "          element.appendChild(docLink);\n",
       "        }\n",
       "      </script>\n",
       "    </div>\n",
       "  </div>\n",
       "  "
      ],
      "text/plain": [
       "         user_id  anime_id  rating\n",
       "7813727    73515     13161       8\n",
       "7813728    73515     13331       9\n",
       "7813729    73515     13599       7\n",
       "7813730    73515     13659       8\n",
       "7813731    73515     14345       7\n",
       "7813732    73515     16512       7\n",
       "7813733    73515     17187       9\n",
       "7813734    73515     22145      10\n",
       "7813735    73516       790       9\n",
       "7813736    73516      8074       9"
      ]
     },
     "execution_count": 194,
     "metadata": {},
     "output_type": "execute_result"
    }
   ],
   "source": [
    "rating.tail(10)"
   ]
  },
  {
   "cell_type": "markdown",
   "metadata": {
    "id": "j1Y_WQ6bp8LZ"
   },
   "source": [
    "Можно создать и из коробки:"
   ]
  },
  {
   "cell_type": "code",
   "execution_count": 196,
   "metadata": {
    "colab": {
     "base_uri": "https://localhost:8080/",
     "height": 143
    },
    "id": "m63uSKBsp-If",
    "outputId": "a130ab16-9d8d-454a-a70f-78fc6b29c4cc"
   },
   "outputs": [
    {
     "data": {
      "text/html": [
       "\n",
       "  <div id=\"df-96c3c2bf-8128-4965-8567-3adcdc4e3757\">\n",
       "    <div class=\"colab-df-container\">\n",
       "      <div>\n",
       "<style scoped>\n",
       "    .dataframe tbody tr th:only-of-type {\n",
       "        vertical-align: middle;\n",
       "    }\n",
       "\n",
       "    .dataframe tbody tr th {\n",
       "        vertical-align: top;\n",
       "    }\n",
       "\n",
       "    .dataframe thead th {\n",
       "        text-align: right;\n",
       "    }\n",
       "</style>\n",
       "<table border=\"1\" class=\"dataframe\">\n",
       "  <thead>\n",
       "    <tr style=\"text-align: right;\">\n",
       "      <th></th>\n",
       "      <th>id</th>\n",
       "      <th>name</th>\n",
       "      <th>surname</th>\n",
       "    </tr>\n",
       "  </thead>\n",
       "  <tbody>\n",
       "    <tr>\n",
       "      <th>0</th>\n",
       "      <td>1</td>\n",
       "      <td>A</td>\n",
       "      <td>Ahah</td>\n",
       "    </tr>\n",
       "    <tr>\n",
       "      <th>1</th>\n",
       "      <td>2</td>\n",
       "      <td>B</td>\n",
       "      <td>Ahah</td>\n",
       "    </tr>\n",
       "    <tr>\n",
       "      <th>2</th>\n",
       "      <td>3</td>\n",
       "      <td>C</td>\n",
       "      <td>Ahaha</td>\n",
       "    </tr>\n",
       "  </tbody>\n",
       "</table>\n",
       "</div>\n",
       "      <button class=\"colab-df-convert\" onclick=\"convertToInteractive('df-96c3c2bf-8128-4965-8567-3adcdc4e3757')\"\n",
       "              title=\"Convert this dataframe to an interactive table.\"\n",
       "              style=\"display:none;\">\n",
       "        \n",
       "  <svg xmlns=\"http://www.w3.org/2000/svg\" height=\"24px\"viewBox=\"0 0 24 24\"\n",
       "       width=\"24px\">\n",
       "    <path d=\"M0 0h24v24H0V0z\" fill=\"none\"/>\n",
       "    <path d=\"M18.56 5.44l.94 2.06.94-2.06 2.06-.94-2.06-.94-.94-2.06-.94 2.06-2.06.94zm-11 1L8.5 8.5l.94-2.06 2.06-.94-2.06-.94L8.5 2.5l-.94 2.06-2.06.94zm10 10l.94 2.06.94-2.06 2.06-.94-2.06-.94-.94-2.06-.94 2.06-2.06.94z\"/><path d=\"M17.41 7.96l-1.37-1.37c-.4-.4-.92-.59-1.43-.59-.52 0-1.04.2-1.43.59L10.3 9.45l-7.72 7.72c-.78.78-.78 2.05 0 2.83L4 21.41c.39.39.9.59 1.41.59.51 0 1.02-.2 1.41-.59l7.78-7.78 2.81-2.81c.8-.78.8-2.07 0-2.86zM5.41 20L4 18.59l7.72-7.72 1.47 1.35L5.41 20z\"/>\n",
       "  </svg>\n",
       "      </button>\n",
       "      \n",
       "  <style>\n",
       "    .colab-df-container {\n",
       "      display:flex;\n",
       "      flex-wrap:wrap;\n",
       "      gap: 12px;\n",
       "    }\n",
       "\n",
       "    .colab-df-convert {\n",
       "      background-color: #E8F0FE;\n",
       "      border: none;\n",
       "      border-radius: 50%;\n",
       "      cursor: pointer;\n",
       "      display: none;\n",
       "      fill: #1967D2;\n",
       "      height: 32px;\n",
       "      padding: 0 0 0 0;\n",
       "      width: 32px;\n",
       "    }\n",
       "\n",
       "    .colab-df-convert:hover {\n",
       "      background-color: #E2EBFA;\n",
       "      box-shadow: 0px 1px 2px rgba(60, 64, 67, 0.3), 0px 1px 3px 1px rgba(60, 64, 67, 0.15);\n",
       "      fill: #174EA6;\n",
       "    }\n",
       "\n",
       "    [theme=dark] .colab-df-convert {\n",
       "      background-color: #3B4455;\n",
       "      fill: #D2E3FC;\n",
       "    }\n",
       "\n",
       "    [theme=dark] .colab-df-convert:hover {\n",
       "      background-color: #434B5C;\n",
       "      box-shadow: 0px 1px 3px 1px rgba(0, 0, 0, 0.15);\n",
       "      filter: drop-shadow(0px 1px 2px rgba(0, 0, 0, 0.3));\n",
       "      fill: #FFFFFF;\n",
       "    }\n",
       "  </style>\n",
       "\n",
       "      <script>\n",
       "        const buttonEl =\n",
       "          document.querySelector('#df-96c3c2bf-8128-4965-8567-3adcdc4e3757 button.colab-df-convert');\n",
       "        buttonEl.style.display =\n",
       "          google.colab.kernel.accessAllowed ? 'block' : 'none';\n",
       "\n",
       "        async function convertToInteractive(key) {\n",
       "          const element = document.querySelector('#df-96c3c2bf-8128-4965-8567-3adcdc4e3757');\n",
       "          const dataTable =\n",
       "            await google.colab.kernel.invokeFunction('convertToInteractive',\n",
       "                                                     [key], {});\n",
       "          if (!dataTable) return;\n",
       "\n",
       "          const docLinkHtml = 'Like what you see? Visit the ' +\n",
       "            '<a target=\"_blank\" href=https://colab.research.google.com/notebooks/data_table.ipynb>data table notebook</a>'\n",
       "            + ' to learn more about interactive tables.';\n",
       "          element.innerHTML = '';\n",
       "          dataTable['output_type'] = 'display_data';\n",
       "          await google.colab.output.renderOutput(dataTable, element);\n",
       "          const docLink = document.createElement('div');\n",
       "          docLink.innerHTML = docLinkHtml;\n",
       "          element.appendChild(docLink);\n",
       "        }\n",
       "      </script>\n",
       "    </div>\n",
       "  </div>\n",
       "  "
      ],
      "text/plain": [
       "   id name surname\n",
       "0   1    A    Ahah\n",
       "1   2    B    Ahah\n",
       "2   3    C   Ahaha"
      ]
     },
     "execution_count": 196,
     "metadata": {},
     "output_type": "execute_result"
    }
   ],
   "source": [
    "df = pd.DataFrame([[1,'A', 'Ahah'],\n",
    "                  [2,'B', 'Ahah'],\n",
    "                  [3,'C', 'Ahaha']], \n",
    "columns=['id','name', 'surname'])\n",
    "df"
   ]
  },
  {
   "cell_type": "markdown",
   "metadata": {
    "id": "JAx2Q0SkqNOo"
   },
   "source": [
    "Одна из важных составляющих - это копирование. Почему?\n",
    "\n",
    "Потому что очень часто вы будете видеть предупреждение, что пытаетесь изменить или сделать слайс в оригинальном датасете или в копии (и вас это будет мучать). Так что тут важно каждый раз понимать - копия или не копия\n",
    "\n",
    "Чтобы явно скопировать, мы делаем copy"
   ]
  },
  {
   "cell_type": "code",
   "execution_count": 197,
   "metadata": {
    "id": "AA4OyF-Hqwe0"
   },
   "outputs": [],
   "source": [
    "anime_2 = anime.copy(deep=True) #deep говорит, что физически его надо скопировать"
   ]
  },
  {
   "cell_type": "markdown",
   "metadata": {
    "id": "dOERGiYHq6Qo"
   },
   "source": [
    "### Первые шаги"
   ]
  },
  {
   "cell_type": "code",
   "execution_count": 202,
   "metadata": {
    "colab": {
     "base_uri": "https://localhost:8080/"
    },
    "id": "97E_TvE7q3N1",
    "outputId": "16b11811-fc0f-4228-b81b-4ee8541693bc"
   },
   "outputs": [
    {
     "name": "stdout",
     "output_type": "stream",
     "text": [
      "12294\n",
      "------------------------------\n",
      "<class 'pandas.core.frame.DataFrame'>\n",
      "RangeIndex: 12294 entries, 0 to 12293\n",
      "Data columns (total 7 columns):\n",
      " #   Column    Non-Null Count  Dtype  \n",
      "---  ------    --------------  -----  \n",
      " 0   anime_id  12294 non-null  int64  \n",
      " 1   name      12294 non-null  object \n",
      " 2   genre     12232 non-null  object \n",
      " 3   type      12269 non-null  object \n",
      " 4   episodes  12294 non-null  object \n",
      " 5   rating    12064 non-null  float64\n",
      " 6   members   12294 non-null  int64  \n",
      "dtypes: float64(1), int64(2), object(4)\n",
      "memory usage: 672.5+ KB\n",
      "None\n",
      "------------------------------\n",
      "           anime_id        rating       members\n",
      "count  12294.000000  12064.000000  1.229400e+04\n",
      "mean   14058.221653      6.473902  1.807134e+04\n",
      "std    11455.294701      1.026746  5.482068e+04\n",
      "min        1.000000      1.670000  5.000000e+00\n",
      "25%     3484.250000      5.880000  2.250000e+02\n",
      "50%    10260.500000      6.570000  1.550000e+03\n",
      "75%    24794.500000      7.180000  9.437000e+03\n",
      "max    34527.000000     10.000000  1.013917e+06\n"
     ]
    }
   ],
   "source": [
    "print(len(anime)) #сколько строк в массиве\n",
    "print('-' * 30)\n",
    "print(anime.info()) #описание для всех\n",
    "print('-' * 30)\n",
    "print(anime.describe()) # общее описание для нестроковых данных"
   ]
  },
  {
   "cell_type": "markdown",
   "metadata": {
    "id": "HwjY4NuErgNq"
   },
   "source": [
    "Первое, что нас напрягает - число эпизодов же тоже число, почему он object? Давайте посмотрим на все уникальные значения:"
   ]
  },
  {
   "cell_type": "code",
   "execution_count": 203,
   "metadata": {
    "colab": {
     "base_uri": "https://localhost:8080/"
    },
    "id": "vvlf0Uwxrskd",
    "outputId": "7874dc6c-201a-4ca7-c27c-cd61fb4d0bf7"
   },
   "outputs": [
    {
     "data": {
      "text/plain": [
       "array(['1', '64', '51', '24', '10', '148', '110', '13', '201', '25', '22',\n",
       "       '75', '4', '26', '12', '27', '43', '74', '37', '2', '11', '99',\n",
       "       'Unknown', '39', '101', '47', '50', '62', '33', '112', '23', '3',\n",
       "       '94', '6', '8', '14', '7', '40', '15', '203', '77', '291', '120',\n",
       "       '102', '96', '38', '79', '175', '103', '70', '153', '45', '5',\n",
       "       '21', '63', '52', '28', '145', '36', '69', '60', '178', '114',\n",
       "       '35', '61', '34', '109', '20', '9', '49', '366', '97', '48', '78',\n",
       "       '358', '155', '104', '113', '54', '167', '161', '42', '142', '31',\n",
       "       '373', '220', '46', '195', '17', '1787', '73', '147', '127', '16',\n",
       "       '19', '98', '150', '76', '53', '124', '29', '115', '224', '44',\n",
       "       '58', '93', '154', '92', '67', '172', '86', '30', '276', '59',\n",
       "       '72', '330', '41', '105', '128', '137', '56', '55', '65', '243',\n",
       "       '193', '18', '191', '180', '91', '192', '66', '182', '32', '164',\n",
       "       '100', '296', '694', '95', '68', '117', '151', '130', '87', '170',\n",
       "       '119', '84', '108', '156', '140', '331', '305', '300', '510',\n",
       "       '200', '88', '1471', '526', '143', '726', '136', '1818', '237',\n",
       "       '1428', '365', '163', '283', '71', '260', '199', '225', '312',\n",
       "       '240', '1306', '1565', '773', '1274', '90', '475', '263', '83',\n",
       "       '85', '1006', '80', '162', '132', '141', '125'], dtype=object)"
      ]
     },
     "execution_count": 203,
     "metadata": {},
     "output_type": "execute_result"
    }
   ],
   "source": [
    "anime.episodes.unique() #вывести все уникальные значения\n",
    "#Любой столбец в DataFrame - это Series. Здесь у нас array, поскольку unique() преобразовывает\n",
    "#Видим Unknown, печаль"
   ]
  },
  {
   "cell_type": "code",
   "execution_count": 211,
   "metadata": {
    "colab": {
     "base_uri": "https://localhost:8080/",
     "height": 0
    },
    "id": "BAGl30QYsD8h",
    "outputId": "6bb19c23-54a6-477a-c567-fc31d9ce3a6b"
   },
   "outputs": [
    {
     "data": {
      "text/html": [
       "\n",
       "  <div id=\"df-ee3dc930-6e0b-4aa3-bdaa-c298375728a0\">\n",
       "    <div class=\"colab-df-container\">\n",
       "      <div>\n",
       "<style scoped>\n",
       "    .dataframe tbody tr th:only-of-type {\n",
       "        vertical-align: middle;\n",
       "    }\n",
       "\n",
       "    .dataframe tbody tr th {\n",
       "        vertical-align: top;\n",
       "    }\n",
       "\n",
       "    .dataframe thead th {\n",
       "        text-align: right;\n",
       "    }\n",
       "</style>\n",
       "<table border=\"1\" class=\"dataframe\">\n",
       "  <thead>\n",
       "    <tr style=\"text-align: right;\">\n",
       "      <th></th>\n",
       "      <th>name</th>\n",
       "      <th>genre</th>\n",
       "      <th>episodes</th>\n",
       "    </tr>\n",
       "  </thead>\n",
       "  <tbody>\n",
       "    <tr>\n",
       "      <th>74</th>\n",
       "      <td>One Piece</td>\n",
       "      <td>Action, Adventure, Comedy, Drama, Fantasy, Sho...</td>\n",
       "      <td>Unknown</td>\n",
       "    </tr>\n",
       "    <tr>\n",
       "      <th>252</th>\n",
       "      <td>Detective Conan</td>\n",
       "      <td>Adventure, Comedy, Mystery, Police, Shounen</td>\n",
       "      <td>Unknown</td>\n",
       "    </tr>\n",
       "    <tr>\n",
       "      <th>615</th>\n",
       "      <td>Naruto: Shippuuden</td>\n",
       "      <td>Action, Comedy, Martial Arts, Shounen, Super P...</td>\n",
       "      <td>Unknown</td>\n",
       "    </tr>\n",
       "    <tr>\n",
       "      <th>991</th>\n",
       "      <td>Crayon Shin-chan</td>\n",
       "      <td>Comedy, Ecchi, Kids, School, Shounen, Slice of...</td>\n",
       "      <td>Unknown</td>\n",
       "    </tr>\n",
       "    <tr>\n",
       "      <th>1021</th>\n",
       "      <td>Tanaka-kun wa Itsumo Kedaruge Specials</td>\n",
       "      <td>Comedy, School, Slice of Life</td>\n",
       "      <td>Unknown</td>\n",
       "    </tr>\n",
       "    <tr>\n",
       "      <th>...</th>\n",
       "      <td>...</td>\n",
       "      <td>...</td>\n",
       "      <td>...</td>\n",
       "    </tr>\n",
       "    <tr>\n",
       "      <th>12265</th>\n",
       "      <td>Kyonyuu Reijou MC Gakuen</td>\n",
       "      <td>Hentai</td>\n",
       "      <td>Unknown</td>\n",
       "    </tr>\n",
       "    <tr>\n",
       "      <th>12274</th>\n",
       "      <td>Nuki Doki! Tenshi to Akuma no Sakusei Battle -...</td>\n",
       "      <td>Hentai</td>\n",
       "      <td>Unknown</td>\n",
       "    </tr>\n",
       "    <tr>\n",
       "      <th>12280</th>\n",
       "      <td>Saimin Class</td>\n",
       "      <td>Hentai</td>\n",
       "      <td>Unknown</td>\n",
       "    </tr>\n",
       "    <tr>\n",
       "      <th>12282</th>\n",
       "      <td>Shikkoku no Shaga The Animation</td>\n",
       "      <td>Hentai</td>\n",
       "      <td>Unknown</td>\n",
       "    </tr>\n",
       "    <tr>\n",
       "      <th>12285</th>\n",
       "      <td>Taimanin Asagi 3</td>\n",
       "      <td>Demons, Hentai, Supernatural</td>\n",
       "      <td>Unknown</td>\n",
       "    </tr>\n",
       "  </tbody>\n",
       "</table>\n",
       "<p>340 rows × 3 columns</p>\n",
       "</div>\n",
       "      <button class=\"colab-df-convert\" onclick=\"convertToInteractive('df-ee3dc930-6e0b-4aa3-bdaa-c298375728a0')\"\n",
       "              title=\"Convert this dataframe to an interactive table.\"\n",
       "              style=\"display:none;\">\n",
       "        \n",
       "  <svg xmlns=\"http://www.w3.org/2000/svg\" height=\"24px\"viewBox=\"0 0 24 24\"\n",
       "       width=\"24px\">\n",
       "    <path d=\"M0 0h24v24H0V0z\" fill=\"none\"/>\n",
       "    <path d=\"M18.56 5.44l.94 2.06.94-2.06 2.06-.94-2.06-.94-.94-2.06-.94 2.06-2.06.94zm-11 1L8.5 8.5l.94-2.06 2.06-.94-2.06-.94L8.5 2.5l-.94 2.06-2.06.94zm10 10l.94 2.06.94-2.06 2.06-.94-2.06-.94-.94-2.06-.94 2.06-2.06.94z\"/><path d=\"M17.41 7.96l-1.37-1.37c-.4-.4-.92-.59-1.43-.59-.52 0-1.04.2-1.43.59L10.3 9.45l-7.72 7.72c-.78.78-.78 2.05 0 2.83L4 21.41c.39.39.9.59 1.41.59.51 0 1.02-.2 1.41-.59l7.78-7.78 2.81-2.81c.8-.78.8-2.07 0-2.86zM5.41 20L4 18.59l7.72-7.72 1.47 1.35L5.41 20z\"/>\n",
       "  </svg>\n",
       "      </button>\n",
       "      \n",
       "  <style>\n",
       "    .colab-df-container {\n",
       "      display:flex;\n",
       "      flex-wrap:wrap;\n",
       "      gap: 12px;\n",
       "    }\n",
       "\n",
       "    .colab-df-convert {\n",
       "      background-color: #E8F0FE;\n",
       "      border: none;\n",
       "      border-radius: 50%;\n",
       "      cursor: pointer;\n",
       "      display: none;\n",
       "      fill: #1967D2;\n",
       "      height: 32px;\n",
       "      padding: 0 0 0 0;\n",
       "      width: 32px;\n",
       "    }\n",
       "\n",
       "    .colab-df-convert:hover {\n",
       "      background-color: #E2EBFA;\n",
       "      box-shadow: 0px 1px 2px rgba(60, 64, 67, 0.3), 0px 1px 3px 1px rgba(60, 64, 67, 0.15);\n",
       "      fill: #174EA6;\n",
       "    }\n",
       "\n",
       "    [theme=dark] .colab-df-convert {\n",
       "      background-color: #3B4455;\n",
       "      fill: #D2E3FC;\n",
       "    }\n",
       "\n",
       "    [theme=dark] .colab-df-convert:hover {\n",
       "      background-color: #434B5C;\n",
       "      box-shadow: 0px 1px 3px 1px rgba(0, 0, 0, 0.15);\n",
       "      filter: drop-shadow(0px 1px 2px rgba(0, 0, 0, 0.3));\n",
       "      fill: #FFFFFF;\n",
       "    }\n",
       "  </style>\n",
       "\n",
       "      <script>\n",
       "        const buttonEl =\n",
       "          document.querySelector('#df-ee3dc930-6e0b-4aa3-bdaa-c298375728a0 button.colab-df-convert');\n",
       "        buttonEl.style.display =\n",
       "          google.colab.kernel.accessAllowed ? 'block' : 'none';\n",
       "\n",
       "        async function convertToInteractive(key) {\n",
       "          const element = document.querySelector('#df-ee3dc930-6e0b-4aa3-bdaa-c298375728a0');\n",
       "          const dataTable =\n",
       "            await google.colab.kernel.invokeFunction('convertToInteractive',\n",
       "                                                     [key], {});\n",
       "          if (!dataTable) return;\n",
       "\n",
       "          const docLinkHtml = 'Like what you see? Visit the ' +\n",
       "            '<a target=\"_blank\" href=https://colab.research.google.com/notebooks/data_table.ipynb>data table notebook</a>'\n",
       "            + ' to learn more about interactive tables.';\n",
       "          element.innerHTML = '';\n",
       "          dataTable['output_type'] = 'display_data';\n",
       "          await google.colab.output.renderOutput(dataTable, element);\n",
       "          const docLink = document.createElement('div');\n",
       "          docLink.innerHTML = docLinkHtml;\n",
       "          element.appendChild(docLink);\n",
       "        }\n",
       "      </script>\n",
       "    </div>\n",
       "  </div>\n",
       "  "
      ],
      "text/plain": [
       "                                                    name  \\\n",
       "74                                             One Piece   \n",
       "252                                      Detective Conan   \n",
       "615                                   Naruto: Shippuuden   \n",
       "991                                     Crayon Shin-chan   \n",
       "1021              Tanaka-kun wa Itsumo Kedaruge Specials   \n",
       "...                                                  ...   \n",
       "12265                           Kyonyuu Reijou MC Gakuen   \n",
       "12274  Nuki Doki! Tenshi to Akuma no Sakusei Battle -...   \n",
       "12280                                       Saimin Class   \n",
       "12282                    Shikkoku no Shaga The Animation   \n",
       "12285                                   Taimanin Asagi 3   \n",
       "\n",
       "                                                   genre episodes  \n",
       "74     Action, Adventure, Comedy, Drama, Fantasy, Sho...  Unknown  \n",
       "252          Adventure, Comedy, Mystery, Police, Shounen  Unknown  \n",
       "615    Action, Comedy, Martial Arts, Shounen, Super P...  Unknown  \n",
       "991    Comedy, Ecchi, Kids, School, Shounen, Slice of...  Unknown  \n",
       "1021                       Comedy, School, Slice of Life  Unknown  \n",
       "...                                                  ...      ...  \n",
       "12265                                             Hentai  Unknown  \n",
       "12274                                             Hentai  Unknown  \n",
       "12280                                             Hentai  Unknown  \n",
       "12282                                             Hentai  Unknown  \n",
       "12285                       Demons, Hentai, Supernatural  Unknown  \n",
       "\n",
       "[340 rows x 3 columns]"
      ]
     },
     "execution_count": 211,
     "metadata": {},
     "output_type": "execute_result"
    }
   ],
   "source": [
    "# Отфильтруем и посмотрим, где там Unknown\n",
    "anime[anime.episodes == 'Unknown'][['name', 'genre', 'episodes']] #выберем еще конкретные колонки\n",
    "# Ну это аниме, что еще не все до конца вышло (да, это старая таблица, в Наруто тут еще не кончились серии)"
   ]
  },
  {
   "cell_type": "markdown",
   "metadata": {
    "id": "Oi-gc1P6so0Q"
   },
   "source": [
    "Как исследовать колонки со строками? Можно с помощью value_counts():"
   ]
  },
  {
   "cell_type": "code",
   "execution_count": 214,
   "metadata": {
    "colab": {
     "base_uri": "https://localhost:8080/"
    },
    "id": "aqBMZuoRsdiE",
    "outputId": "23d3b17d-d037-4fdf-895b-160f9d6235c0"
   },
   "outputs": [
    {
     "data": {
      "text/plain": [
       "Hentai                                                  823\n",
       "Comedy                                                  523\n",
       "Music                                                   301\n",
       "Kids                                                    199\n",
       "Comedy, Slice of Life                                   179\n",
       "                                                       ... \n",
       "Adventure, Drama, Fantasy, Game, Sci-Fi                   1\n",
       "Adventure, Demons, Fantasy, Historical                    1\n",
       "Action, Comedy, Drama, Mecha, Music, Sci-Fi, Shounen      1\n",
       "Action, Comedy, Fantasy, Mecha, Sci-Fi, Shounen           1\n",
       "Hentai, Slice of Life                                     1\n",
       "Name: genre, Length: 3264, dtype: int64"
      ]
     },
     "execution_count": 214,
     "metadata": {},
     "output_type": "execute_result"
    }
   ],
   "source": [
    "anime.genre.value_counts() #тут тоже получаем Series"
   ]
  },
  {
   "cell_type": "markdown",
   "metadata": {
    "id": "YpoVz_3ErrWw"
   },
   "source": [
    "Хотим добавить новую колонку (например, флаг, что это все аниме):"
   ]
  },
  {
   "cell_type": "code",
   "execution_count": 215,
   "metadata": {
    "colab": {
     "base_uri": "https://localhost:8080/",
     "height": 0
    },
    "id": "jNaFH9OotJkZ",
    "outputId": "02d6f52e-1608-4b00-b22c-3e24e2c36244"
   },
   "outputs": [
    {
     "data": {
      "text/html": [
       "\n",
       "  <div id=\"df-a735cbb1-7702-405e-8aa9-f2e57c4d8e1e\">\n",
       "    <div class=\"colab-df-container\">\n",
       "      <div>\n",
       "<style scoped>\n",
       "    .dataframe tbody tr th:only-of-type {\n",
       "        vertical-align: middle;\n",
       "    }\n",
       "\n",
       "    .dataframe tbody tr th {\n",
       "        vertical-align: top;\n",
       "    }\n",
       "\n",
       "    .dataframe thead th {\n",
       "        text-align: right;\n",
       "    }\n",
       "</style>\n",
       "<table border=\"1\" class=\"dataframe\">\n",
       "  <thead>\n",
       "    <tr style=\"text-align: right;\">\n",
       "      <th></th>\n",
       "      <th>anime_id</th>\n",
       "      <th>name</th>\n",
       "      <th>genre</th>\n",
       "      <th>type</th>\n",
       "      <th>episodes</th>\n",
       "      <th>rating</th>\n",
       "      <th>members</th>\n",
       "      <th>is_anime</th>\n",
       "    </tr>\n",
       "  </thead>\n",
       "  <tbody>\n",
       "    <tr>\n",
       "      <th>0</th>\n",
       "      <td>32281</td>\n",
       "      <td>Kimi no Na wa.</td>\n",
       "      <td>Drama, Romance, School, Supernatural</td>\n",
       "      <td>Movie</td>\n",
       "      <td>1</td>\n",
       "      <td>9.37</td>\n",
       "      <td>200630</td>\n",
       "      <td>True</td>\n",
       "    </tr>\n",
       "    <tr>\n",
       "      <th>1</th>\n",
       "      <td>5114</td>\n",
       "      <td>Fullmetal Alchemist: Brotherhood</td>\n",
       "      <td>Action, Adventure, Drama, Fantasy, Magic, Mili...</td>\n",
       "      <td>TV</td>\n",
       "      <td>64</td>\n",
       "      <td>9.26</td>\n",
       "      <td>793665</td>\n",
       "      <td>True</td>\n",
       "    </tr>\n",
       "    <tr>\n",
       "      <th>2</th>\n",
       "      <td>28977</td>\n",
       "      <td>Gintama°</td>\n",
       "      <td>Action, Comedy, Historical, Parody, Samurai, S...</td>\n",
       "      <td>TV</td>\n",
       "      <td>51</td>\n",
       "      <td>9.25</td>\n",
       "      <td>114262</td>\n",
       "      <td>True</td>\n",
       "    </tr>\n",
       "    <tr>\n",
       "      <th>3</th>\n",
       "      <td>9253</td>\n",
       "      <td>Steins;Gate</td>\n",
       "      <td>Sci-Fi, Thriller</td>\n",
       "      <td>TV</td>\n",
       "      <td>24</td>\n",
       "      <td>9.17</td>\n",
       "      <td>673572</td>\n",
       "      <td>True</td>\n",
       "    </tr>\n",
       "    <tr>\n",
       "      <th>4</th>\n",
       "      <td>9969</td>\n",
       "      <td>Gintama&amp;#039;</td>\n",
       "      <td>Action, Comedy, Historical, Parody, Samurai, S...</td>\n",
       "      <td>TV</td>\n",
       "      <td>51</td>\n",
       "      <td>9.16</td>\n",
       "      <td>151266</td>\n",
       "      <td>True</td>\n",
       "    </tr>\n",
       "    <tr>\n",
       "      <th>5</th>\n",
       "      <td>32935</td>\n",
       "      <td>Haikyuu!!: Karasuno Koukou VS Shiratorizawa Ga...</td>\n",
       "      <td>Comedy, Drama, School, Shounen, Sports</td>\n",
       "      <td>TV</td>\n",
       "      <td>10</td>\n",
       "      <td>9.15</td>\n",
       "      <td>93351</td>\n",
       "      <td>True</td>\n",
       "    </tr>\n",
       "    <tr>\n",
       "      <th>6</th>\n",
       "      <td>11061</td>\n",
       "      <td>Hunter x Hunter (2011)</td>\n",
       "      <td>Action, Adventure, Shounen, Super Power</td>\n",
       "      <td>TV</td>\n",
       "      <td>148</td>\n",
       "      <td>9.13</td>\n",
       "      <td>425855</td>\n",
       "      <td>True</td>\n",
       "    </tr>\n",
       "    <tr>\n",
       "      <th>7</th>\n",
       "      <td>820</td>\n",
       "      <td>Ginga Eiyuu Densetsu</td>\n",
       "      <td>Drama, Military, Sci-Fi, Space</td>\n",
       "      <td>OVA</td>\n",
       "      <td>110</td>\n",
       "      <td>9.11</td>\n",
       "      <td>80679</td>\n",
       "      <td>True</td>\n",
       "    </tr>\n",
       "    <tr>\n",
       "      <th>8</th>\n",
       "      <td>15335</td>\n",
       "      <td>Gintama Movie: Kanketsu-hen - Yorozuya yo Eien...</td>\n",
       "      <td>Action, Comedy, Historical, Parody, Samurai, S...</td>\n",
       "      <td>Movie</td>\n",
       "      <td>1</td>\n",
       "      <td>9.10</td>\n",
       "      <td>72534</td>\n",
       "      <td>True</td>\n",
       "    </tr>\n",
       "    <tr>\n",
       "      <th>9</th>\n",
       "      <td>15417</td>\n",
       "      <td>Gintama&amp;#039;: Enchousen</td>\n",
       "      <td>Action, Comedy, Historical, Parody, Samurai, S...</td>\n",
       "      <td>TV</td>\n",
       "      <td>13</td>\n",
       "      <td>9.11</td>\n",
       "      <td>81109</td>\n",
       "      <td>True</td>\n",
       "    </tr>\n",
       "  </tbody>\n",
       "</table>\n",
       "</div>\n",
       "      <button class=\"colab-df-convert\" onclick=\"convertToInteractive('df-a735cbb1-7702-405e-8aa9-f2e57c4d8e1e')\"\n",
       "              title=\"Convert this dataframe to an interactive table.\"\n",
       "              style=\"display:none;\">\n",
       "        \n",
       "  <svg xmlns=\"http://www.w3.org/2000/svg\" height=\"24px\"viewBox=\"0 0 24 24\"\n",
       "       width=\"24px\">\n",
       "    <path d=\"M0 0h24v24H0V0z\" fill=\"none\"/>\n",
       "    <path d=\"M18.56 5.44l.94 2.06.94-2.06 2.06-.94-2.06-.94-.94-2.06-.94 2.06-2.06.94zm-11 1L8.5 8.5l.94-2.06 2.06-.94-2.06-.94L8.5 2.5l-.94 2.06-2.06.94zm10 10l.94 2.06.94-2.06 2.06-.94-2.06-.94-.94-2.06-.94 2.06-2.06.94z\"/><path d=\"M17.41 7.96l-1.37-1.37c-.4-.4-.92-.59-1.43-.59-.52 0-1.04.2-1.43.59L10.3 9.45l-7.72 7.72c-.78.78-.78 2.05 0 2.83L4 21.41c.39.39.9.59 1.41.59.51 0 1.02-.2 1.41-.59l7.78-7.78 2.81-2.81c.8-.78.8-2.07 0-2.86zM5.41 20L4 18.59l7.72-7.72 1.47 1.35L5.41 20z\"/>\n",
       "  </svg>\n",
       "      </button>\n",
       "      \n",
       "  <style>\n",
       "    .colab-df-container {\n",
       "      display:flex;\n",
       "      flex-wrap:wrap;\n",
       "      gap: 12px;\n",
       "    }\n",
       "\n",
       "    .colab-df-convert {\n",
       "      background-color: #E8F0FE;\n",
       "      border: none;\n",
       "      border-radius: 50%;\n",
       "      cursor: pointer;\n",
       "      display: none;\n",
       "      fill: #1967D2;\n",
       "      height: 32px;\n",
       "      padding: 0 0 0 0;\n",
       "      width: 32px;\n",
       "    }\n",
       "\n",
       "    .colab-df-convert:hover {\n",
       "      background-color: #E2EBFA;\n",
       "      box-shadow: 0px 1px 2px rgba(60, 64, 67, 0.3), 0px 1px 3px 1px rgba(60, 64, 67, 0.15);\n",
       "      fill: #174EA6;\n",
       "    }\n",
       "\n",
       "    [theme=dark] .colab-df-convert {\n",
       "      background-color: #3B4455;\n",
       "      fill: #D2E3FC;\n",
       "    }\n",
       "\n",
       "    [theme=dark] .colab-df-convert:hover {\n",
       "      background-color: #434B5C;\n",
       "      box-shadow: 0px 1px 3px 1px rgba(0, 0, 0, 0.15);\n",
       "      filter: drop-shadow(0px 1px 2px rgba(0, 0, 0, 0.3));\n",
       "      fill: #FFFFFF;\n",
       "    }\n",
       "  </style>\n",
       "\n",
       "      <script>\n",
       "        const buttonEl =\n",
       "          document.querySelector('#df-a735cbb1-7702-405e-8aa9-f2e57c4d8e1e button.colab-df-convert');\n",
       "        buttonEl.style.display =\n",
       "          google.colab.kernel.accessAllowed ? 'block' : 'none';\n",
       "\n",
       "        async function convertToInteractive(key) {\n",
       "          const element = document.querySelector('#df-a735cbb1-7702-405e-8aa9-f2e57c4d8e1e');\n",
       "          const dataTable =\n",
       "            await google.colab.kernel.invokeFunction('convertToInteractive',\n",
       "                                                     [key], {});\n",
       "          if (!dataTable) return;\n",
       "\n",
       "          const docLinkHtml = 'Like what you see? Visit the ' +\n",
       "            '<a target=\"_blank\" href=https://colab.research.google.com/notebooks/data_table.ipynb>data table notebook</a>'\n",
       "            + ' to learn more about interactive tables.';\n",
       "          element.innerHTML = '';\n",
       "          dataTable['output_type'] = 'display_data';\n",
       "          await google.colab.output.renderOutput(dataTable, element);\n",
       "          const docLink = document.createElement('div');\n",
       "          docLink.innerHTML = docLinkHtml;\n",
       "          element.appendChild(docLink);\n",
       "        }\n",
       "      </script>\n",
       "    </div>\n",
       "  </div>\n",
       "  "
      ],
      "text/plain": [
       "   anime_id                                               name  \\\n",
       "0     32281                                     Kimi no Na wa.   \n",
       "1      5114                   Fullmetal Alchemist: Brotherhood   \n",
       "2     28977                                           Gintama°   \n",
       "3      9253                                        Steins;Gate   \n",
       "4      9969                                      Gintama&#039;   \n",
       "5     32935  Haikyuu!!: Karasuno Koukou VS Shiratorizawa Ga...   \n",
       "6     11061                             Hunter x Hunter (2011)   \n",
       "7       820                               Ginga Eiyuu Densetsu   \n",
       "8     15335  Gintama Movie: Kanketsu-hen - Yorozuya yo Eien...   \n",
       "9     15417                           Gintama&#039;: Enchousen   \n",
       "\n",
       "                                               genre   type episodes  rating  \\\n",
       "0               Drama, Romance, School, Supernatural  Movie        1    9.37   \n",
       "1  Action, Adventure, Drama, Fantasy, Magic, Mili...     TV       64    9.26   \n",
       "2  Action, Comedy, Historical, Parody, Samurai, S...     TV       51    9.25   \n",
       "3                                   Sci-Fi, Thriller     TV       24    9.17   \n",
       "4  Action, Comedy, Historical, Parody, Samurai, S...     TV       51    9.16   \n",
       "5             Comedy, Drama, School, Shounen, Sports     TV       10    9.15   \n",
       "6            Action, Adventure, Shounen, Super Power     TV      148    9.13   \n",
       "7                     Drama, Military, Sci-Fi, Space    OVA      110    9.11   \n",
       "8  Action, Comedy, Historical, Parody, Samurai, S...  Movie        1    9.10   \n",
       "9  Action, Comedy, Historical, Parody, Samurai, S...     TV       13    9.11   \n",
       "\n",
       "   members  is_anime  \n",
       "0   200630      True  \n",
       "1   793665      True  \n",
       "2   114262      True  \n",
       "3   673572      True  \n",
       "4   151266      True  \n",
       "5    93351      True  \n",
       "6   425855      True  \n",
       "7    80679      True  \n",
       "8    72534      True  \n",
       "9    81109      True  "
      ]
     },
     "execution_count": 215,
     "metadata": {},
     "output_type": "execute_result"
    }
   ],
   "source": [
    "anime['is_anime'] = True\n",
    "anime.head(10)"
   ]
  },
  {
   "cell_type": "markdown",
   "metadata": {
    "id": "3JRjS2vCtf03"
   },
   "source": [
    "А допустим хотим удалить, это делается вот так (удалим из копии):"
   ]
  },
  {
   "cell_type": "code",
   "execution_count": 218,
   "metadata": {
    "colab": {
     "base_uri": "https://localhost:8080/",
     "height": 0
    },
    "id": "7qwhBp_Ytj7z",
    "outputId": "ac190b10-4acd-4bd5-dd82-dd92c8f79dfa"
   },
   "outputs": [
    {
     "data": {
      "text/html": [
       "\n",
       "  <div id=\"df-36902a94-2e1a-49a6-ac7b-58165d3d3691\">\n",
       "    <div class=\"colab-df-container\">\n",
       "      <div>\n",
       "<style scoped>\n",
       "    .dataframe tbody tr th:only-of-type {\n",
       "        vertical-align: middle;\n",
       "    }\n",
       "\n",
       "    .dataframe tbody tr th {\n",
       "        vertical-align: top;\n",
       "    }\n",
       "\n",
       "    .dataframe thead th {\n",
       "        text-align: right;\n",
       "    }\n",
       "</style>\n",
       "<table border=\"1\" class=\"dataframe\">\n",
       "  <thead>\n",
       "    <tr style=\"text-align: right;\">\n",
       "      <th></th>\n",
       "      <th>anime_id</th>\n",
       "      <th>name</th>\n",
       "      <th>genre</th>\n",
       "      <th>type</th>\n",
       "      <th>episodes</th>\n",
       "    </tr>\n",
       "  </thead>\n",
       "  <tbody>\n",
       "    <tr>\n",
       "      <th>0</th>\n",
       "      <td>32281</td>\n",
       "      <td>Kimi no Na wa.</td>\n",
       "      <td>Drama, Romance, School, Supernatural</td>\n",
       "      <td>Movie</td>\n",
       "      <td>1</td>\n",
       "    </tr>\n",
       "    <tr>\n",
       "      <th>1</th>\n",
       "      <td>5114</td>\n",
       "      <td>Fullmetal Alchemist: Brotherhood</td>\n",
       "      <td>Action, Adventure, Drama, Fantasy, Magic, Mili...</td>\n",
       "      <td>TV</td>\n",
       "      <td>64</td>\n",
       "    </tr>\n",
       "    <tr>\n",
       "      <th>2</th>\n",
       "      <td>28977</td>\n",
       "      <td>Gintama°</td>\n",
       "      <td>Action, Comedy, Historical, Parody, Samurai, S...</td>\n",
       "      <td>TV</td>\n",
       "      <td>51</td>\n",
       "    </tr>\n",
       "    <tr>\n",
       "      <th>3</th>\n",
       "      <td>9253</td>\n",
       "      <td>Steins;Gate</td>\n",
       "      <td>Sci-Fi, Thriller</td>\n",
       "      <td>TV</td>\n",
       "      <td>24</td>\n",
       "    </tr>\n",
       "    <tr>\n",
       "      <th>4</th>\n",
       "      <td>9969</td>\n",
       "      <td>Gintama&amp;#039;</td>\n",
       "      <td>Action, Comedy, Historical, Parody, Samurai, S...</td>\n",
       "      <td>TV</td>\n",
       "      <td>51</td>\n",
       "    </tr>\n",
       "  </tbody>\n",
       "</table>\n",
       "</div>\n",
       "      <button class=\"colab-df-convert\" onclick=\"convertToInteractive('df-36902a94-2e1a-49a6-ac7b-58165d3d3691')\"\n",
       "              title=\"Convert this dataframe to an interactive table.\"\n",
       "              style=\"display:none;\">\n",
       "        \n",
       "  <svg xmlns=\"http://www.w3.org/2000/svg\" height=\"24px\"viewBox=\"0 0 24 24\"\n",
       "       width=\"24px\">\n",
       "    <path d=\"M0 0h24v24H0V0z\" fill=\"none\"/>\n",
       "    <path d=\"M18.56 5.44l.94 2.06.94-2.06 2.06-.94-2.06-.94-.94-2.06-.94 2.06-2.06.94zm-11 1L8.5 8.5l.94-2.06 2.06-.94-2.06-.94L8.5 2.5l-.94 2.06-2.06.94zm10 10l.94 2.06.94-2.06 2.06-.94-2.06-.94-.94-2.06-.94 2.06-2.06.94z\"/><path d=\"M17.41 7.96l-1.37-1.37c-.4-.4-.92-.59-1.43-.59-.52 0-1.04.2-1.43.59L10.3 9.45l-7.72 7.72c-.78.78-.78 2.05 0 2.83L4 21.41c.39.39.9.59 1.41.59.51 0 1.02-.2 1.41-.59l7.78-7.78 2.81-2.81c.8-.78.8-2.07 0-2.86zM5.41 20L4 18.59l7.72-7.72 1.47 1.35L5.41 20z\"/>\n",
       "  </svg>\n",
       "      </button>\n",
       "      \n",
       "  <style>\n",
       "    .colab-df-container {\n",
       "      display:flex;\n",
       "      flex-wrap:wrap;\n",
       "      gap: 12px;\n",
       "    }\n",
       "\n",
       "    .colab-df-convert {\n",
       "      background-color: #E8F0FE;\n",
       "      border: none;\n",
       "      border-radius: 50%;\n",
       "      cursor: pointer;\n",
       "      display: none;\n",
       "      fill: #1967D2;\n",
       "      height: 32px;\n",
       "      padding: 0 0 0 0;\n",
       "      width: 32px;\n",
       "    }\n",
       "\n",
       "    .colab-df-convert:hover {\n",
       "      background-color: #E2EBFA;\n",
       "      box-shadow: 0px 1px 2px rgba(60, 64, 67, 0.3), 0px 1px 3px 1px rgba(60, 64, 67, 0.15);\n",
       "      fill: #174EA6;\n",
       "    }\n",
       "\n",
       "    [theme=dark] .colab-df-convert {\n",
       "      background-color: #3B4455;\n",
       "      fill: #D2E3FC;\n",
       "    }\n",
       "\n",
       "    [theme=dark] .colab-df-convert:hover {\n",
       "      background-color: #434B5C;\n",
       "      box-shadow: 0px 1px 3px 1px rgba(0, 0, 0, 0.15);\n",
       "      filter: drop-shadow(0px 1px 2px rgba(0, 0, 0, 0.3));\n",
       "      fill: #FFFFFF;\n",
       "    }\n",
       "  </style>\n",
       "\n",
       "      <script>\n",
       "        const buttonEl =\n",
       "          document.querySelector('#df-36902a94-2e1a-49a6-ac7b-58165d3d3691 button.colab-df-convert');\n",
       "        buttonEl.style.display =\n",
       "          google.colab.kernel.accessAllowed ? 'block' : 'none';\n",
       "\n",
       "        async function convertToInteractive(key) {\n",
       "          const element = document.querySelector('#df-36902a94-2e1a-49a6-ac7b-58165d3d3691');\n",
       "          const dataTable =\n",
       "            await google.colab.kernel.invokeFunction('convertToInteractive',\n",
       "                                                     [key], {});\n",
       "          if (!dataTable) return;\n",
       "\n",
       "          const docLinkHtml = 'Like what you see? Visit the ' +\n",
       "            '<a target=\"_blank\" href=https://colab.research.google.com/notebooks/data_table.ipynb>data table notebook</a>'\n",
       "            + ' to learn more about interactive tables.';\n",
       "          element.innerHTML = '';\n",
       "          dataTable['output_type'] = 'display_data';\n",
       "          await google.colab.output.renderOutput(dataTable, element);\n",
       "          const docLink = document.createElement('div');\n",
       "          docLink.innerHTML = docLinkHtml;\n",
       "          element.appendChild(docLink);\n",
       "        }\n",
       "      </script>\n",
       "    </div>\n",
       "  </div>\n",
       "  "
      ],
      "text/plain": [
       "   anime_id                              name  \\\n",
       "0     32281                    Kimi no Na wa.   \n",
       "1      5114  Fullmetal Alchemist: Brotherhood   \n",
       "2     28977                          Gintama°   \n",
       "3      9253                       Steins;Gate   \n",
       "4      9969                     Gintama&#039;   \n",
       "\n",
       "                                               genre   type episodes  \n",
       "0               Drama, Romance, School, Supernatural  Movie        1  \n",
       "1  Action, Adventure, Drama, Fantasy, Magic, Mili...     TV       64  \n",
       "2  Action, Comedy, Historical, Parody, Samurai, S...     TV       51  \n",
       "3                                   Sci-Fi, Thriller     TV       24  \n",
       "4  Action, Comedy, Historical, Parody, Samurai, S...     TV       51  "
      ]
     },
     "execution_count": 218,
     "metadata": {},
     "output_type": "execute_result"
    }
   ],
   "source": [
    "anime_2.drop(['rating', 'members'], axis=1).head()"
   ]
  },
  {
   "cell_type": "markdown",
   "metadata": {
    "id": "cnwPu89gtzcI"
   },
   "source": [
    "Отдельно для столбцов можно смотреть суммы, среднее, минимум/максимум, медиану, а также стандартное отклонение:"
   ]
  },
  {
   "cell_type": "code",
   "execution_count": 223,
   "metadata": {
    "colab": {
     "base_uri": "https://localhost:8080/"
    },
    "id": "DI8yR6V7t8hA",
    "outputId": "380afdf4-8ff7-48ed-a75f-0301da576830"
   },
   "outputs": [
    {
     "name": "stdout",
     "output_type": "stream",
     "text": [
      "78101.15\n",
      "------------------------------\n",
      "6.473901690981432\n",
      "------------------------------\n",
      "1.0267463068980571\n",
      "------------------------------\n",
      "1.67\n",
      "------------------------------\n",
      "10.0\n",
      "------------------------------\n",
      "6.57\n"
     ]
    }
   ],
   "source": [
    "print(anime.rating.sum())\n",
    "print('-' * 30)\n",
    "print(anime.rating.mean())\n",
    "print('-' * 30)\n",
    "print(anime.rating.std())\n",
    "print('-' * 30)\n",
    "print(anime.rating.min())\n",
    "print('-' * 30)\n",
    "print(anime.rating.max())\n",
    "print('-' * 30)\n",
    "print(anime.rating.median())"
   ]
  },
  {
   "cell_type": "markdown",
   "metadata": {
    "id": "4jBv6d0DucOG"
   },
   "source": [
    "### Слияние строк и поиск по строкам"
   ]
  },
  {
   "cell_type": "markdown",
   "metadata": {
    "id": "0HvYh5Nsuhtb"
   },
   "source": [
    "Хотим искать нужные нам строки (либо по индексам, либо по значениям):"
   ]
  },
  {
   "cell_type": "code",
   "execution_count": 233,
   "metadata": {
    "colab": {
     "base_uri": "https://localhost:8080/",
     "height": 0
    },
    "id": "q6JRTCLwutXm",
    "outputId": "93d989b7-d020-4914-e8c0-8c9bfe1192ac"
   },
   "outputs": [
    {
     "data": {
      "text/html": [
       "\n",
       "  <div id=\"df-397f8ab9-230f-41c5-8847-e8948d6b3994\">\n",
       "    <div class=\"colab-df-container\">\n",
       "      <div>\n",
       "<style scoped>\n",
       "    .dataframe tbody tr th:only-of-type {\n",
       "        vertical-align: middle;\n",
       "    }\n",
       "\n",
       "    .dataframe tbody tr th {\n",
       "        vertical-align: top;\n",
       "    }\n",
       "\n",
       "    .dataframe thead th {\n",
       "        text-align: right;\n",
       "    }\n",
       "</style>\n",
       "<table border=\"1\" class=\"dataframe\">\n",
       "  <thead>\n",
       "    <tr style=\"text-align: right;\">\n",
       "      <th></th>\n",
       "      <th>anime_id</th>\n",
       "      <th>name</th>\n",
       "      <th>genre</th>\n",
       "    </tr>\n",
       "  </thead>\n",
       "  <tbody>\n",
       "    <tr>\n",
       "      <th>1</th>\n",
       "      <td>5114</td>\n",
       "      <td>Fullmetal Alchemist: Brotherhood</td>\n",
       "      <td>Action, Adventure, Drama, Fantasy, Magic, Mili...</td>\n",
       "    </tr>\n",
       "    <tr>\n",
       "      <th>2</th>\n",
       "      <td>28977</td>\n",
       "      <td>Gintama°</td>\n",
       "      <td>Action, Comedy, Historical, Parody, Samurai, S...</td>\n",
       "    </tr>\n",
       "  </tbody>\n",
       "</table>\n",
       "</div>\n",
       "      <button class=\"colab-df-convert\" onclick=\"convertToInteractive('df-397f8ab9-230f-41c5-8847-e8948d6b3994')\"\n",
       "              title=\"Convert this dataframe to an interactive table.\"\n",
       "              style=\"display:none;\">\n",
       "        \n",
       "  <svg xmlns=\"http://www.w3.org/2000/svg\" height=\"24px\"viewBox=\"0 0 24 24\"\n",
       "       width=\"24px\">\n",
       "    <path d=\"M0 0h24v24H0V0z\" fill=\"none\"/>\n",
       "    <path d=\"M18.56 5.44l.94 2.06.94-2.06 2.06-.94-2.06-.94-.94-2.06-.94 2.06-2.06.94zm-11 1L8.5 8.5l.94-2.06 2.06-.94-2.06-.94L8.5 2.5l-.94 2.06-2.06.94zm10 10l.94 2.06.94-2.06 2.06-.94-2.06-.94-.94-2.06-.94 2.06-2.06.94z\"/><path d=\"M17.41 7.96l-1.37-1.37c-.4-.4-.92-.59-1.43-.59-.52 0-1.04.2-1.43.59L10.3 9.45l-7.72 7.72c-.78.78-.78 2.05 0 2.83L4 21.41c.39.39.9.59 1.41.59.51 0 1.02-.2 1.41-.59l7.78-7.78 2.81-2.81c.8-.78.8-2.07 0-2.86zM5.41 20L4 18.59l7.72-7.72 1.47 1.35L5.41 20z\"/>\n",
       "  </svg>\n",
       "      </button>\n",
       "      \n",
       "  <style>\n",
       "    .colab-df-container {\n",
       "      display:flex;\n",
       "      flex-wrap:wrap;\n",
       "      gap: 12px;\n",
       "    }\n",
       "\n",
       "    .colab-df-convert {\n",
       "      background-color: #E8F0FE;\n",
       "      border: none;\n",
       "      border-radius: 50%;\n",
       "      cursor: pointer;\n",
       "      display: none;\n",
       "      fill: #1967D2;\n",
       "      height: 32px;\n",
       "      padding: 0 0 0 0;\n",
       "      width: 32px;\n",
       "    }\n",
       "\n",
       "    .colab-df-convert:hover {\n",
       "      background-color: #E2EBFA;\n",
       "      box-shadow: 0px 1px 2px rgba(60, 64, 67, 0.3), 0px 1px 3px 1px rgba(60, 64, 67, 0.15);\n",
       "      fill: #174EA6;\n",
       "    }\n",
       "\n",
       "    [theme=dark] .colab-df-convert {\n",
       "      background-color: #3B4455;\n",
       "      fill: #D2E3FC;\n",
       "    }\n",
       "\n",
       "    [theme=dark] .colab-df-convert:hover {\n",
       "      background-color: #434B5C;\n",
       "      box-shadow: 0px 1px 3px 1px rgba(0, 0, 0, 0.15);\n",
       "      filter: drop-shadow(0px 1px 2px rgba(0, 0, 0, 0.3));\n",
       "      fill: #FFFFFF;\n",
       "    }\n",
       "  </style>\n",
       "\n",
       "      <script>\n",
       "        const buttonEl =\n",
       "          document.querySelector('#df-397f8ab9-230f-41c5-8847-e8948d6b3994 button.colab-df-convert');\n",
       "        buttonEl.style.display =\n",
       "          google.colab.kernel.accessAllowed ? 'block' : 'none';\n",
       "\n",
       "        async function convertToInteractive(key) {\n",
       "          const element = document.querySelector('#df-397f8ab9-230f-41c5-8847-e8948d6b3994');\n",
       "          const dataTable =\n",
       "            await google.colab.kernel.invokeFunction('convertToInteractive',\n",
       "                                                     [key], {});\n",
       "          if (!dataTable) return;\n",
       "\n",
       "          const docLinkHtml = 'Like what you see? Visit the ' +\n",
       "            '<a target=\"_blank\" href=https://colab.research.google.com/notebooks/data_table.ipynb>data table notebook</a>'\n",
       "            + ' to learn more about interactive tables.';\n",
       "          element.innerHTML = '';\n",
       "          dataTable['output_type'] = 'display_data';\n",
       "          await google.colab.output.renderOutput(dataTable, element);\n",
       "          const docLink = document.createElement('div');\n",
       "          docLink.innerHTML = docLinkHtml;\n",
       "          element.appendChild(docLink);\n",
       "        }\n",
       "      </script>\n",
       "    </div>\n",
       "  </div>\n",
       "  "
      ],
      "text/plain": [
       "   anime_id                              name  \\\n",
       "1      5114  Fullmetal Alchemist: Brotherhood   \n",
       "2     28977                          Gintama°   \n",
       "\n",
       "                                               genre  \n",
       "1  Action, Adventure, Drama, Fantasy, Magic, Mili...  \n",
       "2  Action, Comedy, Historical, Parody, Samurai, S...  "
      ]
     },
     "execution_count": 233,
     "metadata": {},
     "output_type": "execute_result"
    }
   ],
   "source": [
    "anime[1:3][['anime_id', 'name', 'genre']] #вывести строчки"
   ]
  },
  {
   "cell_type": "markdown",
   "metadata": {
    "id": "gTsVGn2OvqUe"
   },
   "source": [
    "Давайте поменяем индекс и сделаем anime_id в качестве основного индекса:"
   ]
  },
  {
   "cell_type": "code",
   "execution_count": 242,
   "metadata": {
    "id": "s5TBoWb0wKoH"
   },
   "outputs": [],
   "source": [
    "anime = anime.set_index('anime_id') #сделать колонку индексом\n",
    "anime = anime.reset_index() #вывести колонку из индекса и поставить индекс по номеру строки\n",
    "anime = anime.set_index('anime_id') #сделать колонку индексом"
   ]
  },
  {
   "cell_type": "code",
   "execution_count": 243,
   "metadata": {
    "colab": {
     "base_uri": "https://localhost:8080/",
     "height": 0
    },
    "id": "9D01UGrguxch",
    "outputId": "0627af8e-6b4d-4e80-f3a9-0cca263326f8"
   },
   "outputs": [
    {
     "data": {
      "text/html": [
       "\n",
       "  <div id=\"df-71024baf-bc64-4ee1-8343-a6ce80e932f5\">\n",
       "    <div class=\"colab-df-container\">\n",
       "      <div>\n",
       "<style scoped>\n",
       "    .dataframe tbody tr th:only-of-type {\n",
       "        vertical-align: middle;\n",
       "    }\n",
       "\n",
       "    .dataframe tbody tr th {\n",
       "        vertical-align: top;\n",
       "    }\n",
       "\n",
       "    .dataframe thead th {\n",
       "        text-align: right;\n",
       "    }\n",
       "</style>\n",
       "<table border=\"1\" class=\"dataframe\">\n",
       "  <thead>\n",
       "    <tr style=\"text-align: right;\">\n",
       "      <th></th>\n",
       "      <th>name</th>\n",
       "      <th>genre</th>\n",
       "      <th>type</th>\n",
       "      <th>episodes</th>\n",
       "      <th>rating</th>\n",
       "      <th>members</th>\n",
       "      <th>is_anime</th>\n",
       "    </tr>\n",
       "    <tr>\n",
       "      <th>anime_id</th>\n",
       "      <th></th>\n",
       "      <th></th>\n",
       "      <th></th>\n",
       "      <th></th>\n",
       "      <th></th>\n",
       "      <th></th>\n",
       "      <th></th>\n",
       "    </tr>\n",
       "  </thead>\n",
       "  <tbody>\n",
       "    <tr>\n",
       "      <th>1</th>\n",
       "      <td>Cowboy Bebop</td>\n",
       "      <td>Action, Adventure, Comedy, Drama, Sci-Fi, Space</td>\n",
       "      <td>TV</td>\n",
       "      <td>26</td>\n",
       "      <td>8.82</td>\n",
       "      <td>486824</td>\n",
       "      <td>True</td>\n",
       "    </tr>\n",
       "    <tr>\n",
       "      <th>15</th>\n",
       "      <td>Eyeshield 21</td>\n",
       "      <td>Action, Comedy, Shounen, Sports</td>\n",
       "      <td>TV</td>\n",
       "      <td>145</td>\n",
       "      <td>8.08</td>\n",
       "      <td>83648</td>\n",
       "      <td>True</td>\n",
       "    </tr>\n",
       "  </tbody>\n",
       "</table>\n",
       "</div>\n",
       "      <button class=\"colab-df-convert\" onclick=\"convertToInteractive('df-71024baf-bc64-4ee1-8343-a6ce80e932f5')\"\n",
       "              title=\"Convert this dataframe to an interactive table.\"\n",
       "              style=\"display:none;\">\n",
       "        \n",
       "  <svg xmlns=\"http://www.w3.org/2000/svg\" height=\"24px\"viewBox=\"0 0 24 24\"\n",
       "       width=\"24px\">\n",
       "    <path d=\"M0 0h24v24H0V0z\" fill=\"none\"/>\n",
       "    <path d=\"M18.56 5.44l.94 2.06.94-2.06 2.06-.94-2.06-.94-.94-2.06-.94 2.06-2.06.94zm-11 1L8.5 8.5l.94-2.06 2.06-.94-2.06-.94L8.5 2.5l-.94 2.06-2.06.94zm10 10l.94 2.06.94-2.06 2.06-.94-2.06-.94-.94-2.06-.94 2.06-2.06.94z\"/><path d=\"M17.41 7.96l-1.37-1.37c-.4-.4-.92-.59-1.43-.59-.52 0-1.04.2-1.43.59L10.3 9.45l-7.72 7.72c-.78.78-.78 2.05 0 2.83L4 21.41c.39.39.9.59 1.41.59.51 0 1.02-.2 1.41-.59l7.78-7.78 2.81-2.81c.8-.78.8-2.07 0-2.86zM5.41 20L4 18.59l7.72-7.72 1.47 1.35L5.41 20z\"/>\n",
       "  </svg>\n",
       "      </button>\n",
       "      \n",
       "  <style>\n",
       "    .colab-df-container {\n",
       "      display:flex;\n",
       "      flex-wrap:wrap;\n",
       "      gap: 12px;\n",
       "    }\n",
       "\n",
       "    .colab-df-convert {\n",
       "      background-color: #E8F0FE;\n",
       "      border: none;\n",
       "      border-radius: 50%;\n",
       "      cursor: pointer;\n",
       "      display: none;\n",
       "      fill: #1967D2;\n",
       "      height: 32px;\n",
       "      padding: 0 0 0 0;\n",
       "      width: 32px;\n",
       "    }\n",
       "\n",
       "    .colab-df-convert:hover {\n",
       "      background-color: #E2EBFA;\n",
       "      box-shadow: 0px 1px 2px rgba(60, 64, 67, 0.3), 0px 1px 3px 1px rgba(60, 64, 67, 0.15);\n",
       "      fill: #174EA6;\n",
       "    }\n",
       "\n",
       "    [theme=dark] .colab-df-convert {\n",
       "      background-color: #3B4455;\n",
       "      fill: #D2E3FC;\n",
       "    }\n",
       "\n",
       "    [theme=dark] .colab-df-convert:hover {\n",
       "      background-color: #434B5C;\n",
       "      box-shadow: 0px 1px 3px 1px rgba(0, 0, 0, 0.15);\n",
       "      filter: drop-shadow(0px 1px 2px rgba(0, 0, 0, 0.3));\n",
       "      fill: #FFFFFF;\n",
       "    }\n",
       "  </style>\n",
       "\n",
       "      <script>\n",
       "        const buttonEl =\n",
       "          document.querySelector('#df-71024baf-bc64-4ee1-8343-a6ce80e932f5 button.colab-df-convert');\n",
       "        buttonEl.style.display =\n",
       "          google.colab.kernel.accessAllowed ? 'block' : 'none';\n",
       "\n",
       "        async function convertToInteractive(key) {\n",
       "          const element = document.querySelector('#df-71024baf-bc64-4ee1-8343-a6ce80e932f5');\n",
       "          const dataTable =\n",
       "            await google.colab.kernel.invokeFunction('convertToInteractive',\n",
       "                                                     [key], {});\n",
       "          if (!dataTable) return;\n",
       "\n",
       "          const docLinkHtml = 'Like what you see? Visit the ' +\n",
       "            '<a target=\"_blank\" href=https://colab.research.google.com/notebooks/data_table.ipynb>data table notebook</a>'\n",
       "            + ' to learn more about interactive tables.';\n",
       "          element.innerHTML = '';\n",
       "          dataTable['output_type'] = 'display_data';\n",
       "          await google.colab.output.renderOutput(dataTable, element);\n",
       "          const docLink = document.createElement('div');\n",
       "          docLink.innerHTML = docLinkHtml;\n",
       "          element.appendChild(docLink);\n",
       "        }\n",
       "      </script>\n",
       "    </div>\n",
       "  </div>\n",
       "  "
      ],
      "text/plain": [
       "                  name                                            genre type  \\\n",
       "anime_id                                                                       \n",
       "1         Cowboy Bebop  Action, Adventure, Comedy, Drama, Sci-Fi, Space   TV   \n",
       "15        Eyeshield 21                  Action, Comedy, Shounen, Sports   TV   \n",
       "\n",
       "         episodes  rating  members  is_anime  \n",
       "anime_id                                      \n",
       "1              26    8.82   486824      True  \n",
       "15            145    8.08    83648      True  "
      ]
     },
     "execution_count": 243,
     "metadata": {},
     "output_type": "execute_result"
    }
   ],
   "source": [
    "anime.loc[[1, 15]] #выбираем строки по индексу"
   ]
  },
  {
   "cell_type": "code",
   "execution_count": 244,
   "metadata": {
    "colab": {
     "base_uri": "https://localhost:8080/",
     "height": 0
    },
    "id": "HxcM_F5LvV_j",
    "outputId": "49b03efb-02be-4f0d-f81a-9ee5bd23a180"
   },
   "outputs": [
    {
     "data": {
      "text/html": [
       "\n",
       "  <div id=\"df-e260edc3-4c18-456e-9090-1bd69e847b28\">\n",
       "    <div class=\"colab-df-container\">\n",
       "      <div>\n",
       "<style scoped>\n",
       "    .dataframe tbody tr th:only-of-type {\n",
       "        vertical-align: middle;\n",
       "    }\n",
       "\n",
       "    .dataframe tbody tr th {\n",
       "        vertical-align: top;\n",
       "    }\n",
       "\n",
       "    .dataframe thead th {\n",
       "        text-align: right;\n",
       "    }\n",
       "</style>\n",
       "<table border=\"1\" class=\"dataframe\">\n",
       "  <thead>\n",
       "    <tr style=\"text-align: right;\">\n",
       "      <th></th>\n",
       "      <th>name</th>\n",
       "      <th>genre</th>\n",
       "      <th>type</th>\n",
       "      <th>episodes</th>\n",
       "      <th>rating</th>\n",
       "      <th>members</th>\n",
       "      <th>is_anime</th>\n",
       "    </tr>\n",
       "    <tr>\n",
       "      <th>anime_id</th>\n",
       "      <th></th>\n",
       "      <th></th>\n",
       "      <th></th>\n",
       "      <th></th>\n",
       "      <th></th>\n",
       "      <th></th>\n",
       "      <th></th>\n",
       "    </tr>\n",
       "  </thead>\n",
       "  <tbody>\n",
       "    <tr>\n",
       "      <th>5114</th>\n",
       "      <td>Fullmetal Alchemist: Brotherhood</td>\n",
       "      <td>Action, Adventure, Drama, Fantasy, Magic, Mili...</td>\n",
       "      <td>TV</td>\n",
       "      <td>64</td>\n",
       "      <td>9.26</td>\n",
       "      <td>793665</td>\n",
       "      <td>True</td>\n",
       "    </tr>\n",
       "    <tr>\n",
       "      <th>23273</th>\n",
       "      <td>Shigatsu wa Kimi no Uso</td>\n",
       "      <td>Drama, Music, Romance, School, Shounen</td>\n",
       "      <td>TV</td>\n",
       "      <td>22</td>\n",
       "      <td>8.92</td>\n",
       "      <td>416397</td>\n",
       "      <td>True</td>\n",
       "    </tr>\n",
       "  </tbody>\n",
       "</table>\n",
       "</div>\n",
       "      <button class=\"colab-df-convert\" onclick=\"convertToInteractive('df-e260edc3-4c18-456e-9090-1bd69e847b28')\"\n",
       "              title=\"Convert this dataframe to an interactive table.\"\n",
       "              style=\"display:none;\">\n",
       "        \n",
       "  <svg xmlns=\"http://www.w3.org/2000/svg\" height=\"24px\"viewBox=\"0 0 24 24\"\n",
       "       width=\"24px\">\n",
       "    <path d=\"M0 0h24v24H0V0z\" fill=\"none\"/>\n",
       "    <path d=\"M18.56 5.44l.94 2.06.94-2.06 2.06-.94-2.06-.94-.94-2.06-.94 2.06-2.06.94zm-11 1L8.5 8.5l.94-2.06 2.06-.94-2.06-.94L8.5 2.5l-.94 2.06-2.06.94zm10 10l.94 2.06.94-2.06 2.06-.94-2.06-.94-.94-2.06-.94 2.06-2.06.94z\"/><path d=\"M17.41 7.96l-1.37-1.37c-.4-.4-.92-.59-1.43-.59-.52 0-1.04.2-1.43.59L10.3 9.45l-7.72 7.72c-.78.78-.78 2.05 0 2.83L4 21.41c.39.39.9.59 1.41.59.51 0 1.02-.2 1.41-.59l7.78-7.78 2.81-2.81c.8-.78.8-2.07 0-2.86zM5.41 20L4 18.59l7.72-7.72 1.47 1.35L5.41 20z\"/>\n",
       "  </svg>\n",
       "      </button>\n",
       "      \n",
       "  <style>\n",
       "    .colab-df-container {\n",
       "      display:flex;\n",
       "      flex-wrap:wrap;\n",
       "      gap: 12px;\n",
       "    }\n",
       "\n",
       "    .colab-df-convert {\n",
       "      background-color: #E8F0FE;\n",
       "      border: none;\n",
       "      border-radius: 50%;\n",
       "      cursor: pointer;\n",
       "      display: none;\n",
       "      fill: #1967D2;\n",
       "      height: 32px;\n",
       "      padding: 0 0 0 0;\n",
       "      width: 32px;\n",
       "    }\n",
       "\n",
       "    .colab-df-convert:hover {\n",
       "      background-color: #E2EBFA;\n",
       "      box-shadow: 0px 1px 2px rgba(60, 64, 67, 0.3), 0px 1px 3px 1px rgba(60, 64, 67, 0.15);\n",
       "      fill: #174EA6;\n",
       "    }\n",
       "\n",
       "    [theme=dark] .colab-df-convert {\n",
       "      background-color: #3B4455;\n",
       "      fill: #D2E3FC;\n",
       "    }\n",
       "\n",
       "    [theme=dark] .colab-df-convert:hover {\n",
       "      background-color: #434B5C;\n",
       "      box-shadow: 0px 1px 3px 1px rgba(0, 0, 0, 0.15);\n",
       "      filter: drop-shadow(0px 1px 2px rgba(0, 0, 0, 0.3));\n",
       "      fill: #FFFFFF;\n",
       "    }\n",
       "  </style>\n",
       "\n",
       "      <script>\n",
       "        const buttonEl =\n",
       "          document.querySelector('#df-e260edc3-4c18-456e-9090-1bd69e847b28 button.colab-df-convert');\n",
       "        buttonEl.style.display =\n",
       "          google.colab.kernel.accessAllowed ? 'block' : 'none';\n",
       "\n",
       "        async function convertToInteractive(key) {\n",
       "          const element = document.querySelector('#df-e260edc3-4c18-456e-9090-1bd69e847b28');\n",
       "          const dataTable =\n",
       "            await google.colab.kernel.invokeFunction('convertToInteractive',\n",
       "                                                     [key], {});\n",
       "          if (!dataTable) return;\n",
       "\n",
       "          const docLinkHtml = 'Like what you see? Visit the ' +\n",
       "            '<a target=\"_blank\" href=https://colab.research.google.com/notebooks/data_table.ipynb>data table notebook</a>'\n",
       "            + ' to learn more about interactive tables.';\n",
       "          element.innerHTML = '';\n",
       "          dataTable['output_type'] = 'display_data';\n",
       "          await google.colab.output.renderOutput(dataTable, element);\n",
       "          const docLink = document.createElement('div');\n",
       "          docLink.innerHTML = docLinkHtml;\n",
       "          element.appendChild(docLink);\n",
       "        }\n",
       "      </script>\n",
       "    </div>\n",
       "  </div>\n",
       "  "
      ],
      "text/plain": [
       "                                      name  \\\n",
       "anime_id                                     \n",
       "5114      Fullmetal Alchemist: Brotherhood   \n",
       "23273              Shigatsu wa Kimi no Uso   \n",
       "\n",
       "                                                      genre type episodes  \\\n",
       "anime_id                                                                    \n",
       "5114      Action, Adventure, Drama, Fantasy, Magic, Mili...   TV       64   \n",
       "23273                Drama, Music, Romance, School, Shounen   TV       22   \n",
       "\n",
       "          rating  members  is_anime  \n",
       "anime_id                             \n",
       "5114        9.26   793665      True  \n",
       "23273       8.92   416397      True  "
      ]
     },
     "execution_count": 244,
     "metadata": {},
     "output_type": "execute_result"
    }
   ],
   "source": [
    "anime.iloc[[1, 16]] #выбираем строчки по номеру (если индекс отличается)"
   ]
  },
  {
   "cell_type": "markdown",
   "metadata": {
    "id": "KHOF4oB6xMvk"
   },
   "source": [
    "Допустим, мы хотим добавить новое аниме (допустим, [Атаку титанов](https://en.wikipedia.org/wiki/Attack_on_Titan_(TV_series))):"
   ]
  },
  {
   "cell_type": "code",
   "execution_count": 249,
   "metadata": {
    "colab": {
     "base_uri": "https://localhost:8080/",
     "height": 0
    },
    "id": "Yz3H4aRuxj7N",
    "outputId": "afd44a4c-7911-49be-dab5-233e752cd95c"
   },
   "outputs": [
    {
     "name": "stdout",
     "output_type": "stream",
     "text": [
      "['name', 'genre', 'type', 'episodes', 'rating', 'members', 'is_anime']\n"
     ]
    },
    {
     "data": {
      "text/html": [
       "\n",
       "  <div id=\"df-21af0610-63f6-4827-8ebf-243dbac95999\">\n",
       "    <div class=\"colab-df-container\">\n",
       "      <div>\n",
       "<style scoped>\n",
       "    .dataframe tbody tr th:only-of-type {\n",
       "        vertical-align: middle;\n",
       "    }\n",
       "\n",
       "    .dataframe tbody tr th {\n",
       "        vertical-align: top;\n",
       "    }\n",
       "\n",
       "    .dataframe thead th {\n",
       "        text-align: right;\n",
       "    }\n",
       "</style>\n",
       "<table border=\"1\" class=\"dataframe\">\n",
       "  <thead>\n",
       "    <tr style=\"text-align: right;\">\n",
       "      <th></th>\n",
       "      <th>name</th>\n",
       "      <th>genre</th>\n",
       "      <th>type</th>\n",
       "      <th>episodes</th>\n",
       "      <th>rating</th>\n",
       "      <th>members</th>\n",
       "      <th>is_anime</th>\n",
       "    </tr>\n",
       "  </thead>\n",
       "  <tbody>\n",
       "    <tr>\n",
       "      <th>0</th>\n",
       "      <td>Attack on Titans</td>\n",
       "      <td>Action, Dark fantasy</td>\n",
       "      <td>TV</td>\n",
       "      <td>87</td>\n",
       "      <td>9.0</td>\n",
       "      <td>100000</td>\n",
       "      <td>True</td>\n",
       "    </tr>\n",
       "  </tbody>\n",
       "</table>\n",
       "</div>\n",
       "      <button class=\"colab-df-convert\" onclick=\"convertToInteractive('df-21af0610-63f6-4827-8ebf-243dbac95999')\"\n",
       "              title=\"Convert this dataframe to an interactive table.\"\n",
       "              style=\"display:none;\">\n",
       "        \n",
       "  <svg xmlns=\"http://www.w3.org/2000/svg\" height=\"24px\"viewBox=\"0 0 24 24\"\n",
       "       width=\"24px\">\n",
       "    <path d=\"M0 0h24v24H0V0z\" fill=\"none\"/>\n",
       "    <path d=\"M18.56 5.44l.94 2.06.94-2.06 2.06-.94-2.06-.94-.94-2.06-.94 2.06-2.06.94zm-11 1L8.5 8.5l.94-2.06 2.06-.94-2.06-.94L8.5 2.5l-.94 2.06-2.06.94zm10 10l.94 2.06.94-2.06 2.06-.94-2.06-.94-.94-2.06-.94 2.06-2.06.94z\"/><path d=\"M17.41 7.96l-1.37-1.37c-.4-.4-.92-.59-1.43-.59-.52 0-1.04.2-1.43.59L10.3 9.45l-7.72 7.72c-.78.78-.78 2.05 0 2.83L4 21.41c.39.39.9.59 1.41.59.51 0 1.02-.2 1.41-.59l7.78-7.78 2.81-2.81c.8-.78.8-2.07 0-2.86zM5.41 20L4 18.59l7.72-7.72 1.47 1.35L5.41 20z\"/>\n",
       "  </svg>\n",
       "      </button>\n",
       "      \n",
       "  <style>\n",
       "    .colab-df-container {\n",
       "      display:flex;\n",
       "      flex-wrap:wrap;\n",
       "      gap: 12px;\n",
       "    }\n",
       "\n",
       "    .colab-df-convert {\n",
       "      background-color: #E8F0FE;\n",
       "      border: none;\n",
       "      border-radius: 50%;\n",
       "      cursor: pointer;\n",
       "      display: none;\n",
       "      fill: #1967D2;\n",
       "      height: 32px;\n",
       "      padding: 0 0 0 0;\n",
       "      width: 32px;\n",
       "    }\n",
       "\n",
       "    .colab-df-convert:hover {\n",
       "      background-color: #E2EBFA;\n",
       "      box-shadow: 0px 1px 2px rgba(60, 64, 67, 0.3), 0px 1px 3px 1px rgba(60, 64, 67, 0.15);\n",
       "      fill: #174EA6;\n",
       "    }\n",
       "\n",
       "    [theme=dark] .colab-df-convert {\n",
       "      background-color: #3B4455;\n",
       "      fill: #D2E3FC;\n",
       "    }\n",
       "\n",
       "    [theme=dark] .colab-df-convert:hover {\n",
       "      background-color: #434B5C;\n",
       "      box-shadow: 0px 1px 3px 1px rgba(0, 0, 0, 0.15);\n",
       "      filter: drop-shadow(0px 1px 2px rgba(0, 0, 0, 0.3));\n",
       "      fill: #FFFFFF;\n",
       "    }\n",
       "  </style>\n",
       "\n",
       "      <script>\n",
       "        const buttonEl =\n",
       "          document.querySelector('#df-21af0610-63f6-4827-8ebf-243dbac95999 button.colab-df-convert');\n",
       "        buttonEl.style.display =\n",
       "          google.colab.kernel.accessAllowed ? 'block' : 'none';\n",
       "\n",
       "        async function convertToInteractive(key) {\n",
       "          const element = document.querySelector('#df-21af0610-63f6-4827-8ebf-243dbac95999');\n",
       "          const dataTable =\n",
       "            await google.colab.kernel.invokeFunction('convertToInteractive',\n",
       "                                                     [key], {});\n",
       "          if (!dataTable) return;\n",
       "\n",
       "          const docLinkHtml = 'Like what you see? Visit the ' +\n",
       "            '<a target=\"_blank\" href=https://colab.research.google.com/notebooks/data_table.ipynb>data table notebook</a>'\n",
       "            + ' to learn more about interactive tables.';\n",
       "          element.innerHTML = '';\n",
       "          dataTable['output_type'] = 'display_data';\n",
       "          await google.colab.output.renderOutput(dataTable, element);\n",
       "          const docLink = document.createElement('div');\n",
       "          docLink.innerHTML = docLinkHtml;\n",
       "          element.appendChild(docLink);\n",
       "        }\n",
       "      </script>\n",
       "    </div>\n",
       "  </div>\n",
       "  "
      ],
      "text/plain": [
       "               name                 genre type episodes  rating  members  \\\n",
       "0  Attack on Titans  Action, Dark fantasy   TV       87     9.0   100000   \n",
       "\n",
       "   is_anime  \n",
       "0      True  "
      ]
     },
     "execution_count": 249,
     "metadata": {},
     "output_type": "execute_result"
    }
   ],
   "source": [
    "print(list(anime.columns)) #посмотрели колонки\n",
    "\n",
    "new_anime = pd.DataFrame([['Attack on Titans', 'Action, Dark fantasy', 'TV', '87', 9.0, 100000, True]]\n",
    "                         , columns = list(anime.columns))\n",
    "new_anime"
   ]
  },
  {
   "cell_type": "code",
   "execution_count": 250,
   "metadata": {
    "colab": {
     "base_uri": "https://localhost:8080/",
     "height": 0
    },
    "id": "6wxPl4t6y9lV",
    "outputId": "b1a5d52e-1a76-40d3-d637-29f26abe4332"
   },
   "outputs": [
    {
     "data": {
      "text/html": [
       "\n",
       "  <div id=\"df-d70df621-99a4-4c8b-90db-eb268f94eb4c\">\n",
       "    <div class=\"colab-df-container\">\n",
       "      <div>\n",
       "<style scoped>\n",
       "    .dataframe tbody tr th:only-of-type {\n",
       "        vertical-align: middle;\n",
       "    }\n",
       "\n",
       "    .dataframe tbody tr th {\n",
       "        vertical-align: top;\n",
       "    }\n",
       "\n",
       "    .dataframe thead th {\n",
       "        text-align: right;\n",
       "    }\n",
       "</style>\n",
       "<table border=\"1\" class=\"dataframe\">\n",
       "  <thead>\n",
       "    <tr style=\"text-align: right;\">\n",
       "      <th></th>\n",
       "      <th>name</th>\n",
       "      <th>genre</th>\n",
       "      <th>type</th>\n",
       "      <th>episodes</th>\n",
       "      <th>rating</th>\n",
       "      <th>members</th>\n",
       "      <th>is_anime</th>\n",
       "    </tr>\n",
       "  </thead>\n",
       "  <tbody>\n",
       "    <tr>\n",
       "      <th>32281</th>\n",
       "      <td>Kimi no Na wa.</td>\n",
       "      <td>Drama, Romance, School, Supernatural</td>\n",
       "      <td>Movie</td>\n",
       "      <td>1</td>\n",
       "      <td>9.37</td>\n",
       "      <td>200630</td>\n",
       "      <td>True</td>\n",
       "    </tr>\n",
       "    <tr>\n",
       "      <th>5114</th>\n",
       "      <td>Fullmetal Alchemist: Brotherhood</td>\n",
       "      <td>Action, Adventure, Drama, Fantasy, Magic, Mili...</td>\n",
       "      <td>TV</td>\n",
       "      <td>64</td>\n",
       "      <td>9.26</td>\n",
       "      <td>793665</td>\n",
       "      <td>True</td>\n",
       "    </tr>\n",
       "    <tr>\n",
       "      <th>28977</th>\n",
       "      <td>Gintama°</td>\n",
       "      <td>Action, Comedy, Historical, Parody, Samurai, S...</td>\n",
       "      <td>TV</td>\n",
       "      <td>51</td>\n",
       "      <td>9.25</td>\n",
       "      <td>114262</td>\n",
       "      <td>True</td>\n",
       "    </tr>\n",
       "    <tr>\n",
       "      <th>9253</th>\n",
       "      <td>Steins;Gate</td>\n",
       "      <td>Sci-Fi, Thriller</td>\n",
       "      <td>TV</td>\n",
       "      <td>24</td>\n",
       "      <td>9.17</td>\n",
       "      <td>673572</td>\n",
       "      <td>True</td>\n",
       "    </tr>\n",
       "    <tr>\n",
       "      <th>9969</th>\n",
       "      <td>Gintama&amp;#039;</td>\n",
       "      <td>Action, Comedy, Historical, Parody, Samurai, S...</td>\n",
       "      <td>TV</td>\n",
       "      <td>51</td>\n",
       "      <td>9.16</td>\n",
       "      <td>151266</td>\n",
       "      <td>True</td>\n",
       "    </tr>\n",
       "    <tr>\n",
       "      <th>...</th>\n",
       "      <td>...</td>\n",
       "      <td>...</td>\n",
       "      <td>...</td>\n",
       "      <td>...</td>\n",
       "      <td>...</td>\n",
       "      <td>...</td>\n",
       "      <td>...</td>\n",
       "    </tr>\n",
       "    <tr>\n",
       "      <th>5543</th>\n",
       "      <td>Under World</td>\n",
       "      <td>Hentai</td>\n",
       "      <td>OVA</td>\n",
       "      <td>1</td>\n",
       "      <td>4.28</td>\n",
       "      <td>183</td>\n",
       "      <td>True</td>\n",
       "    </tr>\n",
       "    <tr>\n",
       "      <th>5621</th>\n",
       "      <td>Violence Gekiga David no Hoshi</td>\n",
       "      <td>Hentai</td>\n",
       "      <td>OVA</td>\n",
       "      <td>4</td>\n",
       "      <td>4.88</td>\n",
       "      <td>219</td>\n",
       "      <td>True</td>\n",
       "    </tr>\n",
       "    <tr>\n",
       "      <th>6133</th>\n",
       "      <td>Violence Gekiga Shin David no Hoshi: Inma Dens...</td>\n",
       "      <td>Hentai</td>\n",
       "      <td>OVA</td>\n",
       "      <td>1</td>\n",
       "      <td>4.98</td>\n",
       "      <td>175</td>\n",
       "      <td>True</td>\n",
       "    </tr>\n",
       "    <tr>\n",
       "      <th>26081</th>\n",
       "      <td>Yasuji no Pornorama: Yacchimae!!</td>\n",
       "      <td>Hentai</td>\n",
       "      <td>Movie</td>\n",
       "      <td>1</td>\n",
       "      <td>5.46</td>\n",
       "      <td>142</td>\n",
       "      <td>True</td>\n",
       "    </tr>\n",
       "    <tr>\n",
       "      <th>0</th>\n",
       "      <td>Attack on Titans</td>\n",
       "      <td>Action, Dark fantasy</td>\n",
       "      <td>TV</td>\n",
       "      <td>87</td>\n",
       "      <td>9.00</td>\n",
       "      <td>100000</td>\n",
       "      <td>True</td>\n",
       "    </tr>\n",
       "  </tbody>\n",
       "</table>\n",
       "<p>12295 rows × 7 columns</p>\n",
       "</div>\n",
       "      <button class=\"colab-df-convert\" onclick=\"convertToInteractive('df-d70df621-99a4-4c8b-90db-eb268f94eb4c')\"\n",
       "              title=\"Convert this dataframe to an interactive table.\"\n",
       "              style=\"display:none;\">\n",
       "        \n",
       "  <svg xmlns=\"http://www.w3.org/2000/svg\" height=\"24px\"viewBox=\"0 0 24 24\"\n",
       "       width=\"24px\">\n",
       "    <path d=\"M0 0h24v24H0V0z\" fill=\"none\"/>\n",
       "    <path d=\"M18.56 5.44l.94 2.06.94-2.06 2.06-.94-2.06-.94-.94-2.06-.94 2.06-2.06.94zm-11 1L8.5 8.5l.94-2.06 2.06-.94-2.06-.94L8.5 2.5l-.94 2.06-2.06.94zm10 10l.94 2.06.94-2.06 2.06-.94-2.06-.94-.94-2.06-.94 2.06-2.06.94z\"/><path d=\"M17.41 7.96l-1.37-1.37c-.4-.4-.92-.59-1.43-.59-.52 0-1.04.2-1.43.59L10.3 9.45l-7.72 7.72c-.78.78-.78 2.05 0 2.83L4 21.41c.39.39.9.59 1.41.59.51 0 1.02-.2 1.41-.59l7.78-7.78 2.81-2.81c.8-.78.8-2.07 0-2.86zM5.41 20L4 18.59l7.72-7.72 1.47 1.35L5.41 20z\"/>\n",
       "  </svg>\n",
       "      </button>\n",
       "      \n",
       "  <style>\n",
       "    .colab-df-container {\n",
       "      display:flex;\n",
       "      flex-wrap:wrap;\n",
       "      gap: 12px;\n",
       "    }\n",
       "\n",
       "    .colab-df-convert {\n",
       "      background-color: #E8F0FE;\n",
       "      border: none;\n",
       "      border-radius: 50%;\n",
       "      cursor: pointer;\n",
       "      display: none;\n",
       "      fill: #1967D2;\n",
       "      height: 32px;\n",
       "      padding: 0 0 0 0;\n",
       "      width: 32px;\n",
       "    }\n",
       "\n",
       "    .colab-df-convert:hover {\n",
       "      background-color: #E2EBFA;\n",
       "      box-shadow: 0px 1px 2px rgba(60, 64, 67, 0.3), 0px 1px 3px 1px rgba(60, 64, 67, 0.15);\n",
       "      fill: #174EA6;\n",
       "    }\n",
       "\n",
       "    [theme=dark] .colab-df-convert {\n",
       "      background-color: #3B4455;\n",
       "      fill: #D2E3FC;\n",
       "    }\n",
       "\n",
       "    [theme=dark] .colab-df-convert:hover {\n",
       "      background-color: #434B5C;\n",
       "      box-shadow: 0px 1px 3px 1px rgba(0, 0, 0, 0.15);\n",
       "      filter: drop-shadow(0px 1px 2px rgba(0, 0, 0, 0.3));\n",
       "      fill: #FFFFFF;\n",
       "    }\n",
       "  </style>\n",
       "\n",
       "      <script>\n",
       "        const buttonEl =\n",
       "          document.querySelector('#df-d70df621-99a4-4c8b-90db-eb268f94eb4c button.colab-df-convert');\n",
       "        buttonEl.style.display =\n",
       "          google.colab.kernel.accessAllowed ? 'block' : 'none';\n",
       "\n",
       "        async function convertToInteractive(key) {\n",
       "          const element = document.querySelector('#df-d70df621-99a4-4c8b-90db-eb268f94eb4c');\n",
       "          const dataTable =\n",
       "            await google.colab.kernel.invokeFunction('convertToInteractive',\n",
       "                                                     [key], {});\n",
       "          if (!dataTable) return;\n",
       "\n",
       "          const docLinkHtml = 'Like what you see? Visit the ' +\n",
       "            '<a target=\"_blank\" href=https://colab.research.google.com/notebooks/data_table.ipynb>data table notebook</a>'\n",
       "            + ' to learn more about interactive tables.';\n",
       "          element.innerHTML = '';\n",
       "          dataTable['output_type'] = 'display_data';\n",
       "          await google.colab.output.renderOutput(dataTable, element);\n",
       "          const docLink = document.createElement('div');\n",
       "          docLink.innerHTML = docLinkHtml;\n",
       "          element.appendChild(docLink);\n",
       "        }\n",
       "      </script>\n",
       "    </div>\n",
       "  </div>\n",
       "  "
      ],
      "text/plain": [
       "                                                    name  \\\n",
       "32281                                     Kimi no Na wa.   \n",
       "5114                    Fullmetal Alchemist: Brotherhood   \n",
       "28977                                           Gintama°   \n",
       "9253                                         Steins;Gate   \n",
       "9969                                       Gintama&#039;   \n",
       "...                                                  ...   \n",
       "5543                                         Under World   \n",
       "5621                      Violence Gekiga David no Hoshi   \n",
       "6133   Violence Gekiga Shin David no Hoshi: Inma Dens...   \n",
       "26081                   Yasuji no Pornorama: Yacchimae!!   \n",
       "0                                       Attack on Titans   \n",
       "\n",
       "                                                   genre   type episodes  \\\n",
       "32281               Drama, Romance, School, Supernatural  Movie        1   \n",
       "5114   Action, Adventure, Drama, Fantasy, Magic, Mili...     TV       64   \n",
       "28977  Action, Comedy, Historical, Parody, Samurai, S...     TV       51   \n",
       "9253                                    Sci-Fi, Thriller     TV       24   \n",
       "9969   Action, Comedy, Historical, Parody, Samurai, S...     TV       51   \n",
       "...                                                  ...    ...      ...   \n",
       "5543                                              Hentai    OVA        1   \n",
       "5621                                              Hentai    OVA        4   \n",
       "6133                                              Hentai    OVA        1   \n",
       "26081                                             Hentai  Movie        1   \n",
       "0                                   Action, Dark fantasy     TV       87   \n",
       "\n",
       "       rating  members  is_anime  \n",
       "32281    9.37   200630      True  \n",
       "5114     9.26   793665      True  \n",
       "28977    9.25   114262      True  \n",
       "9253     9.17   673572      True  \n",
       "9969     9.16   151266      True  \n",
       "...       ...      ...       ...  \n",
       "5543     4.28      183      True  \n",
       "5621     4.88      219      True  \n",
       "6133     4.98      175      True  \n",
       "26081    5.46      142      True  \n",
       "0        9.00   100000      True  \n",
       "\n",
       "[12295 rows x 7 columns]"
      ]
     },
     "execution_count": 250,
     "metadata": {},
     "output_type": "execute_result"
    }
   ],
   "source": [
    "anime = pd.concat([anime, new_anime]) #есть еще ignore_index, если его проставить, то тогда индекс поменяется на от 0 до конца\n",
    "anime #ура, доабвили"
   ]
  },
  {
   "cell_type": "markdown",
   "metadata": {
    "id": "4z9ZszbG0kFc"
   },
   "source": [
    "Ладно, удалим для простоты:"
   ]
  },
  {
   "cell_type": "code",
   "execution_count": 253,
   "metadata": {
    "colab": {
     "base_uri": "https://localhost:8080/",
     "height": 0
    },
    "id": "ilEFjsBu0mh-",
    "outputId": "f5e4417b-9d80-4383-ef93-c329c58105e5"
   },
   "outputs": [
    {
     "data": {
      "text/html": [
       "\n",
       "  <div id=\"df-f1f9a130-00d1-426e-93c5-f3eec3fcd48a\">\n",
       "    <div class=\"colab-df-container\">\n",
       "      <div>\n",
       "<style scoped>\n",
       "    .dataframe tbody tr th:only-of-type {\n",
       "        vertical-align: middle;\n",
       "    }\n",
       "\n",
       "    .dataframe tbody tr th {\n",
       "        vertical-align: top;\n",
       "    }\n",
       "\n",
       "    .dataframe thead th {\n",
       "        text-align: right;\n",
       "    }\n",
       "</style>\n",
       "<table border=\"1\" class=\"dataframe\">\n",
       "  <thead>\n",
       "    <tr style=\"text-align: right;\">\n",
       "      <th></th>\n",
       "      <th>name</th>\n",
       "      <th>genre</th>\n",
       "      <th>type</th>\n",
       "      <th>episodes</th>\n",
       "      <th>rating</th>\n",
       "      <th>members</th>\n",
       "      <th>is_anime</th>\n",
       "    </tr>\n",
       "  </thead>\n",
       "  <tbody>\n",
       "    <tr>\n",
       "      <th>32281</th>\n",
       "      <td>Kimi no Na wa.</td>\n",
       "      <td>Drama, Romance, School, Supernatural</td>\n",
       "      <td>Movie</td>\n",
       "      <td>1</td>\n",
       "      <td>9.37</td>\n",
       "      <td>200630</td>\n",
       "      <td>True</td>\n",
       "    </tr>\n",
       "    <tr>\n",
       "      <th>5114</th>\n",
       "      <td>Fullmetal Alchemist: Brotherhood</td>\n",
       "      <td>Action, Adventure, Drama, Fantasy, Magic, Mili...</td>\n",
       "      <td>TV</td>\n",
       "      <td>64</td>\n",
       "      <td>9.26</td>\n",
       "      <td>793665</td>\n",
       "      <td>True</td>\n",
       "    </tr>\n",
       "    <tr>\n",
       "      <th>28977</th>\n",
       "      <td>Gintama°</td>\n",
       "      <td>Action, Comedy, Historical, Parody, Samurai, S...</td>\n",
       "      <td>TV</td>\n",
       "      <td>51</td>\n",
       "      <td>9.25</td>\n",
       "      <td>114262</td>\n",
       "      <td>True</td>\n",
       "    </tr>\n",
       "    <tr>\n",
       "      <th>9253</th>\n",
       "      <td>Steins;Gate</td>\n",
       "      <td>Sci-Fi, Thriller</td>\n",
       "      <td>TV</td>\n",
       "      <td>24</td>\n",
       "      <td>9.17</td>\n",
       "      <td>673572</td>\n",
       "      <td>True</td>\n",
       "    </tr>\n",
       "    <tr>\n",
       "      <th>9969</th>\n",
       "      <td>Gintama&amp;#039;</td>\n",
       "      <td>Action, Comedy, Historical, Parody, Samurai, S...</td>\n",
       "      <td>TV</td>\n",
       "      <td>51</td>\n",
       "      <td>9.16</td>\n",
       "      <td>151266</td>\n",
       "      <td>True</td>\n",
       "    </tr>\n",
       "    <tr>\n",
       "      <th>...</th>\n",
       "      <td>...</td>\n",
       "      <td>...</td>\n",
       "      <td>...</td>\n",
       "      <td>...</td>\n",
       "      <td>...</td>\n",
       "      <td>...</td>\n",
       "      <td>...</td>\n",
       "    </tr>\n",
       "    <tr>\n",
       "      <th>9316</th>\n",
       "      <td>Toushindai My Lover: Minami tai Mecha-Minami</td>\n",
       "      <td>Hentai</td>\n",
       "      <td>OVA</td>\n",
       "      <td>1</td>\n",
       "      <td>4.15</td>\n",
       "      <td>211</td>\n",
       "      <td>True</td>\n",
       "    </tr>\n",
       "    <tr>\n",
       "      <th>5543</th>\n",
       "      <td>Under World</td>\n",
       "      <td>Hentai</td>\n",
       "      <td>OVA</td>\n",
       "      <td>1</td>\n",
       "      <td>4.28</td>\n",
       "      <td>183</td>\n",
       "      <td>True</td>\n",
       "    </tr>\n",
       "    <tr>\n",
       "      <th>5621</th>\n",
       "      <td>Violence Gekiga David no Hoshi</td>\n",
       "      <td>Hentai</td>\n",
       "      <td>OVA</td>\n",
       "      <td>4</td>\n",
       "      <td>4.88</td>\n",
       "      <td>219</td>\n",
       "      <td>True</td>\n",
       "    </tr>\n",
       "    <tr>\n",
       "      <th>6133</th>\n",
       "      <td>Violence Gekiga Shin David no Hoshi: Inma Dens...</td>\n",
       "      <td>Hentai</td>\n",
       "      <td>OVA</td>\n",
       "      <td>1</td>\n",
       "      <td>4.98</td>\n",
       "      <td>175</td>\n",
       "      <td>True</td>\n",
       "    </tr>\n",
       "    <tr>\n",
       "      <th>26081</th>\n",
       "      <td>Yasuji no Pornorama: Yacchimae!!</td>\n",
       "      <td>Hentai</td>\n",
       "      <td>Movie</td>\n",
       "      <td>1</td>\n",
       "      <td>5.46</td>\n",
       "      <td>142</td>\n",
       "      <td>True</td>\n",
       "    </tr>\n",
       "  </tbody>\n",
       "</table>\n",
       "<p>12294 rows × 7 columns</p>\n",
       "</div>\n",
       "      <button class=\"colab-df-convert\" onclick=\"convertToInteractive('df-f1f9a130-00d1-426e-93c5-f3eec3fcd48a')\"\n",
       "              title=\"Convert this dataframe to an interactive table.\"\n",
       "              style=\"display:none;\">\n",
       "        \n",
       "  <svg xmlns=\"http://www.w3.org/2000/svg\" height=\"24px\"viewBox=\"0 0 24 24\"\n",
       "       width=\"24px\">\n",
       "    <path d=\"M0 0h24v24H0V0z\" fill=\"none\"/>\n",
       "    <path d=\"M18.56 5.44l.94 2.06.94-2.06 2.06-.94-2.06-.94-.94-2.06-.94 2.06-2.06.94zm-11 1L8.5 8.5l.94-2.06 2.06-.94-2.06-.94L8.5 2.5l-.94 2.06-2.06.94zm10 10l.94 2.06.94-2.06 2.06-.94-2.06-.94-.94-2.06-.94 2.06-2.06.94z\"/><path d=\"M17.41 7.96l-1.37-1.37c-.4-.4-.92-.59-1.43-.59-.52 0-1.04.2-1.43.59L10.3 9.45l-7.72 7.72c-.78.78-.78 2.05 0 2.83L4 21.41c.39.39.9.59 1.41.59.51 0 1.02-.2 1.41-.59l7.78-7.78 2.81-2.81c.8-.78.8-2.07 0-2.86zM5.41 20L4 18.59l7.72-7.72 1.47 1.35L5.41 20z\"/>\n",
       "  </svg>\n",
       "      </button>\n",
       "      \n",
       "  <style>\n",
       "    .colab-df-container {\n",
       "      display:flex;\n",
       "      flex-wrap:wrap;\n",
       "      gap: 12px;\n",
       "    }\n",
       "\n",
       "    .colab-df-convert {\n",
       "      background-color: #E8F0FE;\n",
       "      border: none;\n",
       "      border-radius: 50%;\n",
       "      cursor: pointer;\n",
       "      display: none;\n",
       "      fill: #1967D2;\n",
       "      height: 32px;\n",
       "      padding: 0 0 0 0;\n",
       "      width: 32px;\n",
       "    }\n",
       "\n",
       "    .colab-df-convert:hover {\n",
       "      background-color: #E2EBFA;\n",
       "      box-shadow: 0px 1px 2px rgba(60, 64, 67, 0.3), 0px 1px 3px 1px rgba(60, 64, 67, 0.15);\n",
       "      fill: #174EA6;\n",
       "    }\n",
       "\n",
       "    [theme=dark] .colab-df-convert {\n",
       "      background-color: #3B4455;\n",
       "      fill: #D2E3FC;\n",
       "    }\n",
       "\n",
       "    [theme=dark] .colab-df-convert:hover {\n",
       "      background-color: #434B5C;\n",
       "      box-shadow: 0px 1px 3px 1px rgba(0, 0, 0, 0.15);\n",
       "      filter: drop-shadow(0px 1px 2px rgba(0, 0, 0, 0.3));\n",
       "      fill: #FFFFFF;\n",
       "    }\n",
       "  </style>\n",
       "\n",
       "      <script>\n",
       "        const buttonEl =\n",
       "          document.querySelector('#df-f1f9a130-00d1-426e-93c5-f3eec3fcd48a button.colab-df-convert');\n",
       "        buttonEl.style.display =\n",
       "          google.colab.kernel.accessAllowed ? 'block' : 'none';\n",
       "\n",
       "        async function convertToInteractive(key) {\n",
       "          const element = document.querySelector('#df-f1f9a130-00d1-426e-93c5-f3eec3fcd48a');\n",
       "          const dataTable =\n",
       "            await google.colab.kernel.invokeFunction('convertToInteractive',\n",
       "                                                     [key], {});\n",
       "          if (!dataTable) return;\n",
       "\n",
       "          const docLinkHtml = 'Like what you see? Visit the ' +\n",
       "            '<a target=\"_blank\" href=https://colab.research.google.com/notebooks/data_table.ipynb>data table notebook</a>'\n",
       "            + ' to learn more about interactive tables.';\n",
       "          element.innerHTML = '';\n",
       "          dataTable['output_type'] = 'display_data';\n",
       "          await google.colab.output.renderOutput(dataTable, element);\n",
       "          const docLink = document.createElement('div');\n",
       "          docLink.innerHTML = docLinkHtml;\n",
       "          element.appendChild(docLink);\n",
       "        }\n",
       "      </script>\n",
       "    </div>\n",
       "  </div>\n",
       "  "
      ],
      "text/plain": [
       "                                                    name  \\\n",
       "32281                                     Kimi no Na wa.   \n",
       "5114                    Fullmetal Alchemist: Brotherhood   \n",
       "28977                                           Gintama°   \n",
       "9253                                         Steins;Gate   \n",
       "9969                                       Gintama&#039;   \n",
       "...                                                  ...   \n",
       "9316        Toushindai My Lover: Minami tai Mecha-Minami   \n",
       "5543                                         Under World   \n",
       "5621                      Violence Gekiga David no Hoshi   \n",
       "6133   Violence Gekiga Shin David no Hoshi: Inma Dens...   \n",
       "26081                   Yasuji no Pornorama: Yacchimae!!   \n",
       "\n",
       "                                                   genre   type episodes  \\\n",
       "32281               Drama, Romance, School, Supernatural  Movie        1   \n",
       "5114   Action, Adventure, Drama, Fantasy, Magic, Mili...     TV       64   \n",
       "28977  Action, Comedy, Historical, Parody, Samurai, S...     TV       51   \n",
       "9253                                    Sci-Fi, Thriller     TV       24   \n",
       "9969   Action, Comedy, Historical, Parody, Samurai, S...     TV       51   \n",
       "...                                                  ...    ...      ...   \n",
       "9316                                              Hentai    OVA        1   \n",
       "5543                                              Hentai    OVA        1   \n",
       "5621                                              Hentai    OVA        4   \n",
       "6133                                              Hentai    OVA        1   \n",
       "26081                                             Hentai  Movie        1   \n",
       "\n",
       "       rating  members  is_anime  \n",
       "32281    9.37   200630      True  \n",
       "5114     9.26   793665      True  \n",
       "28977    9.25   114262      True  \n",
       "9253     9.17   673572      True  \n",
       "9969     9.16   151266      True  \n",
       "...       ...      ...       ...  \n",
       "9316     4.15      211      True  \n",
       "5543     4.28      183      True  \n",
       "5621     4.88      219      True  \n",
       "6133     4.98      175      True  \n",
       "26081    5.46      142      True  \n",
       "\n",
       "[12294 rows x 7 columns]"
      ]
     },
     "execution_count": 253,
     "metadata": {},
     "output_type": "execute_result"
    }
   ],
   "source": [
    "anime = anime.drop([0])\n",
    "anime"
   ]
  },
  {
   "cell_type": "markdown",
   "metadata": {
    "id": "nldpoIpEzfu9"
   },
   "source": [
    "### Сортировка и агрегация"
   ]
  },
  {
   "cell_type": "markdown",
   "metadata": {
    "id": "_lx9M43KzqAm"
   },
   "source": [
    "Хотим посмотреть самые худшие аниме по версии людей:"
   ]
  },
  {
   "cell_type": "code",
   "execution_count": 252,
   "metadata": {
    "colab": {
     "base_uri": "https://localhost:8080/",
     "height": 0
    },
    "id": "AJ9zdGCBzprU",
    "outputId": "1b2a0554-945e-44a7-b30b-5205777904b6"
   },
   "outputs": [
    {
     "data": {
      "text/html": [
       "\n",
       "  <div id=\"df-7705d9c2-a5ab-4131-aca7-cf6316785768\">\n",
       "    <div class=\"colab-df-container\">\n",
       "      <div>\n",
       "<style scoped>\n",
       "    .dataframe tbody tr th:only-of-type {\n",
       "        vertical-align: middle;\n",
       "    }\n",
       "\n",
       "    .dataframe tbody tr th {\n",
       "        vertical-align: top;\n",
       "    }\n",
       "\n",
       "    .dataframe thead th {\n",
       "        text-align: right;\n",
       "    }\n",
       "</style>\n",
       "<table border=\"1\" class=\"dataframe\">\n",
       "  <thead>\n",
       "    <tr style=\"text-align: right;\">\n",
       "      <th></th>\n",
       "      <th>name</th>\n",
       "      <th>genre</th>\n",
       "      <th>type</th>\n",
       "      <th>episodes</th>\n",
       "      <th>rating</th>\n",
       "      <th>members</th>\n",
       "      <th>is_anime</th>\n",
       "    </tr>\n",
       "  </thead>\n",
       "  <tbody>\n",
       "    <tr>\n",
       "      <th>34476</th>\n",
       "      <td>Platonic Chain: Ansatsu Jikkouchuu</td>\n",
       "      <td>Sci-Fi, Slice of Life</td>\n",
       "      <td>Special</td>\n",
       "      <td>1</td>\n",
       "      <td>1.67</td>\n",
       "      <td>51</td>\n",
       "      <td>True</td>\n",
       "    </tr>\n",
       "    <tr>\n",
       "      <th>20007</th>\n",
       "      <td>Hi Gekiga Ukiyoe Senya Ichiya</td>\n",
       "      <td>Action, Hentai</td>\n",
       "      <td>Movie</td>\n",
       "      <td>1</td>\n",
       "      <td>1.92</td>\n",
       "      <td>129</td>\n",
       "      <td>True</td>\n",
       "    </tr>\n",
       "    <tr>\n",
       "      <th>3287</th>\n",
       "      <td>Tenkuu Danzai Skelter+Heaven</td>\n",
       "      <td>Mecha, Sci-Fi</td>\n",
       "      <td>OVA</td>\n",
       "      <td>1</td>\n",
       "      <td>2.00</td>\n",
       "      <td>7680</td>\n",
       "      <td>True</td>\n",
       "    </tr>\n",
       "    <tr>\n",
       "      <th>13405</th>\n",
       "      <td>Utsu Musume Sayuri</td>\n",
       "      <td>Comedy, Dementia</td>\n",
       "      <td>OVA</td>\n",
       "      <td>1</td>\n",
       "      <td>2.14</td>\n",
       "      <td>4047</td>\n",
       "      <td>True</td>\n",
       "    </tr>\n",
       "    <tr>\n",
       "      <th>413</th>\n",
       "      <td>Hametsu no Mars</td>\n",
       "      <td>Horror, Sci-Fi</td>\n",
       "      <td>OVA</td>\n",
       "      <td>1</td>\n",
       "      <td>2.37</td>\n",
       "      <td>27557</td>\n",
       "      <td>True</td>\n",
       "    </tr>\n",
       "    <tr>\n",
       "      <th>14781</th>\n",
       "      <td>Roboteuwang Sseonsyakeu</td>\n",
       "      <td>Action, Mecha, Sci-Fi</td>\n",
       "      <td>Movie</td>\n",
       "      <td>1</td>\n",
       "      <td>2.49</td>\n",
       "      <td>121</td>\n",
       "      <td>True</td>\n",
       "    </tr>\n",
       "    <tr>\n",
       "      <th>24259</th>\n",
       "      <td>Mechano: Scientific Attack Force</td>\n",
       "      <td>Comedy, Dementia, Fantasy, Horror, Music, Parody</td>\n",
       "      <td>OVA</td>\n",
       "      <td>3</td>\n",
       "      <td>2.55</td>\n",
       "      <td>120</td>\n",
       "      <td>True</td>\n",
       "    </tr>\n",
       "    <tr>\n",
       "      <th>33863</th>\n",
       "      <td>Cakes</td>\n",
       "      <td>Comedy</td>\n",
       "      <td>ONA</td>\n",
       "      <td>Unknown</td>\n",
       "      <td>2.58</td>\n",
       "      <td>56</td>\n",
       "      <td>True</td>\n",
       "    </tr>\n",
       "    <tr>\n",
       "      <th>31634</th>\n",
       "      <td>Kokuhaku</td>\n",
       "      <td>Horror</td>\n",
       "      <td>ONA</td>\n",
       "      <td>1</td>\n",
       "      <td>2.67</td>\n",
       "      <td>816</td>\n",
       "      <td>True</td>\n",
       "    </tr>\n",
       "    <tr>\n",
       "      <th>29949</th>\n",
       "      <td>Nami</td>\n",
       "      <td>Dementia</td>\n",
       "      <td>Movie</td>\n",
       "      <td>1</td>\n",
       "      <td>2.67</td>\n",
       "      <td>1817</td>\n",
       "      <td>True</td>\n",
       "    </tr>\n",
       "  </tbody>\n",
       "</table>\n",
       "</div>\n",
       "      <button class=\"colab-df-convert\" onclick=\"convertToInteractive('df-7705d9c2-a5ab-4131-aca7-cf6316785768')\"\n",
       "              title=\"Convert this dataframe to an interactive table.\"\n",
       "              style=\"display:none;\">\n",
       "        \n",
       "  <svg xmlns=\"http://www.w3.org/2000/svg\" height=\"24px\"viewBox=\"0 0 24 24\"\n",
       "       width=\"24px\">\n",
       "    <path d=\"M0 0h24v24H0V0z\" fill=\"none\"/>\n",
       "    <path d=\"M18.56 5.44l.94 2.06.94-2.06 2.06-.94-2.06-.94-.94-2.06-.94 2.06-2.06.94zm-11 1L8.5 8.5l.94-2.06 2.06-.94-2.06-.94L8.5 2.5l-.94 2.06-2.06.94zm10 10l.94 2.06.94-2.06 2.06-.94-2.06-.94-.94-2.06-.94 2.06-2.06.94z\"/><path d=\"M17.41 7.96l-1.37-1.37c-.4-.4-.92-.59-1.43-.59-.52 0-1.04.2-1.43.59L10.3 9.45l-7.72 7.72c-.78.78-.78 2.05 0 2.83L4 21.41c.39.39.9.59 1.41.59.51 0 1.02-.2 1.41-.59l7.78-7.78 2.81-2.81c.8-.78.8-2.07 0-2.86zM5.41 20L4 18.59l7.72-7.72 1.47 1.35L5.41 20z\"/>\n",
       "  </svg>\n",
       "      </button>\n",
       "      \n",
       "  <style>\n",
       "    .colab-df-container {\n",
       "      display:flex;\n",
       "      flex-wrap:wrap;\n",
       "      gap: 12px;\n",
       "    }\n",
       "\n",
       "    .colab-df-convert {\n",
       "      background-color: #E8F0FE;\n",
       "      border: none;\n",
       "      border-radius: 50%;\n",
       "      cursor: pointer;\n",
       "      display: none;\n",
       "      fill: #1967D2;\n",
       "      height: 32px;\n",
       "      padding: 0 0 0 0;\n",
       "      width: 32px;\n",
       "    }\n",
       "\n",
       "    .colab-df-convert:hover {\n",
       "      background-color: #E2EBFA;\n",
       "      box-shadow: 0px 1px 2px rgba(60, 64, 67, 0.3), 0px 1px 3px 1px rgba(60, 64, 67, 0.15);\n",
       "      fill: #174EA6;\n",
       "    }\n",
       "\n",
       "    [theme=dark] .colab-df-convert {\n",
       "      background-color: #3B4455;\n",
       "      fill: #D2E3FC;\n",
       "    }\n",
       "\n",
       "    [theme=dark] .colab-df-convert:hover {\n",
       "      background-color: #434B5C;\n",
       "      box-shadow: 0px 1px 3px 1px rgba(0, 0, 0, 0.15);\n",
       "      filter: drop-shadow(0px 1px 2px rgba(0, 0, 0, 0.3));\n",
       "      fill: #FFFFFF;\n",
       "    }\n",
       "  </style>\n",
       "\n",
       "      <script>\n",
       "        const buttonEl =\n",
       "          document.querySelector('#df-7705d9c2-a5ab-4131-aca7-cf6316785768 button.colab-df-convert');\n",
       "        buttonEl.style.display =\n",
       "          google.colab.kernel.accessAllowed ? 'block' : 'none';\n",
       "\n",
       "        async function convertToInteractive(key) {\n",
       "          const element = document.querySelector('#df-7705d9c2-a5ab-4131-aca7-cf6316785768');\n",
       "          const dataTable =\n",
       "            await google.colab.kernel.invokeFunction('convertToInteractive',\n",
       "                                                     [key], {});\n",
       "          if (!dataTable) return;\n",
       "\n",
       "          const docLinkHtml = 'Like what you see? Visit the ' +\n",
       "            '<a target=\"_blank\" href=https://colab.research.google.com/notebooks/data_table.ipynb>data table notebook</a>'\n",
       "            + ' to learn more about interactive tables.';\n",
       "          element.innerHTML = '';\n",
       "          dataTable['output_type'] = 'display_data';\n",
       "          await google.colab.output.renderOutput(dataTable, element);\n",
       "          const docLink = document.createElement('div');\n",
       "          docLink.innerHTML = docLinkHtml;\n",
       "          element.appendChild(docLink);\n",
       "        }\n",
       "      </script>\n",
       "    </div>\n",
       "  </div>\n",
       "  "
      ],
      "text/plain": [
       "                                     name  \\\n",
       "34476  Platonic Chain: Ansatsu Jikkouchuu   \n",
       "20007       Hi Gekiga Ukiyoe Senya Ichiya   \n",
       "3287         Tenkuu Danzai Skelter+Heaven   \n",
       "13405                  Utsu Musume Sayuri   \n",
       "413                       Hametsu no Mars   \n",
       "14781             Roboteuwang Sseonsyakeu   \n",
       "24259    Mechano: Scientific Attack Force   \n",
       "33863                               Cakes   \n",
       "31634                            Kokuhaku   \n",
       "29949                                Nami   \n",
       "\n",
       "                                                  genre     type episodes  \\\n",
       "34476                             Sci-Fi, Slice of Life  Special        1   \n",
       "20007                                    Action, Hentai    Movie        1   \n",
       "3287                                      Mecha, Sci-Fi      OVA        1   \n",
       "13405                                  Comedy, Dementia      OVA        1   \n",
       "413                                      Horror, Sci-Fi      OVA        1   \n",
       "14781                             Action, Mecha, Sci-Fi    Movie        1   \n",
       "24259  Comedy, Dementia, Fantasy, Horror, Music, Parody      OVA        3   \n",
       "33863                                            Comedy      ONA  Unknown   \n",
       "31634                                            Horror      ONA        1   \n",
       "29949                                          Dementia    Movie        1   \n",
       "\n",
       "       rating  members  is_anime  \n",
       "34476    1.67       51      True  \n",
       "20007    1.92      129      True  \n",
       "3287     2.00     7680      True  \n",
       "13405    2.14     4047      True  \n",
       "413      2.37    27557      True  \n",
       "14781    2.49      121      True  \n",
       "24259    2.55      120      True  \n",
       "33863    2.58       56      True  \n",
       "31634    2.67      816      True  \n",
       "29949    2.67     1817      True  "
      ]
     },
     "execution_count": 252,
     "metadata": {},
     "output_type": "execute_result"
    }
   ],
   "source": [
    "anime.sort_values('rating', ascending=True).head(10) # что такое жанр Dementia..."
   ]
  },
  {
   "cell_type": "markdown",
   "metadata": {
    "id": "uSd6l0AB0vsn"
   },
   "source": [
    "Хотим теперь агрегировать какие-нибудь значения (например, хочу узнать по типу средний рейтинг, а еще их число). Это можно сделать с помощью groupby (тут уже синтаксис становится все более похожим на SQL):"
   ]
  },
  {
   "cell_type": "code",
   "execution_count": 257,
   "metadata": {
    "colab": {
     "base_uri": "https://localhost:8080/",
     "height": 0
    },
    "id": "uS-sUncZz7e4",
    "outputId": "6d42f68c-39bf-4584-84bb-cec2fe568d12"
   },
   "outputs": [
    {
     "data": {
      "text/html": [
       "\n",
       "  <div id=\"df-33c432b3-a8dc-4fb0-a089-021d3fe29cb4\">\n",
       "    <div class=\"colab-df-container\">\n",
       "      <div>\n",
       "<style scoped>\n",
       "    .dataframe tbody tr th:only-of-type {\n",
       "        vertical-align: middle;\n",
       "    }\n",
       "\n",
       "    .dataframe tbody tr th {\n",
       "        vertical-align: top;\n",
       "    }\n",
       "\n",
       "    .dataframe thead th {\n",
       "        text-align: right;\n",
       "    }\n",
       "</style>\n",
       "<table border=\"1\" class=\"dataframe\">\n",
       "  <thead>\n",
       "    <tr style=\"text-align: right;\">\n",
       "      <th></th>\n",
       "      <th>type</th>\n",
       "      <th>rating</th>\n",
       "      <th>name</th>\n",
       "    </tr>\n",
       "  </thead>\n",
       "  <tbody>\n",
       "    <tr>\n",
       "      <th>0</th>\n",
       "      <td>Movie</td>\n",
       "      <td>6.318058</td>\n",
       "      <td>2348</td>\n",
       "    </tr>\n",
       "    <tr>\n",
       "      <th>1</th>\n",
       "      <td>Music</td>\n",
       "      <td>5.588996</td>\n",
       "      <td>488</td>\n",
       "    </tr>\n",
       "    <tr>\n",
       "      <th>2</th>\n",
       "      <td>ONA</td>\n",
       "      <td>5.643298</td>\n",
       "      <td>659</td>\n",
       "    </tr>\n",
       "    <tr>\n",
       "      <th>3</th>\n",
       "      <td>OVA</td>\n",
       "      <td>6.375221</td>\n",
       "      <td>3311</td>\n",
       "    </tr>\n",
       "    <tr>\n",
       "      <th>4</th>\n",
       "      <td>Special</td>\n",
       "      <td>6.523501</td>\n",
       "      <td>1676</td>\n",
       "    </tr>\n",
       "    <tr>\n",
       "      <th>5</th>\n",
       "      <td>TV</td>\n",
       "      <td>6.902299</td>\n",
       "      <td>3787</td>\n",
       "    </tr>\n",
       "  </tbody>\n",
       "</table>\n",
       "</div>\n",
       "      <button class=\"colab-df-convert\" onclick=\"convertToInteractive('df-33c432b3-a8dc-4fb0-a089-021d3fe29cb4')\"\n",
       "              title=\"Convert this dataframe to an interactive table.\"\n",
       "              style=\"display:none;\">\n",
       "        \n",
       "  <svg xmlns=\"http://www.w3.org/2000/svg\" height=\"24px\"viewBox=\"0 0 24 24\"\n",
       "       width=\"24px\">\n",
       "    <path d=\"M0 0h24v24H0V0z\" fill=\"none\"/>\n",
       "    <path d=\"M18.56 5.44l.94 2.06.94-2.06 2.06-.94-2.06-.94-.94-2.06-.94 2.06-2.06.94zm-11 1L8.5 8.5l.94-2.06 2.06-.94-2.06-.94L8.5 2.5l-.94 2.06-2.06.94zm10 10l.94 2.06.94-2.06 2.06-.94-2.06-.94-.94-2.06-.94 2.06-2.06.94z\"/><path d=\"M17.41 7.96l-1.37-1.37c-.4-.4-.92-.59-1.43-.59-.52 0-1.04.2-1.43.59L10.3 9.45l-7.72 7.72c-.78.78-.78 2.05 0 2.83L4 21.41c.39.39.9.59 1.41.59.51 0 1.02-.2 1.41-.59l7.78-7.78 2.81-2.81c.8-.78.8-2.07 0-2.86zM5.41 20L4 18.59l7.72-7.72 1.47 1.35L5.41 20z\"/>\n",
       "  </svg>\n",
       "      </button>\n",
       "      \n",
       "  <style>\n",
       "    .colab-df-container {\n",
       "      display:flex;\n",
       "      flex-wrap:wrap;\n",
       "      gap: 12px;\n",
       "    }\n",
       "\n",
       "    .colab-df-convert {\n",
       "      background-color: #E8F0FE;\n",
       "      border: none;\n",
       "      border-radius: 50%;\n",
       "      cursor: pointer;\n",
       "      display: none;\n",
       "      fill: #1967D2;\n",
       "      height: 32px;\n",
       "      padding: 0 0 0 0;\n",
       "      width: 32px;\n",
       "    }\n",
       "\n",
       "    .colab-df-convert:hover {\n",
       "      background-color: #E2EBFA;\n",
       "      box-shadow: 0px 1px 2px rgba(60, 64, 67, 0.3), 0px 1px 3px 1px rgba(60, 64, 67, 0.15);\n",
       "      fill: #174EA6;\n",
       "    }\n",
       "\n",
       "    [theme=dark] .colab-df-convert {\n",
       "      background-color: #3B4455;\n",
       "      fill: #D2E3FC;\n",
       "    }\n",
       "\n",
       "    [theme=dark] .colab-df-convert:hover {\n",
       "      background-color: #434B5C;\n",
       "      box-shadow: 0px 1px 3px 1px rgba(0, 0, 0, 0.15);\n",
       "      filter: drop-shadow(0px 1px 2px rgba(0, 0, 0, 0.3));\n",
       "      fill: #FFFFFF;\n",
       "    }\n",
       "  </style>\n",
       "\n",
       "      <script>\n",
       "        const buttonEl =\n",
       "          document.querySelector('#df-33c432b3-a8dc-4fb0-a089-021d3fe29cb4 button.colab-df-convert');\n",
       "        buttonEl.style.display =\n",
       "          google.colab.kernel.accessAllowed ? 'block' : 'none';\n",
       "\n",
       "        async function convertToInteractive(key) {\n",
       "          const element = document.querySelector('#df-33c432b3-a8dc-4fb0-a089-021d3fe29cb4');\n",
       "          const dataTable =\n",
       "            await google.colab.kernel.invokeFunction('convertToInteractive',\n",
       "                                                     [key], {});\n",
       "          if (!dataTable) return;\n",
       "\n",
       "          const docLinkHtml = 'Like what you see? Visit the ' +\n",
       "            '<a target=\"_blank\" href=https://colab.research.google.com/notebooks/data_table.ipynb>data table notebook</a>'\n",
       "            + ' to learn more about interactive tables.';\n",
       "          element.innerHTML = '';\n",
       "          dataTable['output_type'] = 'display_data';\n",
       "          await google.colab.output.renderOutput(dataTable, element);\n",
       "          const docLink = document.createElement('div');\n",
       "          docLink.innerHTML = docLinkHtml;\n",
       "          element.appendChild(docLink);\n",
       "        }\n",
       "      </script>\n",
       "    </div>\n",
       "  </div>\n",
       "  "
      ],
      "text/plain": [
       "      type    rating  name\n",
       "0    Movie  6.318058  2348\n",
       "1    Music  5.588996   488\n",
       "2      ONA  5.643298   659\n",
       "3      OVA  6.375221  3311\n",
       "4  Special  6.523501  1676\n",
       "5       TV  6.902299  3787"
      ]
     },
     "execution_count": 257,
     "metadata": {},
     "output_type": "execute_result"
    }
   ],
   "source": [
    "anime.groupby([\"type\"]).agg({\"rating\": \"mean\", \"name\": \"count\"}).reset_index() #красота, можно использовать"
   ]
  },
  {
   "cell_type": "markdown",
   "metadata": {
    "id": "k_-WHOfZ0HtQ"
   },
   "source": [
    "### JOIN THE NAVY"
   ]
  },
  {
   "cell_type": "markdown",
   "metadata": {
    "id": "crKeD9qe1dEO"
   },
   "source": [
    "Не забудем, что у нас еще есть таблица rating. Давайте на нее посмотрим отдельно:"
   ]
  },
  {
   "cell_type": "code",
   "execution_count": 259,
   "metadata": {
    "colab": {
     "base_uri": "https://localhost:8080/",
     "height": 0
    },
    "id": "2Rl4tMJQ1j_0",
    "outputId": "263edd48-5a5f-4ed1-d30b-f313bd08d9bc"
   },
   "outputs": [
    {
     "data": {
      "text/html": [
       "\n",
       "  <div id=\"df-be81193b-473a-4f62-9e0d-f15c60396db3\">\n",
       "    <div class=\"colab-df-container\">\n",
       "      <div>\n",
       "<style scoped>\n",
       "    .dataframe tbody tr th:only-of-type {\n",
       "        vertical-align: middle;\n",
       "    }\n",
       "\n",
       "    .dataframe tbody tr th {\n",
       "        vertical-align: top;\n",
       "    }\n",
       "\n",
       "    .dataframe thead th {\n",
       "        text-align: right;\n",
       "    }\n",
       "</style>\n",
       "<table border=\"1\" class=\"dataframe\">\n",
       "  <thead>\n",
       "    <tr style=\"text-align: right;\">\n",
       "      <th></th>\n",
       "      <th>user_id</th>\n",
       "      <th>anime_id</th>\n",
       "      <th>rating</th>\n",
       "    </tr>\n",
       "  </thead>\n",
       "  <tbody>\n",
       "    <tr>\n",
       "      <th>0</th>\n",
       "      <td>1</td>\n",
       "      <td>20</td>\n",
       "      <td>-1</td>\n",
       "    </tr>\n",
       "    <tr>\n",
       "      <th>1</th>\n",
       "      <td>1</td>\n",
       "      <td>24</td>\n",
       "      <td>-1</td>\n",
       "    </tr>\n",
       "    <tr>\n",
       "      <th>2</th>\n",
       "      <td>1</td>\n",
       "      <td>79</td>\n",
       "      <td>-1</td>\n",
       "    </tr>\n",
       "    <tr>\n",
       "      <th>3</th>\n",
       "      <td>1</td>\n",
       "      <td>226</td>\n",
       "      <td>-1</td>\n",
       "    </tr>\n",
       "    <tr>\n",
       "      <th>4</th>\n",
       "      <td>1</td>\n",
       "      <td>241</td>\n",
       "      <td>-1</td>\n",
       "    </tr>\n",
       "  </tbody>\n",
       "</table>\n",
       "</div>\n",
       "      <button class=\"colab-df-convert\" onclick=\"convertToInteractive('df-be81193b-473a-4f62-9e0d-f15c60396db3')\"\n",
       "              title=\"Convert this dataframe to an interactive table.\"\n",
       "              style=\"display:none;\">\n",
       "        \n",
       "  <svg xmlns=\"http://www.w3.org/2000/svg\" height=\"24px\"viewBox=\"0 0 24 24\"\n",
       "       width=\"24px\">\n",
       "    <path d=\"M0 0h24v24H0V0z\" fill=\"none\"/>\n",
       "    <path d=\"M18.56 5.44l.94 2.06.94-2.06 2.06-.94-2.06-.94-.94-2.06-.94 2.06-2.06.94zm-11 1L8.5 8.5l.94-2.06 2.06-.94-2.06-.94L8.5 2.5l-.94 2.06-2.06.94zm10 10l.94 2.06.94-2.06 2.06-.94-2.06-.94-.94-2.06-.94 2.06-2.06.94z\"/><path d=\"M17.41 7.96l-1.37-1.37c-.4-.4-.92-.59-1.43-.59-.52 0-1.04.2-1.43.59L10.3 9.45l-7.72 7.72c-.78.78-.78 2.05 0 2.83L4 21.41c.39.39.9.59 1.41.59.51 0 1.02-.2 1.41-.59l7.78-7.78 2.81-2.81c.8-.78.8-2.07 0-2.86zM5.41 20L4 18.59l7.72-7.72 1.47 1.35L5.41 20z\"/>\n",
       "  </svg>\n",
       "      </button>\n",
       "      \n",
       "  <style>\n",
       "    .colab-df-container {\n",
       "      display:flex;\n",
       "      flex-wrap:wrap;\n",
       "      gap: 12px;\n",
       "    }\n",
       "\n",
       "    .colab-df-convert {\n",
       "      background-color: #E8F0FE;\n",
       "      border: none;\n",
       "      border-radius: 50%;\n",
       "      cursor: pointer;\n",
       "      display: none;\n",
       "      fill: #1967D2;\n",
       "      height: 32px;\n",
       "      padding: 0 0 0 0;\n",
       "      width: 32px;\n",
       "    }\n",
       "\n",
       "    .colab-df-convert:hover {\n",
       "      background-color: #E2EBFA;\n",
       "      box-shadow: 0px 1px 2px rgba(60, 64, 67, 0.3), 0px 1px 3px 1px rgba(60, 64, 67, 0.15);\n",
       "      fill: #174EA6;\n",
       "    }\n",
       "\n",
       "    [theme=dark] .colab-df-convert {\n",
       "      background-color: #3B4455;\n",
       "      fill: #D2E3FC;\n",
       "    }\n",
       "\n",
       "    [theme=dark] .colab-df-convert:hover {\n",
       "      background-color: #434B5C;\n",
       "      box-shadow: 0px 1px 3px 1px rgba(0, 0, 0, 0.15);\n",
       "      filter: drop-shadow(0px 1px 2px rgba(0, 0, 0, 0.3));\n",
       "      fill: #FFFFFF;\n",
       "    }\n",
       "  </style>\n",
       "\n",
       "      <script>\n",
       "        const buttonEl =\n",
       "          document.querySelector('#df-be81193b-473a-4f62-9e0d-f15c60396db3 button.colab-df-convert');\n",
       "        buttonEl.style.display =\n",
       "          google.colab.kernel.accessAllowed ? 'block' : 'none';\n",
       "\n",
       "        async function convertToInteractive(key) {\n",
       "          const element = document.querySelector('#df-be81193b-473a-4f62-9e0d-f15c60396db3');\n",
       "          const dataTable =\n",
       "            await google.colab.kernel.invokeFunction('convertToInteractive',\n",
       "                                                     [key], {});\n",
       "          if (!dataTable) return;\n",
       "\n",
       "          const docLinkHtml = 'Like what you see? Visit the ' +\n",
       "            '<a target=\"_blank\" href=https://colab.research.google.com/notebooks/data_table.ipynb>data table notebook</a>'\n",
       "            + ' to learn more about interactive tables.';\n",
       "          element.innerHTML = '';\n",
       "          dataTable['output_type'] = 'display_data';\n",
       "          await google.colab.output.renderOutput(dataTable, element);\n",
       "          const docLink = document.createElement('div');\n",
       "          docLink.innerHTML = docLinkHtml;\n",
       "          element.appendChild(docLink);\n",
       "        }\n",
       "      </script>\n",
       "    </div>\n",
       "  </div>\n",
       "  "
      ],
      "text/plain": [
       "   user_id  anime_id  rating\n",
       "0        1        20      -1\n",
       "1        1        24      -1\n",
       "2        1        79      -1\n",
       "3        1       226      -1\n",
       "4        1       241      -1"
      ]
     },
     "execution_count": 259,
     "metadata": {},
     "output_type": "execute_result"
    }
   ],
   "source": [
    "rating.head(5)"
   ]
  },
  {
   "cell_type": "markdown",
   "metadata": {
    "id": "T6FxsTgx1nuc"
   },
   "source": [
    "Видим anime_id, как и в исходной таблице. Теперь бы нам join сделать было бы хорошо. Давайте так и сделаем:"
   ]
  },
  {
   "cell_type": "code",
   "execution_count": 266,
   "metadata": {
    "colab": {
     "base_uri": "https://localhost:8080/",
     "height": 0
    },
    "id": "rH6qK2lE1w94",
    "outputId": "b286cbc6-fe57-4afc-d01e-2525b5cd9ae7"
   },
   "outputs": [
    {
     "data": {
      "text/html": [
       "\n",
       "  <div id=\"df-d624fd73-9b4e-47f4-9146-3b7c680fd0fa\">\n",
       "    <div class=\"colab-df-container\">\n",
       "      <div>\n",
       "<style scoped>\n",
       "    .dataframe tbody tr th:only-of-type {\n",
       "        vertical-align: middle;\n",
       "    }\n",
       "\n",
       "    .dataframe tbody tr th {\n",
       "        vertical-align: top;\n",
       "    }\n",
       "\n",
       "    .dataframe thead th {\n",
       "        text-align: right;\n",
       "    }\n",
       "</style>\n",
       "<table border=\"1\" class=\"dataframe\">\n",
       "  <thead>\n",
       "    <tr style=\"text-align: right;\">\n",
       "      <th></th>\n",
       "      <th>name</th>\n",
       "      <th>genre</th>\n",
       "      <th>type</th>\n",
       "      <th>episodes</th>\n",
       "      <th>rating_anime</th>\n",
       "      <th>members</th>\n",
       "      <th>is_anime</th>\n",
       "      <th>user_id</th>\n",
       "      <th>rating_user</th>\n",
       "    </tr>\n",
       "  </thead>\n",
       "  <tbody>\n",
       "    <tr>\n",
       "      <th>1</th>\n",
       "      <td>Cowboy Bebop</td>\n",
       "      <td>Action, Adventure, Comedy, Drama, Sci-Fi, Space</td>\n",
       "      <td>TV</td>\n",
       "      <td>26</td>\n",
       "      <td>8.82</td>\n",
       "      <td>486824</td>\n",
       "      <td>True</td>\n",
       "      <td>13.0</td>\n",
       "      <td>-1.0</td>\n",
       "    </tr>\n",
       "    <tr>\n",
       "      <th>1</th>\n",
       "      <td>Cowboy Bebop</td>\n",
       "      <td>Action, Adventure, Comedy, Drama, Sci-Fi, Space</td>\n",
       "      <td>TV</td>\n",
       "      <td>26</td>\n",
       "      <td>8.82</td>\n",
       "      <td>486824</td>\n",
       "      <td>True</td>\n",
       "      <td>19.0</td>\n",
       "      <td>10.0</td>\n",
       "    </tr>\n",
       "    <tr>\n",
       "      <th>1</th>\n",
       "      <td>Cowboy Bebop</td>\n",
       "      <td>Action, Adventure, Comedy, Drama, Sci-Fi, Space</td>\n",
       "      <td>TV</td>\n",
       "      <td>26</td>\n",
       "      <td>8.82</td>\n",
       "      <td>486824</td>\n",
       "      <td>True</td>\n",
       "      <td>21.0</td>\n",
       "      <td>9.0</td>\n",
       "    </tr>\n",
       "    <tr>\n",
       "      <th>1</th>\n",
       "      <td>Cowboy Bebop</td>\n",
       "      <td>Action, Adventure, Comedy, Drama, Sci-Fi, Space</td>\n",
       "      <td>TV</td>\n",
       "      <td>26</td>\n",
       "      <td>8.82</td>\n",
       "      <td>486824</td>\n",
       "      <td>True</td>\n",
       "      <td>23.0</td>\n",
       "      <td>9.0</td>\n",
       "    </tr>\n",
       "    <tr>\n",
       "      <th>1</th>\n",
       "      <td>Cowboy Bebop</td>\n",
       "      <td>Action, Adventure, Comedy, Drama, Sci-Fi, Space</td>\n",
       "      <td>TV</td>\n",
       "      <td>26</td>\n",
       "      <td>8.82</td>\n",
       "      <td>486824</td>\n",
       "      <td>True</td>\n",
       "      <td>32.0</td>\n",
       "      <td>10.0</td>\n",
       "    </tr>\n",
       "    <tr>\n",
       "      <th>...</th>\n",
       "      <td>...</td>\n",
       "      <td>...</td>\n",
       "      <td>...</td>\n",
       "      <td>...</td>\n",
       "      <td>...</td>\n",
       "      <td>...</td>\n",
       "      <td>...</td>\n",
       "      <td>...</td>\n",
       "      <td>...</td>\n",
       "    </tr>\n",
       "    <tr>\n",
       "      <th>34514</th>\n",
       "      <td>Pokemon Generations</td>\n",
       "      <td>Action, Adventure, Fantasy, Game, Kids</td>\n",
       "      <td>ONA</td>\n",
       "      <td>18</td>\n",
       "      <td>7.21</td>\n",
       "      <td>295</td>\n",
       "      <td>True</td>\n",
       "      <td>NaN</td>\n",
       "      <td>NaN</td>\n",
       "    </tr>\n",
       "    <tr>\n",
       "      <th>34519</th>\n",
       "      <td>Mobile Suit Gakuen: G-Reco Koushien</td>\n",
       "      <td>Comedy</td>\n",
       "      <td>Special</td>\n",
       "      <td>9</td>\n",
       "      <td>5.67</td>\n",
       "      <td>94</td>\n",
       "      <td>True</td>\n",
       "      <td>48766.0</td>\n",
       "      <td>-1.0</td>\n",
       "    </tr>\n",
       "    <tr>\n",
       "      <th>34522</th>\n",
       "      <td>Wake Up, Girls! Shin Shou</td>\n",
       "      <td>Drama, Music</td>\n",
       "      <td>TV</td>\n",
       "      <td>Unknown</td>\n",
       "      <td>NaN</td>\n",
       "      <td>381</td>\n",
       "      <td>True</td>\n",
       "      <td>NaN</td>\n",
       "      <td>NaN</td>\n",
       "    </tr>\n",
       "    <tr>\n",
       "      <th>34525</th>\n",
       "      <td>Centaur no Nayami</td>\n",
       "      <td>Comedy, Fantasy, Slice of Life, Supernatural</td>\n",
       "      <td>TV</td>\n",
       "      <td>Unknown</td>\n",
       "      <td>NaN</td>\n",
       "      <td>108</td>\n",
       "      <td>True</td>\n",
       "      <td>NaN</td>\n",
       "      <td>NaN</td>\n",
       "    </tr>\n",
       "    <tr>\n",
       "      <th>34527</th>\n",
       "      <td>Gou-chan. Moko to Chinjuu no Mori no Nakama-tachi</td>\n",
       "      <td>Adventure, Kids</td>\n",
       "      <td>Movie</td>\n",
       "      <td>1</td>\n",
       "      <td>NaN</td>\n",
       "      <td>5</td>\n",
       "      <td>True</td>\n",
       "      <td>NaN</td>\n",
       "      <td>NaN</td>\n",
       "    </tr>\n",
       "  </tbody>\n",
       "</table>\n",
       "<p>7814824 rows × 9 columns</p>\n",
       "</div>\n",
       "      <button class=\"colab-df-convert\" onclick=\"convertToInteractive('df-d624fd73-9b4e-47f4-9146-3b7c680fd0fa')\"\n",
       "              title=\"Convert this dataframe to an interactive table.\"\n",
       "              style=\"display:none;\">\n",
       "        \n",
       "  <svg xmlns=\"http://www.w3.org/2000/svg\" height=\"24px\"viewBox=\"0 0 24 24\"\n",
       "       width=\"24px\">\n",
       "    <path d=\"M0 0h24v24H0V0z\" fill=\"none\"/>\n",
       "    <path d=\"M18.56 5.44l.94 2.06.94-2.06 2.06-.94-2.06-.94-.94-2.06-.94 2.06-2.06.94zm-11 1L8.5 8.5l.94-2.06 2.06-.94-2.06-.94L8.5 2.5l-.94 2.06-2.06.94zm10 10l.94 2.06.94-2.06 2.06-.94-2.06-.94-.94-2.06-.94 2.06-2.06.94z\"/><path d=\"M17.41 7.96l-1.37-1.37c-.4-.4-.92-.59-1.43-.59-.52 0-1.04.2-1.43.59L10.3 9.45l-7.72 7.72c-.78.78-.78 2.05 0 2.83L4 21.41c.39.39.9.59 1.41.59.51 0 1.02-.2 1.41-.59l7.78-7.78 2.81-2.81c.8-.78.8-2.07 0-2.86zM5.41 20L4 18.59l7.72-7.72 1.47 1.35L5.41 20z\"/>\n",
       "  </svg>\n",
       "      </button>\n",
       "      \n",
       "  <style>\n",
       "    .colab-df-container {\n",
       "      display:flex;\n",
       "      flex-wrap:wrap;\n",
       "      gap: 12px;\n",
       "    }\n",
       "\n",
       "    .colab-df-convert {\n",
       "      background-color: #E8F0FE;\n",
       "      border: none;\n",
       "      border-radius: 50%;\n",
       "      cursor: pointer;\n",
       "      display: none;\n",
       "      fill: #1967D2;\n",
       "      height: 32px;\n",
       "      padding: 0 0 0 0;\n",
       "      width: 32px;\n",
       "    }\n",
       "\n",
       "    .colab-df-convert:hover {\n",
       "      background-color: #E2EBFA;\n",
       "      box-shadow: 0px 1px 2px rgba(60, 64, 67, 0.3), 0px 1px 3px 1px rgba(60, 64, 67, 0.15);\n",
       "      fill: #174EA6;\n",
       "    }\n",
       "\n",
       "    [theme=dark] .colab-df-convert {\n",
       "      background-color: #3B4455;\n",
       "      fill: #D2E3FC;\n",
       "    }\n",
       "\n",
       "    [theme=dark] .colab-df-convert:hover {\n",
       "      background-color: #434B5C;\n",
       "      box-shadow: 0px 1px 3px 1px rgba(0, 0, 0, 0.15);\n",
       "      filter: drop-shadow(0px 1px 2px rgba(0, 0, 0, 0.3));\n",
       "      fill: #FFFFFF;\n",
       "    }\n",
       "  </style>\n",
       "\n",
       "      <script>\n",
       "        const buttonEl =\n",
       "          document.querySelector('#df-d624fd73-9b4e-47f4-9146-3b7c680fd0fa button.colab-df-convert');\n",
       "        buttonEl.style.display =\n",
       "          google.colab.kernel.accessAllowed ? 'block' : 'none';\n",
       "\n",
       "        async function convertToInteractive(key) {\n",
       "          const element = document.querySelector('#df-d624fd73-9b4e-47f4-9146-3b7c680fd0fa');\n",
       "          const dataTable =\n",
       "            await google.colab.kernel.invokeFunction('convertToInteractive',\n",
       "                                                     [key], {});\n",
       "          if (!dataTable) return;\n",
       "\n",
       "          const docLinkHtml = 'Like what you see? Visit the ' +\n",
       "            '<a target=\"_blank\" href=https://colab.research.google.com/notebooks/data_table.ipynb>data table notebook</a>'\n",
       "            + ' to learn more about interactive tables.';\n",
       "          element.innerHTML = '';\n",
       "          dataTable['output_type'] = 'display_data';\n",
       "          await google.colab.output.renderOutput(dataTable, element);\n",
       "          const docLink = document.createElement('div');\n",
       "          docLink.innerHTML = docLinkHtml;\n",
       "          element.appendChild(docLink);\n",
       "        }\n",
       "      </script>\n",
       "    </div>\n",
       "  </div>\n",
       "  "
      ],
      "text/plain": [
       "                                                    name  \\\n",
       "1                                           Cowboy Bebop   \n",
       "1                                           Cowboy Bebop   \n",
       "1                                           Cowboy Bebop   \n",
       "1                                           Cowboy Bebop   \n",
       "1                                           Cowboy Bebop   \n",
       "...                                                  ...   \n",
       "34514                                Pokemon Generations   \n",
       "34519                Mobile Suit Gakuen: G-Reco Koushien   \n",
       "34522                          Wake Up, Girls! Shin Shou   \n",
       "34525                                  Centaur no Nayami   \n",
       "34527  Gou-chan. Moko to Chinjuu no Mori no Nakama-tachi   \n",
       "\n",
       "                                                 genre     type episodes  \\\n",
       "1      Action, Adventure, Comedy, Drama, Sci-Fi, Space       TV       26   \n",
       "1      Action, Adventure, Comedy, Drama, Sci-Fi, Space       TV       26   \n",
       "1      Action, Adventure, Comedy, Drama, Sci-Fi, Space       TV       26   \n",
       "1      Action, Adventure, Comedy, Drama, Sci-Fi, Space       TV       26   \n",
       "1      Action, Adventure, Comedy, Drama, Sci-Fi, Space       TV       26   \n",
       "...                                                ...      ...      ...   \n",
       "34514           Action, Adventure, Fantasy, Game, Kids      ONA       18   \n",
       "34519                                           Comedy  Special        9   \n",
       "34522                                     Drama, Music       TV  Unknown   \n",
       "34525     Comedy, Fantasy, Slice of Life, Supernatural       TV  Unknown   \n",
       "34527                                  Adventure, Kids    Movie        1   \n",
       "\n",
       "       rating_anime  members  is_anime  user_id  rating_user  \n",
       "1              8.82   486824      True     13.0         -1.0  \n",
       "1              8.82   486824      True     19.0         10.0  \n",
       "1              8.82   486824      True     21.0          9.0  \n",
       "1              8.82   486824      True     23.0          9.0  \n",
       "1              8.82   486824      True     32.0         10.0  \n",
       "...             ...      ...       ...      ...          ...  \n",
       "34514          7.21      295      True      NaN          NaN  \n",
       "34519          5.67       94      True  48766.0         -1.0  \n",
       "34522           NaN      381      True      NaN          NaN  \n",
       "34525           NaN      108      True      NaN          NaN  \n",
       "34527           NaN        5      True      NaN          NaN  \n",
       "\n",
       "[7814824 rows x 9 columns]"
      ]
     },
     "execution_count": 266,
     "metadata": {},
     "output_type": "execute_result"
    }
   ],
   "source": [
    "anime.join(rating.set_index('anime_id'), lsuffix='_anime', rsuffix='_user')\n",
    "#чтобы смапить нужен общий индекс, если есть одинаковые колонки (rating), то добавляем суффиксы, дабы не было коллизий"
   ]
  },
  {
   "cell_type": "markdown",
   "metadata": {
    "id": "lRkRqtQs0J5h"
   },
   "source": [
    "### Apply"
   ]
  },
  {
   "cell_type": "markdown",
   "metadata": {
    "id": "WsZyTcN32_Bc"
   },
   "source": [
    "Есть очень крутая фича, называется apply. Допустим, что мы хотим создать колонку, где будет отмечать контент 18+ (то есть по жанру Хентай). С помощью apply, смотря на значение и применив лямбда-функцию, мы получим то, что нужно:"
   ]
  },
  {
   "cell_type": "code",
   "execution_count": 269,
   "metadata": {
    "colab": {
     "base_uri": "https://localhost:8080/",
     "height": 0
    },
    "id": "Dfk-3qBZ3hOy",
    "outputId": "012a23c5-e100-4806-885c-d2a9cd5b693c"
   },
   "outputs": [
    {
     "data": {
      "text/html": [
       "\n",
       "  <div id=\"df-66fd6206-b7c0-408b-a0ce-053e2b095f3d\">\n",
       "    <div class=\"colab-df-container\">\n",
       "      <div>\n",
       "<style scoped>\n",
       "    .dataframe tbody tr th:only-of-type {\n",
       "        vertical-align: middle;\n",
       "    }\n",
       "\n",
       "    .dataframe tbody tr th {\n",
       "        vertical-align: top;\n",
       "    }\n",
       "\n",
       "    .dataframe thead th {\n",
       "        text-align: right;\n",
       "    }\n",
       "</style>\n",
       "<table border=\"1\" class=\"dataframe\">\n",
       "  <thead>\n",
       "    <tr style=\"text-align: right;\">\n",
       "      <th></th>\n",
       "      <th>name</th>\n",
       "      <th>genre</th>\n",
       "      <th>type</th>\n",
       "      <th>episodes</th>\n",
       "      <th>rating</th>\n",
       "      <th>members</th>\n",
       "      <th>is_anime</th>\n",
       "    </tr>\n",
       "  </thead>\n",
       "  <tbody>\n",
       "    <tr>\n",
       "      <th>32281</th>\n",
       "      <td>Kimi no Na wa.</td>\n",
       "      <td>Drama, Romance, School, Supernatural</td>\n",
       "      <td>Movie</td>\n",
       "      <td>1</td>\n",
       "      <td>9.37</td>\n",
       "      <td>200630</td>\n",
       "      <td>True</td>\n",
       "    </tr>\n",
       "    <tr>\n",
       "      <th>5114</th>\n",
       "      <td>Fullmetal Alchemist: Brotherhood</td>\n",
       "      <td>Action, Adventure, Drama, Fantasy, Magic, Mili...</td>\n",
       "      <td>TV</td>\n",
       "      <td>64</td>\n",
       "      <td>9.26</td>\n",
       "      <td>793665</td>\n",
       "      <td>True</td>\n",
       "    </tr>\n",
       "    <tr>\n",
       "      <th>28977</th>\n",
       "      <td>Gintama°</td>\n",
       "      <td>Action, Comedy, Historical, Parody, Samurai, S...</td>\n",
       "      <td>TV</td>\n",
       "      <td>51</td>\n",
       "      <td>9.25</td>\n",
       "      <td>114262</td>\n",
       "      <td>True</td>\n",
       "    </tr>\n",
       "    <tr>\n",
       "      <th>9253</th>\n",
       "      <td>Steins;Gate</td>\n",
       "      <td>Sci-Fi, Thriller</td>\n",
       "      <td>TV</td>\n",
       "      <td>24</td>\n",
       "      <td>9.17</td>\n",
       "      <td>673572</td>\n",
       "      <td>True</td>\n",
       "    </tr>\n",
       "    <tr>\n",
       "      <th>9969</th>\n",
       "      <td>Gintama&amp;#039;</td>\n",
       "      <td>Action, Comedy, Historical, Parody, Samurai, S...</td>\n",
       "      <td>TV</td>\n",
       "      <td>51</td>\n",
       "      <td>9.16</td>\n",
       "      <td>151266</td>\n",
       "      <td>True</td>\n",
       "    </tr>\n",
       "    <tr>\n",
       "      <th>...</th>\n",
       "      <td>...</td>\n",
       "      <td>...</td>\n",
       "      <td>...</td>\n",
       "      <td>...</td>\n",
       "      <td>...</td>\n",
       "      <td>...</td>\n",
       "      <td>...</td>\n",
       "    </tr>\n",
       "    <tr>\n",
       "      <th>9316</th>\n",
       "      <td>Toushindai My Lover: Minami tai Mecha-Minami</td>\n",
       "      <td>Hentai</td>\n",
       "      <td>OVA</td>\n",
       "      <td>1</td>\n",
       "      <td>4.15</td>\n",
       "      <td>211</td>\n",
       "      <td>True</td>\n",
       "    </tr>\n",
       "    <tr>\n",
       "      <th>5543</th>\n",
       "      <td>Under World</td>\n",
       "      <td>Hentai</td>\n",
       "      <td>OVA</td>\n",
       "      <td>1</td>\n",
       "      <td>4.28</td>\n",
       "      <td>183</td>\n",
       "      <td>True</td>\n",
       "    </tr>\n",
       "    <tr>\n",
       "      <th>5621</th>\n",
       "      <td>Violence Gekiga David no Hoshi</td>\n",
       "      <td>Hentai</td>\n",
       "      <td>OVA</td>\n",
       "      <td>4</td>\n",
       "      <td>4.88</td>\n",
       "      <td>219</td>\n",
       "      <td>True</td>\n",
       "    </tr>\n",
       "    <tr>\n",
       "      <th>6133</th>\n",
       "      <td>Violence Gekiga Shin David no Hoshi: Inma Dens...</td>\n",
       "      <td>Hentai</td>\n",
       "      <td>OVA</td>\n",
       "      <td>1</td>\n",
       "      <td>4.98</td>\n",
       "      <td>175</td>\n",
       "      <td>True</td>\n",
       "    </tr>\n",
       "    <tr>\n",
       "      <th>26081</th>\n",
       "      <td>Yasuji no Pornorama: Yacchimae!!</td>\n",
       "      <td>Hentai</td>\n",
       "      <td>Movie</td>\n",
       "      <td>1</td>\n",
       "      <td>5.46</td>\n",
       "      <td>142</td>\n",
       "      <td>True</td>\n",
       "    </tr>\n",
       "  </tbody>\n",
       "</table>\n",
       "<p>12294 rows × 7 columns</p>\n",
       "</div>\n",
       "      <button class=\"colab-df-convert\" onclick=\"convertToInteractive('df-66fd6206-b7c0-408b-a0ce-053e2b095f3d')\"\n",
       "              title=\"Convert this dataframe to an interactive table.\"\n",
       "              style=\"display:none;\">\n",
       "        \n",
       "  <svg xmlns=\"http://www.w3.org/2000/svg\" height=\"24px\"viewBox=\"0 0 24 24\"\n",
       "       width=\"24px\">\n",
       "    <path d=\"M0 0h24v24H0V0z\" fill=\"none\"/>\n",
       "    <path d=\"M18.56 5.44l.94 2.06.94-2.06 2.06-.94-2.06-.94-.94-2.06-.94 2.06-2.06.94zm-11 1L8.5 8.5l.94-2.06 2.06-.94-2.06-.94L8.5 2.5l-.94 2.06-2.06.94zm10 10l.94 2.06.94-2.06 2.06-.94-2.06-.94-.94-2.06-.94 2.06-2.06.94z\"/><path d=\"M17.41 7.96l-1.37-1.37c-.4-.4-.92-.59-1.43-.59-.52 0-1.04.2-1.43.59L10.3 9.45l-7.72 7.72c-.78.78-.78 2.05 0 2.83L4 21.41c.39.39.9.59 1.41.59.51 0 1.02-.2 1.41-.59l7.78-7.78 2.81-2.81c.8-.78.8-2.07 0-2.86zM5.41 20L4 18.59l7.72-7.72 1.47 1.35L5.41 20z\"/>\n",
       "  </svg>\n",
       "      </button>\n",
       "      \n",
       "  <style>\n",
       "    .colab-df-container {\n",
       "      display:flex;\n",
       "      flex-wrap:wrap;\n",
       "      gap: 12px;\n",
       "    }\n",
       "\n",
       "    .colab-df-convert {\n",
       "      background-color: #E8F0FE;\n",
       "      border: none;\n",
       "      border-radius: 50%;\n",
       "      cursor: pointer;\n",
       "      display: none;\n",
       "      fill: #1967D2;\n",
       "      height: 32px;\n",
       "      padding: 0 0 0 0;\n",
       "      width: 32px;\n",
       "    }\n",
       "\n",
       "    .colab-df-convert:hover {\n",
       "      background-color: #E2EBFA;\n",
       "      box-shadow: 0px 1px 2px rgba(60, 64, 67, 0.3), 0px 1px 3px 1px rgba(60, 64, 67, 0.15);\n",
       "      fill: #174EA6;\n",
       "    }\n",
       "\n",
       "    [theme=dark] .colab-df-convert {\n",
       "      background-color: #3B4455;\n",
       "      fill: #D2E3FC;\n",
       "    }\n",
       "\n",
       "    [theme=dark] .colab-df-convert:hover {\n",
       "      background-color: #434B5C;\n",
       "      box-shadow: 0px 1px 3px 1px rgba(0, 0, 0, 0.15);\n",
       "      filter: drop-shadow(0px 1px 2px rgba(0, 0, 0, 0.3));\n",
       "      fill: #FFFFFF;\n",
       "    }\n",
       "  </style>\n",
       "\n",
       "      <script>\n",
       "        const buttonEl =\n",
       "          document.querySelector('#df-66fd6206-b7c0-408b-a0ce-053e2b095f3d button.colab-df-convert');\n",
       "        buttonEl.style.display =\n",
       "          google.colab.kernel.accessAllowed ? 'block' : 'none';\n",
       "\n",
       "        async function convertToInteractive(key) {\n",
       "          const element = document.querySelector('#df-66fd6206-b7c0-408b-a0ce-053e2b095f3d');\n",
       "          const dataTable =\n",
       "            await google.colab.kernel.invokeFunction('convertToInteractive',\n",
       "                                                     [key], {});\n",
       "          if (!dataTable) return;\n",
       "\n",
       "          const docLinkHtml = 'Like what you see? Visit the ' +\n",
       "            '<a target=\"_blank\" href=https://colab.research.google.com/notebooks/data_table.ipynb>data table notebook</a>'\n",
       "            + ' to learn more about interactive tables.';\n",
       "          element.innerHTML = '';\n",
       "          dataTable['output_type'] = 'display_data';\n",
       "          await google.colab.output.renderOutput(dataTable, element);\n",
       "          const docLink = document.createElement('div');\n",
       "          docLink.innerHTML = docLinkHtml;\n",
       "          element.appendChild(docLink);\n",
       "        }\n",
       "      </script>\n",
       "    </div>\n",
       "  </div>\n",
       "  "
      ],
      "text/plain": [
       "                                                    name  \\\n",
       "32281                                     Kimi no Na wa.   \n",
       "5114                    Fullmetal Alchemist: Brotherhood   \n",
       "28977                                           Gintama°   \n",
       "9253                                         Steins;Gate   \n",
       "9969                                       Gintama&#039;   \n",
       "...                                                  ...   \n",
       "9316        Toushindai My Lover: Minami tai Mecha-Minami   \n",
       "5543                                         Under World   \n",
       "5621                      Violence Gekiga David no Hoshi   \n",
       "6133   Violence Gekiga Shin David no Hoshi: Inma Dens...   \n",
       "26081                   Yasuji no Pornorama: Yacchimae!!   \n",
       "\n",
       "                                                   genre   type episodes  \\\n",
       "32281               Drama, Romance, School, Supernatural  Movie        1   \n",
       "5114   Action, Adventure, Drama, Fantasy, Magic, Mili...     TV       64   \n",
       "28977  Action, Comedy, Historical, Parody, Samurai, S...     TV       51   \n",
       "9253                                    Sci-Fi, Thriller     TV       24   \n",
       "9969   Action, Comedy, Historical, Parody, Samurai, S...     TV       51   \n",
       "...                                                  ...    ...      ...   \n",
       "9316                                              Hentai    OVA        1   \n",
       "5543                                              Hentai    OVA        1   \n",
       "5621                                              Hentai    OVA        4   \n",
       "6133                                              Hentai    OVA        1   \n",
       "26081                                             Hentai  Movie        1   \n",
       "\n",
       "       rating  members  is_anime  \n",
       "32281    9.37   200630      True  \n",
       "5114     9.26   793665      True  \n",
       "28977    9.25   114262      True  \n",
       "9253     9.17   673572      True  \n",
       "9969     9.16   151266      True  \n",
       "...       ...      ...       ...  \n",
       "9316     4.15      211      True  \n",
       "5543     4.28      183      True  \n",
       "5621     4.88      219      True  \n",
       "6133     4.98      175      True  \n",
       "26081    5.46      142      True  \n",
       "\n",
       "[12294 rows x 7 columns]"
      ]
     },
     "execution_count": 269,
     "metadata": {},
     "output_type": "execute_result"
    }
   ],
   "source": [
    "anime"
   ]
  },
  {
   "cell_type": "code",
   "execution_count": 270,
   "metadata": {
    "colab": {
     "base_uri": "https://localhost:8080/"
    },
    "id": "qHoocIQc3ldn",
    "outputId": "c096f186-f88f-47ad-aec6-f57cf9abad8a"
   },
   "outputs": [
    {
     "data": {
      "text/plain": [
       "array(['Drama, Romance, School, Supernatural',\n",
       "       'Action, Adventure, Drama, Fantasy, Magic, Military, Shounen',\n",
       "       'Action, Comedy, Historical, Parody, Samurai, Sci-Fi, Shounen',\n",
       "       ..., 'Hentai, Sports', 'Drama, Romance, School, Yuri',\n",
       "       'Hentai, Slice of Life'], dtype=object)"
      ]
     },
     "execution_count": 270,
     "metadata": {},
     "output_type": "execute_result"
    }
   ],
   "source": [
    "anime.genre.unique()"
   ]
  },
  {
   "cell_type": "code",
   "execution_count": 273,
   "metadata": {
    "colab": {
     "base_uri": "https://localhost:8080/",
     "height": 0
    },
    "id": "9lR2mp1U3SlJ",
    "outputId": "fe637042-c5a3-4eeb-ae32-1a208f02b8ba"
   },
   "outputs": [
    {
     "data": {
      "text/html": [
       "\n",
       "  <div id=\"df-4ef3c6e0-7bff-446c-a28c-a69cb0a379ed\">\n",
       "    <div class=\"colab-df-container\">\n",
       "      <div>\n",
       "<style scoped>\n",
       "    .dataframe tbody tr th:only-of-type {\n",
       "        vertical-align: middle;\n",
       "    }\n",
       "\n",
       "    .dataframe tbody tr th {\n",
       "        vertical-align: top;\n",
       "    }\n",
       "\n",
       "    .dataframe thead th {\n",
       "        text-align: right;\n",
       "    }\n",
       "</style>\n",
       "<table border=\"1\" class=\"dataframe\">\n",
       "  <thead>\n",
       "    <tr style=\"text-align: right;\">\n",
       "      <th></th>\n",
       "      <th>name</th>\n",
       "      <th>genre</th>\n",
       "      <th>type</th>\n",
       "      <th>episodes</th>\n",
       "      <th>rating</th>\n",
       "      <th>members</th>\n",
       "      <th>is_anime</th>\n",
       "      <th>adult</th>\n",
       "    </tr>\n",
       "  </thead>\n",
       "  <tbody>\n",
       "    <tr>\n",
       "      <th>32281</th>\n",
       "      <td>Kimi no Na wa.</td>\n",
       "      <td>Drama, Romance, School, Supernatural</td>\n",
       "      <td>Movie</td>\n",
       "      <td>1</td>\n",
       "      <td>9.37</td>\n",
       "      <td>200630</td>\n",
       "      <td>True</td>\n",
       "      <td>0</td>\n",
       "    </tr>\n",
       "    <tr>\n",
       "      <th>5114</th>\n",
       "      <td>Fullmetal Alchemist: Brotherhood</td>\n",
       "      <td>Action, Adventure, Drama, Fantasy, Magic, Mili...</td>\n",
       "      <td>TV</td>\n",
       "      <td>64</td>\n",
       "      <td>9.26</td>\n",
       "      <td>793665</td>\n",
       "      <td>True</td>\n",
       "      <td>0</td>\n",
       "    </tr>\n",
       "    <tr>\n",
       "      <th>28977</th>\n",
       "      <td>Gintama°</td>\n",
       "      <td>Action, Comedy, Historical, Parody, Samurai, S...</td>\n",
       "      <td>TV</td>\n",
       "      <td>51</td>\n",
       "      <td>9.25</td>\n",
       "      <td>114262</td>\n",
       "      <td>True</td>\n",
       "      <td>0</td>\n",
       "    </tr>\n",
       "    <tr>\n",
       "      <th>9253</th>\n",
       "      <td>Steins;Gate</td>\n",
       "      <td>Sci-Fi, Thriller</td>\n",
       "      <td>TV</td>\n",
       "      <td>24</td>\n",
       "      <td>9.17</td>\n",
       "      <td>673572</td>\n",
       "      <td>True</td>\n",
       "      <td>0</td>\n",
       "    </tr>\n",
       "    <tr>\n",
       "      <th>9969</th>\n",
       "      <td>Gintama&amp;#039;</td>\n",
       "      <td>Action, Comedy, Historical, Parody, Samurai, S...</td>\n",
       "      <td>TV</td>\n",
       "      <td>51</td>\n",
       "      <td>9.16</td>\n",
       "      <td>151266</td>\n",
       "      <td>True</td>\n",
       "      <td>0</td>\n",
       "    </tr>\n",
       "    <tr>\n",
       "      <th>...</th>\n",
       "      <td>...</td>\n",
       "      <td>...</td>\n",
       "      <td>...</td>\n",
       "      <td>...</td>\n",
       "      <td>...</td>\n",
       "      <td>...</td>\n",
       "      <td>...</td>\n",
       "      <td>...</td>\n",
       "    </tr>\n",
       "    <tr>\n",
       "      <th>9316</th>\n",
       "      <td>Toushindai My Lover: Minami tai Mecha-Minami</td>\n",
       "      <td>Hentai</td>\n",
       "      <td>OVA</td>\n",
       "      <td>1</td>\n",
       "      <td>4.15</td>\n",
       "      <td>211</td>\n",
       "      <td>True</td>\n",
       "      <td>1</td>\n",
       "    </tr>\n",
       "    <tr>\n",
       "      <th>5543</th>\n",
       "      <td>Under World</td>\n",
       "      <td>Hentai</td>\n",
       "      <td>OVA</td>\n",
       "      <td>1</td>\n",
       "      <td>4.28</td>\n",
       "      <td>183</td>\n",
       "      <td>True</td>\n",
       "      <td>1</td>\n",
       "    </tr>\n",
       "    <tr>\n",
       "      <th>5621</th>\n",
       "      <td>Violence Gekiga David no Hoshi</td>\n",
       "      <td>Hentai</td>\n",
       "      <td>OVA</td>\n",
       "      <td>4</td>\n",
       "      <td>4.88</td>\n",
       "      <td>219</td>\n",
       "      <td>True</td>\n",
       "      <td>1</td>\n",
       "    </tr>\n",
       "    <tr>\n",
       "      <th>6133</th>\n",
       "      <td>Violence Gekiga Shin David no Hoshi: Inma Dens...</td>\n",
       "      <td>Hentai</td>\n",
       "      <td>OVA</td>\n",
       "      <td>1</td>\n",
       "      <td>4.98</td>\n",
       "      <td>175</td>\n",
       "      <td>True</td>\n",
       "      <td>1</td>\n",
       "    </tr>\n",
       "    <tr>\n",
       "      <th>26081</th>\n",
       "      <td>Yasuji no Pornorama: Yacchimae!!</td>\n",
       "      <td>Hentai</td>\n",
       "      <td>Movie</td>\n",
       "      <td>1</td>\n",
       "      <td>5.46</td>\n",
       "      <td>142</td>\n",
       "      <td>True</td>\n",
       "      <td>1</td>\n",
       "    </tr>\n",
       "  </tbody>\n",
       "</table>\n",
       "<p>12294 rows × 8 columns</p>\n",
       "</div>\n",
       "      <button class=\"colab-df-convert\" onclick=\"convertToInteractive('df-4ef3c6e0-7bff-446c-a28c-a69cb0a379ed')\"\n",
       "              title=\"Convert this dataframe to an interactive table.\"\n",
       "              style=\"display:none;\">\n",
       "        \n",
       "  <svg xmlns=\"http://www.w3.org/2000/svg\" height=\"24px\"viewBox=\"0 0 24 24\"\n",
       "       width=\"24px\">\n",
       "    <path d=\"M0 0h24v24H0V0z\" fill=\"none\"/>\n",
       "    <path d=\"M18.56 5.44l.94 2.06.94-2.06 2.06-.94-2.06-.94-.94-2.06-.94 2.06-2.06.94zm-11 1L8.5 8.5l.94-2.06 2.06-.94-2.06-.94L8.5 2.5l-.94 2.06-2.06.94zm10 10l.94 2.06.94-2.06 2.06-.94-2.06-.94-.94-2.06-.94 2.06-2.06.94z\"/><path d=\"M17.41 7.96l-1.37-1.37c-.4-.4-.92-.59-1.43-.59-.52 0-1.04.2-1.43.59L10.3 9.45l-7.72 7.72c-.78.78-.78 2.05 0 2.83L4 21.41c.39.39.9.59 1.41.59.51 0 1.02-.2 1.41-.59l7.78-7.78 2.81-2.81c.8-.78.8-2.07 0-2.86zM5.41 20L4 18.59l7.72-7.72 1.47 1.35L5.41 20z\"/>\n",
       "  </svg>\n",
       "      </button>\n",
       "      \n",
       "  <style>\n",
       "    .colab-df-container {\n",
       "      display:flex;\n",
       "      flex-wrap:wrap;\n",
       "      gap: 12px;\n",
       "    }\n",
       "\n",
       "    .colab-df-convert {\n",
       "      background-color: #E8F0FE;\n",
       "      border: none;\n",
       "      border-radius: 50%;\n",
       "      cursor: pointer;\n",
       "      display: none;\n",
       "      fill: #1967D2;\n",
       "      height: 32px;\n",
       "      padding: 0 0 0 0;\n",
       "      width: 32px;\n",
       "    }\n",
       "\n",
       "    .colab-df-convert:hover {\n",
       "      background-color: #E2EBFA;\n",
       "      box-shadow: 0px 1px 2px rgba(60, 64, 67, 0.3), 0px 1px 3px 1px rgba(60, 64, 67, 0.15);\n",
       "      fill: #174EA6;\n",
       "    }\n",
       "\n",
       "    [theme=dark] .colab-df-convert {\n",
       "      background-color: #3B4455;\n",
       "      fill: #D2E3FC;\n",
       "    }\n",
       "\n",
       "    [theme=dark] .colab-df-convert:hover {\n",
       "      background-color: #434B5C;\n",
       "      box-shadow: 0px 1px 3px 1px rgba(0, 0, 0, 0.15);\n",
       "      filter: drop-shadow(0px 1px 2px rgba(0, 0, 0, 0.3));\n",
       "      fill: #FFFFFF;\n",
       "    }\n",
       "  </style>\n",
       "\n",
       "      <script>\n",
       "        const buttonEl =\n",
       "          document.querySelector('#df-4ef3c6e0-7bff-446c-a28c-a69cb0a379ed button.colab-df-convert');\n",
       "        buttonEl.style.display =\n",
       "          google.colab.kernel.accessAllowed ? 'block' : 'none';\n",
       "\n",
       "        async function convertToInteractive(key) {\n",
       "          const element = document.querySelector('#df-4ef3c6e0-7bff-446c-a28c-a69cb0a379ed');\n",
       "          const dataTable =\n",
       "            await google.colab.kernel.invokeFunction('convertToInteractive',\n",
       "                                                     [key], {});\n",
       "          if (!dataTable) return;\n",
       "\n",
       "          const docLinkHtml = 'Like what you see? Visit the ' +\n",
       "            '<a target=\"_blank\" href=https://colab.research.google.com/notebooks/data_table.ipynb>data table notebook</a>'\n",
       "            + ' to learn more about interactive tables.';\n",
       "          element.innerHTML = '';\n",
       "          dataTable['output_type'] = 'display_data';\n",
       "          await google.colab.output.renderOutput(dataTable, element);\n",
       "          const docLink = document.createElement('div');\n",
       "          docLink.innerHTML = docLinkHtml;\n",
       "          element.appendChild(docLink);\n",
       "        }\n",
       "      </script>\n",
       "    </div>\n",
       "  </div>\n",
       "  "
      ],
      "text/plain": [
       "                                                    name  \\\n",
       "32281                                     Kimi no Na wa.   \n",
       "5114                    Fullmetal Alchemist: Brotherhood   \n",
       "28977                                           Gintama°   \n",
       "9253                                         Steins;Gate   \n",
       "9969                                       Gintama&#039;   \n",
       "...                                                  ...   \n",
       "9316        Toushindai My Lover: Minami tai Mecha-Minami   \n",
       "5543                                         Under World   \n",
       "5621                      Violence Gekiga David no Hoshi   \n",
       "6133   Violence Gekiga Shin David no Hoshi: Inma Dens...   \n",
       "26081                   Yasuji no Pornorama: Yacchimae!!   \n",
       "\n",
       "                                                   genre   type episodes  \\\n",
       "32281               Drama, Romance, School, Supernatural  Movie        1   \n",
       "5114   Action, Adventure, Drama, Fantasy, Magic, Mili...     TV       64   \n",
       "28977  Action, Comedy, Historical, Parody, Samurai, S...     TV       51   \n",
       "9253                                    Sci-Fi, Thriller     TV       24   \n",
       "9969   Action, Comedy, Historical, Parody, Samurai, S...     TV       51   \n",
       "...                                                  ...    ...      ...   \n",
       "9316                                              Hentai    OVA        1   \n",
       "5543                                              Hentai    OVA        1   \n",
       "5621                                              Hentai    OVA        4   \n",
       "6133                                              Hentai    OVA        1   \n",
       "26081                                             Hentai  Movie        1   \n",
       "\n",
       "       rating  members  is_anime  adult  \n",
       "32281    9.37   200630      True      0  \n",
       "5114     9.26   793665      True      0  \n",
       "28977    9.25   114262      True      0  \n",
       "9253     9.17   673572      True      0  \n",
       "9969     9.16   151266      True      0  \n",
       "...       ...      ...       ...    ...  \n",
       "9316     4.15      211      True      1  \n",
       "5543     4.28      183      True      1  \n",
       "5621     4.88      219      True      1  \n",
       "6133     4.98      175      True      1  \n",
       "26081    5.46      142      True      1  \n",
       "\n",
       "[12294 rows x 8 columns]"
      ]
     },
     "execution_count": 273,
     "metadata": {},
     "output_type": "execute_result"
    }
   ],
   "source": [
    "anime[\"adult\"] = anime.genre.apply(lambda x: int('Hentai' in str(x))) # то есть берем значения в genre, для них берем лямбда функцию и итерируемся\n",
    "anime"
   ]
  },
  {
   "cell_type": "markdown",
   "metadata": {
    "id": "kt0MU8tc0OXF"
   },
   "source": [
    "### Запись"
   ]
  },
  {
   "cell_type": "markdown",
   "metadata": {
    "id": "UhIqGvPY4Ba-"
   },
   "source": [
    "Поработали и хватит. Давайте запишем наши данные, чтобы они были и нам не пришлось все запускать заново:"
   ]
  },
  {
   "cell_type": "code",
   "execution_count": 274,
   "metadata": {
    "id": "NhbKtSC64Glc"
   },
   "outputs": [],
   "source": [
    "anime.to_csv(\"anime_new.csv\") #запиываем в csv"
   ]
  },
  {
   "cell_type": "markdown",
   "metadata": {
    "id": "WvHEHTUTpATC"
   },
   "source": [
    "## Scipy"
   ]
  },
  {
   "cell_type": "markdown",
   "metadata": {
    "id": "an1pq95dNO7P"
   },
   "source": [
    "Scipy - это несколько специфичная библиотека для различных более математическиз вещей типа преобразований Фурье, интерполяций, оптимизаций etc. Вот там можно реально закопаться ([документация](https://docs.scipy.org/doc/scipy/reference/index.html#) в помощь)\n",
    "\n",
    "Но сегодня мы рассмотрим всего 2 библиотеки, которые вам могут встретиться чаще, чем обычно:\n",
    "\n",
    "* stats - распределения, статистики, корреляции, тесты и так далее\n",
    "\n",
    "* sparse - модуль для разреженных данных"
   ]
  },
  {
   "cell_type": "markdown",
   "metadata": {
    "id": "5sVsSSNEFczK"
   },
   "source": [
    "### Stats"
   ]
  },
  {
   "cell_type": "markdown",
   "metadata": {
    "id": "EA_jCXEHR7h7"
   },
   "source": [
    "В курсе по теории вероятности вы познакомитесь с огромным количеством разных распределений (Бернулли, Пуассона, нормальное, Коши, равномерное etc)\n",
    "\n",
    "Было бы круто, если бы была библиотека, которая может сэмлировать из таких распределений... 🤔🤔🤔\n",
    "\n",
    "А, подождите, для этого есть scipy.stats"
   ]
  },
  {
   "cell_type": "code",
   "execution_count": 138,
   "metadata": {
    "colab": {
     "base_uri": "https://localhost:8080/",
     "height": 0
    },
    "id": "VhF6LX7upCEC",
    "outputId": "bda04385-4476-42cc-de97-5942a5392057"
   },
   "outputs": [
    {
     "data": {
      "image/png": "[encoded data removed]",
      "text/plain": [
       "<Figure size 432x288 with 1 Axes>"
      ]
     },
     "metadata": {
      "needs_background": "light"
     },
     "output_type": "display_data"
    }
   ],
   "source": [
    "n = st.norm(5, 1) # возьмем нормальное распределение со средним 5 и gamma = 1\n",
    "plt.hist(n.rvs(10000), bins=30) #.rvs - сгенерировать сэмпл\n",
    "plt.show() #ну, очень похоже на нормальное распределение"
   ]
  },
  {
   "cell_type": "code",
   "execution_count": 139,
   "metadata": {
    "colab": {
     "base_uri": "https://localhost:8080/",
     "height": 0
    },
    "id": "YOSHikXEUgXx",
    "outputId": "3d6ea654-05b5-4bce-9367-0eb56cad5c25"
   },
   "outputs": [
    {
     "data": {
      "image/png": "[encoded data removed]",
      "text/plain": [
       "<Figure size 432x288 with 1 Axes>"
      ]
     },
     "metadata": {
      "needs_background": "light"
     },
     "output_type": "display_data"
    }
   ],
   "source": [
    "x = np.linspace(0, 10, 1000)\n",
    "plt.plot(x, n.pdf(x))\n",
    "plt.show()"
   ]
  },
  {
   "cell_type": "markdown",
   "metadata": {
    "id": "aEUDgMqCT3vc"
   },
   "source": [
    "Основное:\n",
    "\n",
    "* .rvs(size) - сгенерировать выборку нужного размера\n",
    "\n",
    "* .pdf(val) - значение плотности вероятности в данной точке\n",
    "\n",
    "* .ppf(perc) - квантили\n",
    "\n",
    "* .mean, .std, .var - среднее, стандратное отклонение, дисперсия\n"
   ]
  },
  {
   "cell_type": "code",
   "execution_count": 148,
   "metadata": {
    "colab": {
     "base_uri": "https://localhost:8080/"
    },
    "id": "JxELWf8BWEfl",
    "outputId": "54a7c0ba-1a64-4ac7-a16a-ba5696ce485a"
   },
   "outputs": [
    {
     "data": {
      "text/plain": [
       "309"
      ]
     },
     "execution_count": 148,
     "metadata": {},
     "output_type": "execute_result"
    }
   ],
   "source": [
    "n = st.bernoulli(0.3) #распределение Бернулли с p = 0.3 (p - вероятность выпадения 1)\n",
    "n.rvs(1000).sum() #почти 30% выпадения 1"
   ]
  },
  {
   "cell_type": "markdown",
   "metadata": {
    "id": "q5wYB21KW1XX"
   },
   "source": [
    "На самом деле, сейчас это может быть не так важно и нужно, но как только вы перейдете к матстату и полному терверу, то сразу понятно станет, как же это удобно (мы с вами потренируемся с этим на семинаре на примере одного датасета)"
   ]
  },
  {
   "cell_type": "markdown",
   "metadata": {
    "id": "eMsTcc_-Fe-F"
   },
   "source": [
    "### Sparse"
   ]
  },
  {
   "cell_type": "markdown",
   "metadata": {
    "id": "xm5wkYMTPYSR"
   },
   "source": [
    "Так или иначе, у вас может получиться разреженная матрица (то есть это матрица, где очень много нулей и лишь малое число ненулей). Хранить такую матрицу как она есть - это очень грустно с точки зрения памяти (мы храним кучу безполезной информации)\n",
    "\n",
    "Для этого и придумали sparse модуль. В чем особенность? Давайте хранить вместо самой матрицы ее размеры и места, где находятся ненулевые значения, а потом при взаимодействии это обрабатывать отдельно\n",
    "\n",
    "Модуль sparse очень хорошо работает с Numpy, так что в этом смысле никаких проблем нет, самое главное - если где-то получается что-то типа sparse матрицы, то в этом поможет именно Scipy"
   ]
  },
  {
   "cell_type": "code",
   "execution_count": 121,
   "metadata": {
    "id": "hPSBvTf8FgiZ"
   },
   "outputs": [],
   "source": [
    "A = sp.lil_matrix((1000, 1000)) #создаем матрицу\n",
    "A[0, :100] = np.random.rand(100) # заполним рандомными значениями\n",
    "A[1, 100:200] = A[0, :100]\n",
    "A.setdiag(np.random.rand(1000)) #заполним диагонали, чтобы система была решаемой"
   ]
  },
  {
   "cell_type": "code",
   "execution_count": null,
   "metadata": {
    "id": "8Jg1hX8oQopR"
   },
   "outputs": [],
   "source": [
    "A = A.tocsr() # переводим в формат sparse матрицы A.to_array() - вернуть обратно в формат обычной матрицы\n",
    "b = np.random.rand(1000)\n",
    "x = sp.linalg.spsolve(A, b) #решаем уравенение\n",
    "x # получаем такое же решение, как и в случае обычных матриц, но храним меньше данных"
   ]
  },
  {
   "cell_type": "markdown",
   "metadata": {
    "id": "U4V-1SQ78JUt"
   },
   "source": [
    "## Итоги"
   ]
  },
  {
   "cell_type": "markdown",
   "metadata": {
    "id": "6eoxdKKX8Lio"
   },
   "source": [
    "На семинаре мы возьмем этот багаж, обогатим работой со временем и вперед, будем крутить-вертить датасет)"
   ]
  },
  {
   "cell_type": "markdown",
   "metadata": {
    "id": "Yz3iN4Op9S6a"
   },
   "source": [
    "![](https://mnogo-krolikov.ru/wp-content/uploads/2019/10/https-avatars-mds-yandex-net-get-pdb-877347-9092.jpeg)"
   ]
  },
  {
   "cell_type": "markdown",
   "metadata": {
    "id": "0xFoSJNi9Vaf"
   },
   "source": [
    "А это какапо, самый большой попугай на Земле. А еще он нелетающий (крылья у него есть, он с их помощью плюхается с деревьев иногда, но нет, он не умеет летать). Они очень забавные, приятно пахнут, и очень привыкают к людям :з \n",
    "\n",
    "Они ведут ночной образ жизни и по сути заменяли млекопитающих на островах Новой Зеландии, но из-за всяких кошек, горностаев и прочих животных, привезенных извне, был почти истреблен. Сейчас их всего 200 особей, которые обитают на специально изолированных островах\n",
    "\n",
    "Но хорошая новость в том, что за последние года их стало больше и они вполне неплохо себе живут :)"
   ]
  }
 ],
 "metadata": {
  "colab": {
   "collapsed_sections": [
    "oHz8RCn1zE6D",
    "HCsxKs-uzIKN",
    "COyBZ83jzutH",
    "LhG9AH7-beOC",
    "k2QnwLxT6eeU",
    "LoGz6xQFMmPw",
    "xjkkSoFoMpEa",
    "fROW7gayMrZ6",
    "G_Ui0dquMvAK",
    "h1pDMA1PNCgo",
    "ikeGwjyZiGZx",
    "dOERGiYHq6Qo",
    "4jBv6d0DucOG",
    "nldpoIpEzfu9",
    "k_-WHOfZ0HtQ",
    "lRkRqtQs0J5h",
    "kt0MU8tc0OXF",
    "WvHEHTUTpATC",
    "5sVsSSNEFczK"
   ],
   "provenance": []
  },
  "kernelspec": {
   "display_name": "Python 3 (ipykernel)",
   "language": "python",
   "name": "python3"
  },
  "language_info": {
   "codemirror_mode": {
    "name": "ipython",
    "version": 3
   },
   "file_extension": ".py",
   "mimetype": "text/x-python",
   "name": "python",
   "nbconvert_exporter": "python",
   "pygments_lexer": "ipython3",
   "version": "3.9.7"
  }
 },
 "nbformat": 4,
 "nbformat_minor": 1
}
