{
  "nbformat": 4,
  "nbformat_minor": 0,
  "metadata": {
    "colab": {
      "provenance": [],
      "collapsed_sections": []
    },
    "kernelspec": {
      "name": "python3",
      "display_name": "Python 3"
    },
    "language_info": {
      "name": "python"
    }
  },
  "cells": [
    {
      "cell_type": "markdown",
      "source": [
        "# Продвинутый Python, семинар 5\n",
        "\n",
        "**Лектор:** Петров Тимур\n",
        "\n",
        "**Семинаристы:** Петров Тимур, Коган Александра, Романченко Полина\n",
        "\n",
        "**Spoiler Alert:** в рамках курса нельзя изучить ни одну из тем от и до досконально (к сожалению, на это требуется больше времени, чем даже 3 часа в неделю). Но мы попробуем рассказать столько, сколько возможно :)"
      ],
      "metadata": {
        "id": "WwnSWsgzxnX8"
      }
    },
    {
      "cell_type": "markdown",
      "source": [
        "Upd.: Дополнили информацией со всех семинаров :)"
      ],
      "metadata": {
        "id": "TLBVyYI6QS8A"
      }
    },
    {
      "cell_type": "markdown",
      "source": [
        "## Property"
      ],
      "metadata": {
        "id": "8S9MGZm6C_xV"
      }
    },
    {
      "cell_type": "markdown",
      "source": [
        "Что? - способ работать с атрибутами\n",
        "\n",
        "Зачем? - работать с атрибутами, которые не должны быть \"публичными\" так, чтобы ничего не испортить (проводить валидацию) + не создавать дополнительные названия\n",
        "\n",
        "Например, создали класс \"Дом\" с полем \"цена\". Во время работы с этим полем возникнет потребность изменять этот атрибут. Но цена не может быть чем-то случайным. Цена - это обязательно неотрицательное число. Надо как-то запретить ставить неправильную цену"
      ],
      "metadata": {
        "id": "-7fJ_j-zDb1h"
      }
    },
    {
      "cell_type": "code",
      "source": [
        "class MyClass:\n",
        "  #можем попытаться хоть как-то ограничить\n",
        "  a: int = 100"
      ],
      "metadata": {
        "id": "IWusxm_QFYKA"
      },
      "execution_count": null,
      "outputs": []
    },
    {
      "cell_type": "code",
      "source": [
        "#К этой переменной есть легкий доступ\n",
        "v = MyClass()\n",
        "print(v.a)\n",
        "#Можно сделать отрицательной\n",
        "v.a = -123\n",
        "print(v.a)\n",
        "#Ууупс, даже строкой можно\n",
        "v.a = 'Oops'\n",
        "print(v.a)"
      ],
      "metadata": {
        "colab": {
          "base_uri": "https://localhost:8080/"
        },
        "id": "pG5WeGoqFkoo",
        "outputId": "7a32a890-01fc-4778-ccc7-3f065ff6e733"
      },
      "execution_count": null,
      "outputs": [
        {
          "output_type": "stream",
          "name": "stdout",
          "text": [
            "100\n",
            "-123\n",
            "Oops\n"
          ]
        }
      ]
    },
    {
      "cell_type": "markdown",
      "source": [
        "Падажжите, тут же даже никак не отсмотрелось, что a должен быть int!  - Если вы помните лекию про typing: структура Python никак не изменилась, \"a : int\" - это скорее для информации программисту"
      ],
      "metadata": {
        "id": "9fYrdg_xG_Bi"
      }
    },
    {
      "cell_type": "markdown",
      "source": [
        "Таким образом, если мы хотим как-то защитить атрибут, надо что-то написать.\n",
        "\n",
        "Первая идея: давайте попросим программистов не требовать напрямую v.a, а запрашивать спец-метод v.set\\_a (а если нужно вывыести, то get\\_a)"
      ],
      "metadata": {
        "id": "an9ZmoghFwu2"
      }
    },
    {
      "cell_type": "code",
      "source": [
        "\n",
        "class MyClass:\n",
        "  a = 100\n",
        "  def set_a(self, x):\n",
        "\n",
        "    if type(x) != int:\n",
        "      print('a must be int')\n",
        "      return \n",
        "    if x < 0:\n",
        "      print('a must be >= 0')\n",
        "      return \n",
        "    self.a = x\n",
        "  #def get_a() ..."
      ],
      "metadata": {
        "id": "7aKsgoD-FwNi"
      },
      "execution_count": null,
      "outputs": []
    },
    {
      "cell_type": "code",
      "source": [
        "v = MyClass()\n",
        "print(v.a)\n",
        "v.set_a(4)\n",
        "print(v.a)\n",
        "v.set_a(-6664)\n",
        "print(v.a)\n",
        "v.set_a('Oops')\n",
        "print(v.a)"
      ],
      "metadata": {
        "colab": {
          "base_uri": "https://localhost:8080/"
        },
        "id": "LImSsBEYGLKx",
        "outputId": "1c133c12-ef18-42b6-e545-dedbaa1e1949"
      },
      "execution_count": null,
      "outputs": [
        {
          "output_type": "stream",
          "name": "stdout",
          "text": [
            "100\n",
            "4\n",
            "a must be >= 0\n",
            "4\n",
            "a must be int\n",
            "4\n"
          ]
        }
      ]
    },
    {
      "cell_type": "markdown",
      "source": [
        "О, теперь работает.\n",
        "\n",
        "Но есть проблемы: \n",
        "\n",
        "\n",
        "*   Если раньше уже был код вида \"v.a = 34\", то его надо переписывать \n",
        "*   Кто-то может нечаянно написать \"v.a\"\n",
        "*   Надо помнить, какие атрибуты можно \"тыкать\" напрямую, какие- нельзя (или для всех атрибутов написать set_name, но это куча лишней копипасты, которую мы не любим)\n"
      ],
      "metadata": {
        "id": "Y9AQAhjwGZ8W"
      }
    },
    {
      "cell_type": "code",
      "source": [
        "#Юзаем декоратор property\n",
        "class MyClass(object):\n",
        "  #Пусть настоящий атрибут a станет внутренним\n",
        "  _a = 100\n",
        "  #Юзер быдет работать просто с атрибутом a\n",
        "\n",
        "  #getter\n",
        "  @property\n",
        "  def a(self):\n",
        "    #Пропишем, например, что быдет выдаваться строка, а не просто атрибут\n",
        "    return 'the a is ' + str(self._a)\n",
        "  \n",
        "  #setter\n",
        "  @a.setter\n",
        "  def a(self, x):\n",
        "    if type(x) != int:\n",
        "      print('a must be int')\n",
        "    elif x < 0:\n",
        "      print('a must be >= 0')\n",
        "    else:  \n",
        "      self._a = x\n",
        "  \n",
        "\n",
        "  "
      ],
      "metadata": {
        "id": "dG2TpLM9Gj42"
      },
      "execution_count": null,
      "outputs": []
    },
    {
      "cell_type": "code",
      "source": [
        "v = MyClass()\n",
        "print(v.a)\n",
        "v.a = 4\n",
        "print(v.a)\n",
        "v.a = -6664 \n",
        "print(v.a)\n",
        "v.a = 'Oops'\n",
        "print(v.a)"
      ],
      "metadata": {
        "colab": {
          "base_uri": "https://localhost:8080/"
        },
        "id": "BeSZE1XFHYFW",
        "outputId": "da34ae61-69ab-44d1-d71b-ad6ca84d80b6"
      },
      "execution_count": null,
      "outputs": [
        {
          "output_type": "stream",
          "name": "stdout",
          "text": [
            "the a is 100\n",
            "the a is 4\n",
            "a must be >= 0\n",
            "the a is 4\n",
            "a must be int\n",
            "the a is 4\n"
          ]
        }
      ]
    },
    {
      "cell_type": "markdown",
      "source": [
        "Теперь работает и работы с v выглядит привычно и просто"
      ],
      "metadata": {
        "id": "qH1dTQpxqJB9"
      }
    },
    {
      "cell_type": "markdown",
      "source": [
        "## Контекстный мессенджер\n",
        "\n",
        "Что это? - то, что задает поведение при использовании конструкции with\n"
      ],
      "metadata": {
        "id": "o2lQqUnccQPc"
      }
    },
    {
      "cell_type": "markdown",
      "source": [
        "Зачем конструкция with?"
      ],
      "metadata": {
        "id": "wV-DCICqhR5F"
      }
    },
    {
      "cell_type": "code",
      "source": [
        "#Пример: надо записать что-то в файл\n",
        "fin = open('file.txt', 'w')\n",
        "fin.write('some text') #тут может произойти исключение и close не отработает\n",
        "fin.close() #это можно просто забыть"
      ],
      "metadata": {
        "id": "yaA9GjTbcPmM"
      },
      "execution_count": null,
      "outputs": []
    },
    {
      "cell_type": "markdown",
      "source": [
        "Важно, что после того, как мы записали все, что нужно, в файл, этот файл надо закрыть. Однако, если произойдет исключение или fin.close() забудем написать, то этого не произойдет.\n",
        "\n",
        "Вариант: обернуть запись в try except"
      ],
      "metadata": {
        "id": "5Aya3q5qhaA8"
      }
    },
    {
      "cell_type": "code",
      "source": [
        "#Тут все Ок\n",
        "fin = open('file.txt', 'w')\n",
        "try:\n",
        "    fin.write('some text')\n",
        "except:\n",
        "    print('Some error!')\n",
        "finally:\n",
        "    fin.close()"
      ],
      "metadata": {
        "id": "e0R7f0l7c1E2"
      },
      "execution_count": null,
      "outputs": []
    },
    {
      "cell_type": "code",
      "source": [
        "#Тут будет обработана ошибка\n",
        "fin = open('file.txt', 'w')\n",
        "try:\n",
        "    fin.write(some)\n",
        "except:\n",
        "    print('Some error!')\n",
        "finally:\n",
        "    fin.close()"
      ],
      "metadata": {
        "colab": {
          "base_uri": "https://localhost:8080/"
        },
        "id": "hwTZ-hBYdBYz",
        "outputId": "446905e7-9f46-4e9c-a40a-b66f9342e1cd"
      },
      "execution_count": null,
      "outputs": [
        {
          "output_type": "stream",
          "name": "stdout",
          "text": [
            "Some error!\n"
          ]
        }
      ]
    },
    {
      "cell_type": "markdown",
      "source": [
        "Получается довольно громоздко.\n",
        "\n",
        "Можно использовать with"
      ],
      "metadata": {
        "id": "STx6ozEliAsK"
      }
    },
    {
      "cell_type": "code",
      "source": [
        "with open('file.txt', 'w') as fin:\n",
        "     fin.write('some text')"
      ],
      "metadata": {
        "id": "9wxS9rSudJhF"
      },
      "execution_count": null,
      "outputs": []
    },
    {
      "cell_type": "code",
      "source": [
        "#Файл закрылся, ошибка вывелась\n",
        "with open('file1.txt', 'w') as fin:\n",
        "     fin.write(some)"
      ],
      "metadata": {
        "colab": {
          "base_uri": "https://localhost:8080/",
          "height": 183
        },
        "id": "tGikq6Z4dUBL",
        "outputId": "f5d9b7b7-134e-4645-a48e-ca50c875685f"
      },
      "execution_count": null,
      "outputs": [
        {
          "output_type": "error",
          "ename": "NameError",
          "evalue": "ignored",
          "traceback": [
            "\u001b[0;31m---------------------------------------------------------------------------\u001b[0m",
            "\u001b[0;31mNameError\u001b[0m                                 Traceback (most recent call last)",
            "\u001b[0;32m<ipython-input-6-ad921b413ab3>\u001b[0m in \u001b[0;36m<module>\u001b[0;34m\u001b[0m\n\u001b[1;32m      1\u001b[0m \u001b[0;32mwith\u001b[0m \u001b[0mopen\u001b[0m\u001b[0;34m(\u001b[0m\u001b[0;34m'file1.txt'\u001b[0m\u001b[0;34m,\u001b[0m \u001b[0;34m'w'\u001b[0m\u001b[0;34m)\u001b[0m \u001b[0;32mas\u001b[0m \u001b[0mfin\u001b[0m\u001b[0;34m:\u001b[0m\u001b[0;34m\u001b[0m\u001b[0;34m\u001b[0m\u001b[0m\n\u001b[0;32m----> 2\u001b[0;31m      \u001b[0mfin\u001b[0m\u001b[0;34m.\u001b[0m\u001b[0mwrite\u001b[0m\u001b[0;34m(\u001b[0m\u001b[0msome\u001b[0m\u001b[0;34m)\u001b[0m\u001b[0;34m\u001b[0m\u001b[0;34m\u001b[0m\u001b[0m\n\u001b[0m",
            "\u001b[0;31mNameError\u001b[0m: name 'some' is not defined"
          ]
        }
      ]
    },
    {
      "cell_type": "markdown",
      "source": [
        "Если работаете с чем-то, что похоже на файл:\n",
        "\n",
        "*   Присутствует захват/освобождение ресурса\n",
        "*   Выполняются какие-то действия перед началом работы и в конце\n",
        "\n",
        "То можно создать свой контекстный менеджер\n"
      ],
      "metadata": {
        "id": "X2l2lhlgd3Q-"
      }
    },
    {
      "cell_type": "code",
      "source": [
        "#Тут что-то похоже на файл\n",
        "class MyFile:\n",
        "    def __init__(self, title):\n",
        "        self.title = title\n",
        "        print('MyFile',  self.title, 'opened')\n",
        "        \n",
        "    def close(self):\n",
        "        print('MyFile', self.title, 'closed')\n",
        "    \n",
        "    def f(self):\n",
        "      print('some function of MyFile', self.title)"
      ],
      "metadata": {
        "id": "WEBvSYc31NIl"
      },
      "execution_count": null,
      "outputs": []
    },
    {
      "cell_type": "code",
      "source": [
        "#Теперь менеджер\n",
        "class MyFileManager:\n",
        "    def __init__(self, title):\n",
        "        self._file = MyFile(title)\n",
        "\n",
        "    def __enter__(self):\n",
        "        return self._file\n",
        "        \n",
        "    def __exit__(self, type, value, traceback):\n",
        "        self._file.close()"
      ],
      "metadata": {
        "id": "K94mqznp10IG"
      },
      "execution_count": null,
      "outputs": []
    },
    {
      "cell_type": "markdown",
      "source": [
        "И что делает контекстный менеджер?\n",
        "\n",
        "1. \\_\\_enter\\_\\_ должен возвращать объект, который присваивается переменной после as. \n",
        "\n",
        "2. \\_\\_exit\\_\\_ вызывается при выходе из with (вылетели с ошибкой/закончили работу)\n",
        "\n",
        "Если ошибка возникает в \\_\\_init\\_\\_ или \\_\\_enter\\_\\_, тогда блок кода никогда не выполняется и \\_\\_exit\\_\\_ не вызывается.\n"
      ],
      "metadata": {
        "id": "RQVUysh-kAkL"
      }
    },
    {
      "cell_type": "code",
      "source": [
        "#Тут мы входим в блок, спокойно работаем внутри и выходим\n",
        "with MyFileManager('my_file') as r:\n",
        "  r.f()\n",
        "  r.f()"
      ],
      "metadata": {
        "colab": {
          "base_uri": "https://localhost:8080/"
        },
        "id": "K8eUXGhE2FW0",
        "outputId": "67ff41ee-3863-4bee-b2de-8b8e00bef166"
      },
      "execution_count": null,
      "outputs": [
        {
          "output_type": "stream",
          "name": "stdout",
          "text": [
            "MyFile my_file opened\n",
            "some function of MyFile my_file\n",
            "some function of MyFile my_file\n",
            "MyFile my_file closed\n"
          ]
        }
      ]
    },
    {
      "cell_type": "code",
      "source": [
        "#Теперь добавим ошибку в код (лишний аргумент в функцию + не определили переменную)\n",
        "with MyFileManager('my_file') as r:\n",
        "  r.f()\n",
        "  r.f(some)"
      ],
      "metadata": {
        "colab": {
          "base_uri": "https://localhost:8080/",
          "height": 252
        },
        "id": "a_ssx2h2laO1",
        "outputId": "dd3419d6-63b7-49f1-fbbe-eb96666cab56"
      },
      "execution_count": null,
      "outputs": [
        {
          "output_type": "stream",
          "name": "stdout",
          "text": [
            "MyFile my_file opened\n",
            "some function of MyFile my_file\n",
            "MyFile my_file closed\n"
          ]
        },
        {
          "output_type": "error",
          "ename": "NameError",
          "evalue": "ignored",
          "traceback": [
            "\u001b[0;31m---------------------------------------------------------------------------\u001b[0m",
            "\u001b[0;31mNameError\u001b[0m                                 Traceback (most recent call last)",
            "\u001b[0;32m<ipython-input-14-fbb3567925db>\u001b[0m in \u001b[0;36m<module>\u001b[0;34m\u001b[0m\n\u001b[1;32m      2\u001b[0m \u001b[0;32mwith\u001b[0m \u001b[0mMyFileManager\u001b[0m\u001b[0;34m(\u001b[0m\u001b[0;34m'my_file'\u001b[0m\u001b[0;34m)\u001b[0m \u001b[0;32mas\u001b[0m \u001b[0mr\u001b[0m\u001b[0;34m:\u001b[0m\u001b[0;34m\u001b[0m\u001b[0;34m\u001b[0m\u001b[0m\n\u001b[1;32m      3\u001b[0m   \u001b[0mr\u001b[0m\u001b[0;34m.\u001b[0m\u001b[0mf\u001b[0m\u001b[0;34m(\u001b[0m\u001b[0;34m)\u001b[0m\u001b[0;34m\u001b[0m\u001b[0;34m\u001b[0m\u001b[0m\n\u001b[0;32m----> 4\u001b[0;31m   \u001b[0mr\u001b[0m\u001b[0;34m.\u001b[0m\u001b[0mf\u001b[0m\u001b[0;34m(\u001b[0m\u001b[0msome\u001b[0m\u001b[0;34m)\u001b[0m\u001b[0;34m\u001b[0m\u001b[0;34m\u001b[0m\u001b[0m\n\u001b[0m",
            "\u001b[0;31mNameError\u001b[0m: name 'some' is not defined"
          ]
        }
      ]
    },
    {
      "cell_type": "markdown",
      "source": [
        "Видно, что хоть и произошла ошибка, код прервался, но \\_\\_exit\\_\\_ отработал!"
      ],
      "metadata": {
        "id": "nT97qu6Elllc"
      }
    },
    {
      "cell_type": "markdown",
      "source": [
        "Естественно, можно не писать классы, а использовать спец-утилиту\n",
        "\n",
        "Она назвается contextmanager\n",
        "\n",
        "Делать ее надо так:\n",
        "\n",
        "\n",
        "```\n",
        "from contextlib import contextmanager\n",
        "@contextmanager\n",
        "def processor():\n",
        "    <...> #То, что при __enter__\n",
        "    yield <...> # Если надо что-то вернуть\n",
        "    <...> #То, что при __exit__\n",
        "```\n",
        "\n"
      ],
      "metadata": {
        "id": "At3J4WV12bqX"
      }
    },
    {
      "cell_type": "code",
      "source": [
        "from contextlib import contextmanager\n",
        "@contextmanager\n",
        "def processor(title):\n",
        "\n",
        "    ## __init__\n",
        "    fin = MyFile('my_file')\n",
        "    try: \n",
        "      ## __enter__\n",
        "      yield fin\n",
        "    finally:\n",
        "      ##__exit__\n",
        "      fin.close()\n",
        "    \n",
        "with processor('my_file') as file:\n",
        "    #print(':: processing')\n",
        "    file.f()\n",
        "    file.f()\n"
      ],
      "metadata": {
        "colab": {
          "base_uri": "https://localhost:8080/"
        },
        "id": "uw7UVLQz2bCr",
        "outputId": "679e565a-2f91-47ad-c98d-a38931da3fee"
      },
      "execution_count": null,
      "outputs": [
        {
          "output_type": "stream",
          "name": "stdout",
          "text": [
            "MyFile my_file opened\n",
            "some function of MyFile my_file\n",
            "some function of MyFile my_file\n",
            "MyFile my_file closed\n"
          ]
        }
      ]
    },
    {
      "cell_type": "code",
      "source": [
        "#Теперь добавим ошибку\n",
        "with processor('my_file') as file:\n",
        "    #print(':: processing')\n",
        "    raise ValueError"
      ],
      "metadata": {
        "colab": {
          "base_uri": "https://localhost:8080/",
          "height": 235
        },
        "id": "nwox_917qaEM",
        "outputId": "c73061e4-497c-40af-f05d-02f5440bfb2d"
      },
      "execution_count": null,
      "outputs": [
        {
          "output_type": "stream",
          "name": "stdout",
          "text": [
            "MyFile my_file opened\n",
            "MyFile my_file closed\n"
          ]
        },
        {
          "output_type": "error",
          "ename": "ValueError",
          "evalue": "ignored",
          "traceback": [
            "\u001b[0;31m---------------------------------------------------------------------------\u001b[0m",
            "\u001b[0;31mValueError\u001b[0m                                Traceback (most recent call last)",
            "\u001b[0;32m<ipython-input-23-f515cdcb3422>\u001b[0m in \u001b[0;36m<module>\u001b[0;34m\u001b[0m\n\u001b[1;32m      2\u001b[0m \u001b[0;32mwith\u001b[0m \u001b[0mprocessor\u001b[0m\u001b[0;34m(\u001b[0m\u001b[0;34m'my_file'\u001b[0m\u001b[0;34m)\u001b[0m \u001b[0;32mas\u001b[0m \u001b[0mfile\u001b[0m\u001b[0;34m:\u001b[0m\u001b[0;34m\u001b[0m\u001b[0;34m\u001b[0m\u001b[0m\n\u001b[1;32m      3\u001b[0m     \u001b[0;31m#print(':: processing')\u001b[0m\u001b[0;34m\u001b[0m\u001b[0;34m\u001b[0m\u001b[0;34m\u001b[0m\u001b[0m\n\u001b[0;32m----> 4\u001b[0;31m     \u001b[0;32mraise\u001b[0m \u001b[0mValueError\u001b[0m\u001b[0;34m\u001b[0m\u001b[0;34m\u001b[0m\u001b[0m\n\u001b[0m",
            "\u001b[0;31mValueError\u001b[0m: "
          ]
        }
      ]
    },
    {
      "cell_type": "code",
      "source": [
        "#если хотим поработать с обычным файлом\n",
        "@contextmanager\n",
        "def open_file(path, mode):\n",
        "    f = open(path, mode)\n",
        "    try: \n",
        "      yield f\n",
        "    finally:\n",
        "      f.close()\n",
        "with open_file('test.txt', 'w') as file:\n",
        "    file.write('hello')"
      ],
      "metadata": {
        "id": "lZUhxu-P2iGW"
      },
      "execution_count": null,
      "outputs": []
    },
    {
      "cell_type": "code",
      "source": [
        "#Добавили ошибку\n",
        "with open_file('test1.txt', 'w') as file:\n",
        "    file.write(some)"
      ],
      "metadata": {
        "colab": {
          "base_uri": "https://localhost:8080/",
          "height": 200
        },
        "id": "K2MpF-_isPsG",
        "outputId": "c5c5046e-27b7-4f06-c6fd-1fc6c78cfe2d"
      },
      "execution_count": null,
      "outputs": [
        {
          "output_type": "error",
          "ename": "NameError",
          "evalue": "ignored",
          "traceback": [
            "\u001b[0;31m---------------------------------------------------------------------------\u001b[0m",
            "\u001b[0;31mNameError\u001b[0m                                 Traceback (most recent call last)",
            "\u001b[0;32m<ipython-input-25-7bf05f163bcf>\u001b[0m in \u001b[0;36m<module>\u001b[0;34m\u001b[0m\n\u001b[1;32m      1\u001b[0m \u001b[0;31m#Добавили ошибку\u001b[0m\u001b[0;34m\u001b[0m\u001b[0;34m\u001b[0m\u001b[0;34m\u001b[0m\u001b[0m\n\u001b[1;32m      2\u001b[0m \u001b[0;32mwith\u001b[0m \u001b[0mopen_file\u001b[0m\u001b[0;34m(\u001b[0m\u001b[0;34m'test1.txt'\u001b[0m\u001b[0;34m,\u001b[0m \u001b[0;34m'w'\u001b[0m\u001b[0;34m)\u001b[0m \u001b[0;32mas\u001b[0m \u001b[0mfile\u001b[0m\u001b[0;34m:\u001b[0m\u001b[0;34m\u001b[0m\u001b[0;34m\u001b[0m\u001b[0m\n\u001b[0;32m----> 3\u001b[0;31m     \u001b[0mfile\u001b[0m\u001b[0;34m.\u001b[0m\u001b[0mwrite\u001b[0m\u001b[0;34m(\u001b[0m\u001b[0msome\u001b[0m\u001b[0;34m)\u001b[0m\u001b[0;34m\u001b[0m\u001b[0;34m\u001b[0m\u001b[0m\n\u001b[0m",
            "\u001b[0;31mNameError\u001b[0m: name 'some' is not defined"
          ]
        }
      ]
    },
    {
      "cell_type": "markdown",
      "source": [
        "Таким образом, контекстный менеджер - чпочоб работать с \"файлами\" и конструкцией with"
      ],
      "metadata": {
        "id": "npyawVEMsUWs"
      }
    },
    {
      "cell_type": "markdown",
      "source": [
        "## Статические методы"
      ],
      "metadata": {
        "id": "uhv0Gf13znn4"
      }
    },
    {
      "cell_type": "markdown",
      "source": [
        "staticmethod - часто используются для написания \"утильных\" классов, \n",
        "когда главная задача класса - просто группировка методов \n",
        "например, мы можем захотеть генерировать себе тестовые данные в отдельно взятом классе,\n",
        "а потом использовать их в unit-тестах для всего проекта\n"
      ],
      "metadata": {
        "id": "YkKmNrPj2YE8"
      }
    },
    {
      "cell_type": "code",
      "source": [
        "from uuid import UUID, uuid4\n",
        "\n",
        "class Utils:\n",
        "    @staticmethod\n",
        "    def capitalize(s: str):\n",
        "        print(s.capitalize())\n",
        "\n",
        "class TestDataUtils:\n",
        "    @staticmethod\n",
        "    def create_document():\n",
        "        return {'_id': uuid4(), 'name': 'testName'}\n",
        "\n",
        "    @staticmethod\n",
        "    def create_test_worker():\n",
        "        return {'_id': uuid4(), 'name': 'testName', 'strength': 1, 'skill': 'work'}\n",
        "\n",
        "    @staticmethod\n",
        "    def create_test_fighter():\n",
        "        return {'_id': uuid4(), 'name': 'testName', 'strength': 1, 'skill': 'sword'}\n",
        "\n",
        "    @staticmethod\n",
        "    def create_test_archer():\n",
        "        return {'_id': uuid4(), 'name': 'testName', 'strength': 1, 'skill': 'archery'}"
      ],
      "metadata": {
        "id": "6CWE1cal2TMc"
      },
      "execution_count": null,
      "outputs": []
    },
    {
      "cell_type": "code",
      "source": [
        "TestDataUtils.create_test_fighter()"
      ],
      "metadata": {
        "colab": {
          "base_uri": "https://localhost:8080/"
        },
        "id": "C2EvmVfz2gaT",
        "outputId": "442e1e1e-f7dd-4cb4-eb36-6fc53d34be3c"
      },
      "execution_count": null,
      "outputs": [
        {
          "output_type": "execute_result",
          "data": {
            "text/plain": [
              "{'_id': UUID('1af79b49-4c99-4a70-bc0f-7d38fc7db2b0'),\n",
              " 'name': 'testName',\n",
              " 'strength': 1,\n",
              " 'skill': 'sword'}"
            ]
          },
          "metadata": {},
          "execution_count": 7
        }
      ]
    },
    {
      "cell_type": "markdown",
      "source": [
        "## Продолжаем про ООП "
      ],
      "metadata": {
        "id": "LeAsARAfxo3t"
      }
    },
    {
      "cell_type": "markdown",
      "source": [
        "### Про работу с ООП и в целом"
      ],
      "metadata": {
        "id": "sruOlKvn5OBA"
      }
    },
    {
      "cell_type": "markdown",
      "source": [
        "TLDR: сделать все через ООП вам, скорее всего, не понадобится никогда по многим причинам, однако эта практика дает много полезных вещей, которые вам так или иначе потребуются\n",
        "\n",
        "Есть ли практический смысл все реализовывать через ООП? Очевидно, что нет (иногда это даже вредит, для ознакомления: \"Productivity Analysis of Object-Oriented Software Developed in a Commercial Environment\")\n",
        "\n",
        "Однако тогда встает вопрос: а почему изучению ООП вообще посвящают время (в том числе мы тут 3 часа этому посвятили)? Ответов, на самом деле, несколько:\n",
        "\n",
        "* С помощью ООП можно полностью погрузиться в классы и их концепцию (в том числе в Python)\n",
        "\n",
        "* Некоторыми вещами вам придется пользоваться (например, контекстным менеджером для подключения к БД)\n",
        "\n",
        "* ООП дает вам отдельный взгляд на то, как смотреть на написание кода\n",
        "\n",
        "Мы с вами помним, что есть функции, созданные как способ избежать повторений и сделать код более читабельным (при этом мы немного теряем во времени, ибо запуск функции требует времени).\n",
        "\n",
        "Так вот, ООП - это возведенный в абсолют концепт читабельности и связей."
      ],
      "metadata": {
        "id": "vrisSaDn51OY"
      }
    },
    {
      "cell_type": "markdown",
      "source": [
        "Любой сложный проект (или код) требует от вас не только самого написания кода, но и также выстраивание логик-связей-причин (как и любая работа над DWH)\n",
        "\n",
        "И обычно процесс звучит примерно так:\n",
        "\n",
        "1. Так, мне надо вот это. А как это можно сделать?..\n",
        "\n",
        "2. Окей, я понимаю, а что мне надо сделать для этого? (вот часть с логиками)\n",
        "\n",
        "3. Ну понятно, теперь осталось написать это (желательно эффективно)"
      ],
      "metadata": {
        "id": "VRL2YKJt7lRb"
      }
    },
    {
      "cell_type": "markdown",
      "source": [
        "### А теперь вернемся к Лолу"
      ],
      "metadata": {
        "id": "aiHIp1ci9Tfc"
      }
    },
    {
      "cell_type": "markdown",
      "source": [
        "Давайте для начала попробуем нарисовать нашу картину того, что мы хотим реализовать\n",
        "\n",
        "Смотрим на карту:"
      ],
      "metadata": {
        "id": "QYY0WYA99W-g"
      }
    },
    {
      "cell_type": "markdown",
      "source": [
        "![](https://gamerall.net/wp-content/uploads/2020/03/oboznachenie-mest-na-lige-legend-s-tochnym-raspolozheniem-kljuchevyh-zon.jpg)"
      ],
      "metadata": {
        "id": "63NjjIun9fKJ"
      }
    },
    {
      "cell_type": "markdown",
      "source": [
        "В чем смысл и что тут есть?\n",
        "\n",
        "1. Есть карта определенных размеров, по которому все ходят\n",
        "\n",
        "2. Фонтан - место, где оживают персонажи, там же и магазин, где можно купить предметы. Если вражеские игроки заступают на фонтан, то умирают\n",
        "\n",
        "3. Ингибиторы - место спауна мобой, которые идут по линиям. Если уничтожить ингибитор, то у противника спаунятся супер-миньоны (более сильные)\n",
        "\n",
        "4. Мобы - 3 ближнего боя, 3 дальнего, спаунятся каждые 30 секунд (раз в три волны еще появляется пушечник). С них падает золото\n",
        "\n",
        "5. Башни - наносят урон героям, если они атакуют чужих героев, и мобов, если они есть\n",
        "\n",
        "6. Лесные кэмпы - монстры (с них падает золото и всякие баффы)\n",
        "\n",
        "7. Сами герои (5 штук с каждой стороны, за которых играют игроки)"
      ],
      "metadata": {
        "id": "KkDOZjGr9hz3"
      }
    },
    {
      "cell_type": "markdown",
      "source": [
        "Давайте рисовать, как это с ООП сделать!\n",
        "\n",
        "Будем реализовывать только прототипы (полная реализация будет оставлена в качестве второго дз)"
      ],
      "metadata": {
        "id": "zZb42x_H-kx4"
      }
    },
    {
      "cell_type": "markdown",
      "source": [
        "## Dataclass"
      ],
      "metadata": {
        "id": "OurbSF2ZvBo8"
      }
    },
    {
      "cell_type": "markdown",
      "source": [
        "Зачем? Сделать код более читаемым, понятным, избавиться от копипасты"
      ],
      "metadata": {
        "id": "tMkTBbPczXCn"
      }
    },
    {
      "cell_type": "code",
      "source": [
        "#Давайте создадим простой класс\n",
        "class MyClass:\n",
        "  a: int\n",
        "  b: float = 0"
      ],
      "metadata": {
        "id": "OYMd38oCaT0M"
      },
      "execution_count": null,
      "outputs": []
    },
    {
      "cell_type": "code",
      "source": [
        "#Можем создать объект этого класса \n",
        "v = MyClass()\n",
        "#Можем тыкать в атрибут\n",
        "v.b"
      ],
      "metadata": {
        "colab": {
          "base_uri": "https://localhost:8080/"
        },
        "id": "Ln_hc0SlaT2a",
        "outputId": "0038780c-5e19-4a96-ea79-c5b9a78499b0"
      },
      "execution_count": null,
      "outputs": [
        {
          "output_type": "execute_result",
          "data": {
            "text/plain": [
              "0"
            ]
          },
          "metadata": {},
          "execution_count": 13
        }
      ]
    },
    {
      "cell_type": "code",
      "source": [
        "#А теперь я хочу задать a,b\n",
        "\n",
        "v = MyClass()\n",
        "#Ну, выставим вручную после создания - это неудобно\n",
        "v.a = 12\n",
        "v.b = 99\n",
        "\n",
        "v.a, v.b"
      ],
      "metadata": {
        "colab": {
          "base_uri": "https://localhost:8080/"
        },
        "id": "Cf98_U3Uw3m4",
        "outputId": "e5b22345-fd50-49e9-be31-01b555ce393e"
      },
      "execution_count": null,
      "outputs": [
        {
          "output_type": "execute_result",
          "data": {
            "text/plain": [
              "(12, 99)"
            ]
          },
          "metadata": {},
          "execution_count": 17
        }
      ]
    },
    {
      "cell_type": "code",
      "source": [
        "#Просто прописать при создании нельзя - так как нет __init__\n",
        "#будет ошибка\n",
        "v = MyClass(5,7)\n",
        "v.b, v.a"
      ],
      "metadata": {
        "colab": {
          "base_uri": "https://localhost:8080/",
          "height": 217
        },
        "id": "9fz6K_cMvG6P",
        "outputId": "aef21433-cfe9-472c-dc38-e1bbe109422d"
      },
      "execution_count": null,
      "outputs": [
        {
          "output_type": "error",
          "ename": "TypeError",
          "evalue": "ignored",
          "traceback": [
            "\u001b[0;31m---------------------------------------------------------------------------\u001b[0m",
            "\u001b[0;31mTypeError\u001b[0m                                 Traceback (most recent call last)",
            "\u001b[0;32m<ipython-input-22-3e3eaa3766e6>\u001b[0m in \u001b[0;36m<module>\u001b[0;34m\u001b[0m\n\u001b[1;32m      1\u001b[0m \u001b[0;31m#Просто прописать при создании нельзя - так как нет __init__\u001b[0m\u001b[0;34m\u001b[0m\u001b[0;34m\u001b[0m\u001b[0;34m\u001b[0m\u001b[0m\n\u001b[1;32m      2\u001b[0m \u001b[0;31m#будет ошибка\u001b[0m\u001b[0;34m\u001b[0m\u001b[0;34m\u001b[0m\u001b[0;34m\u001b[0m\u001b[0m\n\u001b[0;32m----> 3\u001b[0;31m \u001b[0mv\u001b[0m \u001b[0;34m=\u001b[0m \u001b[0mMyClass\u001b[0m\u001b[0;34m(\u001b[0m\u001b[0;36m5\u001b[0m\u001b[0;34m,\u001b[0m\u001b[0;36m7\u001b[0m\u001b[0;34m)\u001b[0m\u001b[0;34m\u001b[0m\u001b[0;34m\u001b[0m\u001b[0m\n\u001b[0m\u001b[1;32m      4\u001b[0m \u001b[0mv\u001b[0m\u001b[0;34m.\u001b[0m\u001b[0mb\u001b[0m\u001b[0;34m,\u001b[0m \u001b[0mv\u001b[0m\u001b[0;34m.\u001b[0m\u001b[0ma\u001b[0m\u001b[0;34m\u001b[0m\u001b[0;34m\u001b[0m\u001b[0m\n",
            "\u001b[0;31mTypeError\u001b[0m: MyClass() takes no arguments"
          ]
        }
      ]
    },
    {
      "cell_type": "code",
      "source": [
        "#Ну давайте напишем __init__\n",
        "class MyClass:\n",
        "  def __init__(self, a, b=0):\n",
        "    self.a = a\n",
        "    self.b = b\n",
        "\n",
        "#Теперь можем записывать в скобках при создании\n",
        "v = MyClass(5)\n",
        "print(v.b, v.a)\n",
        "\n",
        "v = MyClass(5,7)\n",
        "print(v.b, v.a)"
      ],
      "metadata": {
        "colab": {
          "base_uri": "https://localhost:8080/"
        },
        "id": "92hsE1O1v0kb",
        "outputId": "701593cf-edf6-49d0-c72e-16ebfbce978b"
      },
      "execution_count": null,
      "outputs": [
        {
          "output_type": "stream",
          "name": "stdout",
          "text": [
            "0 5\n",
            "7 5\n"
          ]
        }
      ]
    },
    {
      "cell_type": "code",
      "source": [
        "#А вот сечас атрибутов ставновится больше\n",
        "\n",
        "class MyClass:\n",
        "\n",
        "  def __init__(self, \n",
        "               a : int, \n",
        "               b : int,\n",
        "               c : int, \n",
        "               d : int, \n",
        "               e : int,\n",
        "               f : int,\n",
        "               g : int,\n",
        "               h : int,\n",
        "               i : int\n",
        "               ):\n",
        "    self.a = a\n",
        "    self.b = b\n",
        "    self.c = c\n",
        "    self.d = d\n",
        "    self.e = e\n",
        "    self.f = f\n",
        "    self.g = g\n",
        "    self.h = h\n",
        "    self.i = i\n",
        "\n",
        "v = MyClass(1,2,3,4,5,6,7,8,9)\n",
        "v.a, v.i"
      ],
      "metadata": {
        "colab": {
          "base_uri": "https://localhost:8080/"
        },
        "id": "j1uLN3oFxzDU",
        "outputId": "6885882c-e29e-4571-e416-fa491f564c60"
      },
      "execution_count": null,
      "outputs": [
        {
          "output_type": "execute_result",
          "data": {
            "text/plain": [
              "(1, 9)"
            ]
          },
          "metadata": {},
          "execution_count": 37
        }
      ]
    },
    {
      "cell_type": "code",
      "source": [
        "#Ладно, теперь я хочу  как-нибудь напечатать иформацию о v\n",
        "print(v) #это просто выведет класс и расположение \n",
        "#Давайте реализуем __repr__ : функцию, возвращающую текстовое представление объекта"
      ],
      "metadata": {
        "colab": {
          "base_uri": "https://localhost:8080/"
        },
        "id": "-luf7UGA0Yjo",
        "outputId": "cd78ee72-166a-4e6e-b9ab-b5b1e40282b7"
      },
      "execution_count": null,
      "outputs": [
        {
          "output_type": "stream",
          "name": "stdout",
          "text": [
            "<__main__.MyClass object at 0x7fec49a51d90>\n"
          ]
        }
      ]
    },
    {
      "cell_type": "code",
      "source": [
        "\n",
        "class MyClass:\n",
        "\n",
        "  def __init__(self, \n",
        "               a : int, \n",
        "               b : int,\n",
        "               c : int, \n",
        "               d : int, \n",
        "               e : int,\n",
        "               f : int,\n",
        "               g : int,\n",
        "               h : int,\n",
        "               i : int\n",
        "               ):\n",
        "    self.a = a\n",
        "    self.b = b\n",
        "    self.c = c\n",
        "    self.d = d\n",
        "    self.e = e\n",
        "    self.f = f\n",
        "    self.g = g\n",
        "    self.h = h\n",
        "    self.i = i\n",
        "\n",
        "\n",
        "  #Больше копипасты Богу копипасты\n",
        "  def __repr__(self):\n",
        "    return ('MyClass(' + 'a=' + str(self.a) + ', '+\n",
        "                        'b=' + str(self.b)+ ', '+\n",
        "                        'c=' + str(self.c)+ ', '+\n",
        "                        'd=' + str(self.d)+ ', '+\n",
        "                        'e=' + str(self.e)+', '+\n",
        "                        'f=' + str(self.f)+', '+\n",
        "                        'g=' + str(self.g)+', '+\n",
        "                        'i=' + str(self.i)+\n",
        "            ')')"
      ],
      "metadata": {
        "id": "yZRhwbND1Nqz"
      },
      "execution_count": null,
      "outputs": []
    },
    {
      "cell_type": "code",
      "source": [
        "v = MyClass(1,2,3,4,5,6,7,8,9)\n",
        "#Хотя бы работает\n",
        "v"
      ],
      "metadata": {
        "colab": {
          "base_uri": "https://localhost:8080/"
        },
        "id": "hLhM-Wq61qSa",
        "outputId": "97a231f2-bbd2-4e5e-83ba-e035c3ee2aa8"
      },
      "execution_count": null,
      "outputs": [
        {
          "output_type": "execute_result",
          "data": {
            "text/plain": [
              "MyClass(a=1, b=2, c=3, d=4, e=5, f=6, g=7, i=9)"
            ]
          },
          "metadata": {},
          "execution_count": 65
        }
      ]
    },
    {
      "cell_type": "markdown",
      "source": [
        "Код получился совсем не очень. Уровень копипасты зашкаливает: атрибут повторяется сначала как аргумент в функции, потом как атрибут self., потом, как переменная поданная в функцию. (так еще и функций несколько)\n",
        "\n",
        "А если аргументов еще больше и названия длинные - то еще некрасивей."
      ],
      "metadata": {
        "id": "XtbDX9xSzoQM"
      }
    },
    {
      "cell_type": "code",
      "source": [
        "from dataclasses import dataclass\n",
        "\n",
        "#Добавляем dataclass и удаляем всю-всю копипасту\n",
        "@dataclass\n",
        "class MyCoolClass:\n",
        "   a : int\n",
        "   b : int\n",
        "   c : int\n",
        "   d : int \n",
        "   e : int\n",
        "   f : int\n",
        "   g : int\n",
        "   h : int\n",
        "   i : int\n",
        "\n",
        "#Все работает!\n",
        "u = MyCoolClass(1,2,3,4,5,6,7,8,9)\n",
        "u"
      ],
      "metadata": {
        "colab": {
          "base_uri": "https://localhost:8080/"
        },
        "id": "ofsu3r_JvmJl",
        "outputId": "e6c13e08-41c6-4617-92b8-a20d7a72a5c9"
      },
      "execution_count": null,
      "outputs": [
        {
          "output_type": "execute_result",
          "data": {
            "text/plain": [
              "MyCoolClass(a=1, b=2, c=3, d=4, e=5, f=6, g=7, h=8, i=9)"
            ]
          },
          "metadata": {},
          "execution_count": 59
        }
      ]
    },
    {
      "cell_type": "markdown",
      "source": [
        "Смотрите, мы избавились от всей глупой копипасты, а все продолжает работать\n",
        "\n",
        "Таким образом, dataclass сам создал основные методы, тем самым помог избежать посторений, сделал код меньше и более понятным \n",
        "\n",
        "Отметим, что мы все еще можем создать собственный \\_\\_repr\\_\\_ , \\_\\_init\\_\\_ или что-то еще:\n"
      ],
      "metadata": {
        "id": "Na0zXDe22oxY"
      }
    },
    {
      "cell_type": "code",
      "source": [
        "@dataclass\n",
        "class MyCoolClass1:\n",
        "   a : int\n",
        "   #Сделалии стандартный __init__\n",
        "   def __init__(self, a):\n",
        "     self.a = a\n",
        "op = MyCoolClass1(12)\n",
        "#А __repr__ создан автоматически\n",
        "op"
      ],
      "metadata": {
        "colab": {
          "base_uri": "https://localhost:8080/"
        },
        "id": "F-ZJiS_93hpn",
        "outputId": "1e7a7521-6323-4327-c141-67129694fbde"
      },
      "execution_count": null,
      "outputs": [
        {
          "output_type": "execute_result",
          "data": {
            "text/plain": [
              "MyCoolClass1(a=12)"
            ]
          },
          "metadata": {},
          "execution_count": 58
        }
      ]
    },
    {
      "cell_type": "code",
      "source": [
        "#Еще пара интересных штук\n",
        "from dataclasses import astuple, asdict\n",
        "\n",
        "print('class as python dictionary', asdict(u)) #превращаем в словарь\n",
        "print('class as python tuple     ', astuple(u)) #превращаем в кортеж"
      ],
      "metadata": {
        "colab": {
          "base_uri": "https://localhost:8080/"
        },
        "id": "aUoSyUQA2a3I",
        "outputId": "f3f8ed8d-8494-48bf-cdb0-6edc18e67919"
      },
      "execution_count": null,
      "outputs": [
        {
          "output_type": "stream",
          "name": "stdout",
          "text": [
            "class as python dictionary {'a': 1, 'b': 2, 'c': 3, 'd': 4, 'e': 5, 'f': 6, 'g': 7, 'h': 8, 'i': 9}\n",
            "class as python tuple      (1, 2, 3, 4, 5, 6, 7, 8, 9)\n"
          ]
        }
      ]
    },
    {
      "cell_type": "code",
      "source": [
        "#Со старым MyClass не сработает, так как не использовался декоратор\n",
        "print('class as python dictionary', asdict(v))\n",
        "print('class as python tuple     ', astuple(v))"
      ],
      "metadata": {
        "colab": {
          "base_uri": "https://localhost:8080/",
          "height": 304
        },
        "id": "yqZMIEy42lrR",
        "outputId": "886b43a1-fe92-4888-985d-82df0649eb73"
      },
      "execution_count": null,
      "outputs": [
        {
          "output_type": "error",
          "ename": "TypeError",
          "evalue": "ignored",
          "traceback": [
            "\u001b[0;31m---------------------------------------------------------------------------\u001b[0m",
            "\u001b[0;31mTypeError\u001b[0m                                 Traceback (most recent call last)",
            "\u001b[0;32m<ipython-input-66-2a172f3f8012>\u001b[0m in \u001b[0;36m<module>\u001b[0;34m\u001b[0m\n\u001b[0;32m----> 1\u001b[0;31m \u001b[0mprint\u001b[0m\u001b[0;34m(\u001b[0m\u001b[0;34m'class as python dictionary'\u001b[0m\u001b[0;34m,\u001b[0m \u001b[0masdict\u001b[0m\u001b[0;34m(\u001b[0m\u001b[0mv\u001b[0m\u001b[0;34m)\u001b[0m\u001b[0;34m)\u001b[0m\u001b[0;34m\u001b[0m\u001b[0;34m\u001b[0m\u001b[0m\n\u001b[0m\u001b[1;32m      2\u001b[0m \u001b[0mprint\u001b[0m\u001b[0;34m(\u001b[0m\u001b[0;34m'class as python tuple     '\u001b[0m\u001b[0;34m,\u001b[0m \u001b[0mastuple\u001b[0m\u001b[0;34m(\u001b[0m\u001b[0mv\u001b[0m\u001b[0;34m)\u001b[0m\u001b[0;34m)\u001b[0m\u001b[0;34m\u001b[0m\u001b[0;34m\u001b[0m\u001b[0m\n",
            "\u001b[0;32m/usr/lib/python3.7/dataclasses.py\u001b[0m in \u001b[0;36masdict\u001b[0;34m(obj, dict_factory)\u001b[0m\n\u001b[1;32m   1061\u001b[0m     \"\"\"\n\u001b[1;32m   1062\u001b[0m     \u001b[0;32mif\u001b[0m \u001b[0;32mnot\u001b[0m \u001b[0m_is_dataclass_instance\u001b[0m\u001b[0;34m(\u001b[0m\u001b[0mobj\u001b[0m\u001b[0;34m)\u001b[0m\u001b[0;34m:\u001b[0m\u001b[0;34m\u001b[0m\u001b[0;34m\u001b[0m\u001b[0m\n\u001b[0;32m-> 1063\u001b[0;31m         \u001b[0;32mraise\u001b[0m \u001b[0mTypeError\u001b[0m\u001b[0;34m(\u001b[0m\u001b[0;34m\"asdict() should be called on dataclass instances\"\u001b[0m\u001b[0;34m)\u001b[0m\u001b[0;34m\u001b[0m\u001b[0;34m\u001b[0m\u001b[0m\n\u001b[0m\u001b[1;32m   1064\u001b[0m     \u001b[0;32mreturn\u001b[0m \u001b[0m_asdict_inner\u001b[0m\u001b[0;34m(\u001b[0m\u001b[0mobj\u001b[0m\u001b[0;34m,\u001b[0m \u001b[0mdict_factory\u001b[0m\u001b[0;34m)\u001b[0m\u001b[0;34m\u001b[0m\u001b[0;34m\u001b[0m\u001b[0m\n\u001b[1;32m   1065\u001b[0m \u001b[0;34m\u001b[0m\u001b[0m\n",
            "\u001b[0;31mTypeError\u001b[0m: asdict() should be called on dataclass instances"
          ]
        }
      ]
    },
    {
      "cell_type": "markdown",
      "source": [
        "Таким образом, dataclass упрощает работу с классами, делает код понятней, проще + еще пара крутых штук"
      ],
      "metadata": {
        "id": "3Ammvun-2N7Y"
      }
    },
    {
      "cell_type": "markdown",
      "source": [
        "## Поняли, делаем"
      ],
      "metadata": {
        "id": "J-hGXox1_vPh"
      }
    },
    {
      "cell_type": "markdown",
      "source": [
        "Начнем с простого: карта и предметы!"
      ],
      "metadata": {
        "id": "6WHij7sRDIkh"
      }
    },
    {
      "cell_type": "code",
      "execution_count": null,
      "metadata": {
        "id": "hs_LULFqxlAM"
      },
      "outputs": [],
      "source": [
        "from dataclasses import dataclass, field\n",
        "from typing import List\n",
        "from abc import ABC, abstractmethod\n",
        "\n",
        "@dataclass\n",
        "class Item:\n",
        "    name: str\n",
        "    unit_price: int\n",
        "    hp_boost: int\n",
        "    mana_boost: int\n",
        "    lethality_boost: int\n",
        "    armor_boost: int\n",
        "    magic_armor_boost: int\n",
        "    speed_boost: int\n",
        "    depend: List['Item'] = field(default_factory=list) #иногда предмет - это композит других предметов\n",
        "\n",
        "    def effect(self): #предмет можно использовать!\n",
        "        pass"
      ]
    },
    {
      "cell_type": "code",
      "source": [
        "@dataclass\n",
        "class Map:\n",
        "    width: int = 500\n",
        "    height: int = 500"
      ],
      "metadata": {
        "id": "L1XvW3XIERV6"
      },
      "execution_count": null,
      "outputs": []
    },
    {
      "cell_type": "code",
      "source": [
        "@dataclass\n",
        "class LOL_object(ABC):\n",
        "    hp: int\n",
        "    current_hp: int\n",
        "    attack: float = 0\n",
        "    coords: List[float] = field(default_factory = list)"
      ],
      "metadata": {
        "id": "8s_SZcEJFNcG"
      },
      "execution_count": null,
      "outputs": []
    },
    {
      "cell_type": "markdown",
      "source": [
        "Чего не хватает? Помните, что на лекции мы говорили, что есть такая штука как регенерация (или наступление ивентов через некоторое время, например, башни перед нексусом имеет свойство восстанаваливать здоровье)\n",
        "\n",
        "Как же это сделать? Поставить шедулер! Для этого есть библиотека [schedule](https://github.com/dbader/schedule)"
      ],
      "metadata": {
        "id": "x_KC59Q_Gn5F"
      }
    },
    {
      "cell_type": "code",
      "source": [
        "!pip install schedule"
      ],
      "metadata": {
        "colab": {
          "base_uri": "https://localhost:8080/"
        },
        "id": "6eJMjy_eLTGS",
        "outputId": "014ddd69-787f-4ca3-f5d1-4c74f09bd087"
      },
      "execution_count": null,
      "outputs": [
        {
          "output_type": "stream",
          "name": "stdout",
          "text": [
            "Looking in indexes: https://pypi.org/simple, https://us-python.pkg.dev/colab-wheels/public/simple/\n",
            "Requirement already satisfied: schedule in /usr/local/lib/python3.7/dist-packages (1.1.0)\n"
          ]
        }
      ]
    },
    {
      "cell_type": "code",
      "source": [
        "import schedule"
      ],
      "metadata": {
        "id": "3Va6BtvBLVFY"
      },
      "execution_count": null,
      "outputs": []
    },
    {
      "cell_type": "code",
      "source": [
        "@dataclass\n",
        "class inhib(LOL_object):\n",
        "    hp: int\n",
        "    current_hp: int\n",
        "\n",
        "    def __post_init__(self):\n",
        "        super().__init__(self.hp, self.current_hp)\n",
        "\n",
        "    def regen_hp(self):\n",
        "        self.current_hp += 20\n",
        "        print(\"Health: \", self.current_hp)\n",
        "\n",
        "    def attack_boost(self):\n",
        "        self.attack += 1\n",
        "        print(\"Attack: \", self.attack)\n",
        "\n",
        "h = inhib(hp=500, current_hp=500)\n",
        "schedule.every(10).seconds.do(h.regen_hp)\n",
        "schedule.every(3).seconds.do(h.attack_boost)"
      ],
      "metadata": {
        "colab": {
          "base_uri": "https://localhost:8080/"
        },
        "id": "m852yQdnIiA4",
        "outputId": "9419911e-89c2-4f16-8149-d67ab05f62b3"
      },
      "execution_count": null,
      "outputs": [
        {
          "output_type": "execute_result",
          "data": {
            "text/plain": [
              "Every 3 seconds do attack_boost() (last run: [never], next run: 2022-10-05 22:16:31)"
            ]
          },
          "metadata": {},
          "execution_count": 12
        }
      ]
    },
    {
      "cell_type": "code",
      "source": [
        "while 1:\n",
        "    schedule.run_pending()"
      ],
      "metadata": {
        "id": "xXS8mtZdLgmN"
      },
      "execution_count": null,
      "outputs": []
    },
    {
      "cell_type": "markdown",
      "source": [
        "В чем есть проблема? Ну банально в том, чтобы это запустить на фоновом режиме (но как раз об этом мы поговорим при мультипроцессинге), а не сейчас\n",
        "\n",
        "Сейчас мы все будем делать достаточно банально: создадим на все расписание (в том числе на действие персонажей)"
      ],
      "metadata": {
        "id": "y7J5zd_jN0gJ"
      }
    },
    {
      "cell_type": "markdown",
      "source": [
        "## Развлекаемся с дескрипторами\n"
      ],
      "metadata": {
        "id": "SBJVMY5OyfnL"
      }
    },
    {
      "cell_type": "markdown",
      "source": [
        "Дескрипторы можно использовать в качестве атрибутов класса для навешивания на них дополнительной логики. Например, попробуем каждое обращение на чтение и запись сопроводить логированием"
      ],
      "metadata": {
        "id": "HjWnzgnNylR-"
      }
    },
    {
      "cell_type": "code",
      "source": [
        "class BadPlaceHolder:\n",
        "    # owner - класс, в котором объявлен дескриптор\n",
        "    # name - имя атрибута внутри класса\n",
        "    # сохраняем имия, чтобы присвоить значение конкретному атрибуту инстанса позже\n",
        "    def __set_name__(self, owner, name):\n",
        "        self.public_name = name\n",
        "        print('set__name__ name= ', name)\n",
        "\n",
        "\n",
        "    def __set__(self, instance, value):\n",
        "        print(f'called __set__ with {value}')\n",
        "        setattr(instance, self.public_name, value)\n",
        "        pass\n",
        "\n",
        "    def __get__(self, instance, owner):\n",
        "        print('called __get__')\n",
        "        return getattr(instance, self.public_name)\n",
        "\n",
        "\n",
        "class MyBadClass:\n",
        "    name1 = BadPlaceHolder()\n",
        "    surname1 = BadPlaceHolder()\n",
        "\n",
        "    def __init__(self, name, surname):\n",
        "        self.name1 = name\n",
        "        self.surname1 = surname\n",
        "\n",
        "\n",
        "tmp = MyBadClass('A', 'B')\n",
        "print(tmp.name1)\n"
      ],
      "metadata": {
        "id": "0dx430qoykol"
      },
      "execution_count": null,
      "outputs": []
    },
    {
      "cell_type": "markdown",
      "source": [
        "тут мы вывалимся с ошибкой, что стек переполнился\n",
        "\n",
        "давайте попробуем понять и поправить\n",
        "\n",
        "при обращении к tmp.name1 мы вызвали метод __get__ у атрибута name1, он в свою очередь\n",
        "\n",
        "будет обращаться к полю name1 нашего объекта tmp через getattr(instance, self.public_name)\n",
        "\n",
        "как полечить - добавим приватный атрибут!"
      ],
      "metadata": {
        "id": "YpRcGDMYzIJv"
      }
    },
    {
      "cell_type": "code",
      "source": [
        "class PlaceHolder:\n",
        "\n",
        "    def __set_name__(self, owner, name):\n",
        "        self.public_name = name\n",
        "        self.private_name = '_' + name\n",
        "        print('set__name__ name= ', name)\n",
        "\n",
        "    def __set__(self, instance, value):\n",
        "        print(f'called __set__ with {value}')\n",
        "        setattr(instance, self.private_name, value)\n",
        "        pass\n",
        "\n",
        "    def __get__(self, instance, owner):\n",
        "        print('called __get__')\n",
        "        return getattr(instance, self.private_name)\n",
        "\n",
        "\n",
        "class MyClass:\n",
        "    name1 = PlaceHolder()\n",
        "    surname1 = PlaceHolder()\n",
        "\n",
        "    def __init__(self, name, surname):\n",
        "        self.name1 = name\n",
        "        self.surname1 = surname\n",
        "\n",
        "\n",
        "tmp = MyClass('A', 'B')\n",
        "tmp2 = MyClass('C', 'D')\n",
        "print(tmp.name1)\n",
        "print(tmp.surname1)\n",
        "print(tmp2.name1)\n",
        "print(tmp2.surname1)"
      ],
      "metadata": {
        "colab": {
          "base_uri": "https://localhost:8080/"
        },
        "id": "SyIMb8zKzHTc",
        "outputId": "c7b16b67-eaa3-4095-b0a1-0f26c26d61e0"
      },
      "execution_count": null,
      "outputs": [
        {
          "output_type": "stream",
          "name": "stdout",
          "text": [
            "set__name__ name=  name1\n",
            "set__name__ name=  surname1\n",
            "called __set__ with A\n",
            "called __set__ with B\n",
            "called __set__ with C\n",
            "called __set__ with D\n",
            "called __get__\n",
            "A\n",
            "called __get__\n",
            "B\n",
            "called __get__\n",
            "C\n",
            "called __get__\n",
            "D\n"
          ]
        }
      ]
    },
    {
      "cell_type": "markdown",
      "source": [
        "## Подчеркивания"
      ],
      "metadata": {
        "id": "RfOKvxVZyBSc"
      }
    },
    {
      "cell_type": "markdown",
      "source": [
        "Мы использовали функции вида \\_\\_name\\_\\_, также очень часто можно встретить _name - почему они пишутся именно так?\n",
        "\n",
        "Зачем? Во многом это  сделано просто для удобства, читабельности (помогает понять, что за функция/атрибут, где используется).\n",
        "\n",
        "Использование описано в [гайде по стилю](https://peps.python.org/pep-0008/#descriptive-naming-styles)\n",
        "\n",
        "\n",
        "\n",
        "\n",
        "```\n",
        "_name #одно в начале\n",
        "name_ #одно в конце\n",
        "__name #два в начале\n",
        "__name__ #два в начале, два в конце\n",
        "```\n",
        "\n"
      ],
      "metadata": {
        "id": "7NChHPex4mWM"
      }
    },
    {
      "cell_type": "markdown",
      "source": [
        "### \\_name\n",
        "\n",
        "\\_name используют для \"внутренних\" переменных - тех, с которыми не предполагается взаимодействие юзера"
      ],
      "metadata": {
        "id": "Fffv0-Ex7A_g"
      }
    },
    {
      "cell_type": "code",
      "source": [
        "import pandas as pd\n",
        "#Например, если посмотртеь сорс код для pandas.DataFrame, то там есть некоторые атрибуты, начинающиеся с _\n",
        "df = pd.DataFrame([['A', 10], ['B', 15]])\n",
        "#Мы можем их достать, но обыно НЕ используем\n",
        "print(df._mgr)\n",
        "print(df._constructor_sliced)"
      ],
      "metadata": {
        "colab": {
          "base_uri": "https://localhost:8080/"
        },
        "id": "Q4WOUIP4564p",
        "outputId": "007283ef-3c7f-4be1-f8fc-41b25ace8547"
      },
      "execution_count": null,
      "outputs": [
        {
          "output_type": "stream",
          "name": "stdout",
          "text": [
            "BlockManager\n",
            "Items: RangeIndex(start=0, stop=2, step=1)\n",
            "Axis 1: RangeIndex(start=0, stop=2, step=1)\n",
            "NumericBlock: slice(1, 2, 1), 1 x 2, dtype: int64\n",
            "ObjectBlock: slice(0, 1, 1), 1 x 2, dtype: object\n",
            "<class 'pandas.core.series.Series'>\n"
          ]
        }
      ]
    },
    {
      "cell_type": "markdown",
      "source": [
        "К тому же, такие переменные/функции не импортятся (они же \"внутренние\", не надо их вытаскивать)"
      ],
      "metadata": {
        "id": "mnicK-bb8Ckw"
      }
    },
    {
      "cell_type": "code",
      "source": [
        "%%writefile func.py\n",
        "\n",
        "def f():\n",
        "    return 8\n",
        "def _g():\n",
        "    return 0"
      ],
      "metadata": {
        "colab": {
          "base_uri": "https://localhost:8080/"
        },
        "id": "0tJltZDu8B_K",
        "outputId": "35bc3b40-7472-4a2a-9706-3bacc75b193f"
      },
      "execution_count": null,
      "outputs": [
        {
          "output_type": "stream",
          "name": "stdout",
          "text": [
            "Writing func.py\n"
          ]
        }
      ]
    },
    {
      "cell_type": "code",
      "source": [
        "#Теперь из файла импортим всё (а в нем 2 функции: f и _g)\n",
        "from func import *\n",
        "\n",
        "#Это импортнулось и работает\n",
        "print(f())\n",
        "#Это не испортнулось, выдает ошибку\n",
        "print(_g())"
      ],
      "metadata": {
        "colab": {
          "base_uri": "https://localhost:8080/",
          "height": 217
        },
        "id": "T5nMwCQH8NAQ",
        "outputId": "d3d6347f-5a60-44f1-8870-988230278737"
      },
      "execution_count": null,
      "outputs": [
        {
          "output_type": "stream",
          "name": "stdout",
          "text": [
            "8\n"
          ]
        },
        {
          "output_type": "error",
          "ename": "NameError",
          "evalue": "ignored",
          "traceback": [
            "\u001b[0;31m---------------------------------------------------------------------------\u001b[0m",
            "\u001b[0;31mNameError\u001b[0m                                 Traceback (most recent call last)",
            "\u001b[0;32m<ipython-input-71-17eaa98dda0c>\u001b[0m in \u001b[0;36m<module>\u001b[0;34m\u001b[0m\n\u001b[1;32m      3\u001b[0m \u001b[0;34m\u001b[0m\u001b[0m\n\u001b[1;32m      4\u001b[0m \u001b[0mprint\u001b[0m\u001b[0;34m(\u001b[0m\u001b[0mf\u001b[0m\u001b[0;34m(\u001b[0m\u001b[0;34m)\u001b[0m\u001b[0;34m)\u001b[0m\u001b[0;34m\u001b[0m\u001b[0;34m\u001b[0m\u001b[0m\n\u001b[0;32m----> 5\u001b[0;31m \u001b[0mprint\u001b[0m\u001b[0;34m(\u001b[0m\u001b[0m_g\u001b[0m\u001b[0;34m(\u001b[0m\u001b[0;34m)\u001b[0m\u001b[0;34m)\u001b[0m\u001b[0;34m\u001b[0m\u001b[0;34m\u001b[0m\u001b[0m\n\u001b[0m",
            "\u001b[0;31mNameError\u001b[0m: name '_g' is not defined"
          ]
        }
      ]
    },
    {
      "cell_type": "markdown",
      "source": [
        "### name\\_\n",
        "\n",
        "Это сделано для того, чтобы не путать с какими-то ключевыми словами в Pyhton (+встроенными функциями)"
      ],
      "metadata": {
        "id": "eoUbfIj-8gtZ"
      }
    },
    {
      "cell_type": "markdown",
      "source": [
        "Очень часто затирают функции с простыми именами: \n",
        "\n",
        "*   min/max (считают статистику и хотят простое название для переменной)\n",
        "*   str (делают переменной, где хранят строку)\n",
        "*   type (хранят какой-то тип)\n",
        "\n"
      ],
      "metadata": {
        "id": "9LH_iyUa85EZ"
      }
    },
    {
      "cell_type": "code",
      "source": [
        "#Макс как функция\n",
        "print(max([1,2,4,2,45,123,7,13,513]))\n",
        "#max сначала как функция, а потом как переменная с величиной 78\n",
        "max = max([1,2,3,78])\n",
        "#просто переменная\n",
        "print(max)\n",
        "#Теперь функция уже не работает (так как в макс лежит просто число)\n",
        "print(max([0,2,5,2,5,4,332]))"
      ],
      "metadata": {
        "colab": {
          "base_uri": "https://localhost:8080/",
          "height": 235
        },
        "id": "B4Th8PPNzZ5s",
        "outputId": "de3e443d-fef7-480b-e5dd-4cd55bdab743"
      },
      "execution_count": null,
      "outputs": [
        {
          "output_type": "stream",
          "name": "stdout",
          "text": [
            "513\n",
            "78\n"
          ]
        },
        {
          "output_type": "error",
          "ename": "TypeError",
          "evalue": "ignored",
          "traceback": [
            "\u001b[0;31m---------------------------------------------------------------------------\u001b[0m",
            "\u001b[0;31mTypeError\u001b[0m                                 Traceback (most recent call last)",
            "\u001b[0;32m<ipython-input-23-cfa7cb908c1b>\u001b[0m in \u001b[0;36m<module>\u001b[0;34m\u001b[0m\n\u001b[1;32m      6\u001b[0m \u001b[0mprint\u001b[0m\u001b[0;34m(\u001b[0m\u001b[0mmax\u001b[0m\u001b[0;34m)\u001b[0m\u001b[0;34m\u001b[0m\u001b[0;34m\u001b[0m\u001b[0m\n\u001b[1;32m      7\u001b[0m \u001b[0;31m#Теперь функция уже не работает (так как в макс лежит просто число)\u001b[0m\u001b[0;34m\u001b[0m\u001b[0;34m\u001b[0m\u001b[0;34m\u001b[0m\u001b[0m\n\u001b[0;32m----> 8\u001b[0;31m \u001b[0mprint\u001b[0m\u001b[0;34m(\u001b[0m\u001b[0mmax\u001b[0m\u001b[0;34m(\u001b[0m\u001b[0;34m[\u001b[0m\u001b[0;36m0\u001b[0m\u001b[0;34m,\u001b[0m\u001b[0;36m2\u001b[0m\u001b[0;34m,\u001b[0m\u001b[0;36m5\u001b[0m\u001b[0;34m,\u001b[0m\u001b[0;36m2\u001b[0m\u001b[0;34m,\u001b[0m\u001b[0;36m5\u001b[0m\u001b[0;34m,\u001b[0m\u001b[0;36m4\u001b[0m\u001b[0;34m,\u001b[0m\u001b[0;36m332\u001b[0m\u001b[0;34m]\u001b[0m\u001b[0;34m)\u001b[0m\u001b[0;34m)\u001b[0m\u001b[0;34m\u001b[0m\u001b[0;34m\u001b[0m\u001b[0m\n\u001b[0m",
            "\u001b[0;31mTypeError\u001b[0m: 'int' object is not callable"
          ]
        }
      ]
    },
    {
      "cell_type": "code",
      "source": [
        "#Это то же самое, что вызвать число 7\n",
        "#Точно ошибка\n",
        "7()"
      ],
      "metadata": {
        "colab": {
          "base_uri": "https://localhost:8080/",
          "height": 200
        },
        "id": "pH7ccd7EoTHU",
        "outputId": "3c094cc2-0d2d-426e-de9b-f1330df4bb6d"
      },
      "execution_count": null,
      "outputs": [
        {
          "output_type": "error",
          "ename": "TypeError",
          "evalue": "ignored",
          "traceback": [
            "\u001b[0;31m---------------------------------------------------------------------------\u001b[0m",
            "\u001b[0;31mTypeError\u001b[0m                                 Traceback (most recent call last)",
            "\u001b[0;32m<ipython-input-24-e667f51a1e9c>\u001b[0m in \u001b[0;36m<module>\u001b[0;34m\u001b[0m\n\u001b[1;32m      1\u001b[0m \u001b[0;31m#Это то же самое, что вызвать число 7\u001b[0m\u001b[0;34m\u001b[0m\u001b[0;34m\u001b[0m\u001b[0;34m\u001b[0m\u001b[0m\n\u001b[1;32m      2\u001b[0m \u001b[0;31m#Точно ошибка\u001b[0m\u001b[0;34m\u001b[0m\u001b[0;34m\u001b[0m\u001b[0;34m\u001b[0m\u001b[0m\n\u001b[0;32m----> 3\u001b[0;31m \u001b[0;36m7\u001b[0m\u001b[0;34m(\u001b[0m\u001b[0;34m)\u001b[0m\u001b[0;34m\u001b[0m\u001b[0;34m\u001b[0m\u001b[0m\n\u001b[0m",
            "\u001b[0;31mTypeError\u001b[0m: 'int' object is not callable"
          ]
        }
      ]
    },
    {
      "cell_type": "code",
      "source": [
        "str = 'qwerty'\n",
        "#Все, теперь ничего строкой не сделаешь, ошибка\n",
        "str(567)\n"
      ],
      "metadata": {
        "colab": {
          "base_uri": "https://localhost:8080/",
          "height": 183
        },
        "id": "jK6Ybhje9fIF",
        "outputId": "9757e111-9c18-4266-fef4-9bcfd003e074"
      },
      "execution_count": null,
      "outputs": [
        {
          "output_type": "error",
          "ename": "TypeError",
          "evalue": "ignored",
          "traceback": [
            "\u001b[0;31m---------------------------------------------------------------------------\u001b[0m",
            "\u001b[0;31mTypeError\u001b[0m                                 Traceback (most recent call last)",
            "\u001b[0;32m<ipython-input-74-021c5781ff4e>\u001b[0m in \u001b[0;36m<module>\u001b[0;34m\u001b[0m\n\u001b[1;32m      1\u001b[0m \u001b[0mstr\u001b[0m \u001b[0;34m=\u001b[0m \u001b[0;34m'qwerty'\u001b[0m\u001b[0;34m\u001b[0m\u001b[0;34m\u001b[0m\u001b[0m\n\u001b[0;32m----> 2\u001b[0;31m \u001b[0mstr\u001b[0m\u001b[0;34m(\u001b[0m\u001b[0;36m567\u001b[0m\u001b[0;34m)\u001b[0m\u001b[0;34m\u001b[0m\u001b[0;34m\u001b[0m\u001b[0m\n\u001b[0m",
            "\u001b[0;31mTypeError\u001b[0m: 'str' object is not callable"
          ]
        }
      ]
    },
    {
      "cell_type": "markdown",
      "source": [
        "Также, есть ключевые слова, такие как class, которые даже не дадут возможности их перетереть"
      ],
      "metadata": {
        "id": "MAladrWN9qog"
      }
    },
    {
      "cell_type": "code",
      "source": [
        "#class - ключевое слово, выдает ошибку\n",
        "def func(class):\n",
        "  return 9"
      ],
      "metadata": {
        "colab": {
          "base_uri": "https://localhost:8080/",
          "height": 130
        },
        "id": "VdfGmTI99oxd",
        "outputId": "e4e3c85d-6b5d-4c1e-c5fb-a93df69593bc"
      },
      "execution_count": null,
      "outputs": [
        {
          "output_type": "error",
          "ename": "SyntaxError",
          "evalue": "ignored",
          "traceback": [
            "\u001b[0;36m  File \u001b[0;32m\"<ipython-input-75-9bb29716d0db>\"\u001b[0;36m, line \u001b[0;32m2\u001b[0m\n\u001b[0;31m    def func(class):\u001b[0m\n\u001b[0m                 ^\u001b[0m\n\u001b[0;31mSyntaxError\u001b[0m\u001b[0;31m:\u001b[0m invalid syntax\n"
          ]
        }
      ]
    },
    {
      "cell_type": "code",
      "source": [
        "#def тоже --> ошибка\n",
        "def func(def):\n",
        "  return 9"
      ],
      "metadata": {
        "colab": {
          "base_uri": "https://localhost:8080/",
          "height": 130
        },
        "id": "xGq2XRZC95Ta",
        "outputId": "791daaad-73c4-48df-d21d-cb413b1e01cd"
      },
      "execution_count": null,
      "outputs": [
        {
          "output_type": "error",
          "ename": "SyntaxError",
          "evalue": "ignored",
          "traceback": [
            "\u001b[0;36m  File \u001b[0;32m\"<ipython-input-76-d1710caa0f0b>\"\u001b[0;36m, line \u001b[0;32m1\u001b[0m\n\u001b[0;31m    def func(def):\u001b[0m\n\u001b[0m               ^\u001b[0m\n\u001b[0;31mSyntaxError\u001b[0m\u001b[0;31m:\u001b[0m invalid syntax\n"
          ]
        }
      ]
    },
    {
      "cell_type": "markdown",
      "source": [
        "Таком образом, если очень нужна переменная с названием, похожим на ключевое слово или что-то встроенное, то можно использовать name\\_ (или можно попытаться найти осмысленное имя, которые не похоже на ключевое слово)"
      ],
      "metadata": {
        "id": "QfVkhY3e-EfI"
      }
    },
    {
      "cell_type": "code",
      "source": [
        "def func(class_):\n",
        "  return class_ + 9\n",
        "  \n",
        "func(12)"
      ],
      "metadata": {
        "colab": {
          "base_uri": "https://localhost:8080/"
        },
        "id": "pLkXeNHU-D9Q",
        "outputId": "2a33a533-c496-4f1a-f586-c9b575285eb1"
      },
      "execution_count": null,
      "outputs": [
        {
          "output_type": "execute_result",
          "data": {
            "text/plain": [
              "21"
            ]
          },
          "metadata": {},
          "execution_count": 78
        }
      ]
    },
    {
      "cell_type": "markdown",
      "source": [
        "### \\_\\_name\n",
        "\n",
        "Такие названия используются, если надо, чтобы в названии атрибута было название класса\n",
        "\n"
      ],
      "metadata": {
        "id": "KsaJKOM_-cmV"
      }
    },
    {
      "cell_type": "code",
      "source": [
        "class MyClass:\n",
        "  __c = 89"
      ],
      "metadata": {
        "id": "vwTw-wmJy-5j"
      },
      "execution_count": null,
      "outputs": []
    },
    {
      "cell_type": "code",
      "source": [
        "v = MyClass()\n",
        "#Такое не работает, выдает ошибку\n",
        "v.__c"
      ],
      "metadata": {
        "colab": {
          "base_uri": "https://localhost:8080/",
          "height": 200
        },
        "id": "JpMfzI76zNK3",
        "outputId": "3f78e573-d347-4d43-e4f3-3acb90567a10"
      },
      "execution_count": null,
      "outputs": [
        {
          "output_type": "error",
          "ename": "AttributeError",
          "evalue": "ignored",
          "traceback": [
            "\u001b[0;31m---------------------------------------------------------------------------\u001b[0m",
            "\u001b[0;31mAttributeError\u001b[0m                            Traceback (most recent call last)",
            "\u001b[0;32m<ipython-input-88-9669c6b9b722>\u001b[0m in \u001b[0;36m<module>\u001b[0;34m\u001b[0m\n\u001b[1;32m      1\u001b[0m \u001b[0mv\u001b[0m \u001b[0;34m=\u001b[0m \u001b[0mMyClass\u001b[0m\u001b[0;34m(\u001b[0m\u001b[0;34m)\u001b[0m\u001b[0;34m\u001b[0m\u001b[0;34m\u001b[0m\u001b[0m\n\u001b[1;32m      2\u001b[0m \u001b[0;31m#Такое не работает\u001b[0m\u001b[0;34m\u001b[0m\u001b[0;34m\u001b[0m\u001b[0;34m\u001b[0m\u001b[0m\n\u001b[0;32m----> 3\u001b[0;31m \u001b[0mv\u001b[0m\u001b[0;34m.\u001b[0m\u001b[0m__c\u001b[0m\u001b[0;34m\u001b[0m\u001b[0;34m\u001b[0m\u001b[0m\n\u001b[0m",
            "\u001b[0;31mAttributeError\u001b[0m: 'MyClass' object has no attribute '__c'"
          ]
        }
      ]
    },
    {
      "cell_type": "code",
      "source": [
        "#А такое ОК\n",
        "v._MyClass__c"
      ],
      "metadata": {
        "colab": {
          "base_uri": "https://localhost:8080/"
        },
        "id": "DDTgnnR0-1rz",
        "outputId": "7af3c8c0-4f04-420c-c952-29bb57533cfe"
      },
      "execution_count": null,
      "outputs": [
        {
          "output_type": "execute_result",
          "data": {
            "text/plain": [
              "89"
            ]
          },
          "metadata": {},
          "execution_count": 89
        }
      ]
    },
    {
      "cell_type": "code",
      "source": [
        "class MySubClass(MyClass):\n",
        "  __c = 3"
      ],
      "metadata": {
        "id": "H-_lXYBu_S7_"
      },
      "execution_count": null,
      "outputs": []
    },
    {
      "cell_type": "code",
      "source": [
        "u = MySubClass()\n",
        "#__c все равно нет в атрибутах\n",
        "u.__c"
      ],
      "metadata": {
        "colab": {
          "base_uri": "https://localhost:8080/",
          "height": 183
        },
        "id": "NyI1RE17_YYg",
        "outputId": "573262c3-9f4e-4764-c9ff-7719be89799d"
      },
      "execution_count": null,
      "outputs": [
        {
          "output_type": "error",
          "ename": "AttributeError",
          "evalue": "ignored",
          "traceback": [
            "\u001b[0;31m---------------------------------------------------------------------------\u001b[0m",
            "\u001b[0;31mAttributeError\u001b[0m                            Traceback (most recent call last)",
            "\u001b[0;32m<ipython-input-90-3c8d25b94ec4>\u001b[0m in \u001b[0;36m<module>\u001b[0;34m\u001b[0m\n\u001b[1;32m      1\u001b[0m \u001b[0mu\u001b[0m \u001b[0;34m=\u001b[0m \u001b[0mMySubClass\u001b[0m\u001b[0;34m(\u001b[0m\u001b[0;34m)\u001b[0m\u001b[0;34m\u001b[0m\u001b[0;34m\u001b[0m\u001b[0m\n\u001b[0;32m----> 2\u001b[0;31m \u001b[0mu\u001b[0m\u001b[0;34m.\u001b[0m\u001b[0m__c\u001b[0m\u001b[0;34m\u001b[0m\u001b[0;34m\u001b[0m\u001b[0m\n\u001b[0m",
            "\u001b[0;31mAttributeError\u001b[0m: 'MySubClass' object has no attribute '__c'"
          ]
        }
      ]
    },
    {
      "cell_type": "code",
      "source": [
        "#А вот и для MyClass, и для MySun\n",
        "u._MyClass__c, u._MySubClass__c"
      ],
      "metadata": {
        "colab": {
          "base_uri": "https://localhost:8080/"
        },
        "id": "om-UV3nW_iKz",
        "outputId": "b10950de-eba3-4c6c-fa1a-8b2c10d1e945"
      },
      "execution_count": null,
      "outputs": [
        {
          "output_type": "execute_result",
          "data": {
            "text/plain": [
              "(89, 3)"
            ]
          },
          "metadata": {},
          "execution_count": 92
        }
      ]
    },
    {
      "cell_type": "markdown",
      "source": [
        "### \\_\\_name\\_\\_\n",
        "\n",
        "Это используется для \"магии\" (штуки для ООП):\n",
        "\n",
        "\n",
        "\n",
        "```\n",
        "class MyClass:\n",
        "\n",
        "  def __inti__(self, ...):\n",
        "    <...>\n",
        "\n",
        "  def __repr__(self):\n",
        "    <...>\n",
        "\n",
        "  #Для использования <\n",
        "  def __lt__(self, other):\n",
        "    <...>\n",
        "  \n",
        "\n",
        "  #Для использования float()\n",
        "  def __float__(self):\n",
        "    <...>\n",
        "\n",
        "```\n",
        "\n",
        "Таких \"магических\" штук на самом деле много, это примеры нескольких\n",
        "\n",
        "Не надо придумывать свои \\_\\_name\\_\\_ (стандартные использовать лучше так, как задокументировано)"
      ],
      "metadata": {
        "id": "Sz5GtvGsAWL2"
      }
    },
    {
      "cell_type": "code",
      "source": [
        "#Но запретить мне никто не может. Муахаха\n",
        "class MyClass:\n",
        "  __c__ = 8\n",
        "\n",
        "  a = 7\n",
        "  __d = 9\n",
        "  \n",
        "v = MyClass()\n",
        "v.a, v.__c__"
      ],
      "metadata": {
        "colab": {
          "base_uri": "https://localhost:8080/"
        },
        "id": "PWuddMhaCZ-8",
        "outputId": "cb806896-56f2-4fe7-a348-ea7f58a457f1"
      },
      "execution_count": null,
      "outputs": [
        {
          "output_type": "execute_result",
          "data": {
            "text/plain": [
              "(7, 8)"
            ]
          },
          "metadata": {},
          "execution_count": 99
        }
      ]
    },
    {
      "cell_type": "code",
      "source": [
        "#Можем, кст, проверить, какие атрибуты и методы у нас есть для нашего класса\n",
        "dir(MyClass)"
      ],
      "metadata": {
        "colab": {
          "base_uri": "https://localhost:8080/"
        },
        "id": "1dlDLaAUC6b0",
        "outputId": "877b8633-4432-48bc-a9fb-ff05813eb3a0"
      },
      "execution_count": null,
      "outputs": [
        {
          "output_type": "execute_result",
          "data": {
            "text/plain": [
              "['_MyClass__d',\n",
              " '__c__',\n",
              " '__class__',\n",
              " '__delattr__',\n",
              " '__dict__',\n",
              " '__dir__',\n",
              " '__doc__',\n",
              " '__eq__',\n",
              " '__format__',\n",
              " '__ge__',\n",
              " '__getattribute__',\n",
              " '__gt__',\n",
              " '__hash__',\n",
              " '__init__',\n",
              " '__init_subclass__',\n",
              " '__le__',\n",
              " '__lt__',\n",
              " '__module__',\n",
              " '__ne__',\n",
              " '__new__',\n",
              " '__reduce__',\n",
              " '__reduce_ex__',\n",
              " '__repr__',\n",
              " '__setattr__',\n",
              " '__sizeof__',\n",
              " '__str__',\n",
              " '__subclasshook__',\n",
              " '__weakref__',\n",
              " 'a']"
            ]
          },
          "metadata": {},
          "execution_count": 100
        }
      ]
    },
    {
      "cell_type": "markdown",
      "source": [
        "$⇑$ Видно\n",
        "\n",
        "*   Выводится довольно сного всего, хотя мы создали только один атрубут. Другие создаются автоматически (как минимум \\_\\_init\\_\\_ должен быть, чтобы можно было создать экземпляр объекта)\n",
        "*   Все, что НЕ было создано нами, имеет название \\_\\_name\\_\\_ (то, что создано нами, имеет те имена, что им дали или при использовании \\_\\_name добавляет название класса)\n"
      ],
      "metadata": {
        "id": "X1OczfX7DG9x"
      }
    },
    {
      "cell_type": "markdown",
      "source": [
        "## Немножко магии с метаклассами"
      ],
      "metadata": {
        "id": "gJx5u7042x53"
      }
    },
    {
      "cell_type": "markdown",
      "source": [
        "Дока - https://docs.python.org/3/reference/datamodel.html#metaclasses"
      ],
      "metadata": {
        "id": "clH8Y3GC4nTY"
      }
    },
    {
      "cell_type": "code",
      "source": [
        "class Singleton(type):\n",
        "    _instances = {}\n",
        "\n",
        "    # эти методы просто для демонстрации переопределены\n",
        "    def __new__(cls, clsname, superclasses, attributedict):\n",
        "        print(f'called new method of {clsname}')\n",
        "        return type.__new__(cls, clsname, superclasses, attributedict)\n",
        "\n",
        "    # эти методы просто для демонстрации переопределены\n",
        "    def __init__(cls, clsname, superclasses, attributedict):\n",
        "        print(f'called init method {clsname}')\n",
        "        type.__init__(cls, clsname, superclasses, attributedict)\n",
        "\n",
        "    # а вот в call происходит самая вкуснятина.\n",
        "    # call вызывается, когда мы пишем MyClass(), то есть создаем новый\n",
        "    # экземпляр класса. Метакласс позволяет переопределить создание объекта\n",
        "    # без каких-либо манипуляций в мета-наследниках\n",
        "    def __call__(cls, *args, **kwargs):\n",
        "        print(f\"called __call__ method of {cls}\")\n",
        "        if cls not in cls._instances:\n",
        "            cls._instances[cls] = super(Singleton, cls).__call__(*args, **kwargs)\n",
        "        return cls._instances[cls]\n",
        "\n",
        "\n",
        "class MyClass(metaclass=Singleton):\n",
        "\n",
        "    def __init__(self):\n",
        "        print('constructor called')\n",
        "        \n",
        "\n",
        "    def __del__(self):\n",
        "        print('destructor called')\n",
        "        \n",
        "\n",
        "\n",
        "\n",
        "f = MyClass()\n",
        "g = MyClass()\n",
        "assert f is g\n"
      ],
      "metadata": {
        "colab": {
          "base_uri": "https://localhost:8080/"
        },
        "id": "IRUP0kXA2ng4",
        "outputId": "47dc15c8-3132-409b-e6b4-1e58a47a8550"
      },
      "execution_count": null,
      "outputs": [
        {
          "output_type": "stream",
          "name": "stdout",
          "text": [
            "called new method of MyClass\n",
            "called init method MyClass\n",
            "called __call__ method of <class '__main__.MyClass'>\n",
            "constructor called\n",
            "called __call__ method of <class '__main__.MyClass'>\n"
          ]
        }
      ]
    },
    {
      "cell_type": "markdown",
      "source": [
        "## Абстрактные методы"
      ],
      "metadata": {
        "id": "cGz-qETTtcbt"
      }
    },
    {
      "cell_type": "markdown",
      "source": [
        "Зачем? - сделать так, чтобы при при снаследовании этот метод надо было создавать ОБЯЗАТЕЛЬНО\n",
        "\n",
        "Зачем? - полезно, если какие-то другие части программы/системы будут предполагать, что этот метод точно существует\n",
        "\n"
      ],
      "metadata": {
        "id": "81-oOs0stisw"
      }
    },
    {
      "cell_type": "code",
      "execution_count": null,
      "metadata": {
        "id": "ZRrBKfTcYNAT"
      },
      "outputs": [],
      "source": [
        "from abc import ABC, abstractmethod\n",
        " \n",
        "class MyClass(ABC):\n",
        " \n",
        "    def __init__(self, value):\n",
        "        self.value = value\n",
        "        super().__init__()\n",
        "    \n",
        "    #Сделаем do_something абстрактным\n",
        "    @abstractmethod\n",
        "    def do_something(self):\n",
        "        pass"
      ]
    },
    {
      "cell_type": "code",
      "source": [
        "#Наследуем от MyClass\n",
        "class MySubClass(MyClass):\n",
        "  #\"Забываем\" имплементировать\n",
        "    pass\n",
        "#В классе не указали абстрактный метод, который нужен, поэтому получаем ошибку\n",
        "x = MySubClass(4)"
      ],
      "metadata": {
        "colab": {
          "base_uri": "https://localhost:8080/",
          "height": 200
        },
        "id": "x-nG_CyEYT9C",
        "outputId": "7a4a284b-a685-4472-a7a6-c931484c025d"
      },
      "execution_count": null,
      "outputs": [
        {
          "output_type": "error",
          "ename": "TypeError",
          "evalue": "ignored",
          "traceback": [
            "\u001b[0;31m---------------------------------------------------------------------------\u001b[0m",
            "\u001b[0;31mTypeError\u001b[0m                                 Traceback (most recent call last)",
            "\u001b[0;32m<ipython-input-5-397941c2f071>\u001b[0m in \u001b[0;36m<module>\u001b[0;34m\u001b[0m\n\u001b[1;32m      2\u001b[0m     \u001b[0;32mpass\u001b[0m\u001b[0;34m\u001b[0m\u001b[0;34m\u001b[0m\u001b[0m\n\u001b[1;32m      3\u001b[0m \u001b[0;31m#В классе не указали абстрактный метод, который нужен\u001b[0m\u001b[0;34m\u001b[0m\u001b[0;34m\u001b[0m\u001b[0;34m\u001b[0m\u001b[0m\n\u001b[0;32m----> 4\u001b[0;31m \u001b[0mx\u001b[0m \u001b[0;34m=\u001b[0m \u001b[0mMySubClass\u001b[0m\u001b[0;34m(\u001b[0m\u001b[0;36m4\u001b[0m\u001b[0;34m)\u001b[0m\u001b[0;34m\u001b[0m\u001b[0;34m\u001b[0m\u001b[0m\n\u001b[0m",
            "\u001b[0;31mTypeError\u001b[0m: Can't instantiate abstract class MySubClass with abstract methods do_something"
          ]
        }
      ]
    },
    {
      "cell_type": "markdown",
      "source": [
        "Нельзя наследовать от абстрактного, если не имплементиррованы все абстрактные функции"
      ],
      "metadata": {
        "id": "ewntnpogYimj"
      }
    },
    {
      "cell_type": "code",
      "source": [
        "class MySubClass1(MyClass):\n",
        "\n",
        "    def do_something(self):\n",
        "        return self.value + 1\n",
        "    \n",
        "class MySubClass2(MyClass):\n",
        "   \n",
        "    def do_something(self):\n",
        "        return self.value * 2\n",
        "    \n",
        "x = MySubClass1(10)\n",
        "y = MySubClass2(100)\n",
        "\n",
        "print(x.value, x.do_something())\n",
        "print(y.value, y.do_something())"
      ],
      "metadata": {
        "colab": {
          "base_uri": "https://localhost:8080/"
        },
        "id": "jM8f9SkeYfnf",
        "outputId": "c238e333-fbc0-4013-d26c-86f6cdc3458a"
      },
      "execution_count": null,
      "outputs": [
        {
          "output_type": "stream",
          "name": "stdout",
          "text": [
            "10 11\n",
            "100 200\n"
          ]
        }
      ]
    },
    {
      "cell_type": "markdown",
      "source": [
        "## Попугай дня"
      ],
      "metadata": {
        "id": "XI8jBMJr_xkb"
      }
    },
    {
      "cell_type": "markdown",
      "source": [
        "![](https://img2.fonwall.ru/o/lr/birds-couple-macaw-parrot.jpeg?route=mid&amp;h=750)"
      ],
      "metadata": {
        "id": "UUfe6kjcBWJJ"
      }
    },
    {
      "cell_type": "markdown",
      "source": [
        "Ну что же, это ара! (Ара - это не один попугай, это род попугаев)\n",
        "\n",
        "Самые известные попугаи, которых видно примерно везде (понятно почему - они очень красочные) и проживают в Южной и Центральной Америке\n",
        "\n",
        "Один из первых попугаев, которых начали содержать в неволе (еще в XI веке иднейцами), их перья использовали в качестве украшений (а еще их ели, вот ужас)\n",
        "\n",
        "И, естественно, еще одна популярная птица для авикультуры. Однако в чем проблема: они большие! Им нужно очень много пространства (поэтому для них минимум нужна комната, а вообще еще больше пространства) и могут доживать до 90 лет. А еще они орут гроооомко\n",
        "\n"
      ],
      "metadata": {
        "id": "y9LZvK-YAYG0"
      }
    }
  ]
}