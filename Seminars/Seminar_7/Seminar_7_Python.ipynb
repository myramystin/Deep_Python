{
  "nbformat": 4,
  "nbformat_minor": 0,
  "metadata": {
    "colab": {
      "provenance": [],
      "collapsed_sections": [
        "1sw1y4n8W2QZ",
        "RYqKKu6ZeET0",
        "unY_g_TYHuyK",
        "DUV2mVoEJkGk",
        "CMojOOk0eCU5",
        "fYVPxhLc1j6u",
        "j8YJ5xIxdkDN",
        "WvHEHTUTpATC",
        "dnX2-9ABPUE2"
      ]
    },
    "kernelspec": {
      "name": "python3",
      "display_name": "Python 3"
    },
    "language_info": {
      "name": "python"
    }
  },
  "cells": [
    {
      "cell_type": "markdown",
      "source": [
        "# Продвинутый Python, семинар 7\n",
        "\n",
        "**Лектор:** Петров Тимур\n",
        "\n",
        "**Семинаристы:** Петров Тимур, Коган Александра, Романченко Полина\n",
        "\n",
        "**Spoiler Alert:** в рамках курса нельзя изучить ни одну из тем от и до досконально (к сожалению, на это требуется больше времени, чем даже 3 часа в неделю). Но мы попробуем рассказать столько, сколько возможно :)"
      ],
      "metadata": {
        "id": "ivP6Bl8VJfQi"
      }
    },
    {
      "cell_type": "markdown",
      "source": [
        "Сегодняшний семинар - это некоторый recap тех частей, которые мы не успели пройти в прошлые разы (если все успеваем, то еще попрактикуем регулярки!)"
      ],
      "metadata": {
        "id": "TCCYVanXIrH4"
      }
    },
    {
      "cell_type": "markdown",
      "source": [
        "# Вспоминаем былое"
      ],
      "metadata": {
        "id": "1sw1y4n8W2QZ"
      }
    },
    {
      "cell_type": "markdown",
      "source": [
        "## Docker"
      ],
      "metadata": {
        "id": "RYqKKu6ZeET0"
      }
    },
    {
      "cell_type": "markdown",
      "source": [
        "### Но... зачем?"
      ],
      "metadata": {
        "id": "9tC9yWI8zOJN"
      }
    },
    {
      "cell_type": "markdown",
      "source": [
        "Теперь мы перешли к самой сложной части - про докер.\n",
        "\n",
        "Что такое докер? Представьте себе ситуацию: у вас есть приложение, которое вы хотите запустить и показать всему миру, какие вы классные. Что делать?\n",
        "\n",
        "Можно, конечно, создать виртуалку, на нее накинуть приложение и там все делать. Но в какой-то момент вам придется класть туда несколько приложений и дальше начинается катавасия с загруженностью процесса. В какой-то момент одно приложение может стрельнуть (например, если у вас отдельное приложение для новостей, куда зайдет сразу дофига людей), сожрет все процессы и остальные части будут страдать. А еще же люди заходят с разными ОС, и надо конфигурации разные иметь, чтобы у всех все работало. Вот для этих вещей и есть контейнеры\n",
        "\n",
        "Что такое контейнер? Это способ стандартизации развертки приложения и отделения его от общей инфраструктуры. Экземпляр приложения запускается в изолированной среде, не влияющей на основную операционную систему\n",
        "\n",
        "\n",
        "![](https://d1.awsstatic.com/Developer%20Marketing/containers/monolith_2-VM-vs-Containers.78f841efba175556d82f64d1779eb8b725de398d.png)\n",
        "\n",
        "Контейнер позволяют:\n",
        "\n",
        "1. упаковать в единый образ приложение и все его зависимости: библиотеки, системные утилиты и файлы настройки. Это упрощает перенос приложения на другую инфраструктуру\n",
        "\n",
        "2. приложения работают только внутри контейнеров и не имеют доступа к основной операционной системе. Это повышает безопасность приложений:они не смогут случайно или умышленно навредить основной системе. Если приложение в контейнере завершится с ошибкой или зависнет, это никак не затронет основную ОС (изоляция ресурсов)\n",
        "\n",
        "3. избавляет от зависимости ОС: достаточно добавить необходимую конфигурацию в контейнер вместо процесса эмулирования одной ОС на другой (что трудозатратно)\n",
        "\n",
        "4. За счет оптимизации контейнеров получаем также меньшую загрузку"
      ],
      "metadata": {
        "id": "VHE-VD0t9Kgz"
      }
    },
    {
      "cell_type": "markdown",
      "source": [
        "### Ну что же, начнем"
      ],
      "metadata": {
        "id": "L49SMJvAe0sb"
      }
    },
    {
      "cell_type": "markdown",
      "source": [
        "Первое, что надо сделать - это загрузить образ из Docker Hub. Образ (Image) - это схема нашего приложения, основа контейнера, с помощью которого его можно запустить. Все возможные образы хранятся [здесь](https://hub.docker.com/search?q=&type=image) (можно будет добавить сюда же и свои образы, которые вам необходимы)\n",
        "\n",
        "Загрузим самый простой образ - busybox (дальше будет работа в терминале, а не в Колабе)"
      ],
      "metadata": {
        "id": "fpUKlp1ne29e"
      }
    },
    {
      "cell_type": "code",
      "source": [
        "docker pull busybox # загрузи образ busybox, если Permission denied, то запустите с sudo\n",
        "docker images # посмотреть на все загруженные образы\n",
        "docker rmi busybox # удалить образ"
      ],
      "metadata": {
        "id": "cte-Y0V7eGks"
      },
      "execution_count": null,
      "outputs": []
    },
    {
      "cell_type": "markdown",
      "source": [
        "Отлично, загрузили, давайте запускать!"
      ],
      "metadata": {
        "id": "5GOlBl0kf-Jb"
      }
    },
    {
      "cell_type": "code",
      "source": [
        "docker run busybox # ничего не случилось, потому что мы ничего и не задали\n",
        "docker run busybox echo \"Hello\" # о, что-то выдал\n",
        "docker ps # посмотреть запущенные контейнеры (их пока нет, потому что прошлые кончились)\n",
        "docker ps -a # посмотреть все контейнеры\n",
        "docker run -it busybox sh #запустить на больше, чем 1 команду (-it - флаг интерактива)"
      ],
      "metadata": {
        "id": "dW_LXIZThi8S"
      },
      "execution_count": null,
      "outputs": []
    },
    {
      "cell_type": "markdown",
      "source": [
        "Все запушенные и кончившиеся контейнеры занимают место, поэтому их еще стоит удалять (как минимум те, которые завершили свое действие)"
      ],
      "metadata": {
        "id": "jN4bg8MkiT1d"
      }
    },
    {
      "cell_type": "code",
      "source": [
        "docker rm <ids> # удалить все ненужные контейнеры\n",
        "docker rm $(docker ps -a -q -f status=exited) # чтобы не копировать все id\n",
        "# -a все контейнеры, -q  - вывести только ID, -f - фильтр (на статус закончившися exited)"
      ],
      "metadata": {
        "id": "YX5ZClgDicMC"
      },
      "execution_count": null,
      "outputs": []
    },
    {
      "cell_type": "markdown",
      "source": [
        "Обратите внимание сверху на значок Docker (MacOS). Видим, что Docker работает. Что это значит? Что у нас запушен процесс, с помощью которого это все вообще происходит (так называемый Docker Daemon)"
      ],
      "metadata": {
        "id": "1WT-HeUNjB4W"
      }
    },
    {
      "cell_type": "markdown",
      "source": [
        "### Запустим сайт из под капота"
      ],
      "metadata": {
        "id": "I4OHH8kozCTS"
      }
    },
    {
      "cell_type": "markdown",
      "source": [
        "Окей, повеселились с каким-то образом. Как приложения-то запускать? Давайте попробуем запустить какой-нибудь более интересный образ"
      ],
      "metadata": {
        "id": "xtbsVg98jYiB"
      }
    },
    {
      "cell_type": "code",
      "source": [
        "docker pull prakhar1989/static-site\n",
        "docker run prakhar1989/static-site #ничего не происходит, видим просто что is running\n",
        "docker stop $(docker ps -a -q -f status=running) #выключаем все активные контейнеры\n",
        "docker run -d -P --name static-site prakhar1989/static-site #давайте сделаем так:\n",
        "# -d - открепляем наш терминал от контейнера(не будет прикреплен, можем продолжить работу в терминале)\n",
        "# -P - сделаем порты открытыми и публичными, чтобы подключиться\n",
        "# --name переименуем для удоства в static-site\n",
        "docker port static-site #смотрим на порты, открываем на localhost:<порт>"
      ],
      "metadata": {
        "id": "6OUIrOl6jXyc"
      },
      "execution_count": null,
      "outputs": []
    },
    {
      "cell_type": "markdown",
      "source": [
        "Ура, запустили простенький сайт! А если поменять порт? Можно"
      ],
      "metadata": {
        "id": "1HME4SyAlSFG"
      }
    },
    {
      "cell_type": "code",
      "source": [
        "docker run -d -P -p 8888:80 prakhar1989/static-site --name static-site prakhar1989/static-site #теперь он на порту 8888\n",
        "# окей, остановим все и удалим"
      ],
      "metadata": {
        "id": "_PMzMh7VlawV"
      },
      "execution_count": null,
      "outputs": []
    },
    {
      "cell_type": "markdown",
      "source": [
        "### Хотим быть крутыми со своим образом!"
      ],
      "metadata": {
        "id": "EhgX2qTDzGF4"
      }
    },
    {
      "cell_type": "markdown",
      "source": [
        "Теперь хотим создать свой собственный образ и сделать еще интереснее. Образы делятся на 2 типа:\n",
        "\n",
        "* Официальные образы - поддерживаются командой docker, скачать можно по названию (например, docker pull python)\n",
        "\n",
        "* Неофициальные образы - образ, созданный пользователем, чаще всего выглядит как user/name"
      ],
      "metadata": {
        "id": "T1pC2sMgoXb2"
      }
    },
    {
      "cell_type": "markdown",
      "source": [
        "Скачаем простенький сайт, сделанный на Flask (о нем мы будет говорить в других семинарах) и запустим его локально"
      ],
      "metadata": {
        "id": "2g_LyDA-qoiR"
      }
    },
    {
      "cell_type": "code",
      "source": [
        "git clone https://github.com/prakhar1989/docker-curriculum.git #скачаем для простого приложения на Flask (о нем мы будет говорить в других семинарах)\n",
        "cd docker-curriculum/flask-app; pip install -r requirements.txt #установим все, что нужно для сайта\n",
        "vim app.py #для того, чтобы у меня запустилась, так как порт 5000 у меня занят, я поменял в коде на 8888\n",
        "python app.py"
      ],
      "metadata": {
        "id": "BieoVS1UpG7w"
      },
      "execution_count": null,
      "outputs": []
    },
    {
      "cell_type": "markdown",
      "source": [
        "Получилось! Теперь создадим образ с этим приложением. Что нужно?\n",
        "\n",
        "Так как сайт написан на Python, то надо скачать базовый образ python"
      ],
      "metadata": {
        "id": "fKmxqUANqx5t"
      }
    },
    {
      "cell_type": "code",
      "source": [
        "docker pull python:3-onbuild #Какой onbuild, це шо? Это надстройка при запуске возьмет на requirements.txt и установит за нас все, что нужно\n",
        "# То есть такой помощник при запуске"
      ],
      "metadata": {
        "id": "SIQifsR2q_lV"
      },
      "execution_count": null,
      "outputs": []
    },
    {
      "cell_type": "markdown",
      "source": [
        "Теперь надо как-то соединить приложение и образ. Это делается с помощью DockerFile - текстовый документ для автоматизации сборки (код для DockerFile почти идентичен аналогам bash)\n",
        "\n",
        "Создаем там же, где и наше приложение файл Dockerfile и прописываем:"
      ],
      "metadata": {
        "id": "C1gCamwvrlia"
      }
    },
    {
      "cell_type": "code",
      "source": [
        "vim Dockerfile"
      ],
      "metadata": {
        "id": "1GhIiSYQsOLx"
      },
      "execution_count": null,
      "outputs": []
    },
    {
      "cell_type": "code",
      "source": [
        "FROM python:3-onbuild #указываем образ, который надо использовать\n",
        "\n",
        "#благодаря тому, что у нас onbuild, нам не надо копировать файлы и устанавливать зависимости здесь\n",
        "\n",
        "EXPOSE 8888 #говорим, на какой порт это все отправлять\n",
        "\n",
        "CMD [\"python\", \"./app.py\"] # команды для запуска (то есть что надо сделать)"
      ],
      "metadata": {
        "id": "t6NghDySsT4U"
      },
      "execution_count": null,
      "outputs": []
    },
    {
      "cell_type": "markdown",
      "source": [
        "Осталось собрать образ через docker build:"
      ],
      "metadata": {
        "id": "1YXybSwZszSf"
      }
    },
    {
      "cell_type": "code",
      "source": [
        "docker build -t palladain7/catgif . #здесь надо зарегаться на Docker Hub (это быстро) и в качестве user ввести свой ник\n",
        "docker run -p 8888:8888 palladain/catgif #собрали-запустили\n",
        "docker images #проверяем образ"
      ],
      "metadata": {
        "id": "7ISTmHENs2d3"
      },
      "execution_count": null,
      "outputs": []
    },
    {
      "cell_type": "markdown",
      "source": [
        "Ура, мы собрали образ докера! Теперь осталось его загрузить на Docker Hub, чтобы его могли увидеть все и использовать)"
      ],
      "metadata": {
        "id": "wmlMnMKpvJaR"
      }
    },
    {
      "cell_type": "code",
      "source": [
        "docker login #вначале надо авторизоваться\n",
        "docker push palladain7/catgif #пушим\n",
        "https://hub.docker.com/r/palladain7/catgif/ - проверяем, успех"
      ],
      "metadata": {
        "id": "xm-qlptCvhRs"
      },
      "execution_count": null,
      "outputs": []
    },
    {
      "cell_type": "markdown",
      "source": [
        "### Задание 3\n"
      ],
      "metadata": {
        "id": "Kqp9OCAoxjjJ"
      }
    },
    {
      "cell_type": "markdown",
      "source": [
        "Проделать весь этот путь от создания и до публикации собственного образа"
      ],
      "metadata": {
        "id": "IWG6otHr0q7G"
      }
    },
    {
      "cell_type": "markdown",
      "source": [
        "## А теперь со всей этой информации можно уже и бота загрузить на docker!"
      ],
      "metadata": {
        "id": "unY_g_TYHuyK"
      }
    },
    {
      "cell_type": "markdown",
      "source": [
        "### Делаем бота сильным и независимым"
      ],
      "metadata": {
        "id": "DUV2mVoEJkGk"
      }
    },
    {
      "cell_type": "code",
      "source": [
        "%%writefile bot.py\n",
        "\n",
        "from random import seed, randrange\n",
        "from time import time\n",
        "import telebot\n",
        "from telebot import types\n",
        "\n",
        "TOKEN = '5674479560:AAHI0lWyLHZQUa91Di-6NmNqdWbE7lL_6H8' # указываем токен нашего бота (для этого надо создать бота в @BotFather)\n",
        "# Создайте собственного бота, чтобы наши наработки друг друга не перебивали\n",
        "\n",
        "bot = telebot.TeleBot(TOKEN) # инициализируем нашего бота\n",
        "\n",
        "parrots = {1: 'https://cindygurmann.files.wordpress.com/2018/06/ea2530ad-e913-4d5b-8036-762b5b227c04.jpeg',\n",
        "           2: 'https://cherepah.ru/wp-content/uploads/2/2/8/228937ec782b8755993a3241e1d6c039.jpeg',\n",
        "           3: 'https://kotsobaka.com/wp-content/uploads/2018/08/2748131046_8a253489b5_b.jpg',\n",
        "           4: 'https://bestpopugai.ru/wp-content/uploads/2022/05/1-5.jpg',\n",
        "           5: 'https://i.artfile.ru/1920x1200_952300_[www.ArtFile.ru].jpg',\n",
        "           6: 'https://kipmu.ru/wp-content/uploads/pchppgks.jpg'}\n",
        "\n",
        "favourite_parrot = 'https://pet7.ru/wp-content/uploads/2017/09/Popugaj-zhako-osobennosti-vida.jpg'\n",
        "\n",
        "parrot_gif = 'https://i1.wp.com/cdn.dribbble.com/users/104127/screenshots/2589080/parrots.gif'\n",
        "\n",
        "@bot.message_handler(commands=['start'])\n",
        "def hello_message(message):\n",
        "    markup = types.ReplyKeyboardMarkup(resize_keyboard=True, row_width=2) # указываем, сколько кнопок может быть в строке\n",
        "    item_1 = types.KeyboardButton(\"Любимый попугай\")\n",
        "    item_2 = types.KeyboardButton(\"🎲\")\n",
        "    markup.add(item_1, item_2) #добавляем\n",
        "    bot.send_message(message.chat.id, \"Привет, тут будут попугаи!\", reply_markup=markup)\n",
        "\n",
        "@bot.message_handler(content_types=['text', 'emoji'])\n",
        "def message_reply(message):\n",
        "    if message.text==\"Любимый попугай\":\n",
        "        markup = types.ReplyKeyboardMarkup()\n",
        "        item = types.KeyboardButton(text='Хочу GIF-ку!')\n",
        "        markup.add(item)\n",
        "        bot.send_photo(message.chat.id, favourite_parrot, reply_markup = markup)\n",
        "    elif message.text == \"🎲\":\n",
        "        r = bot.send_dice(message.chat.id)\n",
        "        bot.send_photo(message.chat.id, parrots[r.dice.value])\n",
        "    elif message.text == 'Хочу GIF-ку!':\n",
        "        markup = types.InlineKeyboardMarkup()\n",
        "        item = types.InlineKeyboardButton(text='Ссылка', url=parrot_gif)\n",
        "        item_1 = types.InlineKeyboardButton(text='Переслать', switch_inline_query=parrot_gif)\n",
        "        markup.add(item, item_1)\n",
        "        bot.send_animation(message.chat.id, parrot_gif, reply_markup = markup)\n",
        "        markup = types.ReplyKeyboardMarkup(resize_keyboard=True, row_width=2) # указываем, сколько кнопок может быть в строке\n",
        "        item_1 = types.KeyboardButton(\"Любимый попугай\")\n",
        "        item_2 = types.KeyboardButton(\"🎲\")\n",
        "        markup.add(item_1, item_2) #добавляем\n",
        "        bot.send_message(message.chat.id, \"Еще попуги!\", reply_markup = markup)\n",
        "\n",
        "@bot.inline_handler(func=lambda query: len(query.query) > 0)\n",
        "def query_text(query):\n",
        "    try:\n",
        "        seed(int(time()))\n",
        "        size = randrange(1, 100)\n",
        "        print(size)\n",
        "        r_sum = types.InlineQueryResultArticle(\n",
        "                id='1', title=\"Папуг!\",\n",
        "                input_message_content = types.InputTextMessageContent(message_text=\"Ваш папуг \" + str(size) + \" размера\" )\n",
        "        )\n",
        "        bot.answer_inline_query(query.id, [r_sum])\n",
        "    except Exception as e:\n",
        "        print(\"{!s}\\n{!s}\".format(type(e), str(e)))\n",
        "\n",
        "bot.polling(none_stop=True, interval=0) #запускаем нашего бота"
      ],
      "metadata": {
        "colab": {
          "base_uri": "https://localhost:8080/"
        },
        "id": "BwpoeQWFJlje",
        "outputId": "4997b1c1-67e2-4f50-a300-14f85aeb37d6"
      },
      "execution_count": null,
      "outputs": [
        {
          "output_type": "stream",
          "name": "stdout",
          "text": [
            "Writing bot.py\n"
          ]
        }
      ]
    },
    {
      "cell_type": "markdown",
      "source": [
        "Вспоминаем, как работать с докером:"
      ],
      "metadata": {
        "id": "Vo4Sv_JdMXHG"
      }
    },
    {
      "cell_type": "code",
      "source": [
        "docker pull python:3-onbuild\n",
        "\n",
        "vim Dockerfile"
      ],
      "metadata": {
        "id": "mZ8FSyy_MaDo"
      },
      "execution_count": null,
      "outputs": []
    },
    {
      "cell_type": "code",
      "source": [
        "FROM python:3-onbuild #указываем образ, который надо использовать\n",
        "\n",
        "#благодаря тому, что у нас onbuild, нам не надо копировать файлы и устанавливать зависимости здесь\n",
        "\n",
        "EXPOSE 8888 #говорим, на какой порт это все отправлять\n",
        "\n",
        "CMD [\"python\", \"bot.py\"] # команды для запуска (то есть что надо сделать)"
      ],
      "metadata": {
        "id": "93MA-dsKNZYn"
      },
      "execution_count": null,
      "outputs": []
    },
    {
      "cell_type": "code",
      "source": [
        "docker build -t palladain7/catgif . #здесь надо зарегаться на Docker Hub (это быстро) и в качестве user ввести свой ник\n",
        "docker run -d -P -p 8888:8888 palladain/catgif #собрали-запустили\n",
        "docker images #проверяем образ"
      ],
      "metadata": {
        "id": "akWgl2w3NcmW"
      },
      "execution_count": null,
      "outputs": []
    },
    {
      "cell_type": "markdown",
      "source": [
        "## Git"
      ],
      "metadata": {
        "id": "CMojOOk0eCU5"
      }
    },
    {
      "cell_type": "markdown",
      "source": [
        "Теперь поговорим про Git. Это вещь, с которой вам придется работать, если вы пользуетесь Guthub/Bitbucket/GitLab (ну или с их аналогами типа Аркадии)\n",
        "\n",
        "В первую очередь git нужен для совместной работы (так разные люди могут делать разные части) и чтобы люди видели, кто какую часть изменил, из-за кого все упало (ну или наоборот стало лучше, тут как повезет)\n",
        "\n"
      ],
      "metadata": {
        "id": "wLZJNMR5vlUE"
      }
    },
    {
      "cell_type": "markdown",
      "source": [
        "###Начнем с основы, так сказать, базы"
      ],
      "metadata": {
        "id": "BU8o8XRYKw67"
      }
    },
    {
      "cell_type": "markdown",
      "source": [
        "Первое, что мы хотим сделать - это создать репозиторий или скачать его откуда-нибудь.\n",
        "\n",
        "Для этого мы делаем:\n",
        "\n",
        "1. Для того, чтобы создать наш репозиторий, внутри папки, где хотим хранить\n",
        "\n",
        "```\n",
        "    git init\n",
        "```\n",
        "\n",
        "2. Для того, чтобы скачать репозиторий, делаем просто\n",
        "\n",
        "```\n",
        "    git clone <url> <dir>\n",
        "    <dir> - опциональный аргумент, если хотите, чтобы папка по-другому называлась\n",
        "```"
      ],
      "metadata": {
        "id": "AKQ_A0DvK8pT"
      }
    },
    {
      "cell_type": "code",
      "source": [
        "!mkdir Deep_Python; cd Deep_Python; ls"
      ],
      "metadata": {
        "id": "od3GO2NKeEHs"
      },
      "execution_count": null,
      "outputs": []
    },
    {
      "cell_type": "code",
      "source": [
        "!cd Deep_Python; ls; git init"
      ],
      "metadata": {
        "id": "VsNNHFZ8LI-P"
      },
      "execution_count": null,
      "outputs": []
    },
    {
      "cell_type": "code",
      "source": [
        "!git clone https://github.com/Palladain/Deep_Python.git True_Python"
      ],
      "metadata": {
        "id": "6vhOy4otMEAO"
      },
      "execution_count": null,
      "outputs": []
    },
    {
      "cell_type": "code",
      "source": [
        "!ls; cd True_Python; ls -la"
      ],
      "metadata": {
        "id": "VEeWZ6UKMXeh"
      },
      "execution_count": null,
      "outputs": []
    },
    {
      "cell_type": "markdown",
      "source": [
        "Отлично, а что теперь делать? Теперь давайте разберемся, что происходит под капотом и как с этим нам жить\n",
        "\n",
        "Для начала, как хранится репозиторий. Репозиторий - это набор снэпшотов:\n",
        "\n",
        "![snapshots](https://git-scm.com/book/en/v2/images/snapshots.png)\n",
        "\n",
        "Если мы изменили файл, то при снэпшоте запоминаем, что там было. Если не было изменений - то просто делаем ссылку на файл в предыдущем снэпшоте (иначе дорого по памяти)\n",
        "\n",
        "Любой файл имеет 3 состояния:\n",
        "\n",
        "![states](https://git-scm.com/book/en/v2/images/lifecycle.png)\n",
        "\n",
        "Разберемся с каждым по отдельности:\n",
        "\n",
        "* Untracked - файла до этого не было, мы его создали\n",
        "\n",
        "* Unmodified - в последней версии он был, но мы его никак не меняли\n",
        "\n",
        "* Modified - в последней версии он был, но мы его изменили\n",
        "\n",
        "Для того, чтобы сохранить изменения (сделать снэпшот репозитория), необходимо добавить все эти изменения в новую версию перед тем, как сделать снэпшот (иными словами, показать, что надо сохранить новую версию)\n",
        "\n",
        "Благо, что можно посмотреть, что мы меняли и что стоит добавить:"
      ],
      "metadata": {
        "id": "8Q7_F964M1ta"
      }
    },
    {
      "cell_type": "code",
      "source": [
        "!cd Deep_Python; git status"
      ],
      "metadata": {
        "id": "arO7e-nFPepn"
      },
      "execution_count": null,
      "outputs": []
    },
    {
      "cell_type": "markdown",
      "source": [
        "Добавим новый файл:"
      ],
      "metadata": {
        "id": "JIIObJDePnX_"
      }
    },
    {
      "cell_type": "code",
      "source": [
        "!cd Deep_Python; echo \"Hello world!\" >> Hello.txt; git status"
      ],
      "metadata": {
        "id": "fdoj3QyzPsWC"
      },
      "execution_count": null,
      "outputs": []
    },
    {
      "cell_type": "markdown",
      "source": [
        "Ага, значит надо добавить. Изменяем (если надо) с помощью\n",
        "\n",
        "```\n",
        " git add\n",
        " git rm - удалить \n",
        " git mv - перенести (если расширение поменяли, например)\n",
        "```"
      ],
      "metadata": {
        "id": "2fk0AwIOP1GH"
      }
    },
    {
      "cell_type": "code",
      "source": [
        "!cd Deep_Python; git add Hello.txt; git status"
      ],
      "metadata": {
        "colab": {
          "base_uri": "https://localhost:8080/"
        },
        "id": "amYshoh1P54o",
        "outputId": "ce3a367e-9b4f-40e7-ad3a-698382362956"
      },
      "execution_count": null,
      "outputs": [
        {
          "output_type": "stream",
          "name": "stdout",
          "text": [
            "On branch master\n",
            "\n",
            "No commits yet\n",
            "\n",
            "Changes to be committed:\n",
            "  (use \"git rm --cached <file>...\" to unstage)\n",
            "\n",
            "\t\u001b[32mnew file:   Hello.txt\u001b[m\n",
            "\n"
          ]
        }
      ]
    },
    {
      "cell_type": "markdown",
      "source": [
        "Можно также смотреть изменения по файлам (что поменяли по сравнению с текущей версией):"
      ],
      "metadata": {
        "id": "wdtyDVIGQA-v"
      }
    },
    {
      "cell_type": "code",
      "source": [
        "!cd Deep_Python; echo \"ahah\" >> Hello.txt\n",
        "!cd Deep_Python; git diff; git add Hello.txt\n",
        "!cd Deep_Python; git diff --staged ##сравним изменения просто с последним коммитом (на данный момент с пустотой)"
      ],
      "metadata": {
        "colab": {
          "base_uri": "https://localhost:8080/"
        },
        "id": "e9Zok8fwQGXY",
        "outputId": "f92d0b14-00c1-40db-8257-c0864d07575e"
      },
      "execution_count": null,
      "outputs": [
        {
          "output_type": "stream",
          "name": "stdout",
          "text": [
            "\u001b[1mdiff --git a/Hello.txt b/Hello.txt\u001b[m\n",
            "\u001b[1mindex cd08755..b6b4373 100644\u001b[m\n",
            "\u001b[1m--- a/Hello.txt\u001b[m\n",
            "\u001b[1m+++ b/Hello.txt\u001b[m\n",
            "\u001b[36m@@ -1 +1,2 @@\u001b[m\n",
            " Hello world!\u001b[m\n",
            "\u001b[32m+\u001b[m\u001b[32mahah\u001b[m\n",
            "\u001b[1mdiff --git a/Hello.txt b/Hello.txt\u001b[m\n",
            "\u001b[1mnew file mode 100644\u001b[m\n",
            "\u001b[1mindex 0000000..b6b4373\u001b[m\n",
            "\u001b[1m--- /dev/null\u001b[m\n",
            "\u001b[1m+++ b/Hello.txt\u001b[m\n",
            "\u001b[36m@@ -0,0 +1,2 @@\u001b[m\n",
            "\u001b[32m+\u001b[m\u001b[32mHello world!\u001b[m\n",
            "\u001b[32m+\u001b[m\u001b[32mahah\u001b[m\n"
          ]
        }
      ]
    },
    {
      "cell_type": "markdown",
      "source": [
        "### Делаем коммиты"
      ],
      "metadata": {
        "id": "j1tM_VXCyeBo"
      }
    },
    {
      "cell_type": "markdown",
      "source": [
        "Ура, можем делать коммит! Делается просто и незатейливо с помощью комманды\n",
        "\n",
        "```\n",
        "git commit\n",
        "```"
      ],
      "metadata": {
        "id": "m6r9kRghSCa9"
      }
    },
    {
      "cell_type": "code",
      "source": [
        "!cd Deep_Python; git config user.email \"you@example.com\"\n",
        "!cd Deep_Python; git config user.name \"Your Name\"\n",
        "!cd Deep_Python; git commit -m \"First version\" ##-m - добавить сообщения к коммиту"
      ],
      "metadata": {
        "colab": {
          "base_uri": "https://localhost:8080/"
        },
        "id": "EKVJ5OLuSKil",
        "outputId": "c778eef8-8f70-4d7b-b59d-04605ddab256"
      },
      "execution_count": null,
      "outputs": [
        {
          "output_type": "stream",
          "name": "stdout",
          "text": [
            "[master (root-commit) 6bf4ac9] First version\n",
            " 1 file changed, 2 insertions(+)\n",
            " create mode 100644 Hello.txt\n"
          ]
        }
      ]
    },
    {
      "cell_type": "markdown",
      "source": [
        "Но люди не идиоты, чтобы постоянно руками все добавлять, верно ведь? Для этого есть в commit флаг -a (добавь все изменения, но только для tracked файлов)"
      ],
      "metadata": {
        "id": "nAPtgdsnStPg"
      }
    },
    {
      "cell_type": "code",
      "source": [
        "!cd Deep_Python; echo \"New_version\" >> Hello.txt\n",
        "!cd Deep_Python; git commit -a -m \"Second version\""
      ],
      "metadata": {
        "colab": {
          "base_uri": "https://localhost:8080/"
        },
        "id": "iIfa4ToYS8sK",
        "outputId": "a4cdbe10-a6cf-4c6a-90bc-fee1f3cce304"
      },
      "execution_count": null,
      "outputs": [
        {
          "output_type": "stream",
          "name": "stdout",
          "text": [
            "[master 6ca26ba] Second version\n",
            " 1 file changed, 1 insertion(+)\n"
          ]
        }
      ]
    },
    {
      "cell_type": "code",
      "source": [
        "!cd Deep_Python; echo \"New_version\" >> Hello_new.txt\n",
        "!cd Deep_Python; git commit -a -m \"Third version\""
      ],
      "metadata": {
        "colab": {
          "base_uri": "https://localhost:8080/"
        },
        "id": "KetPr2CqTxFX",
        "outputId": "99652d73-00ab-480e-9b42-3268a3999095"
      },
      "execution_count": null,
      "outputs": [
        {
          "output_type": "stream",
          "name": "stdout",
          "text": [
            "On branch master\n",
            "Untracked files:\n",
            "\t\u001b[31mHello_new.txt\u001b[m\n",
            "\n",
            "nothing added to commit but untracked files present\n"
          ]
        }
      ]
    },
    {
      "cell_type": "markdown",
      "source": [
        "Можем также посмотреть историю всего того, что произошло:"
      ],
      "metadata": {
        "id": "0pBFtXfGVclY"
      }
    },
    {
      "cell_type": "code",
      "source": [
        "!cd Deep_Python; git log --pretty=oneline ##флаг, чтобы не видеть детально всю историю, а сократить ее до самого важного (можно кастомизировать)"
      ],
      "metadata": {
        "id": "oXyGVe6SUaQH"
      },
      "execution_count": null,
      "outputs": []
    },
    {
      "cell_type": "code",
      "source": [
        "!cd Deep_Python; git log --pretty=oneline --graph ##добавить граф изменений (но у нас нет ветвей пока что)"
      ],
      "metadata": {
        "id": "jGWH6PVGWD4x"
      },
      "execution_count": null,
      "outputs": []
    },
    {
      "cell_type": "markdown",
      "source": [
        "Ура, разобрались как делать коммиты. А допустим, что мы сделали плохой коммит (или что-то забыли), можно ли откатить плиз?\n",
        "\n",
        "Конечно можно!"
      ],
      "metadata": {
        "id": "TwefKt-enV5G"
      }
    },
    {
      "cell_type": "code",
      "source": [
        "!cd Deep_Python; echo \"Я больше не дединсайд\" >> no_death.txt #забыли добавить важную информацию\n",
        "!cd Deep_Python; git add * #добавить все\n",
        "!cd Deep_Python; git commit --amend -m \"Third version\" #переписать последний коммит\n",
        "!cd Deep_Python; git log --pretty=oneline --graph # проверяем"
      ],
      "metadata": {
        "id": "C2ZQ8eBoniou"
      },
      "execution_count": null,
      "outputs": []
    },
    {
      "cell_type": "markdown",
      "source": [
        "А если мы что-то не хотим добавлять (а уже добавили) или же мы хотим, чтобы изменения в файле не были записаны? На это тоже есть команда, само собой:\n",
        "\n",
        "```\n",
        "git reset HEAD <your file> - убираем из staging\n",
        "```"
      ],
      "metadata": {
        "id": "PlXPJagqpjy2"
      }
    },
    {
      "cell_type": "code",
      "source": [
        "!cd Deep_Python; echo \"Я дединсайд\" > death.txt\n",
        "!cd Deep_Python; echo \"Once again Hello world\" >> Hello.txt\n",
        "!cd Deep_Python; echo \"Once again Hello world\" >> Hello_new.txt\n",
        "!cd Deep_Python; git diff; echo '-----'; git status; echo '-----'; git add *"
      ],
      "metadata": {
        "id": "fNXAUjtoqEXU"
      },
      "execution_count": null,
      "outputs": []
    },
    {
      "cell_type": "code",
      "source": [
        "!cd Deep_Python; git reset HEAD death.txt; git status; echo '------'\n",
        "!cd Deep_Python; git reset HEAD Hello.txt; git diff\n",
        "!cd Deep_Python; git commit -m \"Fourth version\""
      ],
      "metadata": {
        "id": "DBhxuxTwqgQY"
      },
      "execution_count": null,
      "outputs": []
    },
    {
      "cell_type": "code",
      "source": [
        "!cd Deep_Python; git diff;"
      ],
      "metadata": {
        "id": "Ts28TnGGq4rx"
      },
      "execution_count": null,
      "outputs": []
    },
    {
      "cell_type": "markdown",
      "source": [
        "### Хвастаемся результатом с командой"
      ],
      "metadata": {
        "id": "5H76uMEtyjwk"
      }
    },
    {
      "cell_type": "markdown",
      "source": [
        "Поменяли что-то - хотим теперь отправить. Делаем с помощью\n",
        "\n",
        "```\n",
        "    git push\n",
        "    git pull\n",
        "```"
      ],
      "metadata": {
        "id": "BtJOIfJBvvj0"
      }
    },
    {
      "cell_type": "code",
      "source": [
        "!cd True_Python; git remote -v #смотрим, какие репозитории у нас тут привязаны\n",
        "# а если будет несколько репозиториев? Тогда можно непосредственно добавить связь через\n",
        "# git remote add <name> <url> - можно пушить через git push <name>\n",
        "!cd True_Python; git remote show origin #смотрим, куда пойдет pull, а куда пойдет push"
      ],
      "metadata": {
        "id": "ggk3MdBwv8nu"
      },
      "execution_count": null,
      "outputs": []
    },
    {
      "cell_type": "markdown",
      "source": [
        "В чем разница между pull и push:\n",
        "\n",
        "* git push - закомить наши изменения, но при этом, если кто-то сделал изменения до этого, то при подтверждении push все, что сделал другой, будет убито (поговорим об этом при ветвлении)\n",
        "\n",
        "* git pull - комбинация git fetch и git merge, то есть достань все изменения и сделай слияние (то есть получи актуальную информацию, что кто-то сделал изменения и после этого попробуй сделать слияние, добавляя ветвь)"
      ],
      "metadata": {
        "id": "CpG4M4LCx60c"
      }
    },
    {
      "cell_type": "code",
      "source": [
        "!cd True_Python; git fetch origin # хотим получить все обновления, но их пока нет\n",
        "# !cd True_Python; git push origin master # если мы одни работаем\n",
        "# !cd True_Python; git pull origin master # если бывают разные изменения, и только потомможно делать push\n",
        "# !cd True_Python; git remote remove origin # если мы решили отвязаться от удаленного доступа по какой-то причине"
      ],
      "metadata": {
        "id": "fwdaJTycwwXQ"
      },
      "execution_count": null,
      "outputs": []
    },
    {
      "cell_type": "markdown",
      "source": [
        "### Ветвимся"
      ],
      "metadata": {
        "id": "bu9tGUxbyolH"
      }
    },
    {
      "cell_type": "markdown",
      "source": [
        "![](https://javarush.ru/images/article/4f84c6fd-841e-40e8-8914-e2064440225c/800.jpeg)"
      ],
      "metadata": {
        "id": "JSHu96Zvyx8T"
      }
    },
    {
      "cell_type": "markdown",
      "source": [
        "А теперь про ветвления (раз заговорили о командной работе)\n",
        "\n",
        "Допустим, мы хотим сделать некоторое ответвление и создать новую версию для нашей работы. Делается это с помощью\n",
        "\n",
        "```\n",
        "git branch <name>\n",
        "git checkout -b <name> - создать ветвь и сразу переключиться на нее\n",
        "```\n",
        "\n",
        "Тогда создается новая ветвь, внутри которой можно делать изменения (изначально она будет там же, где и main)"
      ],
      "metadata": {
        "id": "KHtwqTh4WNHi"
      }
    },
    {
      "cell_type": "code",
      "source": [
        "!cd Deep_Python; git branch test"
      ],
      "metadata": {
        "id": "WMBcRTZ73Fkc"
      },
      "execution_count": null,
      "outputs": []
    },
    {
      "cell_type": "code",
      "source": [
        "!cd Deep_Python; git log --oneline --decorate"
      ],
      "metadata": {
        "id": "7BqC6S273ST8"
      },
      "execution_count": null,
      "outputs": []
    },
    {
      "cell_type": "markdown",
      "source": [
        "Чтобы перейти на другую ветвь, используем:\n",
        "\n",
        "```\n",
        "git checkout <name>\n",
        "```"
      ],
      "metadata": {
        "id": "xHzImA6h3b1F"
      }
    },
    {
      "cell_type": "code",
      "source": [
        "!cd Deep_Python; git checkout test #теперь изменения и коммиты будут идти на test\n",
        "!cd Deep_Python; git add *; git commit -m \"new branch\""
      ],
      "metadata": {
        "id": "sP-fRb4l3hny"
      },
      "execution_count": null,
      "outputs": []
    },
    {
      "cell_type": "code",
      "source": [
        "!cd Deep_Python; git log --oneline --decorate --graph #теперь master и test смотрят на разные снэпшоты"
      ],
      "metadata": {
        "id": "MqJSfF9N326G"
      },
      "execution_count": null,
      "outputs": []
    },
    {
      "cell_type": "code",
      "source": [
        "!cd Deep_Python; git checkout master; echo 'mmm' > Food.txt; git add Food.txt; git commit -m \"master branch\""
      ],
      "metadata": {
        "id": "dDGodTeN4HrT"
      },
      "execution_count": null,
      "outputs": []
    },
    {
      "cell_type": "code",
      "source": [
        "!cd Deep_Python; git log --all --oneline --decorate --graph # Опа, дерево"
      ],
      "metadata": {
        "id": "BLenGBEK4W-5"
      },
      "execution_count": null,
      "outputs": []
    },
    {
      "cell_type": "code",
      "source": [
        "!cd Deep_Python; git merge test; git commit -m \"Merging\""
      ],
      "metadata": {
        "id": "tA0NVBDz5RPj"
      },
      "execution_count": null,
      "outputs": []
    },
    {
      "cell_type": "code",
      "source": [
        "!cd Deep_Python; git commit -m \"Merging\""
      ],
      "metadata": {
        "id": "vh2vraWm568L"
      },
      "execution_count": null,
      "outputs": []
    },
    {
      "cell_type": "code",
      "source": [
        "!cd Deep_Python; git log --all --oneline --decorate --graph # Опа, дерево"
      ],
      "metadata": {
        "id": "pCSvoqzD6D44"
      },
      "execution_count": null,
      "outputs": []
    },
    {
      "cell_type": "code",
      "source": [
        "!cd Deep_Python; git branch -v --merged ##-v - показать все ветки с последним коммитом, --merged - показать слитые ветки\n",
        "!cd Deep_Python; git branch -d test #удаляем ссылку ветку test, без merge не даст удалить\n",
        "#!git push origin --delete master #удаляем ветвь из репозитория, потому что она не нужна\n"
      ],
      "metadata": {
        "id": "muoszhDR6YDt"
      },
      "execution_count": null,
      "outputs": []
    },
    {
      "cell_type": "markdown",
      "source": [
        "### Задание 2 (на дом, до пн)"
      ],
      "metadata": {
        "id": "B2eFoECQ8C1c"
      }
    },
    {
      "cell_type": "markdown",
      "source": [
        "В репозитории нашего курса есть папка Seminars/Seminar_1/test_git. Внутри него есть файл Hello.txt, в котором написан текст. Ваша задача:\n",
        "\n",
        "1. Загрузить репозиторий и создать отдельную ветвь по названию своего ника в Github\n",
        "\n",
        "2. Добавить туда еще одно предложение (какое угодно)\n",
        "\n",
        "3. Закоммитить и сделать pull request этой ветви\n",
        "\n",
        "4. Лучшие варианты я отберу и солью в общий итог, а товарищи за это получат небольшой подарок :)"
      ],
      "metadata": {
        "id": "x08Hcx_Jy7wj"
      }
    },
    {
      "cell_type": "markdown",
      "source": [
        "Как в гитхабе сделать свой собственный коммит, чтобы он попал на pull request?\n",
        "\n",
        "Так как у вас нет доступа на изменение к основному репозиторию (что логично, лол), то необходимо сделать fork проекта (создать, по сути, копию репозитория у себя на дому), делаете свою работу внутри, коммитите, и делаем pull request [Тык](https://docs.github.com/en/pull-requests/collaborating-with-pull-requests/proposing-changes-to-your-work-with-pull-requests/creating-a-pull-request)"
      ],
      "metadata": {
        "id": "sMN4ele2zgMb"
      }
    },
    {
      "cell_type": "markdown",
      "source": [
        "## XML"
      ],
      "metadata": {
        "id": "fYVPxhLc1j6u"
      }
    },
    {
      "cell_type": "markdown",
      "source": [
        "BS также умеет парсить XML, но что это такое?\n",
        "\n",
        "XML (eXtensible Markup Language) - так называемый расширяемый язык разметки. Выглядит он примерно так же, как и HTML, только тэги не являются командами, по существу. Давайте разберем на примере:"
      ],
      "metadata": {
        "id": "LpzO8Rk0USty"
      }
    },
    {
      "cell_type": "code",
      "source": [
        "!cat external-40779.xml"
      ],
      "metadata": {
        "id": "kxnSHh86UooD"
      },
      "execution_count": null,
      "outputs": []
    },
    {
      "cell_type": "markdown",
      "source": [
        "Что видим? Тэг открытия-закрытия, и тэги, внутри которых лежат параметры. А также внутри тэгов могут лежать тэги или текст. В целом, почти как HTML\n",
        "\n",
        "Для обработки XML есть отдельная [библиотека](https://lxml.de/)"
      ],
      "metadata": {
        "id": "nfz1hL96U-rx"
      }
    },
    {
      "cell_type": "code",
      "source": [
        "!pip install lxml"
      ],
      "metadata": {
        "colab": {
          "base_uri": "https://localhost:8080/"
        },
        "id": "pQw_blZTWMi3",
        "outputId": "61f24d7a-b099-4d41-eb56-27ef6d1b6363"
      },
      "execution_count": null,
      "outputs": [
        {
          "output_type": "stream",
          "name": "stdout",
          "text": [
            "Looking in indexes: https://pypi.org/simple, https://us-python.pkg.dev/colab-wheels/public/simple/\n",
            "Requirement already satisfied: lxml in /usr/local/lib/python3.7/dist-packages (4.9.1)\n"
          ]
        }
      ]
    },
    {
      "cell_type": "code",
      "source": [
        "from lxml import etree\n",
        "\n",
        "tree = etree.parse('external-40779.xml')\n",
        "root = tree.getroot()\n",
        "print(root.tag) #название тэга\n",
        "print(root.text) #текст внутри тэга"
      ],
      "metadata": {
        "colab": {
          "base_uri": "https://localhost:8080/"
        },
        "id": "7_M3ve_tWavd",
        "outputId": "040ab859-0bfe-4d34-83fd-4d8e48b602f5"
      },
      "execution_count": null,
      "outputs": [
        {
          "output_type": "stream",
          "name": "stdout",
          "text": [
            "contestLog\n",
            "\n",
            "  \n"
          ]
        }
      ]
    },
    {
      "cell_type": "code",
      "source": [
        "for elem in root.findall(\"users/user\"): # поиск по вложенности <users> <user>\n",
        "    print(elem.attrib[\"id\"]) # обращение к атрибутам и к конкретному атрибуту"
      ],
      "metadata": {
        "id": "jY--u-d_XH_y"
      },
      "execution_count": null,
      "outputs": []
    },
    {
      "cell_type": "markdown",
      "source": [
        "Так вот, парсеры внутри BS берутся из этой библиотеки (так что можно просто использовать BS)"
      ],
      "metadata": {
        "id": "TSQTgC4tX4cS"
      }
    },
    {
      "cell_type": "markdown",
      "source": [
        "## JSON"
      ],
      "metadata": {
        "id": "j8YJ5xIxdkDN"
      }
    },
    {
      "cell_type": "markdown",
      "source": [
        "С JSON мы один раз работали на семинаре, но давайте повторим-пройдем еще раз, что это такое и с чем его едят\n",
        "\n",
        "JSON - JavaScript Object Notation (формат, унаследованный от JavaScript, но сейчас живет независимо). Он еще более читабельный, чем XML, и очень часто используется в REST API, поэтому надо знать врага в лицо\n",
        "\n",
        "Как он [выглядит](https://www.json.org/json-en.html):\n",
        "\n",
        "```\n",
        "{\n",
        "   \"firstName\": \"Иван\",\n",
        "   \"lastName\": \"Иванов\",\n",
        "   \"address\": {\n",
        "       \"streetAddress\": \"Московское ш., 101, кв.101\",\n",
        "       \"city\": \"Ленинград\",\n",
        "       \"postalCode\": 101101\n",
        "   },\n",
        "   \"phoneNumbers\": [\n",
        "       \"812 123-1234\",\n",
        "       \"916 123-4567\"\n",
        "   ]\n",
        "}\n",
        "```"
      ],
      "metadata": {
        "id": "qA55rqNUdl6o"
      }
    },
    {
      "cell_type": "markdown",
      "source": [
        "Почти словарь. У любого атрибута должно быть название, значения идут после двоеточия. Могут быть вложены как словари, может быть список\n",
        "\n",
        "И всегда двойные кавычки! Давайте запишем JSON в файл"
      ],
      "metadata": {
        "id": "kFZMp6oifXjk"
      }
    },
    {
      "cell_type": "code",
      "source": [
        "%%writefile example.json\n",
        "\n",
        "{\n",
        "   \"firstName\": \"Иван\",\n",
        "   \"lastName\": \"Иванов\",\n",
        "   \"address\": {\n",
        "       \"streetAddress\": \"Московское ш., 101, кв.101\",\n",
        "       \"city\": \"Ленинград\",\n",
        "       \"postalCode\": 101101\n",
        "   },\n",
        "   \"phoneNumbers\": [\n",
        "       \"812 123-1234\",\n",
        "       \"916 123-4567\"\n",
        "   ]\n",
        "}"
      ],
      "metadata": {
        "colab": {
          "base_uri": "https://localhost:8080/"
        },
        "id": "8_VcYZXneKuj",
        "outputId": "a6adf2c8-a5da-42c6-dfb3-f61eaa345a54"
      },
      "execution_count": null,
      "outputs": [
        {
          "output_type": "stream",
          "name": "stdout",
          "text": [
            "Writing example.json\n"
          ]
        }
      ]
    },
    {
      "cell_type": "markdown",
      "source": [
        "Внутри Python есть встроенная библиотека для обработки, называется (json)[https://docs.python.org/3/library/json.html] (кто бы мог подумать)\n",
        "\n",
        "Библиотека маленькая и имеет 4 метода:\n",
        "\n",
        "* load - считываем из файла данные\n",
        "\n",
        "* loads - считываем данные из s (string или байты)\n",
        "\n",
        "* dump - загружаем в файл\n",
        "\n",
        "* dumps - загружаем в строку"
      ],
      "metadata": {
        "id": "bbRR3L96f3fI"
      }
    },
    {
      "cell_type": "code",
      "source": [
        "import json\n",
        "\n",
        "with open(\"example.json\", \"r\") as f:\n",
        "    r = json.load(f) #Считать json\n",
        "print(r)\n",
        "type(r)"
      ],
      "metadata": {
        "colab": {
          "base_uri": "https://localhost:8080/"
        },
        "id": "jeynF-g6f29I",
        "outputId": "9a1da0ec-ccec-42c8-c179-98602aebe230"
      },
      "execution_count": null,
      "outputs": [
        {
          "output_type": "stream",
          "name": "stdout",
          "text": [
            "{'firstName': 'Иван', 'lastName': 'Иванов', 'address': {'streetAddress': 'Московское ш., 101, кв.101', 'city': 'Ленинград', 'postalCode': 101101}, 'phoneNumbers': ['812 123-1234', '916 123-4567']}\n"
          ]
        },
        {
          "output_type": "execute_result",
          "data": {
            "text/plain": [
              "dict"
            ]
          },
          "metadata": {},
          "execution_count": 119
        }
      ]
    },
    {
      "cell_type": "code",
      "source": [
        "with open(\"example_1.json\", \"w\") as f:\n",
        "    json.dump(r, f) #Грузим json\n",
        "\n",
        "!cat example_1.json # Ой как плохо, будет нечитабельно, что же делать?"
      ],
      "metadata": {
        "colab": {
          "base_uri": "https://localhost:8080/"
        },
        "id": "N2p2hj6xiV6n",
        "outputId": "2982ee16-03f2-4c55-a98e-4b0c1cedfb2b"
      },
      "execution_count": null,
      "outputs": [
        {
          "output_type": "stream",
          "name": "stdout",
          "text": [
            "{\"firstName\": \"\\u0418\\u0432\\u0430\\u043d\", \"lastName\": \"\\u0418\\u0432\\u0430\\u043d\\u043e\\u0432\", \"address\": {\"streetAddress\": \"\\u041c\\u043e\\u0441\\u043a\\u043e\\u0432\\u0441\\u043a\\u043e\\u0435 \\u0448., 101, \\u043a\\u0432.101\", \"city\": \"\\u041b\\u0435\\u043d\\u0438\\u043d\\u0433\\u0440\\u0430\\u0434\", \"postalCode\": 101101}, \"phoneNumbers\": [\"812 123-1234\", \"916 123-4567\"]}"
          ]
        }
      ]
    },
    {
      "cell_type": "code",
      "source": [
        "with open(\"example_1.json\", \"w\") as f:\n",
        "    json.dump(r, f, ensure_ascii=False) #Грузим json, говорим, что там не ascii\n",
        "\n",
        "!cat example_1.json"
      ],
      "metadata": {
        "colab": {
          "base_uri": "https://localhost:8080/"
        },
        "id": "GLvYymXxi3u5",
        "outputId": "a49928b7-3431-4251-aae5-f0f1c321b825"
      },
      "execution_count": null,
      "outputs": [
        {
          "output_type": "stream",
          "name": "stdout",
          "text": [
            "{\"firstName\": \"Иван\", \"lastName\": \"Иванов\", \"address\": {\"streetAddress\": \"Московское ш., 101, кв.101\", \"city\": \"Ленинград\", \"postalCode\": 101101}, \"phoneNumbers\": [\"812 123-1234\", \"916 123-4567\"]}"
          ]
        }
      ]
    },
    {
      "cell_type": "markdown",
      "source": [
        "Что можно запихнуть в JSON из Python?\n",
        "\n",
        "* dict\n",
        "* list\n",
        "* tuple\n",
        "* string\n",
        "* int\n",
        "* float\n",
        "* True\n",
        "* False\n",
        "* None\n",
        "\n",
        "Остальное не поймет :с "
      ],
      "metadata": {
        "id": "btjAOaJTjnvW"
      }
    },
    {
      "cell_type": "code",
      "source": [
        "print(r[\"firstName\"])\n",
        "print(r[\"phoneNumbers\"])"
      ],
      "metadata": {
        "colab": {
          "base_uri": "https://localhost:8080/"
        },
        "id": "4awF2-_kjx4J",
        "outputId": "e028fd90-8099-4bc0-9dc7-02ed5e049f5c"
      },
      "execution_count": null,
      "outputs": [
        {
          "output_type": "stream",
          "name": "stdout",
          "text": [
            "Иван\n",
            "['812 123-1234', '916 123-4567']\n"
          ]
        }
      ]
    },
    {
      "cell_type": "markdown",
      "source": [
        "Можно загрузать сразу несколько json из файла (но только если они в формате JSON lines)"
      ],
      "metadata": {
        "id": "SO_cVgakkrMT"
      }
    },
    {
      "cell_type": "code",
      "source": [
        "%%writefile example.json\n",
        "{\"firstName\": \"Иван\",\"lastName\": \"Иванов\",\"streetAddress\": \"Московское ш., 101, кв.101\"}\n",
        "{\"firstName\": \"Иван\",\"lastName\": \"Иванов\",\"streetAddress\": \"Московское ш., 101, кв.101\"}\n",
        "{\"firstName\": \"Иван\",\"lastName\": \"Иванов\",\"streetAddress\": \"Московское ш., 101, кв.101\"}"
      ],
      "metadata": {
        "colab": {
          "base_uri": "https://localhost:8080/"
        },
        "id": "EFQRvqHqktl2",
        "outputId": "9898c040-5246-433f-d113-447450d210b7"
      },
      "execution_count": null,
      "outputs": [
        {
          "output_type": "stream",
          "name": "stdout",
          "text": [
            "Overwriting example.json\n"
          ]
        }
      ]
    },
    {
      "cell_type": "code",
      "source": [
        "data = []\n",
        "with open(\"example.json\", \"r\") as f:\n",
        "    for line in f:\n",
        "        data.append(json.loads(line)) #Считать json\n",
        "data"
      ],
      "metadata": {
        "colab": {
          "base_uri": "https://localhost:8080/"
        },
        "id": "hwSMm1l2kxc_",
        "outputId": "c4e797d3-fd42-43a6-c232-eb02c766a248"
      },
      "execution_count": null,
      "outputs": [
        {
          "output_type": "execute_result",
          "data": {
            "text/plain": [
              "[{'firstName': 'Иван',\n",
              "  'lastName': 'Иванов',\n",
              "  'streetAddress': 'Московское ш., 101, кв.101'},\n",
              " {'firstName': 'Иван',\n",
              "  'lastName': 'Иванов',\n",
              "  'streetAddress': 'Московское ш., 101, кв.101'},\n",
              " {'firstName': 'Иван',\n",
              "  'lastName': 'Иванов',\n",
              "  'streetAddress': 'Московское ш., 101, кв.101'}]"
            ]
          },
          "metadata": {},
          "execution_count": 144
        }
      ]
    },
    {
      "cell_type": "markdown",
      "source": [
        "Если несколько JSONов записано не так, то это считается плохим файлом, так что :с\n",
        "\n",
        "Можно попробовать руками обрабатывать, конечно..."
      ],
      "metadata": {
        "id": "7BCqZsASmaCQ"
      }
    },
    {
      "cell_type": "markdown",
      "source": [
        "## Scipy"
      ],
      "metadata": {
        "id": "WvHEHTUTpATC"
      }
    },
    {
      "cell_type": "markdown",
      "source": [
        "Scipy - это несколько специфичная библиотека для различных более математическиз вещей типа преобразований Фурье, интерполяций, оптимизаций etc. Вот там можно реально закопаться ([документация](https://docs.scipy.org/doc/scipy/reference/index.html#) в помощь)\n",
        "\n",
        "Но сегодня мы рассмотрим всего 2 библиотеки, которые вам могут встретиться чаще, чем обычно:\n",
        "\n",
        "* stats - распределения, статистики, корреляции, тесты и так далее\n",
        "\n",
        "* sparse - модуль для разреженных данных"
      ],
      "metadata": {
        "id": "an1pq95dNO7P"
      }
    },
    {
      "cell_type": "markdown",
      "source": [
        "### Stats"
      ],
      "metadata": {
        "id": "5sVsSSNEFczK"
      }
    },
    {
      "cell_type": "markdown",
      "source": [
        "В курсе по теории вероятности вы познакомитесь с огромным количеством разных распределений (Бернулли, Пуассона, нормальное, Коши, равномерное etc)\n",
        "\n",
        "Было бы круто, если бы была библиотека, которая может сэмлировать из таких распределений... 🤔🤔🤔\n",
        "\n",
        "А, подождите, для этого есть scipy.stats"
      ],
      "metadata": {
        "id": "EA_jCXEHR7h7"
      }
    },
    {
      "cell_type": "code",
      "source": [
        "import numpy as np\n",
        "import pandas as pd\n",
        "import numpy.linalg as lin\n",
        "import scipy.stats as st\n",
        "import scipy.sparse as sp\n",
        "import matplotlib.pyplot as plt\n",
        "import dateutil as dt\n",
        "import datetime as datetime\n",
        "\n",
        "n = st.norm(5, 1) # возьмем нормальное распределение со средним 5 и gamma = 1\n",
        "plt.hist(n.rvs(10000), bins=30) #.rvs - сгенерировать сэмпл\n",
        "plt.show() #ну, очень похоже на нормальное распределение"
      ],
      "metadata": {
        "colab": {
          "base_uri": "https://localhost:8080/"
        },
        "id": "VhF6LX7upCEC",
        "outputId": "bda04385-4476-42cc-de97-5942a5392057"
      },
      "execution_count": null,
      "outputs": [
        {
          "output_type": "display_data",
          "data": {
            "text/plain": [
              "<Figure size 432x288 with 1 Axes>"
            ],
            "image/png": "[encoded data removed]"
          },
          "metadata": {
            "needs_background": "light"
          }
        }
      ]
    },
    {
      "cell_type": "code",
      "source": [
        "x = np.linspace(0, 10, 1000)\n",
        "plt.plot(x, n.pdf(x))\n",
        "plt.show()"
      ],
      "metadata": {
        "colab": {
          "base_uri": "https://localhost:8080/"
        },
        "id": "YOSHikXEUgXx",
        "outputId": "3d6ea654-05b5-4bce-9367-0eb56cad5c25"
      },
      "execution_count": null,
      "outputs": [
        {
          "output_type": "display_data",
          "data": {
            "text/plain": [
              "<Figure size 432x288 with 1 Axes>"
            ],
            "image/png": "[encoded data removed]"
          },
          "metadata": {
            "needs_background": "light"
          }
        }
      ]
    },
    {
      "cell_type": "markdown",
      "source": [
        "Основное:\n",
        "\n",
        "* .rvs(size) - сгенерировать выборку нужного размера\n",
        "\n",
        "* .pdf(val) - значение плотности вероятности в данной точке\n",
        "\n",
        "* .ppf(perc) - квантили\n",
        "\n",
        "* .mean, .std, .var - среднее, стандратное отклонение, дисперсия\n"
      ],
      "metadata": {
        "id": "aEUDgMqCT3vc"
      }
    },
    {
      "cell_type": "code",
      "source": [
        "n = st.bernoulli(0.3) #распределение Бернулли с p = 0.3 (p - вероятность выпадения 1)\n",
        "n.rvs(1000).sum() #почти 30% выпадения 1"
      ],
      "metadata": {
        "colab": {
          "base_uri": "https://localhost:8080/"
        },
        "id": "JxELWf8BWEfl",
        "outputId": "54a7c0ba-1a64-4ac7-a16a-ba5696ce485a"
      },
      "execution_count": null,
      "outputs": [
        {
          "output_type": "execute_result",
          "data": {
            "text/plain": [
              "309"
            ]
          },
          "metadata": {},
          "execution_count": 148
        }
      ]
    },
    {
      "cell_type": "markdown",
      "source": [
        "На самом деле, сейчас это может быть не так важно и нужно, но как только вы перейдете к матстату и полному терверу, то сразу понятно станет, как же это удобно (мы с вами потренируемся с этим на семинаре на примере одного датасета)"
      ],
      "metadata": {
        "id": "q5wYB21KW1XX"
      }
    },
    {
      "cell_type": "markdown",
      "source": [
        "### Sparse"
      ],
      "metadata": {
        "id": "eMsTcc_-Fe-F"
      }
    },
    {
      "cell_type": "markdown",
      "source": [
        "Так или иначе, у вас может получиться разреженная матрица (то есть это матрица, где очень много нулей и лишь малое число ненулей). Хранить такую матрицу как она есть - это очень грустно с точки зрения памяти (мы храним кучу безполезной информации)\n",
        "\n",
        "Для этого и придумали sparse модуль. В чем особенность? Давайте хранить вместо самой матрицы ее размеры и места, где находятся ненулевые значения, а потом при взаимодействии это обрабатывать отдельно\n",
        "\n",
        "Модуль sparse очень хорошо работает с Numpy, так что в этом смысле никаких проблем нет, самое главное - если где-то получается что-то типа sparse матрицы, то в этом поможет именно Scipy"
      ],
      "metadata": {
        "id": "xm5wkYMTPYSR"
      }
    },
    {
      "cell_type": "code",
      "source": [
        "A = sp.lil_matrix((1000, 1000)) #создаем матрицу\n",
        "A[0, :100] = np.random.rand(100) # заполним рандомными значениями\n",
        "A[1, 100:200] = A[0, :100]\n",
        "A.setdiag(np.random.rand(1000)) #заполним диагонали, чтобы система была решаемой"
      ],
      "metadata": {
        "id": "hPSBvTf8FgiZ"
      },
      "execution_count": null,
      "outputs": []
    },
    {
      "cell_type": "code",
      "source": [
        "A = A.tocsr() # переводим в формат sparse матрицы A.to_array() - вернуть обратно в формат обычной матрицы\n",
        "b = np.random.rand(1000)\n",
        "x = sp.linalg.spsolve(A, b) #решаем уравенение\n",
        "x # получаем такое же решение, как и в случае обычных матриц, но храним меньше данных"
      ],
      "metadata": {
        "id": "8Jg1hX8oQopR"
      },
      "execution_count": null,
      "outputs": []
    },
    {
      "cell_type": "markdown",
      "source": [
        "# И немного [заданий](https://mariolurig.com/crossword/) на регулярки!"
      ],
      "metadata": {
        "id": "BCGWKJdAJ6Ym"
      }
    },
    {
      "cell_type": "markdown",
      "source": [
        "### Задание 1\n",
        "\n",
        "На вход даётся текст. Необходимо вывести все e-mail адреса, которые в нём встречаются. В общем виде задача достаточно сложная, поэтому у нас будет 3 ограничения:\n",
        "\n",
        "* две точки внутри адреса не встречаются;\n",
        "* две собаки внутри адреса не встречаются;\n",
        "* считаем, что e-mail может быть частью «слова», то есть в boo@ya_ru мы видим адрес boo@ya, а в foo№boo@ya.ru видим boo@ya.ru"
      ],
      "metadata": {
        "id": "N88cDAbOLhgM"
      }
    },
    {
      "cell_type": "markdown",
      "source": [
        "### Задание 2\n",
        "\n",
        "Будем считать аббревиатурой слова только лишь из заглавных букв (как минимум из двух). Если несколько таких слов разделены пробелами, то они\n",
        "считаются одной аббревиатурой. Найдите все возможные аббревиатуры в тексте"
      ],
      "metadata": {
        "id": "oUFCj0AnL28K"
      }
    },
    {
      "cell_type": "markdown",
      "source": [
        "### Задание 3\n",
        "\n",
        "На вход даётся текст. Выведите слитно первые буквы каждого слова. Буквы необходимо выводить заглавными.\n",
        "Эту задачу можно решить в одну строчку."
      ],
      "metadata": {
        "id": "OLlwzJFsMPRJ"
      }
    },
    {
      "cell_type": "markdown",
      "source": [
        "### Задание 4\n",
        "\n",
        "Довольно распространённая ошибка ошибка — это повтор слова.\n",
        "Вот в предыдущем предложении такая допущена. Необходимо исправить каждый такой повтор (слово, один или несколько пробельных символов, и снова то же слово)."
      ],
      "metadata": {
        "id": "WOL0q3KmMafa"
      }
    },
    {
      "cell_type": "markdown",
      "source": [
        "### Задание 5\n",
        "\n",
        "На вход даётся текст. Необходимо вывести все e-mail адреса, которые в нём встречаются. При этом e-mail не может быть частью слова, то есть слева и справа от e-mail'а должен быть либо конец строки, либо не-буква и при этом не один из символов '._+-, допустимых в адресе."
      ],
      "metadata": {
        "id": "S1qC9RrZMud1"
      }
    },
    {
      "cell_type": "markdown",
      "source": [
        "### Задание 6 (на BS)\n",
        "\n",
        "Дан сайт http://mignews.com/mobile (сайт с новостями)\n",
        "\n",
        "Выведите оттуда все новости в ленты новостей и выведите их, а также найдите все тэги с буквой k и вы ведите их значения)"
      ],
      "metadata": {
        "id": "8pS1dRgAMwll"
      }
    },
    {
      "cell_type": "markdown",
      "source": [
        "# В честь конца модуля"
      ],
      "metadata": {
        "id": "dnX2-9ABPUE2"
      }
    },
    {
      "cell_type": "markdown",
      "source": [
        "![](https://cherepah.ru/wp-content/uploads/f/e/d/fed867b6875cf5a53f93f381c0aba25d.jpeg)"
      ],
      "metadata": {
        "id": "4OhgrJIKPgU_"
      }
    },
    {
      "cell_type": "markdown",
      "source": [
        "Это ленивец!"
      ],
      "metadata": {
        "id": "gXE6zq0OPws1"
      }
    },
    {
      "cell_type": "markdown",
      "source": [
        "![](https://farm4.staticflickr.com/3194/2733424567_d254e0b359_b.jpg)"
      ],
      "metadata": {
        "id": "feRzIFJKP4RM"
      }
    },
    {
      "cell_type": "markdown",
      "source": [
        "И это тоже ленивец, но они разные! В чем прикол?\n",
        "\n",
        "Первый - это трехпалый ленивец, второй - двупалый ленивец, отличаются числом когтей (логично)\n",
        "\n",
        "Но в чем главный прикол? Так в том, что они вообще не родственники! Они проихошли от совсем разных видов, но эволюция привела их к тому, чтобы быть ленивцами (прям как с крабами).\n",
        "\n",
        "Ленивцы ленивые, буквально, они спят по 20 часов в сутки, а остальное время едят. За счет того, что они питаются листьями, то у них почти полностью атрофированная мускулатура (на дереве они держатся чисто за счет когтей), плохо видят. Но при этом достаточно неплохо слышат и плавают! (а ходят очень нелепо)\n",
        "\n",
        "А еще у них 8микамерный желудок (занимает примерно 40% всего тела), что позволяет выжать максимум энергии из листьев. Они живут на деревьях, но при этом не умеют ходить в туалет с воздуха, поэтому раз в неделю им приходится спускаться (вот тогда их обычно и ловят)\n",
        "\n",
        "Когда конкистадоры прибыли в Латинскую Америку, они пробовали использовать ленивцев в качестве пищи. Но когда они их подстреливали, ленивцы продолжали висеть высоко в деревьях, поэтому на это забили"
      ],
      "metadata": {
        "id": "z0U7oyMrQDV5"
      }
    }
  ]
}