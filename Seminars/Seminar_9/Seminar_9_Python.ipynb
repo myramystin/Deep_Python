{
  "nbformat": 4,
  "nbformat_minor": 0,
  "metadata": {
    "colab": {
      "provenance": [],
      "collapsed_sections": []
    },
    "kernelspec": {
      "name": "python3",
      "display_name": "Python 3"
    },
    "language_info": {
      "name": "python"
    }
  },
  "cells": [
    {
      "cell_type": "markdown",
      "source": [
        "# Продвинутый Python, семинар 9\n",
        "\n",
        "**Лектор:** Петров Тимур\n",
        "\n",
        "**Семинаристы:** Петров Тимур, Коган Александра, Романченко Полина\n",
        "\n",
        "**Spoiler Alert:** в рамках курса нельзя изучить ни одну из тем от и до досконально (к сожалению, на это требуется больше времени, чем даже 3 часа в неделю). Но мы попробуем рассказать столько, сколько возможно :)\n",
        "\n",
        "Так как мы проходим веб-разработку, то это явно не та вещь, которая делается через colab. Поэтому здесь написан просто код, который можно воспроизвести локально"
      ],
      "metadata": {
        "id": "30axvO7utujN"
      }
    },
    {
      "cell_type": "markdown",
      "source": [
        "## Jinja2"
      ],
      "metadata": {
        "id": "YX3Oa4fst0_I"
      }
    },
    {
      "cell_type": "markdown",
      "source": [
        "В прошлый раз мы разобрались с самым непонятный: сделали локальную БД, в которой будут все данные храниться. Теперь давайте к части с самим вебом!"
      ],
      "metadata": {
        "id": "IO3uHP50t6eg"
      }
    },
    {
      "cell_type": "markdown",
      "source": [
        "Давайте для начала нарисуем наш сайт, как он должен выглядеть. Для этого надо немного больше погрузиться в разметку Jinja2. Что основного необходимо знать про это?\n",
        "\n",
        "* {{ }} - через двойные скобки указываются переменные (которые мы можем указывать внутри функции render_template\n",
        "\n",
        "* {% %} - в таких скобках указываются всякие условия (с помощью которых можно кастомизировать ваш шаблон\n",
        "\n",
        "* {# #} - в таких скобках можно указывать комментарии\n",
        "\n",
        "Помимо того, чтобы передавать сами переменные, также можно передавать функции!\n",
        "Например, как сделать переадресацию без полного указания необходимой странички:"
      ],
      "metadata": {
        "id": "rVvGgS5PJOmM"
      }
    },
    {
      "cell_type": "markdown",
      "source": [
        "```\n",
        "{{ url_for('login') }}  - здесь мы передаем функцию url_for, генерируя ссылку куда нам надо\n",
        "```"
      ],
      "metadata": {
        "id": "WeePeAt9KHv0"
      }
    },
    {
      "cell_type": "markdown",
      "source": [
        "Давайте сразу же разберем условия:\n",
        "\n",
        "```\n",
        "{% if not session.logged_in %} - если выполняется условие\n",
        "(в данном случае параметр logged_in)\n",
        "\n",
        "<show_a> - покажи вот это\n",
        "\n",
        "{% else %} - Иначе\n",
        "\n",
        "<show_b> - покажи это \n",
        "\n",
        "{% endif %} - заканчиваем\n",
        "```\n",
        "\n",
        "Помимо классического if-else есть и elif (само собой)\n",
        "\n",
        "Можно не только условия делать, но можно и так же делать итерацию через for!\n",
        "\n",
        "```\n",
        "{% for value in values %}\n",
        "    <p>value</p> - вывести все value в отдельных абзацах\n",
        "{% endfor %}\n",
        "```"
      ],
      "metadata": {
        "id": "ZiirCiCuKtfZ"
      }
    },
    {
      "cell_type": "markdown",
      "source": [
        "### Наследование"
      ],
      "metadata": {
        "id": "5F3PViN4PZZp"
      }
    },
    {
      "cell_type": "markdown",
      "source": [
        "Отдельный пункт - это наследование. Что это значит?\n",
        "\n",
        "Опять-таки у вас есть страничка Вики ФКН. Вы видите, что у вас есть общие части (например header etc). Но мы же не хотим это прописывать для каждого сайта, верно?\n",
        "\n",
        "Ровно поэтому есть наследование внутри Jinja2. Вы можете отдельно написать общую часть (которая отвечает отдельно за неизменяемые части, чаще всего это называется layout), а после просто добавлять другие блоки. Как это сделать?\n",
        "\n",
        "Внутри родителя:\n",
        "\n",
        "```\n",
        "{% block body %}{% endblock %} - \"резервируем\" часть, которую может менять наследник\n",
        "```\n",
        "\n",
        "Внутри наследника:\n",
        "\n",
        "```\n",
        "{% extends \"base.html\" %} - указываем родителя, от чего наследуемся\n",
        "{% block body %} - указываем часть, которую меняем\n",
        "    <h1>Index</h1>\n",
        "    <p class=\"important\">\n",
        "      Welcome to my awesome homepage.\n",
        "    </p>\n",
        "{% endblock %}\n",
        "```"
      ],
      "metadata": {
        "id": "NyHByKUyPdjl"
      }
    },
    {
      "cell_type": "markdown",
      "source": [
        "А еще поддерживается подобное наследование:\n",
        "\n",
        "parent -> child -> grandchild\n",
        "\n",
        "И если вам внутри child и grandchild вы меняете один и тот же блок (и хотите их оба вызвать), то тогда можно обращаться на уровень выше с помощью:\n",
        "\n",
        "```\n",
        "{{ super() }} - выведи то, что было на уровень выше\n",
        "\n",
        "{{ super.super() }} - выведи то, что было на 2 уровня выше\n",
        "```"
      ],
      "metadata": {
        "id": "QIIrsrVARqVk"
      }
    },
    {
      "cell_type": "markdown",
      "source": [
        "### Фильтры"
      ],
      "metadata": {
        "id": "Al1BLnpzSfWs"
      }
    },
    {
      "cell_type": "markdown",
      "source": [
        "И последнее, о чем важно сказать для базового понимания - это фильтры. Скажем, что у вас есть переменная name, внутри которой строка \"hi there\"\n",
        "\n",
        "А нам не нравится, что все с маленькой буквы (ну не дело это). А в коде забыли поменять (или не могли предугадать). Что же делать? Для этого внутри Jinja2 есть [фильтры](https://jinja.palletsprojects.com/en/3.1.x/templates/#builtin-filters):\n",
        "\n",
        "```\n",
        "{{ \"%s, %s!\"|format(greeting, name) }} - фильтр format, который работает как format в питоне\n",
        "\n",
        "{{name | upper }} - сделать все КАПСОМ!\n",
        "```"
      ],
      "metadata": {
        "id": "NpbRpqyQShAr"
      }
    },
    {
      "cell_type": "markdown",
      "source": [
        "## Напишем странички!"
      ],
      "metadata": {
        "id": "4nhJhwoWTmv1"
      }
    },
    {
      "cell_type": "markdown",
      "source": [
        "Мы с вами напишем 3 страницы:\n",
        "\n",
        "* layout.html - общая выкладка, которая общая для всех (где можно залогиниться)\n",
        "\n",
        "* show_entries.html - показать твиты наши\n",
        "\n",
        "* login.html - страница для того, чтобы залогиниться"
      ],
      "metadata": {
        "id": "b9YtKalrTst2"
      }
    },
    {
      "cell_type": "markdown",
      "source": [
        "### Шаг 1. layout.html"
      ],
      "metadata": {
        "id": "zmVgCOTRWORB"
      }
    },
    {
      "cell_type": "markdown",
      "source": [
        "```\n",
        "<!doctype html>\n",
        "\n",
        "<title>Twitter</title>\n",
        "\n",
        "<div class=page>\n",
        "<h1>Twitter</h1>\n",
        "\n",
        "<div class=metanav>\n",
        "\n",
        "{% if not session.logged_in %}\n",
        "    <a href=\"{{ url_for('login') }}\">log in</a> {% else %}\n",
        "    <a href=\"{{ url_for('logout') }}\">log out</a> {% endif %}\n",
        "\n",
        "</div>\n",
        "\n",
        "<img src=\"{{ url_for('static', filename='meme.jpg') }}\">\n",
        "\n",
        "{% for message in get_flashed_messages() %}\n",
        "    <div class=flash>{{ message }}</div>\n",
        "{% endfor %}\n",
        "\n",
        "{% block body %}{% endblock %}\n",
        "\n",
        "</div>\n",
        "```"
      ],
      "metadata": {
        "id": "eMeXk54DWUAc"
      }
    },
    {
      "cell_type": "markdown",
      "source": [
        "### Шаг 2. login.html"
      ],
      "metadata": {
        "id": "wr0C6ALRWoIu"
      }
    },
    {
      "cell_type": "markdown",
      "source": [
        "```\n",
        "{% extends \"layout.html\" %}\n",
        "{% block body %}\n",
        "\n",
        "<h2>Login</h2>\n",
        "\n",
        "{% if error %}\n",
        "    <p class=error><strong>Error:</strong> {{ error }}\n",
        "{% endif %}\n",
        "\n",
        "<form action=\"{{ url_for('login') }}\" method=post>\n",
        "<dl>\n",
        "<dt>Username:\n",
        "<dd><input type=text name=username>\n",
        "<dt>Password:\n",
        "<dd><input type=password name=password>\n",
        "<dd><input type=submit value=Login>\n",
        "</dl>\n",
        "</form>\n",
        "\n",
        "{% endblock %}\n",
        "```"
      ],
      "metadata": {
        "id": "oFTpMhYKWtxg"
      }
    },
    {
      "cell_type": "markdown",
      "source": [
        "### Шаг 3. show_entries.html"
      ],
      "metadata": {
        "id": "G9AW4G0bW-Md"
      }
    },
    {
      "cell_type": "markdown",
      "source": [
        "```\n",
        "{% extends \"layout.html\" %} {% block body %}\n",
        "\n",
        "{% if session.logged_in %}\n",
        "\n",
        "    <form action=\"{{ url_for('add_entry') }}\" method=post class=add-entry>\n",
        "    <dl>\n",
        "    <dt>Title:\n",
        "    <dd><input type=text size=30 name=title>\n",
        "    <dt>Text:\n",
        "    <dd><textarea name=text rows=5 cols=40></textarea> <dd><input type=submit value=Share>\n",
        "    </dl>\n",
        "    </form>\n",
        "{% endif %}\n",
        "\n",
        "<ul class=entries>\n",
        "\n",
        "{% for entry in entries %}\n",
        "    <li><h2>{{ entry.title }}</h2>{{ entry.text|safe }}\n",
        "{% else %}\n",
        "    <li><em>Unbelievable. No entries here so far</em>\n",
        "{% endfor %}\n",
        "\n",
        "</ul>\n",
        "\n",
        "{% endblock %}\n",
        "```"
      ],
      "metadata": {
        "id": "1UoKcdxWXB0_"
      }
    },
    {
      "cell_type": "markdown",
      "source": [
        "## А теперь опять к коду!"
      ],
      "metadata": {
        "id": "GFkgdLEAXX0S"
      }
    },
    {
      "cell_type": "markdown",
      "source": [
        "Какие методы у нас есть?\n",
        "\n",
        "* Зайти на начальную страницу\n",
        "\n",
        "* Логирование/разлогирование\n",
        "\n",
        "* Показать все посты (это мы уже сделали)\n",
        "\n",
        "* Сделать свой собственный пост (это сделали)"
      ],
      "metadata": {
        "id": "SiobfgARXllf"
      }
    },
    {
      "cell_type": "markdown",
      "source": [
        "### Задание 1"
      ],
      "metadata": {
        "id": "HO7uGrryYHIp"
      }
    },
    {
      "cell_type": "markdown",
      "source": [
        "\n",
        "Напишите функцию, которая приведет на главную страницу"
      ],
      "metadata": {
        "id": "u4AtpxwdYODD"
      }
    },
    {
      "cell_type": "code",
      "source": [
        "from flask import Flask, request, session, g, redirect, url_for, abort, render_template, flash\n",
        "\n",
        "@app.route('/')\n",
        "def hello_page():\n",
        "    return render_template(\"layout.html\")"
      ],
      "metadata": {
        "id": "zD3K78YXYPJq"
      },
      "execution_count": null,
      "outputs": []
    },
    {
      "cell_type": "markdown",
      "source": [
        "### Задание 2"
      ],
      "metadata": {
        "id": "SzJiQNlAYQVL"
      }
    },
    {
      "cell_type": "markdown",
      "source": [
        "Напишите код для разлогирования (после разлогирования мы должны вывести плашку, что мы вышли, и также перевести на главный экран)"
      ],
      "metadata": {
        "id": "GqZF73FMYXU8"
      }
    },
    {
      "cell_type": "code",
      "source": [
        "@app.route('/logout')\n",
        "def logout():\n",
        "    session.pop('logged_in', None)\n",
        "    flash('You were logged out, wow')\n",
        "    return redirect(url_for('hello_page'))"
      ],
      "metadata": {
        "id": "4U0FLc3yYnqq"
      },
      "execution_count": null,
      "outputs": []
    },
    {
      "cell_type": "markdown",
      "source": [
        "### Задание 3"
      ],
      "metadata": {
        "id": "X4PKXfJTYsZI"
      }
    },
    {
      "cell_type": "markdown",
      "source": [
        "Напишите функцию, которая будет производить логирование"
      ],
      "metadata": {
        "id": "5VLIn-_FY6W4"
      }
    },
    {
      "cell_type": "markdown",
      "source": [
        "Что здесь важно?\n",
        "\n",
        "Во-первых, у нас есть ошибка, которую надо будет отправлять для странички (что же не так, если пользователь ошибся)\n",
        "\n",
        "Во-вторых, а как определить, что пользователь ввел то, что нужно, у нас же не было никакой регистрации? Для этого мы должны добавить конфигурации (добавим админа, у нас же тут пока сырой проект):"
      ],
      "metadata": {
        "id": "k7wz0KxtY_cS"
      }
    },
    {
      "cell_type": "code",
      "source": [
        "import sqlite3\n",
        "\n",
        "DATABASE = '/tmp/flaskr.db' \n",
        "DEBUG = True\n",
        "SECRET_KEY = 'development key'\n",
        "USERNAME = 'admin' \n",
        "PASSWORD = 'default'\n",
        "\n",
        "app = Flask(__name__)\n",
        "app.config.from_object(__name__)\n",
        "\n",
        "app.config.update(dict(\n",
        "    DATABASE=os.path.join(app.root_path, 'flaskr.db'),\n",
        "    DEBUG=True,\n",
        "    SECRET_KEY='development key',\n",
        "    USERNAME='admin',\n",
        "    PASSWORD='default'))\n",
        "\n",
        "app.config.from_envvar('FLASKR_SETTINGS', silent=True)"
      ],
      "metadata": {
        "id": "fY32P2S_ZYyo"
      },
      "execution_count": null,
      "outputs": []
    },
    {
      "cell_type": "code",
      "source": [
        "@app.route('/login', methods=['GET', 'POST'])\n",
        "def login():\n",
        "    error = None\n",
        "    if request.method == 'POST':\n",
        "        if request.form['username'] != app.config['USERNAME']:\n",
        "            error = 'Invalid username'\n",
        "        elif request.form['password'] != app.config['PASSWORD']:\n",
        "            error = 'Invalid password'\n",
        "        else:\n",
        "            session['logged_in'] = True\n",
        "            flash('You were logged in')\n",
        "            return redirect(url_for('show_entries'))\n",
        "    return render_template('login.html', error=error)"
      ],
      "metadata": {
        "id": "ZqM7iZRKXl5C"
      },
      "execution_count": null,
      "outputs": []
    },
    {
      "cell_type": "markdown",
      "source": [
        "## Соединяем и запускаем!"
      ],
      "metadata": {
        "id": "EcAQu6a4ZzcL"
      }
    },
    {
      "cell_type": "markdown",
      "source": [
        "Странная фигня получилась, верно?..\n",
        "\n",
        "Не хватает верстки (сделать бы шрифт другой, цвет, сделать resize картинки)..\n",
        "\n",
        "Вот для этого всего есть CSS!"
      ],
      "metadata": {
        "id": "TJTdlm1HaBjk"
      }
    },
    {
      "cell_type": "markdown",
      "source": [
        "### CSS"
      ],
      "metadata": {
        "id": "mPoxx1-8aQ2w"
      }
    },
    {
      "cell_type": "markdown",
      "source": [
        "CSS (Cascading Style Sheets) - это правила для внешнего вида нашего HTML-документа (которые мы видели абсолютно везде, на всех сайтах), без этого не было бы никакой красоты"
      ],
      "metadata": {
        "id": "ino5mJqHajUh"
      }
    },
    {
      "cell_type": "markdown",
      "source": [
        "Как можно задавать стиль? Структура любого CSS-документа выглядит как:\n",
        "\n",
        "<для чего применить правило> - { <свойсто:значение; свойство:значение> }\n",
        "\n",
        "Свойств достаточно [много](https://html5book.ru/css-spravochnik.html), давайте на примере разберемся, что внутри CSS документа:\n",
        "\n"
      ],
      "metadata": {
        "id": "3hfweYVybUSY"
      }
    },
    {
      "cell_type": "markdown",
      "source": [
        "```\n",
        "Часть I - накидываем свойства на тэги\n",
        "\n",
        "body { font-family: sans-serif; background: #eee; } \n",
        "a, h1, h2  { color: #377ba8; }\n",
        "h1, h2 { font-family: 'Georgia', serif; margin: 0; }\n",
        "h1 { border-bottom: 2px solid #eee; }\n",
        "h2 { font-size: 1.2em; }\n",
        "img {width: 35em;}\n",
        "\n",
        "Часть II - накидываем свойства на классы (всегда с точкой)\n",
        "\n",
        ".page { margin: 2em auto; width: 35em; border: 5px solid #ccc; padding: 0.8em; background: white; }\n",
        ".entries  { list-style: none; margin: 0; padding: 0; }\n",
        ".entries li {margin: 0.8em 1.2em}\n",
        "\n",
        "Отдельный случай - здесь указывается форматирования для всех li внутри класса .entries\n",
        "\n",
        "\n",
        ".entries li h2 { margin-left: -1em; }\n",
        ".add_entry { font-size: 0.9em; border-bottom: 1px solid #ccc; }\n",
        ".add_entry dl { font-weight: bold; }\n",
        ".metanav { text-align: right; font-size: 0.8em; padding: 0.3em; margin-bottom: 1em; background: #fafafa;}\n",
        ".flash { background: #cee5F5; padding: 0.5em; border: 1px solid #aacbe2; }\n",
        ".border { background: #f0d6d6; padding: 0.5em; }\n",
        "\n",
        "Если хотим для тэга с классом - то будет li.entries (как вариант)\n",
        "```"
      ],
      "metadata": {
        "id": "QkaOdaQmaV4Q"
      }
    },
    {
      "cell_type": "markdown",
      "source": [
        "А как решаются конфликты?\n",
        "\n",
        "Допустим, что вы в одном месте указали, что текст должен быть красным, а в другом синим, кто победит?\n",
        "\n",
        "Ответ: что позже идет в документе, то и выигрывает (на то оно и называется каскадированным)"
      ],
      "metadata": {
        "id": "a_ktnPOsc-Yd"
      }
    },
    {
      "cell_type": "markdown",
      "source": [
        "И вот теперь соединив все это, вы получаете нужный результат! Победа!"
      ],
      "metadata": {
        "id": "lHcXMQNmdMCH"
      }
    },
    {
      "cell_type": "markdown",
      "source": [
        "## Животное дня"
      ],
      "metadata": {
        "id": "3wChAx32dV0R"
      }
    },
    {
      "cell_type": "markdown",
      "source": [
        "![](https://upload.wikimedia.org/wikipedia/commons/thumb/1/1e/Ambystoma_mexicanum_%286337857516%29.jpg/1920px-Ambystoma_mexicanum_%286337857516%29.jpg)"
      ],
      "metadata": {
        "id": "-pMxQzn7eaD0"
      }
    },
    {
      "cell_type": "markdown",
      "source": [
        "Сегодня у нас известное всем животное - амбистома (и аксолотль)\n",
        "\n",
        "В чем разница? Аксолотль - это амбистомы до тех пор, пока они не станут взрослыми (то есть это лишь этап). Половозрелые амбистомы выглядят вот так:"
      ],
      "metadata": {
        "id": "tGO2MZSNec7J"
      }
    },
    {
      "cell_type": "markdown",
      "source": [
        "![](https://upload.wikimedia.org/wikipedia/commons/0/00/Axolotl_ganz.jpg)"
      ],
      "metadata": {
        "id": "fRoncUujftA4"
      }
    },
    {
      "cell_type": "markdown",
      "source": [
        "Аксолотль не может самостоятельно стать взрослой, потому что для взросления ей необходим тироксин, которые они сами вообще не вырабатывают (то есть взрослыми они становятся за счет внешних причин, например, засухи)\n",
        "\n",
        "И для амбистом оставаться аксолотлем, видимо, максимально выгодно!\n",
        "\n",
        "Аксолотли обладают фантастической способоностью к регенерации - они даже могут мозг регенирировать (не все части, но все-таки), не оставляя на себе никаких шрамов. Поэтому ученые их используют для изучения как идеальную модель\n",
        "\n",
        "Но к сожалению они вымирают, потому что раньше ацтеки их ели, а потом пришли конкистадоры, естественно, испортили их среду обитания, да и сейчас ситуация еще хуже (из-за загрязнения воды в Мексике)\n"
      ],
      "metadata": {
        "id": "3g_BggGDfvn0"
      }
    }
  ]
}