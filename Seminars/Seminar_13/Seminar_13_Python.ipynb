{
  "nbformat": 4,
  "nbformat_minor": 0,
  "metadata": {
    "colab": {
      "provenance": [],
      "collapsed_sections": [
        "TlpGINW1kdUs",
        "mEohc5Bzqdfe",
        "FUcrwjUBCt25",
        "7AQPbi2-EnLY",
        "ls7g6t3eEow0"
      ]
    },
    "kernelspec": {
      "name": "python3",
      "display_name": "Python 3"
    },
    "language_info": {
      "name": "python"
    }
  },
  "cells": [
    {
      "cell_type": "markdown",
      "source": [
        "# Продвинутый Python, семинар 13\n",
        "\n",
        "**Лектор:** Петров Тимур\n",
        "\n",
        "**Семинаристы:** Петров Тимур, Коган Александра, Романченко Полина\n",
        "\n",
        "**Spoiler Alert:** в рамках курса нельзя изучить ни одну из тем от и до досконально (к сожалению, на это требуется больше времени, чем даже 3 часа в неделю). Но мы попробуем рассказать столько, сколько возможно :)\n",
        "\n",
        "**N.B.** Тут стоит создать свою базу данных на pymongo, но есть нюанс: без VPN оно не открывается :с "
      ],
      "metadata": {
        "id": "iHnHkcfBgmJs"
      }
    },
    {
      "cell_type": "markdown",
      "source": [
        "В прошлый раз мы с вами говорили про реляционные СУБД (и в целом он полностью решается через SQLAlchemy, счастье-радость)\n",
        "\n",
        "Теперь давайте поговорим про нереляционные СУБД (или т.н. NoSQL - Not Only SQL или же No SQL, как кому удобно)"
      ],
      "metadata": {
        "id": "nQSKXGOQjLWN"
      }
    },
    {
      "cell_type": "markdown",
      "source": [
        "## NoSQL"
      ],
      "metadata": {
        "id": "TlpGINW1kdUs"
      }
    },
    {
      "cell_type": "markdown",
      "source": [
        "Что выделяет реляционные СУБД? По сути, структура и логика, как и что должно выглядеть (обычно это называют реляционной алгеброй, учим матчасть).\n",
        "\n",
        "Можно сразу понять, что есть NoSQL - это попытка избавиться от этих \"оков\". Где-то это хорошо, а где-то плохо. Киты NoSQL:\n",
        "\n",
        "* Не используется SQL - ну то есть не используем классический SQL (хотя синтаксис все равно похож)\n",
        "\n",
        "* SchemaLess структура - нет схемы, следовательно, в любую строку можно добавить любое новое поле без изменения всей таблицы (то есть не нужно отдельно делать ALTER TABLE, но вообще было бы славно такое делать)\n",
        "\n",
        "* Аггрегационная модель - нет реляционной модели, есть аггрегации! Каждая запись - это все, вместе и сразу, что вам нужно (это не значит, что есть только 1 таблица, но это значит, что если вы те же заказы и платежи храните в разных местах по реляционной БД, то тут можно хранить все вместе)\n",
        "\n",
        "* Слабые ACID-свойства - в реляционной БД обновление выглядит следующим образом:\n",
        "\n",
        "    * Я ввожу данные и запускаю скрипт на обновление\n",
        "\n",
        "    * Таблица лочится для остальных на обновление (на select доступно, но пока внесение данных не закончится, никто их не увидит)\n",
        "\n",
        "    * Скрипт обновился, лок снялся, данные обновились (достигается атомарность)\n",
        "\n",
        "В NoSQL же ситуация такая: все вносим, а там разберемся (слабая атомарность транзакций)"
      ],
      "metadata": {
        "id": "uzShisgEkeyo"
      }
    },
    {
      "cell_type": "markdown",
      "source": [
        "Что мы в итоге получаем:\n",
        "\n",
        "* Реляционная база данных - хороша на чтение (аналитики), хорошая атомарность, но долгое обновление, чистенько-красивенько\n",
        "\n",
        "* Нереляционная база данных - за счет опускания ограничений мы получаем очень быструю запись и обновление, но структура... хромает\n",
        "\n",
        "Поэтому так или иначе используется и то, и другое\n",
        "\n",
        "И сегодня мы поговорим про PyMongo, один из распространенных для Python NoSQL системе"
      ],
      "metadata": {
        "id": "muima6jVmCMT"
      }
    },
    {
      "cell_type": "markdown",
      "source": [
        "## Создаем себе БД удаленно"
      ],
      "metadata": {
        "id": "mEohc5Bzqdfe"
      }
    },
    {
      "cell_type": "markdown",
      "source": [
        "**WARNING:** Включите VPN\n",
        "\n",
        "1. Заходим на MongoDB, регистрируемся\n",
        "\n",
        "2. Создаем новый кластер (выбираем бесплатный, то есть все по базе, только регион билжайший выбрать лучше, у меня Швеция)\n",
        "\n",
        "3. Логин-пароль для доступа\n",
        "\n",
        "4. Дальше Security -> Network Access -> Add IP Address -> 0.0.0.0/0 (доступ для всех IP-адресов)\n",
        "\n",
        "5. Database -> Кликаем на базу данных, идем в Collections. Можно загрузить Sample Database, что я лично сделал, можно сделать Create Database (там будет название DB и название Collection, что это такое, мы обсудим)\n",
        "\n",
        "И вуаля! Получится должно примерно вот [так](https://drive.google.com/file/d/1UmpBC5Dld1EYqpoIXiz78S3PsbB57jRg/view?usp=sharing)\n",
        "\n",
        "6. Тыкаем на Database -> Connect -> Connect your application -> Python, 3.6 or later -> копируем connection string, заменяем пароль и все готово, можно работать"
      ],
      "metadata": {
        "id": "cI_oqlC0qhI_"
      }
    },
    {
      "cell_type": "markdown",
      "source": [
        "## А теперь к PyMongo!"
      ],
      "metadata": {
        "id": "FUcrwjUBCt25"
      }
    },
    {
      "cell_type": "markdown",
      "source": [
        "Что представляет из себя вообще MongoDB как хранилище?\n",
        "\n",
        "Как вы видите, по сути - это набор опять-таки таблиц и баз данных. Может быть несколько БД, внутри БД может быть несколько таблиц. Таблицы внутри MongoDB называются collections, потому что они устроены немного другим образом. Обращаясь к документации:\n",
        "\n",
        "```\n",
        "A collection is a group of documents stored in MongoDB, and can be\n",
        "thought of as roughly the equivalent of a table in a relational\n",
        "database.\n",
        "Getting a collection in PyMongo works the same as getting a database\n",
        "```\n",
        "\n",
        "То есть это коллекция документов, которые (подразумевается) выглядят примерно одинаково. Внутри себя документ выглядит по существу как словарь или JSON (поэтому и далее занести данные = занести словарь)"
      ],
      "metadata": {
        "id": "NyahKsAwDAmh"
      }
    },
    {
      "cell_type": "code",
      "execution_count": 1,
      "metadata": {
        "colab": {
          "base_uri": "https://localhost:8080/"
        },
        "id": "4tRbFcDJf6R6",
        "outputId": "440c53c6-09f7-4cf3-8c9c-68a74dbdeb7b"
      },
      "outputs": [
        {
          "output_type": "stream",
          "name": "stdout",
          "text": [
            "Looking in indexes: https://pypi.org/simple, https://us-python.pkg.dev/colab-wheels/public/simple/\n",
            "Requirement already satisfied: pymongo in /usr/local/lib/python3.8/dist-packages (4.3.3)\n",
            "Requirement already satisfied: dnspython<3.0.0,>=1.16.0 in /usr/local/lib/python3.8/dist-packages (from pymongo) (2.2.1)\n"
          ]
        }
      ],
      "source": [
        "!pip install pymongo"
      ]
    },
    {
      "cell_type": "code",
      "source": [
        "import pymongo\n",
        "from pymongo import MongoClient\n",
        "\n",
        "cluster = MongoClient('<YOUR LINK>')\n",
        "db = cluster[\"sample_mflix\"]\n",
        "collection = db[\"movies\"]"
      ],
      "metadata": {
        "id": "2rTQzZS3gH-N"
      },
      "execution_count": 87,
      "outputs": []
    },
    {
      "cell_type": "code",
      "source": [
        "print(cluster.list_database_names())  # какие у нас есть БД\n",
        "print('-' * 30)\n",
        "print(db.list_collection_names()) # какие есть коллекции"
      ],
      "metadata": {
        "colab": {
          "base_uri": "https://localhost:8080/"
        },
        "id": "wEB-uVthEPNi",
        "outputId": "22ff1f47-b863-408e-9874-2cb9e026e43a"
      },
      "execution_count": 26,
      "outputs": [
        {
          "output_type": "stream",
          "name": "stdout",
          "text": [
            "['sample_airbnb', 'sample_analytics', 'sample_geospatial', 'sample_guides', 'sample_mflix', 'sample_restaurants', 'sample_supplies', 'sample_training', 'sample_weatherdata', 'test', 'admin', 'local']\n",
            "------------------------------\n",
            "['movies', 'theaters', 'sessions', 'users', 'comments']\n"
          ]
        }
      ]
    },
    {
      "cell_type": "markdown",
      "source": [
        "### Поиск"
      ],
      "metadata": {
        "id": "7AQPbi2-EnLY"
      }
    },
    {
      "cell_type": "code",
      "source": [
        "collection.find_one()"
      ],
      "metadata": {
        "colab": {
          "base_uri": "https://localhost:8080/"
        },
        "id": "0i6d0xEnhBwm",
        "outputId": "40434050-ce21-4063-c0b9-065a67c9f8b7"
      },
      "execution_count": 31,
      "outputs": [
        {
          "output_type": "execute_result",
          "data": {
            "text/plain": [
              "{'_id': ObjectId('573a1390f29313caabcd4135'),\n",
              " 'plot': 'Three men hammer on an anvil and pass a bottle of beer around.',\n",
              " 'genres': ['Short'],\n",
              " 'runtime': 1,\n",
              " 'cast': ['Charles Kayser', 'John Ott'],\n",
              " 'num_mflix_comments': 0,\n",
              " 'title': 'Blacksmith Scene',\n",
              " 'fullplot': 'A stationary camera looks at a large anvil with a blacksmith behind it and one on either side. The smith in the middle draws a heated metal rod from the fire, places it on the anvil, and all three begin a rhythmic hammering. After several blows, the metal goes back in the fire. One smith pulls out a bottle of beer, and they each take a swig. Then, out comes the glowing metal and the hammering resumes.',\n",
              " 'countries': ['USA'],\n",
              " 'released': datetime.datetime(1893, 5, 9, 0, 0),\n",
              " 'directors': ['William K.L. Dickson'],\n",
              " 'rated': 'UNRATED',\n",
              " 'awards': {'wins': 1, 'nominations': 0, 'text': '1 win.'},\n",
              " 'lastupdated': '2015-08-26 00:03:50.133000000',\n",
              " 'year': 1893,\n",
              " 'imdb': {'rating': 6.2, 'votes': 1189, 'id': 5},\n",
              " 'type': 'movie',\n",
              " 'tomatoes': {'viewer': {'rating': 3.0, 'numReviews': 184, 'meter': 32},\n",
              "  'lastUpdated': datetime.datetime(2015, 6, 28, 18, 34, 9)}}"
            ]
          },
          "metadata": {},
          "execution_count": 31
        }
      ]
    },
    {
      "cell_type": "markdown",
      "source": [
        "Видим, что в словаре может быть почти что угодно. На что стоит обратить внимание - на _id, это автоматически генерируемый ID объекта (и это не строка, но про это позже)\n",
        "\n",
        "Как устроен поиск внутри? Есть ровно 2 метода:\n",
        "\n",
        "* find_one() - найди 1 экземпляр\n",
        "\n",
        "* find() - найди все"
      ],
      "metadata": {
        "id": "NQMEN49vE7LC"
      }
    },
    {
      "cell_type": "code",
      "source": [
        "collection.find_one({\"countries\": ['USA']}) # наши фильтры, устроены как поиск в словаре"
      ],
      "metadata": {
        "colab": {
          "base_uri": "https://localhost:8080/"
        },
        "id": "9O_as--VEzUX",
        "outputId": "767ce68a-d120-4d6d-9d31-60f28371f74b"
      },
      "execution_count": 33,
      "outputs": [
        {
          "output_type": "execute_result",
          "data": {
            "text/plain": [
              "{'_id': ObjectId('573a1390f29313caabcd4135'),\n",
              " 'plot': 'Three men hammer on an anvil and pass a bottle of beer around.',\n",
              " 'genres': ['Short'],\n",
              " 'runtime': 1,\n",
              " 'cast': ['Charles Kayser', 'John Ott'],\n",
              " 'num_mflix_comments': 0,\n",
              " 'title': 'Blacksmith Scene',\n",
              " 'fullplot': 'A stationary camera looks at a large anvil with a blacksmith behind it and one on either side. The smith in the middle draws a heated metal rod from the fire, places it on the anvil, and all three begin a rhythmic hammering. After several blows, the metal goes back in the fire. One smith pulls out a bottle of beer, and they each take a swig. Then, out comes the glowing metal and the hammering resumes.',\n",
              " 'countries': ['USA'],\n",
              " 'released': datetime.datetime(1893, 5, 9, 0, 0),\n",
              " 'directors': ['William K.L. Dickson'],\n",
              " 'rated': 'UNRATED',\n",
              " 'awards': {'wins': 1, 'nominations': 0, 'text': '1 win.'},\n",
              " 'lastupdated': '2015-08-26 00:03:50.133000000',\n",
              " 'year': 1893,\n",
              " 'imdb': {'rating': 6.2, 'votes': 1189, 'id': 5},\n",
              " 'type': 'movie',\n",
              " 'tomatoes': {'viewer': {'rating': 3.0, 'numReviews': 184, 'meter': 32},\n",
              "  'lastUpdated': datetime.datetime(2015, 6, 28, 18, 34, 9)}}"
            ]
          },
          "metadata": {},
          "execution_count": 33
        }
      ]
    },
    {
      "cell_type": "code",
      "source": [
        "collection.find({\"countries\": ['USA']}) # Опа, наш любимый курсор)"
      ],
      "metadata": {
        "colab": {
          "base_uri": "https://localhost:8080/"
        },
        "id": "414PSCGwGC_P",
        "outputId": "f16f2194-8834-4cb8-9b3c-15fe23bbd5b8"
      },
      "execution_count": 34,
      "outputs": [
        {
          "output_type": "execute_result",
          "data": {
            "text/plain": [
              "<pymongo.cursor.Cursor at 0x7f94d6b09280>"
            ]
          },
          "metadata": {},
          "execution_count": 34
        }
      ]
    },
    {
      "cell_type": "code",
      "source": [
        "for i in collection.find({\"countries\": ['Russia']}): #в качестве i вы получаете словари с результатом\n",
        "    print(i) "
      ],
      "metadata": {
        "id": "GZFP5FELGH0W"
      },
      "execution_count": null,
      "outputs": []
    },
    {
      "cell_type": "code",
      "source": [
        "res = collection.find({\"countries\": ['Russia']})[1]\n",
        "print(res)"
      ],
      "metadata": {
        "colab": {
          "base_uri": "https://localhost:8080/"
        },
        "id": "0NgDiiKYGWj7",
        "outputId": "06dd0606-ec57-4a9f-897d-a8f98d0e4bb5"
      },
      "execution_count": 40,
      "outputs": [
        {
          "output_type": "stream",
          "name": "stdout",
          "text": [
            "{'_id': ObjectId('573a1399f29313caabcee098'), 'countries': ['Russia'], 'genres': ['Drama'], 'runtime': 92, 'cast': ['Aleksandr Zbruev', 'Mark Goronok', 'Marina Neyolova', 'Mariya Lobachova'], 'title': 'Ty u menya odna', 'lastupdated': '2015-09-07 00:41:48.723000000', 'languages': ['Russian'], 'released': datetime.datetime(1994, 6, 1, 0, 0), 'directors': ['Dmitriy Astrakhan'], 'writers': ['Oleg Danilov'], 'awards': {'wins': 1, 'nominations': 1, 'text': '1 win & 1 nomination.'}, 'year': 1993, 'imdb': {'rating': 6.9, 'votes': 181, 'id': 108421}, 'type': 'movie', 'tomatoes': {'viewer': {'rating': 4.2, 'numReviews': 13, 'meter': 100}, 'lastUpdated': datetime.datetime(2015, 8, 14, 18, 54, 47)}, 'num_mflix_comments': 0}\n"
          ]
        }
      ]
    },
    {
      "cell_type": "markdown",
      "source": [
        "Поиск внутри PyMongo устроен достаточно просто - передаем словарь, по которому искать, он ищет пересечения, все базово\n",
        "\n",
        "Но вы можете спросить: а как искать значение по спискам, строке (типа LIKE) и так далее? А вот тут начинаются сложности [синтаксиса](https://www.mongodb.com/docs/manual/reference/operator/query/), в этом смысле SQL более нативный, надо приноровиться\n",
        "\n"
      ],
      "metadata": {
        "id": "cwJCzudDGlYk"
      }
    },
    {
      "cell_type": "code",
      "source": [
        "print(len(list(collection.find({\"countries\": {\"$in\": [\"Russia\"]}}))))\n",
        "print(len(list(collection.find({\"countries\": ['Russia']}))))"
      ],
      "metadata": {
        "colab": {
          "base_uri": "https://localhost:8080/"
        },
        "id": "OigbFyZLIXyB",
        "outputId": "cad528c2-41eb-4774-c143-5ca4e5d823f5"
      },
      "execution_count": 47,
      "outputs": [
        {
          "output_type": "stream",
          "name": "stdout",
          "text": [
            "304\n",
            "198\n"
          ]
        }
      ]
    },
    {
      "cell_type": "markdown",
      "source": [
        "Что еще из базового мы не покрыли пока что?\n",
        "\n",
        "* LIMIT\n",
        "\n",
        "* ORDER BY\n",
        "\n",
        "* Аггрегации"
      ],
      "metadata": {
        "id": "unTLoaKYJW0l"
      }
    },
    {
      "cell_type": "code",
      "source": [
        "for i in collection.find({\"countries\": ['Russia']}).limit(10):\n",
        "    print(i) "
      ],
      "metadata": {
        "colab": {
          "base_uri": "https://localhost:8080/"
        },
        "id": "1G6dBxDgJfia",
        "outputId": "fcdf7809-061d-47f0-9c17-62872b2f1573"
      },
      "execution_count": 48,
      "outputs": [
        {
          "output_type": "stream",
          "name": "stdout",
          "text": [
            "{'_id': ObjectId('573a1399f29313caabced8e7'), 'countries': ['Russia'], 'genres': ['Documentary'], 'runtime': 60, 'cast': ['Anna Fyodorovna Belova', 'Mikhail Fyodorovich Belov', 'Vasiliy Fyodorovich Belov', 'Sergey Fyodorovich Belov'], 'num_mflix_comments': 0, 'title': 'Belovy', 'lastupdated': '2015-01-10 00:36:44.010000000', 'languages': ['Russian'], 'released': datetime.datetime(2002, 10, 17, 0, 0), 'directors': ['Victor Kossakovsky'], 'writers': ['Victor Kossakovsky'], 'awards': {'wins': 3, 'nominations': 1, 'text': '3 wins & 1 nomination.'}, 'year': 1994, 'imdb': {'rating': 8.2, 'votes': 134, 'id': 106385}, 'type': 'movie', 'tomatoes': {'viewer': {'rating': 4.5, 'numReviews': 127, 'meter': 100}, 'lastUpdated': datetime.datetime(2015, 8, 14, 18, 31, 34)}}\n",
            "{'_id': ObjectId('573a1399f29313caabcee098'), 'countries': ['Russia'], 'genres': ['Drama'], 'runtime': 92, 'cast': ['Aleksandr Zbruev', 'Mark Goronok', 'Marina Neyolova', 'Mariya Lobachova'], 'title': 'Ty u menya odna', 'lastupdated': '2015-09-07 00:41:48.723000000', 'languages': ['Russian'], 'released': datetime.datetime(1994, 6, 1, 0, 0), 'directors': ['Dmitriy Astrakhan'], 'writers': ['Oleg Danilov'], 'awards': {'wins': 1, 'nominations': 1, 'text': '1 win & 1 nomination.'}, 'year': 1993, 'imdb': {'rating': 6.9, 'votes': 181, 'id': 108421}, 'type': 'movie', 'tomatoes': {'viewer': {'rating': 4.2, 'numReviews': 13, 'meter': 100}, 'lastUpdated': datetime.datetime(2015, 8, 14, 18, 54, 47)}, 'num_mflix_comments': 0}\n",
            "{'_id': ObjectId('573a1399f29313caabceeaaf'), 'plot': 'Parable on the Last Judgement which comes to Russia of our days. Everything appeared not so simply as behind all events a certain ambiguity, some game was read. There was a terrible ...', 'genres': ['Drama', 'Fantasy'], 'runtime': 108, 'title': 'Russkaya simfoniya', 'countries': ['Russia'], 'fullplot': 'Parable on the Last Judgement which comes to Russia of our days. Everything appeared not so simply as behind all events a certain ambiguity, some game was read. There was a terrible suspicion that all events are a certain performance, a performance.', 'languages': ['Russian'], 'cast': ['Viktor Mikhaylov', 'Aleksandr Ilin', 'Valentin Golubenko', 'Kira Kreylis-Petrova'], 'directors': ['Konstantin Lopushanskiy'], 'writers': ['Konstantin Lopushanskiy'], 'awards': {'wins': 1, 'nominations': 0, 'text': '1 win.'}, 'lastupdated': '2015-09-16 13:01:01.220000000', 'year': 1994, 'imdb': {'rating': 7.5, 'votes': 63, 'id': 111040}, 'type': 'movie', 'num_mflix_comments': 0}\n",
            "{'_id': ObjectId('573a139af29313caabcef289'), 'plot': 'A young caterpillar yearns to fly like the butterflies and birds, but cannot launch himself high enough to do so - until a couple start playing badminton nearby.', 'genres': ['Animation', 'Short', 'Comedy'], 'runtime': 3, 'title': 'Gagarin', 'countries': ['Russia'], 'fullplot': 'A young caterpillar yearns to fly like the butterflies and birds, but cannot launch himself high enough to do so - until a couple start playing badminton nearby.', 'languages': ['Russian'], 'directors': ['Alexij Kharitidi'], 'writers': ['Alexij Kharitidi (scriptwriter)'], 'awards': {'wins': 6, 'nominations': 1, 'text': 'Nominated for 1 Oscar. Another 5 wins & 1 nomination.'}, 'lastupdated': '2015-07-18 00:08:16.500000000', 'year': 1994, 'imdb': {'rating': 7.0, 'votes': 288, 'id': 113138}, 'type': 'movie', 'tomatoes': {'viewer': {'rating': 3.5, 'numReviews': 1}, 'lastUpdated': datetime.datetime(2015, 8, 26, 18, 31, 54)}, 'num_mflix_comments': 0}\n",
            "{'_id': ObjectId('573a139af29313caabcef60a'), 'plot': 'A Finn preparing a work on the Russian hunting traditions and customs, comes to Russia to collect materials and is invited to take part in a hunting party. His flamboyant companions include...', 'genres': ['Comedy'], 'runtime': 93, 'cast': ['Ville Haapasalo', 'Viktor Bychkov', 'Sergey Russkin', 'Aleksey Buldakov'], 'num_mflix_comments': 1, 'title': 'Peculiarities of the National Hunt', 'fullplot': 'A Finn preparing a work on the Russian hunting traditions and customs, comes to Russia to collect materials and is invited to take part in a hunting party. His flamboyant companions include an Army general, with more than a passing resemblance to Aleksander Lebed, a police detective, local forest ranger (a devotee of Zen Buddhism) and some big-city types from St. Petersburg. Inevitably, their good intentions soon give way to endless drinking, visits to local farm girls and much else besides.', 'languages': ['French', 'German', 'English', 'Finnish', 'Russian'], 'released': datetime.datetime(1996, 10, 6, 0, 0), 'directors': ['Aleksandr Rogozhkin'], 'writers': ['Aleksandr Rogozhkin'], 'awards': {'wins': 4, 'nominations': 2, 'text': '4 wins & 2 nominations.'}, 'lastupdated': '2015-09-02 00:23:42.803000000', 'year': 1995, 'imdb': {'rating': 7.7, 'votes': 2227, 'id': 114055}, 'countries': ['Russia'], 'type': 'movie', 'tomatoes': {'viewer': {'rating': 3.5, 'numReviews': 57}, 'lastUpdated': datetime.datetime(2015, 9, 13, 18, 7, 38)}}\n",
            "{'_id': ObjectId('573a139af29313caabcf07c1'), 'plot': 'An ex-soldier with a personal honor code enters the family crime business in St. Petersburg, Russia.', 'genres': ['Crime', 'Drama', 'Romance'], 'runtime': 99, 'cast': ['Sergey Bodrov Jr.', 'Viktor Sukhorukov', 'Svetlana Pismichenko', 'Mariya Zhukova'], 'num_mflix_comments': 0, 'poster': 'https://m.media-amazon.com/images/M/MV5BNDMxNzkwNzkwNV5BMl5BanBnXkFtZTcwNTczNDkxMQ@@._V1_SY1000_SX677_AL_.jpg', 'title': 'Brother', 'fullplot': 'Newly discharged from the army, Danila goes to his older brother - a gangster and a killer - to start a new life in St. Petersburg where he\\'s soon situated in the criminal world and asked to kill someone. There his new life starts. He meets new people, including a girl, and becomes a big fan of the rock band \"Nautilus Pompillius,\" but now he is a killer, and realizing killing is easier for him than living makes him understand he is going the wrong way.', 'languages': ['Russian', 'English', 'French'], 'released': datetime.datetime(1998, 7, 8, 0, 0), 'directors': ['Aleksey Balabanov'], 'writers': ['Aleksey Balabanov'], 'awards': {'wins': 7, 'nominations': 5, 'text': '7 wins & 5 nominations.'}, 'lastupdated': '2015-09-02 00:19:19.287000000', 'year': 1997, 'imdb': {'rating': 8.0, 'votes': 8809, 'id': 118767}, 'countries': ['Russia'], 'type': 'movie', 'tomatoes': {'website': 'http://brat2.film.ru/brat1.asp', 'viewer': {'rating': 3.9, 'numReviews': 1898, 'meter': 83}, 'dvd': datetime.datetime(2002, 11, 19, 0, 0), 'critic': {'rating': 7.7, 'numReviews': 5, 'meter': 100}, 'lastUpdated': datetime.datetime(2015, 8, 24, 19, 4, 46), 'rotten': 0, 'fresh': 5}}\n",
            "{'_id': ObjectId('573a139bf29313caabcf34ac'), 'plot': 'An elderly monk, while training the young novice who will succeed him, recalls the mysterious lost love of his past - just as his young successor appears to be encountering her himself.', 'genres': ['Animation', 'Short', 'Fantasy'], 'runtime': 10, 'title': 'Mermaid', 'countries': ['Russia'], 'fullplot': 'An elderly monk, while training the young novice who will succeed him, recalls the mysterious lost love of his past - just as his young successor appears to be encountering her himself.', 'languages': ['Russian'], 'directors': ['Aleksandr Petrov'], 'writers': ['Aleksandr Petrov'], 'awards': {'wins': 7, 'nominations': 2, 'text': 'Nominated for 1 Oscar. Another 6 wins & 2 nominations.'}, 'lastupdated': '2015-07-12 00:16:19.093000000', 'year': 1997, 'imdb': {'rating': 7.8, 'votes': 516, 'id': 130860}, 'type': 'movie', 'tomatoes': {'viewer': {'rating': 0.0, 'numReviews': 0}, 'lastUpdated': datetime.datetime(2014, 10, 20, 21, 13, 30)}, 'num_mflix_comments': 0}\n",
            "{'_id': ObjectId('573a139bf29313caabcf44e4'), 'countries': ['Russia'], 'genres': ['Adventure', 'Comedy', 'Family'], 'cast': ['Aleksandr Zbruev', 'Vera Glagoleva', 'Yuliya Chernova', 'Armen Dzhigarkhanyan'], 'title': 'Bednaya Sasha', 'lastupdated': '2015-03-21 01:05:05.047000000', 'languages': ['Russian', 'French', 'German'], 'released': datetime.datetime(1997, 12, 26, 0, 0), 'directors': ['Tigran Keosayan'], 'writers': ['Sergei Beloshnikov', 'Vladimir Bragin'], 'awards': {'wins': 1, 'nominations': 0, 'text': '1 win.'}, 'year': 1997, 'imdb': {'rating': 7.1, 'votes': 261, 'id': 135155}, 'type': 'movie', 'tomatoes': {'viewer': {'rating': 2.4, 'numReviews': 378, 'meter': 14}, 'dvd': datetime.datetime(2007, 2, 13, 0, 0), 'production': 'DMG', 'lastUpdated': datetime.datetime(2015, 7, 16, 18, 23, 25)}, 'num_mflix_comments': 0}\n",
            "{'_id': ObjectId('573a139bf29313caabcf4d8d'), 'plot': 'A film director Nikolai Khudokormov is on the brink of his 50th anniversary. He has the whole life rich in events under his belt: creative quests, several marriages and children. Now he has...', 'genres': ['Drama'], 'runtime': 114, 'cast': ['Nikolay Karachentsov', 'Tanya Yu', 'Zinaida Sharko', 'Nina Ruslanova'], 'num_mflix_comments': 1, 'title': 'Tsirk sgorel, i klouny razbezhalis', 'fullplot': 'A film director Nikolai Khudokormov is on the brink of his 50th anniversary. He has the whole life rich in events under his belt: creative quests, several marriages and children. Now he has to live with an old insane Mother and seems to be indifferent to what is going on around. But at the same time he is obsessed by the idea to make a film which will be his best one. Nikolai makes every effort to raise the money for this project. And all the time he is followed by a mysterious stranger. She is a beautiful young creature who speaks to him about the vanity of the world and the meaningless of a human life. Finally, Nikolai realizes that he is speaking to the Death herself.', 'languages': ['Russian'], 'released': datetime.datetime(1998, 3, 23, 0, 0), 'directors': ['Vladimir Bortko'], 'writers': ['Natalya Bortko (dialogue)', 'Vladimir Bortko'], 'awards': {'wins': 0, 'nominations': 1, 'text': '1 nomination.'}, 'lastupdated': '2015-07-18 00:04:28.460000000', 'year': 1998, 'imdb': {'rating': 6.4, 'votes': 36, 'id': 137432}, 'countries': ['Russia'], 'type': 'movie', 'tomatoes': {'viewer': {'rating': 3.8, 'numReviews': 602, 'meter': 86}, 'dvd': datetime.datetime(2000, 2, 22, 0, 0), 'critic': {'rating': 7.9, 'numReviews': 33, 'meter': 94}, 'lastUpdated': datetime.datetime(2015, 6, 24, 19, 8, 16), 'rotten': 2, 'production': 'October Films', 'fresh': 31}}\n",
            "{'_id': ObjectId('573a139cf29313caabcf7540'), 'num_mflix_comments': 1, 'genres': ['Drama'], 'runtime': 93, 'title': 'Den polnoluniya', 'countries': ['Russia'], 'lastupdated': '2015-09-13 00:56:49.087000000', 'languages': ['Russian'], 'cast': ['Anna Germ', 'Andrey Panin', 'Elena Koreneva', 'Vladimir Ilin'], 'directors': ['Karen Shakhnazarov'], 'writers': ['Aleksandr Borodyanskiy', 'Karen Shakhnazarov'], 'awards': {'wins': 3, 'nominations': 7, 'text': '3 wins & 7 nominations.'}, 'year': 1998, 'imdb': {'rating': 6.7, 'votes': 151, 'id': 148059}, 'type': 'movie', 'tomatoes': {'viewer': {'rating': 0.0, 'numReviews': 0}, 'lastUpdated': datetime.datetime(2015, 5, 21, 18, 18, 58)}}\n"
          ]
        }
      ]
    },
    {
      "cell_type": "code",
      "source": [
        "for i in collection.find({\"countries\": ['Russia'], \"runtime\": {\"$exists\":True}}).limit(10).sort([(\"runtime\", pymongo.ASCENDING)]):\n",
        "    print(i.get(\"runtime\"))"
      ],
      "metadata": {
        "colab": {
          "base_uri": "https://localhost:8080/"
        },
        "id": "w5KzPl8vJoTm",
        "outputId": "e4b9dc1b-e6ce-4abe-f44a-a9ad45b6e223"
      },
      "execution_count": 56,
      "outputs": [
        {
          "output_type": "stream",
          "name": "stdout",
          "text": [
            "3\n",
            "5\n",
            "8\n",
            "10\n",
            "10\n",
            "16\n",
            "20\n",
            "28\n",
            "45\n",
            "45\n"
          ]
        }
      ]
    },
    {
      "cell_type": "markdown",
      "source": [
        "А теперь отдельно к аггрегации:\n",
        "\n",
        "Тут нас опять подстерегают сложности с синтаксисом. Так как у нас тут документы, то и аггрегация не выглядят обычным образом. Для того, чтобы сагрегировать, нужно собрать pipeline (то есть буквально сказать, как выполнять запрос)"
      ],
      "metadata": {
        "id": "_Gp-s_3wKQPu"
      }
    },
    {
      "cell_type": "code",
      "source": [
        "res = collection.aggregate([ # Вот это все добро можно занести в три переменные и просто передать\n",
        "            {\"$match\": # фильтруем данные\n",
        "                {\n",
        "                    \"countries\": {\"$in\": [\"Russia\"]}\n",
        "                }\n",
        "            },\n",
        "            {\"$group\": # говорим, что группируем\n",
        "                {\n",
        "                    \"_id\": \"$genres\", # по чему аггрегируем\n",
        "                    \"genre_count\": {\"$sum\": 1} # как назвать поле для группировки и как группировать (сумма +1 - count())\n",
        "                }\n",
        "            },\n",
        "            {\n",
        "                \"$sort\": {\"genre_count\": pymongo.DESCENDING}\n",
        "            },\n",
        "            {\n",
        "                \"$limit\": 5 \n",
        "            }\n",
        "        ])\n",
        "\n",
        "for i in res:\n",
        "    print(i)\n",
        "# Вывод - Россия для грустных"
      ],
      "metadata": {
        "id": "8PRaaF9VLS3H"
      },
      "execution_count": null,
      "outputs": []
    },
    {
      "cell_type": "markdown",
      "source": [
        "Имеет ли смысл выполнять аггрегации не через PyMongo, а через Python непосредственно? Да, потому что это быстрее (на больших данных ощутимо)"
      ],
      "metadata": {
        "id": "l-o3ru9WNdME"
      }
    },
    {
      "cell_type": "markdown",
      "source": [
        "И пара слов про _id: мы с вами видели, что это не строка, а некий ObjectID"
      ],
      "metadata": {
        "id": "2aW_UCHFOtDP"
      }
    },
    {
      "cell_type": "code",
      "source": [
        "collection.find_one({\"_id\": \"573a1390f29313caabcd4135\"}) # ничего не дает :с"
      ],
      "metadata": {
        "id": "RLZNxwG6O2wl"
      },
      "execution_count": 67,
      "outputs": []
    },
    {
      "cell_type": "markdown",
      "source": [
        "А как по ним искать? А вот потому что это ObjectID, то по-другому:"
      ],
      "metadata": {
        "id": "zruCN8F5O-Sx"
      }
    },
    {
      "cell_type": "code",
      "source": [
        "from bson.objectid import ObjectId # https://bsonspec.org/ Binary JSON, используется, чтобы не занимать место\n",
        "\n",
        "collection.find_one({\"_id\": ObjectId(\"573a1390f29313caabcd4135\")})"
      ],
      "metadata": {
        "id": "vMGrDOWjPGpc"
      },
      "execution_count": null,
      "outputs": []
    },
    {
      "cell_type": "markdown",
      "source": [
        "### Вставка/удаление"
      ],
      "metadata": {
        "id": "ls7g6t3eEow0"
      }
    },
    {
      "cell_type": "markdown",
      "source": [
        "Одна из главных и приятных фич - это вставка и удаление:\n",
        "\n",
        "* insert_one - вставить один документ\n",
        "\n",
        "* insert_many - вставить список документов\n",
        "\n",
        "* delete_one - удалить один документ (первый по фильтрам)\n",
        "\n",
        "* delete_many - удалить все документы (опять по фильтрам)\n",
        "\n",
        "Обратите внимание: тут нет rollback, ту все сразу вставляется и удаляется)"
      ],
      "metadata": {
        "id": "hADdt-PrPylD"
      }
    },
    {
      "cell_type": "code",
      "source": [
        "db = cluster[\"test\"]\n",
        "collection = db[\"test\"]\n",
        "\n",
        "collection.find_one()"
      ],
      "metadata": {
        "colab": {
          "base_uri": "https://localhost:8080/"
        },
        "id": "5SejAUJqPyGU",
        "outputId": "48eeee80-b04a-462a-b6cd-871788082069"
      },
      "execution_count": 70,
      "outputs": [
        {
          "output_type": "execute_result",
          "data": {
            "text/plain": [
              "{'_id': 1, 'name': 'Hi'}"
            ]
          },
          "metadata": {},
          "execution_count": 70
        }
      ]
    },
    {
      "cell_type": "code",
      "source": [
        "new_instance = {\"name\": \"You\", \"surname\": \"Capybara\"}\n",
        "collection.insert_one(new_instance)"
      ],
      "metadata": {
        "colab": {
          "base_uri": "https://localhost:8080/"
        },
        "id": "QYkmhVYGRoFi",
        "outputId": "0867cc62-fa66-4211-bba0-697f4a12fd8b"
      },
      "execution_count": 71,
      "outputs": [
        {
          "output_type": "execute_result",
          "data": {
            "text/plain": [
              "<pymongo.results.InsertOneResult at 0x7f94dccd32b0>"
            ]
          },
          "metadata": {},
          "execution_count": 71
        }
      ]
    },
    {
      "cell_type": "code",
      "source": [
        "for i in collection.find():\n",
        "    print(i)"
      ],
      "metadata": {
        "colab": {
          "base_uri": "https://localhost:8080/"
        },
        "id": "7CV8JEMERxan",
        "outputId": "42d81551-6c91-44c7-dcff-e667cfa7a868"
      },
      "execution_count": 72,
      "outputs": [
        {
          "output_type": "stream",
          "name": "stdout",
          "text": [
            "{'_id': 1, 'name': 'Hi'}\n",
            "{'_id': ObjectId('6391fdb59b7337962b8bd04d'), 'name': 'You', 'surname': 'Capybara'}\n"
          ]
        }
      ]
    },
    {
      "cell_type": "code",
      "source": [
        "new_instance_2 = {\"name\": \"You\", \"surname\": \"UwU\"}\n",
        "new_instance_3 = {\"name\": \"You\", \"surname\": \"uWu\"}\n",
        "collection.insert_many([new_instance_2, new_instance_3])\n",
        "for i in collection.find():\n",
        "    print(i)"
      ],
      "metadata": {
        "colab": {
          "base_uri": "https://localhost:8080/"
        },
        "id": "61E6BRoYR2N5",
        "outputId": "bd393d75-e47d-4516-fbba-8c39dcb5eab5"
      },
      "execution_count": 74,
      "outputs": [
        {
          "output_type": "stream",
          "name": "stdout",
          "text": [
            "{'_id': 1, 'name': 'Hi'}\n",
            "{'_id': ObjectId('6391fdb59b7337962b8bd04d'), 'name': 'You', 'surname': 'Capybara'}\n",
            "{'_id': ObjectId('6391fe0b9b7337962b8bd04f'), 'name': 'You', 'surname': 'UwU'}\n",
            "{'_id': ObjectId('6391fe0b9b7337962b8bd050'), 'name': 'You', 'surname': 'uWu'}\n"
          ]
        }
      ]
    },
    {
      "cell_type": "code",
      "source": [
        "collection.delete_one({\"name\": \"You\"})\n",
        "for i in collection.find():\n",
        "    print(i)"
      ],
      "metadata": {
        "colab": {
          "base_uri": "https://localhost:8080/"
        },
        "id": "Lln1IeSBSHDO",
        "outputId": "8dbee04f-39fa-47fa-a341-7f8ce93c434f"
      },
      "execution_count": 76,
      "outputs": [
        {
          "output_type": "stream",
          "name": "stdout",
          "text": [
            "{'_id': 1, 'name': 'Hi'}\n",
            "{'_id': ObjectId('6391fe0b9b7337962b8bd04f'), 'name': 'You', 'surname': 'UwU'}\n",
            "{'_id': ObjectId('6391fe0b9b7337962b8bd050'), 'name': 'You', 'surname': 'uWu'}\n"
          ]
        }
      ]
    },
    {
      "cell_type": "code",
      "source": [
        "collection.delete_many({\"name\": \"You\"})\n",
        "for i in collection.find():\n",
        "    print(i)"
      ],
      "metadata": {
        "colab": {
          "base_uri": "https://localhost:8080/"
        },
        "id": "SdEH8QNNSObl",
        "outputId": "efd5651f-37a1-476c-f134-59d421b4ca1a"
      },
      "execution_count": 78,
      "outputs": [
        {
          "output_type": "stream",
          "name": "stdout",
          "text": [
            "{'_id': 1, 'name': 'Hi'}\n"
          ]
        }
      ]
    },
    {
      "cell_type": "markdown",
      "source": [
        "### Join"
      ],
      "metadata": {
        "id": "PSMailPlPu1_"
      }
    },
    {
      "cell_type": "markdown",
      "source": [
        "И на финал: вроде как обсуждали, что JOIN в таких вещах не особо нужен. Но вдруг понадобится, что же делать? А это тоже лежит в аггрегациях в качестве $lookup (знатоки Excel, откликнитесь)"
      ],
      "metadata": {
        "id": "TieuXyX5Tcn3"
      }
    },
    {
      "cell_type": "code",
      "source": [
        "lookup_comments = {\n",
        "   \"$lookup\": {\n",
        "         \"from\": \"comments\", # из какой таблицы\n",
        "         \"localField\": \"_id\", # ключ из нашей таблицы\n",
        "         \"foreignField\": \"movie_id\", # ключ из второй таблицы\n",
        "         \"as\": \"related_comments\", # как назвать\n",
        "   }\n",
        "}\n",
        "\n",
        "res = collection.aggregate([ # Вот это все добро можно занести в три переменные и просто передать\n",
        "            {\"$match\": # фильтруем данные\n",
        "                {\n",
        "                    \"countries\": {\"$in\": [\"Russia\"]}\n",
        "                }\n",
        "            },\n",
        "            lookup_comments,\n",
        "            {\n",
        "                \"$limit\": 5 \n",
        "            }\n",
        "        ])\n",
        "\n",
        "for i in res:\n",
        "    print(i)"
      ],
      "metadata": {
        "colab": {
          "base_uri": "https://localhost:8080/"
        },
        "id": "9uTmUnpQPxvl",
        "outputId": "44377f3f-62bf-4b45-bb25-1a38a81a38fb"
      },
      "execution_count": 89,
      "outputs": [
        {
          "output_type": "stream",
          "name": "stdout",
          "text": [
            "{'_id': ObjectId('573a1398f29313caabceb1fe'), 'plot': \"A modern day adaptation of Dostoyevsky's classic novel about a young student who is forever haunted by the murder he has committed.\", 'genres': ['Drama'], 'runtime': 126, 'cast': ['Crispin Glover', 'Vanessa Redgrave', 'John Hurt', 'Margot Kidder'], 'poster': 'https://m.media-amazon.com/images/M/MV5BMTI3MDQ2MzEyOV5BMl5BanBnXkFtZTcwNzEwODUzMQ@@._V1_SY1000_SX677_AL_.jpg', 'title': 'Crime and Punishment', 'fullplot': \"A modern day adaptation of Dostoyevsky's classic novel about a young student who is forever haunted by the murder he has committed.\", 'languages': ['English', 'Polish'], 'released': datetime.datetime(2002, 6, 1, 0, 0), 'directors': ['Menahem Golan'], 'writers': ['Fyodor Dostoevsky (novel)', 'Menahem Golan (adaptation)', 'Menahem Golan (screenplay)'], 'awards': {'wins': 2, 'nominations': 0, 'text': '2 wins.'}, 'lastupdated': '2015-08-13 00:34:02.303000000', 'year': 2002, 'imdb': {'rating': 6.4, 'votes': 463, 'id': 96056}, 'countries': ['USA', 'Poland', 'Russia'], 'type': 'movie', 'tomatoes': {'viewer': {'rating': 0.0, 'numReviews': 0}, 'lastUpdated': datetime.datetime(2015, 7, 22, 18, 45, 10)}, 'num_mflix_comments': 0, 'related_comments': []}\n",
            "{'_id': ObjectId('573a1399f29313caabced575'), 'plot': 'The life and career of the brutal Soviet dictator, Joseph Stalin.', 'genres': ['Biography', 'Crime', 'Drama'], 'runtime': 172, 'cast': ['Robert Duvall', 'Julia Ormond', 'Maximilian Schell', 'Jeroen Krabbè'], 'poster': 'https://m.media-amazon.com/images/M/MV5BMTk5OTQwNDg2M15BMl5BanBnXkFtZTYwNjE3OTg4._V1_SY1000_SX677_AL_.jpg', 'title': 'Stalin', 'fullplot': \"Josef Stalin rises from his rejection as being physically unfit in the Czar's army during world War I to undisputed head of the huge Soviet empire of the 1950s. After the success of the Bolshevik Revolution in 1917 he vies with arch-rival Leon Trotsky for power under the acknowledged leader, Vladimir Lenin. After Lenin's stroke, the merciless Georgian's ruthless methods soon eliminates all rivals and his cruel paranoia and overt sadism help him maintain power by eliminating every possible rival including many former comrades.\", 'languages': ['English'], 'released': datetime.datetime(1992, 11, 21, 0, 0), 'directors': ['Ivan Passer'], 'writers': ['Paul Monash'], 'awards': {'wins': 11, 'nominations': 13, 'text': 'Won 3 Golden Globes. Another 8 wins & 13 nominations.'}, 'lastupdated': '2015-09-11 00:12:41.133000000', 'year': 1992, 'imdb': {'rating': 7.2, 'votes': 1658, 'id': 105462}, 'countries': ['USA', 'Hungary', 'Russia'], 'type': 'movie', 'tomatoes': {'viewer': {'rating': 3.8, 'numReviews': 320, 'meter': 70}, 'dvd': datetime.datetime(1993, 3, 31, 0, 0), 'production': 'MGM Home Entertainment', 'lastUpdated': datetime.datetime(2015, 9, 14, 19, 3, 36)}, 'num_mflix_comments': 0, 'related_comments': []}\n",
            "{'_id': ObjectId('573a1399f29313caabced89f'), 'plot': 'Director Nikita Mikhalkov documents the history of Russia from 1980 to 1991 by annually asking his daughter Anna such questions as \"What do you love the most?\", \"What scares you the most?\",...', 'genres': ['Documentary', 'Biography'], 'runtime': 100, 'cast': ['Nikita Mikhalkov', 'Anna Mikhalkova', 'Nadezhda Mikhalkova'], 'num_mflix_comments': 0, 'poster': 'https://m.media-amazon.com/images/M/MV5BMjA4MjIwNTIzNl5BMl5BanBnXkFtZTcwOTE2NzAwMQ@@._V1_SY1000_SX677_AL_.jpg', 'title': 'Anna ot 6 do 18', 'fullplot': 'Director Nikita Mikhalkov documents the history of Russia from 1980 to 1991 by annually asking his daughter Anna such questions as \"What do you love the most?\", \"What scares you the most?\", \"What do you want above anything\" and \"What do you hate the most?\"', 'languages': ['Russian'], 'released': datetime.datetime(1996, 11, 13, 0, 0), 'directors': ['Nikita Mikhalkov'], 'writers': ['Nikita Mikhalkov', 'Sergei Miroshnichenko'], 'awards': {'wins': 1, 'nominations': 0, 'text': '1 win.'}, 'lastupdated': '2015-07-12 00:48:34.763000000', 'year': 1994, 'imdb': {'rating': 7.5, 'votes': 512, 'id': 106290}, 'countries': ['Russia', 'France'], 'type': 'movie', 'tomatoes': {'viewer': {'rating': 4.2, 'numReviews': 307, 'meter': 91}, 'dvd': datetime.datetime(1999, 2, 16, 0, 0), 'lastUpdated': datetime.datetime(2015, 8, 14, 18, 30, 49)}, 'related_comments': []}\n",
            "{'_id': ObjectId('573a1399f29313caabced8e7'), 'countries': ['Russia'], 'genres': ['Documentary'], 'runtime': 60, 'cast': ['Anna Fyodorovna Belova', 'Mikhail Fyodorovich Belov', 'Vasiliy Fyodorovich Belov', 'Sergey Fyodorovich Belov'], 'num_mflix_comments': 0, 'title': 'Belovy', 'lastupdated': '2015-01-10 00:36:44.010000000', 'languages': ['Russian'], 'released': datetime.datetime(2002, 10, 17, 0, 0), 'directors': ['Victor Kossakovsky'], 'writers': ['Victor Kossakovsky'], 'awards': {'wins': 3, 'nominations': 1, 'text': '3 wins & 1 nomination.'}, 'year': 1994, 'imdb': {'rating': 8.2, 'votes': 134, 'id': 106385}, 'type': 'movie', 'tomatoes': {'viewer': {'rating': 4.5, 'numReviews': 127, 'meter': 100}, 'lastUpdated': datetime.datetime(2015, 8, 14, 18, 31, 34)}, 'related_comments': []}\n",
            "{'_id': ObjectId('573a1399f29313caabcede1e'), 'plot': 'Young nobleman Orlando is commanded by Queen Elizabeth I to stay forever young. Miraculously, he does just that. The film follows him as he moves through several centuries of British ...', 'genres': ['Drama', 'Fantasy', 'Romance'], 'runtime': 94, 'rated': 'PG-13', 'cast': ['Tilda Swinton', 'Quentin Crisp', 'Jimmy Somerville', 'John Bott'], 'num_mflix_comments': 2, 'poster': 'https://m.media-amazon.com/images/M/MV5BYmY1OTA3MjAtYjQxOC00OTlkLWExZWQtMjc3ZjExOWFhM2UwXkEyXkFqcGdeQXVyMTA0MjU0Ng@@._V1_SY1000_SX677_AL_.jpg', 'title': 'Orlando', 'fullplot': 'Young nobleman Orlando is commanded by Queen Elizabeth I to stay forever young. Miraculously, he does just that. The film follows him as he moves through several centuries of British history, experiencing a variety of lives and relationships along the way, and even changing sex.', 'languages': ['English', 'French'], 'released': datetime.datetime(1993, 6, 9, 0, 0), 'directors': ['Sally Potter'], 'writers': ['Sally Potter', 'Virginia Woolf (novel)'], 'awards': {'wins': 17, 'nominations': 6, 'text': 'Nominated for 2 Oscars. Another 15 wins & 6 nominations.'}, 'lastupdated': '2015-08-25 00:20:53.993000000', 'year': 1992, 'imdb': {'rating': 7.2, 'votes': 9003, 'id': 107756}, 'countries': ['UK', 'Russia', 'Italy', 'France', 'Netherlands'], 'type': 'movie', 'tomatoes': {'viewer': {'rating': 3.8, 'numReviews': 8317, 'meter': 82}, 'dvd': datetime.datetime(1999, 8, 3, 0, 0), 'critic': {'rating': 6.7, 'numReviews': 53, 'meter': 83}, 'boxOffice': '$57.3k', 'consensus': \"Orlando can't match its visual delights with equally hefty narrative -- but it's so much fun to watch that it doesn't need to.\", 'rotten': 9, 'production': 'Sony Pictures Classics', 'lastUpdated': datetime.datetime(2015, 9, 10, 19, 11, 42), 'fresh': 44}, 'related_comments': [{'_id': ObjectId('5a9427648b0beebeb695fe16'), 'name': 'Daario Naharis', 'email': 'michiel_huisman@gameofthron.es', 'movie_id': ObjectId('573a1399f29313caabcede1e'), 'text': 'Illum numquam vel accusantium repellat. Corporis voluptate enim dolorum laborum nobis quos. Aliquid ipsam quis esse fuga veritatis nostrum eveniet. Architecto quia eos aperiam sapiente.', 'date': datetime.datetime(2006, 9, 24, 2, 36, 10)}, {'_id': ObjectId('5a9427648b0beebeb695fe18'), 'name': 'Theresa Holmes', 'email': 'theresa_holmes@fakegmail.com', 'movie_id': ObjectId('573a1399f29313caabcede1e'), 'text': 'Expedita quas voluptas vitae laborum amet magni eius. Minus ipsum culpa sapiente voluptatum aut. Asperiores libero maiores libero inventore quos.', 'date': datetime.datetime(1991, 8, 8, 15, 14, 52)}]}\n"
          ]
        }
      ]
    },
    {
      "cell_type": "markdown",
      "source": [
        "## Животное дня"
      ],
      "metadata": {
        "id": "l5kbDfpwUs5O"
      }
    },
    {
      "cell_type": "markdown",
      "source": [
        "![](https://upload.wikimedia.org/wikipedia/commons/thumb/a/a3/Caracl_%2801%29%2C_Paris%2C_décembre_2013.jpg/1920px-Caracl_%2801%29%2C_Paris%2C_décembre_2013.jpg)"
      ],
      "metadata": {
        "id": "vFE9H-9QUwxM"
      }
    },
    {
      "cell_type": "markdown",
      "source": [
        "Это каракал (но в России их называют Шлепами, потому что Шлепа). А это шлепки:"
      ],
      "metadata": {
        "id": "URIqpBM8bLRK"
      }
    },
    {
      "cell_type": "markdown",
      "source": [
        "![](https://cdn.fishki.net/upload/post/201505/04/1522103/kotyata-karakala.jpg)"
      ],
      "metadata": {
        "id": "UqH9alzUbpvB"
      }
    },
    {
      "cell_type": "markdown",
      "source": [
        "Раньше их причисляли к рысям, но в итоге исследований его выделили в отдельный род каракалов. Обитают преимущественно в Африке и в целом ночные животные. А поскольку их достаточно легко приучить, то они были домашними животными еще в древней Азии (например, в Персии) и в древнем Египте"
      ],
      "metadata": {
        "id": "n7viKE_zbsBW"
      }
    }
  ]
}
