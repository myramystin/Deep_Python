{
  "nbformat": 4,
  "nbformat_minor": 0,
  "metadata": {
    "colab": {
      "provenance": []
    },
    "kernelspec": {
      "name": "python3",
      "display_name": "Python 3"
    },
    "language_info": {
      "name": "python"
    }
  },
  "cells": [
    {
      "cell_type": "markdown",
      "source": [
        "# Продвинутый Python, семинар 12\n",
        "\n",
        "**Лектор:** Петров Тимур\n",
        "\n",
        "**Семинаристы:** Петров Тимур, Коган Александра, Романченко Полина\n",
        "\n",
        "**Spoiler Alert:** в рамках курса нельзя изучить ни одну из тем от и до досконально (к сожалению, на это требуется больше времени, чем даже 3 часа в неделю). Но мы попробуем рассказать столько, сколько возможно :)"
      ],
      "metadata": {
        "id": "FHy_xV2gTlRj"
      }
    },
    {
      "cell_type": "markdown",
      "source": [
        "## Комбинируем потоки и корутины"
      ],
      "metadata": {
        "id": "owJSkKaNUjHW"
      }
    },
    {
      "cell_type": "markdown",
      "source": [
        "Зачем это нужно?\n",
        "\n",
        "Допустим, что вы настраиваете работу системы (вспоминаем ООП из ДЗ-2). Вам что необходимо? Вы ждете заказов от пользователя, но пока вы их ждете, то у вас же все не простаивает на месте: заказы собираются, курьеры возят. И все это синхронно. Давайте осуществлять мечту"
      ],
      "metadata": {
        "id": "SqjDFA9PUoHw"
      }
    },
    {
      "cell_type": "code",
      "execution_count": null,
      "metadata": {
        "id": "3CjD2eVDTejn"
      },
      "outputs": [],
      "source": [
        "import time\n",
        "import asyncio\n",
        "\n",
        "\n",
        "def blocking_io():\n",
        "    print(f\"{time.strftime('%X')} block IO\")\n",
        "    time.sleep(5) # снимает GIL\n",
        "    print(f\"{time.strftime('%X')} unblock IO\")\n",
        "\n",
        "non_block = asyncio.to_thread(blocking_io) # без скобочек!!! аргументы просто через пробел, версия 3.9+\n",
        "\n",
        "async def main():\n",
        "    print(f\"{time.strftime('%X')} start async\")\n",
        "    _ = await asyncio.gather(non_block, asyncio.sleep(5))\n",
        "    print(f\"{time.strftime('%X')} finish async\")\n",
        "\n",
        "asyncio.run(main())"
      ]
    },
    {
      "cell_type": "markdown",
      "source": [
        "Аналогично с теми же самими факториалами (опять-таки, это нам не даст ускорения по сравнению с просто корутинами, потому что слишком малые рассчеты) и опять-таки - внутри Python паралеллить вычисления - дело такое себе"
      ],
      "metadata": {
        "id": "QllSst9HaPte"
      }
    },
    {
      "cell_type": "code",
      "source": [
        "import time\n",
        "import asyncio\n",
        "\n",
        "def factorial(name, number):\n",
        "    f = 1\n",
        "    for i in range(2, number + 1):\n",
        "        print(f\"Task {name}: Compute factorial({i})...\")\n",
        "        time.sleep(0.1)\n",
        "        f *= i\n",
        "    print(f\"Task {name}: factorial({number}) = {f}\")\n",
        "    return f\n",
        "\n",
        "\n",
        "fact_1 = asyncio.to_thread(factorial, \"A\", 2)\n",
        "fact_2 = asyncio.to_thread(factorial, \"B\", 3)\n",
        "fact_3 = asyncio.to_thread(factorial, \"C\", 4)\n",
        "\n",
        "async def main():\n",
        "    print(f\"{time.time()} beg\")\n",
        "    res = await asyncio.gather(\n",
        "        fact_1,\n",
        "        fact_2,\n",
        "        fact_3\n",
        "    )\n",
        "    print(f\"{time.time()} end\")\n",
        "\n",
        "asyncio.run(main())\n"
      ],
      "metadata": {
        "id": "3X6EjqUAawqS"
      },
      "execution_count": null,
      "outputs": []
    },
    {
      "cell_type": "markdown",
      "source": [
        "## А теперь к примеру использования"
      ],
      "metadata": {
        "id": "E2Wd-1YEdGjH"
      }
    },
    {
      "cell_type": "markdown",
      "source": [
        "Сегодня мы поговорим с вами про пример асинхронности в виде все того же любимого Телеграм-бота, а в следующий раз будем говорить про асинхронность для БД (потому что как мы уже говорили, это позволяет использовать потоки)\n",
        "\n",
        "Зачем в Телеграм боте нужна асинхронность, спросите вы? Ответ прост: это гораздо быстрее работает (особенно чем больше нагрузка, тем больше вам нужна асинхронность), ну а также это позволяет более эффективно использовать параллельность (которая, сама собой, и так есть в телеграм-боте)\n",
        "\n",
        "В чем разница? По существу, вместо requests используется [aiohttp](https://docs.aiohttp.org/en/stable/) - асинхронная версия requests, если так можно высказаться"
      ],
      "metadata": {
        "id": "5r7CmuOpdJx3"
      }
    },
    {
      "cell_type": "markdown",
      "source": [
        "Сделаем сразу вещь, которую нельзя сделать без асинхронности: шедулер! В этом нам поможет бибилиотека [aioschedule](https://github.com/ibrb/python-aioschedule) - асинхронный шедулер. Работает также, как и шедулер (про который мы говорили на ООП), но только асинхронный"
      ],
      "metadata": {
        "id": "WKXB-RyEjgwC"
      }
    },
    {
      "cell_type": "code",
      "source": [
        "import asyncio\n",
        "import aioschedule\n",
        "from telebot.async_telebot import AsyncTeleBot\n",
        "\n",
        "API_TOKEN = '<api_token>'\n",
        "bot = AsyncTeleBot(API_TOKEN)\n",
        "\n",
        "\n",
        "async def beep(chat_id) -> None:\n",
        "    \"\"\"Send the beep message.\"\"\"\n",
        "    await bot.send_message(chat_id, text='Beep!')\n",
        "    aioschedule.clear(chat_id)\n",
        "\n",
        "\n",
        "@bot.message_handler(commands=['help', 'start'])\n",
        "async def send_welcome(message):\n",
        "    await bot.reply_to(message, \"Hi! Use /set <seconds> to set a timer\")\n",
        "\n",
        "\n",
        "@bot.message_handler(commands=['set'])\n",
        "async def set_timer(message):\n",
        "    args = message.text.split()\n",
        "    if len(args) > 1 and args[1].isdigit():\n",
        "        sec = int(args[1])\n",
        "        aioschedule.every(sec).seconds.do(beep, message.chat.id).tag(message.chat.id)\n",
        "    else:\n",
        "        await bot.reply_to(message, 'Usage: /set <seconds>')\n",
        "\n",
        "\n",
        "@bot.message_handler(commands=['unset'])\n",
        "def unset_timer(message):\n",
        "    aioschedule.clean(message.chat.id)\n",
        "\n",
        "\n",
        "async def scheduler():\n",
        "    while True:\n",
        "        await aioschedule.run_pending()\n",
        "        await asyncio.sleep(1)\n",
        "\n",
        "\n",
        "async def main():\n",
        "    await asyncio.gather(bot.infinity_polling(), scheduler())\n",
        "\n",
        "\n",
        "if __name__ == '__main__':\n",
        "    asyncio.run(main())"
      ],
      "metadata": {
        "id": "4N3_uv7rj3GA"
      },
      "execution_count": null,
      "outputs": []
    },
    {
      "cell_type": "markdown",
      "source": [
        "Зачем еще нужна асинхронность? Опять-таки для подключения к БД. Допустим, что вы храните информацию по юзерам: как их зовут и так далее (та самая проблема, которую вы получали на ДЗ для обработки бана юзера и так далее). Так вот, для создания более сложных ботов (например, магазина), вам нужно подключаться к БД, делать асинхронного бота, и таким образом, запрос еще ждать. А остальные ждут и ждут...\n",
        "\n",
        "В целом это и будет темой для последнего ДЗ)"
      ],
      "metadata": {
        "id": "TDUINjIfmyQD"
      }
    },
    {
      "cell_type": "markdown",
      "source": [
        "## Животное дня"
      ],
      "metadata": {
        "id": "Vt295navnN5Z"
      }
    },
    {
      "cell_type": "markdown",
      "source": [
        "Итак, сегодня у нас ламы! На самом деле ламы - это 4 отдельных вида, которых стоит различать. Какие есть виды?\n",
        "\n",
        "* Гуанако\n",
        "\n",
        "* Викунья\n",
        "\n",
        "* Лама\n",
        "\n",
        "* Альпака"
      ],
      "metadata": {
        "id": "one_AAvXnSZ2"
      }
    },
    {
      "cell_type": "markdown",
      "source": [
        "![](https://funart.pro/uploads/posts/2021-07/1626722411_27-funart-pro-p-vikunya-zhivotnoe-zhivotnie-krasivo-foto-30.jpg)"
      ],
      "metadata": {
        "id": "Y-FHNstwtimQ"
      }
    },
    {
      "cell_type": "markdown",
      "source": [
        "Это гуанако. Они дикие и прыгучие, а одомашненный вид - это лама\n",
        "\n",
        "![](https://upload.wikimedia.org/wikipedia/commons/thumb/c/cd/Black_Llama.jpg/1920px-Black_Llama.jpg)"
      ],
      "metadata": {
        "id": "bIlMhQOntqzJ"
      }
    },
    {
      "cell_type": "markdown",
      "source": [
        "Викунья - дикая, меньше и стройнее, чем гуанако (различить сложно)\n",
        "\n",
        "![](https://i.artfile.ru/2048x1365_851478_[www.ArtFile.ru].jpg)"
      ],
      "metadata": {
        "id": "DKJgR8ZeuC85"
      }
    },
    {
      "cell_type": "markdown",
      "source": [
        "А одомашненный вид - это альпака. Она пышная и пушистая!\n",
        "\n",
        "![](https://static.fjcdn.com/large/pictures/6d/7d/6d7d59_5574469.jpg)"
      ],
      "metadata": {
        "id": "OSz2XJRTuMut"
      }
    },
    {
      "cell_type": "markdown",
      "source": [
        "Лам используют в качестве вьючных животных (но они очень гордые, положи на них больше - они пошлют)\n",
        "\n",
        "А альпак - для того, чтобы их стричь и из шерсти делать одежду и так далее\n",
        "\n",
        "Одомашнили примерно 5000 тыс лет назад предками инков и прочих народов Анд"
      ],
      "metadata": {
        "id": "2WMmp862uciW"
      }
    }
  ]
}