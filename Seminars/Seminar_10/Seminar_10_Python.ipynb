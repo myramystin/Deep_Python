{
  "nbformat": 4,
  "nbformat_minor": 0,
  "metadata": {
    "colab": {
      "provenance": []
    },
    "kernelspec": {
      "name": "python3",
      "display_name": "Python 3"
    },
    "language_info": {
      "name": "python"
    }
  },
  "cells": [
    {
      "cell_type": "markdown",
      "source": [
        "# Продвинутый Python, семинар 10\n",
        "\n",
        "**Лектор:** Петров Тимур\n",
        "\n",
        "**Семинаристы:** Петров Тимур, Коган Александра, Романченко Полина\n",
        "\n",
        "**Spoiler Alert:** в рамках курса нельзя изучить ни одну из тем от и до досконально (к сожалению, на это требуется больше времени, чем даже 3 часа в неделю). Но мы попробуем рассказать столько, сколько возможно :)\n",
        "\n",
        "Так как мы проходим веб-разработку, то это явно не та вещь, которая делается через colab. Поэтому здесь написан просто код, который можно воспроизвести локально"
      ],
      "metadata": {
        "id": "FDlN_UHuL_nK"
      }
    },
    {
      "cell_type": "markdown",
      "source": [
        "## Базы данных в Django"
      ],
      "metadata": {
        "id": "Lf5tssZUMHOh"
      }
    },
    {
      "cell_type": "markdown",
      "source": [
        "Итак, теперь для того, чтобы сделать что-то разумное, нам необходимо иметь базу даннных, внутри которой мы будем что-либо хранить. Понятное дело, что это все добро нужно постоянно, поэтому Django и здесь позаботилось о том, чтобы можно было все сделать легко и из под коробки.\n",
        "\n",
        "Для начала идем в settings.py и посмотрим, что там лежит:\n",
        "\n",
        "```\n",
        "# Database\n",
        "# https://docs.djangoproject.com/en/4.1/ref/settings/#databases\n",
        "\n",
        "DATABASES = {\n",
        "    \"default\": {\n",
        "        \"ENGINE\": \"django.db.backends.sqlite3\",\n",
        "        \"NAME\": BASE_DIR / \"db.sqlite3\",\n",
        "    }\n",
        "}\n",
        "```"
      ],
      "metadata": {
        "id": "YVjN1N2gwqv2"
      }
    },
    {
      "cell_type": "markdown",
      "source": [
        "Что здесь может быть:\n",
        "\n",
        "* ENGINE - какой диалект SQL используем (PostrgreSQL, MySQL, SQLite3, Oracle)\n",
        " \n",
        "* NAME - Название\n",
        "\n",
        "* USER - Логин\n",
        "\n",
        "* PASSWORD - Пароль\n",
        "\n",
        "* HOST - на каком хосте лежит"
      ],
      "metadata": {
        "id": "sKSzH-t2xgvy"
      }
    },
    {
      "cell_type": "markdown",
      "source": [
        "Базово (для каких-то локальных вещей) нам подходит простой SQLite3 (он не требует ни указания логина/пароля, единственное, что требудется - указать в Name расположение. Про коннекторы мы поговорим через лекцию)\n",
        "\n",
        "Что же, на чем строить добро у нас есть, теперь давайте заводить таблички!\n",
        "\n",
        "Сделаем вначале:\n",
        "\n",
        "```\n",
        "python manage.py startapp posts\n",
        "```\n",
        "\n",
        "Что делает данная команда? Создает необходимые компоненты для взаимодействия (у нас получилась папка posts, где мы с вами будем что-нибудь хранить).\n",
        "\n",
        "Первое, что мы хотим сделать - это проиницилизировать нужные таблицы. Идем в models.py и создаем все, что нам нужно. Пойдем по логике, что опять делаем Твиттер:\n",
        "\n",
        "* Пользователи\n",
        "\n",
        "* Твиты\n",
        "\n",
        "* Реплаи (давайте не считать их отдельными постами)\n",
        "\n",
        "Внутри Django DB строится через модуль ```django.db```, внутри которого есть ```models```\n",
        "\n",
        "[Документация](https://docs.djangoproject.com/en/4.1/topics/db/models/)\n",
        "\n",
        "В чем прелесть Models? Базово: мы создаем таблицу без использования SQL (то есть он самостоятельно скомпилирует это в SQL и выполнит за вас), наличие сразу id (самостоятельно указывать не надо, сам все сделает, умница какой), поддерживает каскадность удаления etc (если пользователь удаляется, например, то надо удалить все его посты и все реплаи)\n",
        "\n",
        "Но давайте с простого и просто поговорим про создание таблиц и полей:\n",
        "\n",
        "* CharField - строчки\n",
        "\n",
        "* DataField (DateTimeField) - поле с датой\n",
        "\n",
        "* FileField, ImageField - поле с файлом/картинкой\n",
        "\n",
        "* URLField - поле с ссылкой\n",
        "\n",
        "* IntegerField - число\n",
        "\n",
        "Давайте для примера сделаем таблицу для юзеров:"
      ],
      "metadata": {
        "id": "ceoeiRk-0T9z"
      }
    },
    {
      "cell_type": "code",
      "source": [
        "from django.db import models\n",
        "\n",
        "class User(models.Model):\n",
        "    name = models.CharField(maxlength=30)\n",
        "    username = models.CharField(maxlength=30)\n",
        "    city = models.CharField(maxlength=60)\n",
        "    country = models.CharField(maxlength=30)\n",
        "    bio = models.CharField(maxlength=300)\n",
        "    email = models.EmailField()"
      ],
      "metadata": {
        "id": "nJE7zYwl2Z0B"
      },
      "execution_count": null,
      "outputs": []
    },
    {
      "cell_type": "markdown",
      "source": [
        "### Задание 1."
      ],
      "metadata": {
        "id": "jn159VIr_xLf"
      }
    },
    {
      "cell_type": "markdown",
      "source": [
        "Составить такие же таблицы для Твитов (Tweets) и ответов (Replies)"
      ],
      "metadata": {
        "id": "ErvUBaUq_zQm"
      }
    },
    {
      "cell_type": "code",
      "source": [],
      "metadata": {
        "id": "hoxrs6Dz_6Se"
      },
      "execution_count": null,
      "outputs": []
    },
    {
      "cell_type": "markdown",
      "source": [
        "*Вот тут надо еще проговорить про models.ForeignKey(class, on_delete=models.CASCADE), а также про default параметр*"
      ],
      "metadata": {
        "id": "XC6yeD6EAXxT"
      }
    },
    {
      "cell_type": "markdown",
      "source": [
        "Окей, составили что-то, давайте попробуем сделать так, чтобы мы поняли, что оно работает. Идем в настройки и меняем:\n",
        "\n",
        "```\n",
        "INSTALLED_APPS = [\n",
        "    \"django.contrib.admin\",\n",
        "    \"django.contrib.auth\",\n",
        "    \"django.contrib.contenttypes\",\n",
        "    \"django.contrib.sessions\",\n",
        "    \"django.contrib.messages\",\n",
        "    \"django.contrib.staticfiles\",\n",
        "    \"posts\"\n",
        "]\n",
        "```\n",
        "\n",
        "\n",
        "А теперь проверим модели:\n",
        "\n",
        "```\n",
        "python manage.py makemigrations\n",
        "```"
      ],
      "metadata": {
        "id": "gep_5AUt_61x"
      }
    },
    {
      "cell_type": "markdown",
      "source": [
        "Ура, все получилось!"
      ],
      "metadata": {
        "id": "dRHeAMoVDORN"
      }
    },
    {
      "cell_type": "markdown",
      "source": [
        "## Заводим данные!"
      ],
      "metadata": {
        "id": "EEsVIhEMDTn-"
      }
    },
    {
      "cell_type": "markdown",
      "source": [
        "Начнем с простого: как сделать insert?\n",
        "\n",
        "По сути models.Model есть ни что иное, как наш любимый датакласс, а поэтому создать инстанс просто:\n",
        "\n",
        "```\n",
        "p = User(name=\"Timur\", username=\"Palladain\",\n",
        "    city=\"Moscow\", country=\"Russia\", bio=\"Hah\", email=\"example@example.com\")\n",
        "```\n",
        "\n",
        "А записать - это простое ```p.save()```, он превратит ваш инстанс в INSERT и сделает все за вас. UPDATE работает также - что-то меняете в словаре, делаете save() и все поменяется"
      ],
      "metadata": {
        "id": "pR29r-E_DgQP"
      }
    },
    {
      "cell_type": "markdown",
      "source": [
        "А как удалить? ```p.delete()```. Подытожим:\n",
        "\n",
        "* Создание строки - как в датаклассе\n",
        "\n",
        "* Сохранение/изменение - через save()\n",
        "\n",
        "* Удаление - через delete()"
      ],
      "metadata": {
        "id": "uPim1xhlE4sk"
      }
    },
    {
      "cell_type": "markdown",
      "source": [
        "## Делаем select!"
      ],
      "metadata": {
        "id": "NP-0qYIhGPCJ"
      }
    },
    {
      "cell_type": "markdown",
      "source": [
        "Давайте сделаем все и сразу, а потом будем разбираться\n",
        "\n",
        "```\n",
        "SELECT count(*)\n",
        "FROM Tweets\n",
        "WHERE country=\"Russia\"\n",
        "```\n",
        "\n",
        "```\n",
        "SELECT id\n",
        "FROM Tweets\n",
        "WHERE city='Moscow'\n",
        "ORDER BY id DESC\n",
        "LIMIT 10\n",
        "```"
      ],
      "metadata": {
        "id": "DJo2jcS-GSYP"
      }
    },
    {
      "cell_type": "markdown",
      "source": [
        "Первый запрос:"
      ],
      "metadata": {
        "id": "pam3r45ZG5HA"
      }
    },
    {
      "cell_type": "code",
      "source": [
        "from django.db.models import Count\n",
        "\n",
        "Tweets.objects.filter(country=\"Russia\").aggregate(Count(\"id\"))"
      ],
      "metadata": {
        "id": "ZVwyomDwG7G3"
      },
      "execution_count": null,
      "outputs": []
    },
    {
      "cell_type": "markdown",
      "source": [
        "Второй запрос:"
      ],
      "metadata": {
        "id": "g_W3lYrqHSUD"
      }
    },
    {
      "cell_type": "code",
      "source": [
        "Tweets.objects.filter(city=\"Moscow\").order_by(\"-id\")[:10]"
      ],
      "metadata": {
        "id": "dKf_4K1pHUun"
      },
      "execution_count": null,
      "outputs": []
    },
    {
      "cell_type": "markdown",
      "source": [
        "А если нам нужен только 1 объект (потому что все запросы выдают список), то можно сделать вот так:"
      ],
      "metadata": {
        "id": "3IOUIimsHoSO"
      }
    },
    {
      "cell_type": "code",
      "source": [
        "Tweets.objects.get(username=\"Palladain\") #можно использовать только тогда, когда вы уверены, что такой объект 1, иначе ошибка"
      ],
      "metadata": {
        "id": "J8FSwFcPHtPq"
      },
      "execution_count": null,
      "outputs": []
    },
    {
      "cell_type": "markdown",
      "source": [
        "И еще чуть-чуть посложнее:\n",
        "\n",
        "```\n",
        "select city, count(id)\n",
        "from Tweets\n",
        "group by city\n",
        "```"
      ],
      "metadata": {
        "id": "r7G6Ze3TIVtu"
      }
    },
    {
      "cell_type": "code",
      "source": [
        "Tweets.objects.values('city').annotate(dcount=Count('id'))"
      ],
      "metadata": {
        "id": "56o0HdYaITnJ"
      },
      "execution_count": null,
      "outputs": []
    },
    {
      "cell_type": "markdown",
      "source": [
        "## DDL"
      ],
      "metadata": {
        "id": "eFvCYTcDJSdR"
      }
    },
    {
      "cell_type": "markdown",
      "source": [
        "А вот тут есть небольшая проблема: также нативно сделать ALTER и DROP уже не получится :с (придется уже копаться внутри БД)"
      ],
      "metadata": {
        "id": "pv5bYH9SJVjh"
      }
    },
    {
      "cell_type": "markdown",
      "source": [
        "## Админка"
      ],
      "metadata": {
        "id": "vQGzxCBAJuSH"
      }
    },
    {
      "cell_type": "markdown",
      "source": [
        "Одна из крутых фич Django - это наличие админки, с помощью которой можно всем управлять!\n",
        "\n",
        "Создадим вначале админа:\n",
        "\n",
        "```\n",
        "python manage.py createsuperuser\n",
        "\n",
        "```\n",
        "\n",
        "Он попросит логин-почту (можно указать любую) и пароль. После того, как мы это все ввели, мы можем ввести все эти credentials, чтобы зайти в админку\n",
        "\n",
        "Иииии... А где все таблицы, которые мы создали? А для них надо еще зарегистрировать их в админке, для этого идем в admin.py:\n",
        "\n",
        "```\n",
        "from django.contrib import admin\n",
        "from posts.models import User, Tweets, Replies\n",
        "\n",
        "admin.site.register(User) - зарегистрировали, что admin имеет доступ к User\n",
        "admin.site.register(Tweets)\n",
        "admin.site.register(Replies)\n",
        "```\n",
        "\n",
        "С админкой можно также играть, менять ее конфигурации, что отображается etc ([что можно сделать](https://django.fun/ru/docs/django/4.1/ref/contrib/admin/))"
      ],
      "metadata": {
        "id": "6aU1U67TJvuq"
      }
    },
    {
      "cell_type": "markdown",
      "source": [
        "## Формы"
      ],
      "metadata": {
        "id": "_fwmSvTHXIYB"
      }
    },
    {
      "cell_type": "markdown",
      "source": [
        "Чего не хватает для того, чтобы вся наша модель в итоге нормально заработала? Правильно, не хватает форм, как же их заполнять?\n",
        "\n",
        "Для этого внутри Django тоже есть удобные средства)\n",
        "\n",
        "Какие у нас есть формы?\n",
        "\n",
        "* Для поиска (которые должны возвращать некоторый GET)\n",
        "\n",
        "* Для постинга (которые должны возврашать некоторый POST)\n",
        "\n",
        "Для GET все достаточно просто: мы получаем наш запрос (через requets.get) и далее производим все манипуляции. А что же для POST? Для них есть отдельный класс, которая называется Form"
      ],
      "metadata": {
        "id": "PatAlQMmbjW9"
      }
    },
    {
      "cell_type": "markdown",
      "source": [
        "```\n",
        "from django import forms\n",
        "\n",
        "class NameForm(forms.Form):\n",
        "    your_name = forms.CharField(label='Your name', max_length=100)\n",
        "```\n",
        "\n",
        "Казалось бы, зачем нам отдельная форма еще? Дело в простоте, ведь теперь можно сделать вот так:\n",
        "\n",
        "```\n",
        "def get_name(request):\n",
        "    if request.method == 'POST':\n",
        "        form = NameForm(request.POST)\n",
        "    return render(request, 'name.html', {'form': form})\n",
        "```\n",
        "\n",
        "То есть можно взять и запихнуть все это добро сразу же в необходимый результат, который потом можно записать в ту же таблицу etc\n",
        "\n",
        "Осталось только одно: а как он поймет, где какое поле? Ответ достаточно прост - из разметки HTML, как уже обсуждалось) (через name в качестве аргумента в тэге HTML)"
      ],
      "metadata": {
        "id": "3pE4gvSmdt_Z"
      }
    },
    {
      "cell_type": "markdown",
      "source": [
        "## Что будем в ДЗ?\n",
        "\n",
        "А в ДЗ вам будет предложено два варианта:\n",
        "\n",
        "* Собрать это все в общий красивый сайт (либо на flask, либо на django)\n",
        "\n",
        "* Или же собрать красивые дашборды на Dash или Streamlit (о них на следующей лекции и семинаре)\n",
        "\n",
        "Как задеплоить добро и референс к ДЗ будет в понедельник, stay tuned :з"
      ],
      "metadata": {
        "id": "f6nDAgqrPMw0"
      }
    },
    {
      "cell_type": "markdown",
      "source": [
        "## Животное дня"
      ],
      "metadata": {
        "id": "SKe2hypHfG0q"
      }
    },
    {
      "cell_type": "markdown",
      "source": [
        "![](https://images.techinsider.ru/upload/img_cache/e8e/e8eb6b3287f8460a27457aac6395a812_cropped_1332x888.jpg)"
      ],
      "metadata": {
        "id": "2KS3Zy2Vg730"
      }
    },
    {
      "cell_type": "markdown",
      "source": [
        "Сегодня у нас будет самое мелкое животное из представленных - это тихоходка (или водяной медведь). Их более 750 видов, и их можно увидеть под микроскопом (что и увидели ученые еще в XVIII веке). Выглядят очень мило (особенно как они пермещаются)\n",
        "\n",
        "Но что в них более удивительно, так это их способность выживать в самых экстремальных условиях: давление, космическое излучение (их отправляли в космос и под сильным космическим излучением выжило более 50% тихоходок), температуры, близкие к абсолютному нулю, сухость. Вот кто реально выживет после ядерной войны\n",
        "\n",
        "Секрет их выносливости - это состояние анабиоза, в которых они впадают. Содержание воды уменьшается до 1%, а метаболизм падает практически до нуля (и они сворачиваются в такой клубочек). Причем в состоянии анабиоза они могут находиться более 100 лет, при этом оживая достаточно быстро. Так что если кто-то и поселится первым на Марсе или на другой планете, то это явно будут тихоходки, а не люди)"
      ],
      "metadata": {
        "id": "zYTicYschBWM"
      }
    }
  ]
}